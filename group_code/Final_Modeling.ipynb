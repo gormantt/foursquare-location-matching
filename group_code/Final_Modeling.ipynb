{
 "cells": [
  {
   "cell_type": "markdown",
   "id": "b3f5a600",
   "metadata": {},
   "source": [
    "# Final Modeling Notebook"
   ]
  },
  {
   "cell_type": "markdown",
   "id": "6032bd87",
   "metadata": {},
   "source": [
    "Authors: Tim Gorman, Yu Cao, Ling Zhou"
   ]
  },
  {
   "cell_type": "markdown",
   "id": "d00d357d",
   "metadata": {},
   "source": [
    "In this notebook we take the data output from data_prep2.0 (\"./foursquare-location-matchin/cao_code/data_prep2.0.ipynb\") </br>\n",
    "This data has some important aspects: </br>\n",
    "* Curated Ground Truth Data\n",
    "    * This is the raw data from kaggle after removing nans, noise and reducing to only data with country_1 and country_2 both being 'US'.\n",
    "    * Label:\n",
    "        * match\n",
    "            * Indicates whether two ids represent the same point of interest\n",
    "    * Features:\n",
    "        * id_1, id_2\n",
    "        * Modeling Features: \n",
    "        * name_1, name_2 \n",
    "        * latitude_1, latitude_2 \n",
    "        * longitude_1, longitude_2 \n",
    "        * address_1, address_2\n",
    "        * city_1, city_2\n",
    "        * state_1, state_2\n",
    "        * country_1, country_2\n",
    "        * url_1, url_2\n",
    "        * phone_1, phone_2\n",
    "        * categories_1, categories_2\n",
    "* Differenced Data\n",
    "    * Lat./Long. Differences\n",
    "        * Simply Euclidean Differences (geo_diff)\n",
    "        * Angular Difference (geo_theta_diff)\n",
    "    * String differences\n",
    "        * Three different ways to calucate differences\n",
    "            * Sequence Matching (*_seq)\n",
    "            * Levenshtein Distance (*_lev)\n",
    "            * Cosine Similarity (*_csim)\n",
    "\n",
    "We then take the different ways to difference data and run them through a Logistic regression model to see which differencing method performs best. Based on this, the best method will be sent through a random forest classification model. At the end of the notebook we'll compare all of the results against two naive models.\n",
    "  "
   ]
  },
  {
   "cell_type": "code",
   "execution_count": null,
   "id": "91e8f6e9",
   "metadata": {},
   "outputs": [],
   "source": [
    "#Library Imports\n",
    "import pandas as pd\n",
    "import numpy as np\n",
    "from sklearn.model_selection import (train_test_split, cross_validate,\n",
    "                                    StratifiedKFold, GridSearchCV, RandomizedSearchCV)\n",
    "from sklearn.linear_model import LogisticRegression\n",
    "from sklearn.metrics import (confusion_matrix, roc_auc_score, f1_score,\n",
    "                            accuracy_score, precision_score, recall_score,\n",
    "                            precision_recall_curve, roc_curve)\n",
    "import seaborn as sns\n",
    "import matplotlib.pyplot as plt\n",
    "import random"
   ]
  },
  {
   "cell_type": "code",
   "execution_count": null,
   "id": "b1d0ed72",
   "metadata": {},
   "outputs": [],
   "source": [
    "# This data is the curated data that comes out of \"data_prep2.0\"\n",
    "data = pd.read_csv(r\"..\\data_curated\\pairs_us_diffs.csv\", low_memory = False)"
   ]
  },
  {
   "cell_type": "code",
   "execution_count": null,
   "id": "57f302bb",
   "metadata": {},
   "outputs": [],
   "source": [
    "# A dictionary that defines which features to use when modeling with different string metrics \n",
    "# (sequence matching, cosine similarity, levenshtein).\n",
    "feature_dict = {'x_col_csim': ['geo_theta_diff', 'name_csim', 'address_csim',\n",
    "       'city_csim', 'state_csim', 'zip_csim', 'url_csim', 'phone_csim',\n",
    "       'categories_csim'], \n",
    "                'x_col_seq':['geo_theta_diff', 'name_diff_seq',\n",
    "       'address_diff_seq', 'city_diff_seq','state_diff_seq', 'zip_diff_seq',\n",
    "       'url_diff_seq', 'phone_diff_seq', 'categories_diff_seq'],\n",
    "               'x_col_lev':['geo_theta_diff', 'name_diff_lev',\n",
    "       'address_diff_lev', 'city_diff_lev','state_diff_lev', 'zip_diff_lev',\n",
    "       'url_diff_lev', 'phone_diff_lev', 'categories_diff_lev'] }"
   ]
  },
  {
   "cell_type": "code",
   "execution_count": null,
   "id": "74e2d50f",
   "metadata": {},
   "outputs": [],
   "source": [
    "# Defining Modeling Functions\n",
    "def logistic_regression_pipe(features, labels):\n",
    "    x_train, x_test, y_train, y_test = train_test_split(features, labels,\n",
    "                                                    shuffle      = True,\n",
    "                                                    random_state = 614,\n",
    "                                                    test_size    = 0.2,\n",
    "                                                    stratify     = labels)\n",
    "    skf  = StratifiedKFold(n_splits = 10, shuffle = True, random_state = 614)\n",
    "    lreg = LogisticRegression()\n",
    "    #HyperParameters\n",
    "    solvers = ['newton-cg', 'lbfgs', 'liblinear']\n",
    "    penalty = ['l2']\n",
    "    c_values = [100, 50, 10, 5, 1.0, 0.5, 0.1, 0.05, 0.01]\n",
    "    grid = dict(solver=solvers,penalty=penalty,C=c_values)\n",
    "    grid_search = GridSearchCV(estimator=lreg, param_grid=grid, n_jobs=-1, cv=skf, scoring='accuracy',error_score=0)\n",
    "    grid_result = grid_search.fit(x_train, y_train)\n",
    "    print(\"Best: %f using %s\" % (grid_result.best_score_, grid_result.best_params_))\n",
    "    means = grid_result.cv_results_['mean_test_score']\n",
    "    stds = grid_result.cv_results_['std_test_score']\n",
    "    params = grid_result.cv_results_['params']\n",
    "    for mean, stdev, param in zip(means, stds, params):\n",
    "        print(\"%f (%f) with: %r\" % (mean, stdev, param))\n",
    "    return grid_result.best_params_\n",
    "\n",
    "def random_forest_pipe(features, labels):\n",
    "    x_train, x_test, y_train, y_test = train_test_split(features, labels,\n",
    "                                                    shuffle      = True,\n",
    "                                                    random_state = 614,\n",
    "                                                    test_size    = 0.2,\n",
    "                                                    stratify     = data['match'])\n",
    "    #Defining Estimators\n",
    "    # Number of trees in random forest\n",
    "    n_estimators = [int(x) for x in np.linspace(start = 200, stop = 1200, num = 6)]\n",
    "    # Number of features to consider at every split\n",
    "    max_features = ['auto', 'sqrt']\n",
    "    # Maximum number of levels in tree\n",
    "    max_depth = [int(x) for x in np.linspace(10, 110, num = 11)]\n",
    "    max_depth.append(None)\n",
    "    # Minimum number of samples required to split a node\n",
    "    min_samples_split = [2, 5, 10]\n",
    "    # Minimum number of samples required at each leaf node\n",
    "    min_samples_leaf = [2, 4, 10]\n",
    "    # Method of selecting samples for training each tree\n",
    "    bootstrap = [True, False]\n",
    "    # Create the random grid\n",
    "    random_grid = {'n_estimators'     : n_estimators,\n",
    "                   'max_features'     : max_features,\n",
    "                   'max_depth'        : max_depth,\n",
    "                   'min_samples_split': min_samples_split,\n",
    "                   'min_samples_leaf' : min_samples_leaf,\n",
    "                   'bootstrap'        : bootstrap}\n",
    "    # Use the random grid to search for best hyperparameters\n",
    "    # First create the base model to tune\n",
    "    rf = RandomForestClassifier()\n",
    "    # Random search of parameters, using 3 fold cross validation, \n",
    "    # search across 100 different combinations, and use all available cores\n",
    "    rf_random = RandomizedSearchCV(estimator = rf, \n",
    "                                   param_distributions = random_grid, \n",
    "                                   n_iter = 20, cv = 3, verbose=2, \n",
    "                                   random_state=614, n_jobs = -1)\n",
    "    # Fit the random search model\n",
    "    rf_random.fit(x_train, y_train)\n",
    "    \n",
    "    print(rf_random.best_params_)\n",
    "    \n",
    "    return rf_random.best_params\n"
   ]
  },
  {
   "cell_type": "markdown",
   "id": "00d178ed",
   "metadata": {},
   "source": [
    "## Logistic Regression With Hyperparameter tuning and K-fold Cross_validation"
   ]
  },
  {
   "cell_type": "code",
   "execution_count": null,
   "id": "a1b0de06",
   "metadata": {},
   "outputs": [],
   "source": [
    "best_params_dict = {}\n",
    "for features in feature_dict:\n",
    "    print(features)\n",
    "    best_params = logistic_regression_pipe(features = data[feature_dict[features]], labels = data['match'])\n",
    "    best_params_dict[features] = best_params"
   ]
  },
  {
   "cell_type": "markdown",
   "id": "78ff12cf",
   "metadata": {},
   "source": [
    "What I get from above is that the levenshtein distance works as the best metric. I ran this twice with \"geo_diff\" and \"geo_theta_diff\" (not shown with \"geo_diff\"). They give nearly identical results so I'll stick with \"geo_theta_diff\" because I believe it to be the most accurate metric. </br> </br>\n",
    "Here's what I will use for the \"best logistic regression\" on the test set.\n",
    "\n",
    "x_col_lev\n",
    "Best: 0.760583 using {'C': 0.01, 'penalty': 'l2', 'solver': 'liblinear'}"
   ]
  },
  {
   "cell_type": "code",
   "execution_count": null,
   "id": "f9c0e0b9",
   "metadata": {},
   "outputs": [],
   "source": [
    "lreg_best = LogisticRegression(penalty = 'l2', solver = 'liblinear', C = 0.01)"
   ]
  },
  {
   "cell_type": "code",
   "execution_count": null,
   "id": "461dc7a4",
   "metadata": {},
   "outputs": [],
   "source": [
    "#Defining Test Set that will be used for next logistic regression\n",
    "x_train, x_test, y_train, y_test = train_test_split(data[feature_dict['x_col_lev']], data['match'],\n",
    "                                                    shuffle = True,\n",
    "                                                    random_state = 614,\n",
    "                                                   test_size = 0.2,\n",
    "                                                   stratify = data['match'])"
   ]
  },
  {
   "cell_type": "code",
   "execution_count": null,
   "id": "4ca53fc0",
   "metadata": {},
   "outputs": [],
   "source": [
    "scores = cross_validate(lreg_best, x_train, y_train, cv = skf, scoring = ['accuracy', 'roc_auc', 'f1', 'average_precision', 'jaccard'], n_jobs = -1)"
   ]
  },
  {
   "cell_type": "code",
   "execution_count": null,
   "id": "31d67d4d",
   "metadata": {},
   "outputs": [],
   "source": [
    "scores"
   ]
  },
  {
   "cell_type": "markdown",
   "id": "ef215fa0",
   "metadata": {},
   "source": [
    "Results"
   ]
  },
  {
   "cell_type": "markdown",
   "id": "d473d7e6",
   "metadata": {},
   "source": [
    "## Logistic Regression on Test Set"
   ]
  },
  {
   "cell_type": "code",
   "execution_count": null,
   "id": "3065f397",
   "metadata": {},
   "outputs": [],
   "source": [
    "#lreg_best = LogisticRegression()\n",
    "lreg_best.fit(x_train, y_train)\n",
    "y_pred = lreg_best.predict(x_test)"
   ]
  },
  {
   "cell_type": "code",
   "execution_count": null,
   "id": "7cc4805c",
   "metadata": {},
   "outputs": [],
   "source": [
    "confusion_matrix(y_test, y_pred)"
   ]
  },
  {
   "cell_type": "code",
   "execution_count": null,
   "id": "3ddc3e35",
   "metadata": {},
   "outputs": [],
   "source": [
    "roc_auc_score(y_test, y_pred)"
   ]
  },
  {
   "cell_type": "code",
   "execution_count": null,
   "id": "cce383b2",
   "metadata": {},
   "outputs": [],
   "source": [
    "f1_score(y_test, y_pred)"
   ]
  },
  {
   "cell_type": "code",
   "execution_count": null,
   "id": "663c4b49",
   "metadata": {},
   "outputs": [],
   "source": [
    "accuracy_score(y_test, y_pred)"
   ]
  },
  {
   "cell_type": "code",
   "execution_count": null,
   "id": "713a7a62",
   "metadata": {},
   "outputs": [],
   "source": [
    "precision, recall, thresholds = precision_recall_curve(y_test, lreg_best.predict_proba(x_test)[:,1])"
   ]
  },
  {
   "cell_type": "code",
   "execution_count": null,
   "id": "2d77e462",
   "metadata": {},
   "outputs": [],
   "source": [
    "plt.figure(figsize=(12,8))\n",
    "\n",
    "plt.plot(recall,precision)\n",
    "\n",
    "plt.xlabel(\"Recall\",fontsize=16)\n",
    "plt.ylabel(\"Precision\",fontsize=16)\n",
    "\n",
    "plt.show()"
   ]
  },
  {
   "cell_type": "code",
   "execution_count": null,
   "id": "384f6e98",
   "metadata": {},
   "outputs": [],
   "source": [
    "fpr, tpr, thresholds = roc_curve(y_test, lreg_best.predict_proba(x_test)[:,1])"
   ]
  },
  {
   "cell_type": "code",
   "execution_count": null,
   "id": "14900c6a",
   "metadata": {},
   "outputs": [],
   "source": [
    "plt.figure(figsize=(12,8))\n",
    "\n",
    "plt.plot(fpr,tpr)\n",
    "\n",
    "plt.xlabel(\"False Positive Rate\",fontsize=16)\n",
    "plt.ylabel(\"True Positive Rate\",fontsize=16)\n",
    "\n",
    "plt.show()"
   ]
  },
  {
   "cell_type": "code",
   "execution_count": null,
   "id": "1531d6f7",
   "metadata": {},
   "outputs": [],
   "source": [
    "cutoffs = np.arange(0, 1.01, 0.01)\n",
    "y_train_prob = lreg_best.predict_proba(x_train)[:,1]\n",
    "accs = []\n",
    "aucs = []\n",
    "f1s = []\n",
    "precision = []\n",
    "recall = []\n",
    "for cutoff in cutoffs:\n",
    "    cutoffs = np.arange(0, 1.01, 0.01)\n",
    "    y_train_pred = 1*(y_train_prob >= cutoff)\n",
    "    \n",
    "    #accs.append(np.sum(y_train_pred == y_train)/len(y_train))\n",
    "    accs.append(accuracy_score(y_train, y_train_pred))\n",
    "    aucs.append(roc_auc_score(y_train, y_train_pred))\n",
    "    f1s.append(f1_score(y_train, y_train_pred))\n",
    "    \n",
    "plt.figure(figsize=(12,8))\n",
    "\n",
    "plt.scatter(cutoffs,accs)\n",
    "\n",
    "plt.xlabel(\"Cutoff\",fontsize=16)\n",
    "plt.ylabel(\"Training Accuracy\",fontsize=16)\n",
    "\n",
    "plt.show()\n",
    "\n",
    "plt.figure(figsize=(12,8))\n",
    "\n",
    "plt.scatter(cutoffs,aucs)\n",
    "\n",
    "plt.xlabel(\"Cutoff\",fontsize=16)\n",
    "plt.ylabel(\"AUC\",fontsize=16)\n",
    "\n",
    "plt.show()\n",
    "\n",
    "plt.figure(figsize=(12,8))\n",
    "\n",
    "plt.scatter(cutoffs,f1s)\n",
    "\n",
    "plt.xlabel(\"Cutoff\",fontsize=16)\n",
    "plt.ylabel(\"F1\",fontsize=16)\n",
    "\n",
    "plt.show()\n"
   ]
  },
  {
   "cell_type": "code",
   "execution_count": null,
   "id": "01aab83d",
   "metadata": {},
   "outputs": [],
   "source": [
    "max(aucs)"
   ]
  },
  {
   "cell_type": "code",
   "execution_count": null,
   "id": "45f0dda6",
   "metadata": {},
   "outputs": [],
   "source": [
    "max(accs)"
   ]
  },
  {
   "cell_type": "code",
   "execution_count": null,
   "id": "78238078",
   "metadata": {},
   "outputs": [],
   "source": [
    "max(f1s)"
   ]
  },
  {
   "cell_type": "markdown",
   "id": "06c46905",
   "metadata": {},
   "source": [
    "I'm still working on this"
   ]
  }
 ],
 "metadata": {
  "kernelspec": {
   "display_name": "Python 3",
   "language": "python",
   "name": "python3"
  },
  "language_info": {
   "codemirror_mode": {
    "name": "ipython",
    "version": 3
   },
   "file_extension": ".py",
   "mimetype": "text/x-python",
   "name": "python",
   "nbconvert_exporter": "python",
   "pygments_lexer": "ipython3",
   "version": "3.8.13"
  }
 },
 "nbformat": 4,
 "nbformat_minor": 5
}
