{
 "cells": [
  {
   "cell_type": "markdown",
   "metadata": {
    "id": "lDaIyszzU4xE"
   },
   "source": [
    "Authors: Tim Gorman, Yu Cao, Ling Zhou\n",
    "\n",
    "---\n",
    "\n",
    "Data analyzed in this notebook is from [Kaggle's code competation: Foursquare - Location Matching](https://www.kaggle.com/competitions/foursquare-location-matching/data). The data comprises over one-and-a-half million place entries for hundreds of thousands of commercial Points-of-Interest (POIs) around the globe."
   ]
  },
  {
   "cell_type": "code",
   "execution_count": 1,
   "metadata": {
    "id": "MC62YNpkU4xF",
    "tags": []
   },
   "outputs": [],
   "source": [
    "import pandas as pd\n",
    "import numpy as np\n",
    "import string\n",
    "from sklearn.metrics.pairwise import cosine_similarity\n",
    "from sklearn.feature_extraction.text import CountVectorizer\n",
    "from nltk.corpus import stopwords\n",
    "stopwords = stopwords.words('english')\n",
    "\n",
    "# from googletrans import Translator, constants\n",
    "import seaborn as sns\n",
    "import matplotlib.pyplot as plt\n",
    "\n",
    "from shapely.geometry import Point\n",
    "from geopandas import GeoDataFrame\n",
    "import geopandas as gpd\n",
    "\n",
    "import langdetect\n",
    "from langdetect import detect\n",
    "\n",
    "# Note: To install geopandas, open a terminal in jupyter and run the following commands\n",
    "\n",
    "# pip install pipwin \n",
    "# pipwin install gdal \n",
    "# pipwin install fiona \n",
    "# pip install geopandas"
   ]
  },
  {
   "cell_type": "markdown",
   "metadata": {
    "id": "6Y-BXghYU4xG",
    "tags": [],
    "toc-hr-collapsed": true
   },
   "source": [
    "# Exploring `train.csv`"
   ]
  },
  {
   "cell_type": "markdown",
   "metadata": {
    "tags": []
   },
   "source": [
    "## Basic information\n",
    "\n",
    "The official description from [Kaggle](https://www.kaggle.com/competitions/foursquare-location-matching/data):\n",
    "\n",
    "This set comprises eleven attribute fields for over one million place entries, together with:    \n",
    " * `id` - A unique identifier for each entry.  \n",
    " * `point_of_interest` - An identifier for the POI the entry represents. There may be one or many entries describing the same POI. Two entries \"match\" when they describe a common POI.\n",
    " \n",
    " This data set is large (1138812 entries). Later we will decide only work with the file `pairs.csv` for our modeling."
   ]
  },
  {
   "cell_type": "code",
   "execution_count": 2,
   "metadata": {
    "id": "NyoTKTdIU4xH",
    "tags": []
   },
   "outputs": [],
   "source": [
    "# loading data\n",
    "df_train = pd.read_csv(\"../data_raw/train.csv\")"
   ]
  },
  {
   "cell_type": "code",
   "execution_count": 3,
   "metadata": {
    "id": "YVXlFNq0U4xH",
    "outputId": "7280fd93-adee-43dc-ff88-050cd163d66e",
    "tags": []
   },
   "outputs": [
    {
     "name": "stdout",
     "output_type": "stream",
     "text": [
      "<class 'pandas.core.frame.DataFrame'>\n",
      "RangeIndex: 1138812 entries, 0 to 1138811\n",
      "Data columns (total 13 columns):\n",
      " #   Column             Non-Null Count    Dtype  \n",
      "---  ------             --------------    -----  \n",
      " 0   id                 1138812 non-null  object \n",
      " 1   name               1138811 non-null  object \n",
      " 2   latitude           1138812 non-null  float64\n",
      " 3   longitude          1138812 non-null  float64\n",
      " 4   address            742191 non-null   object \n",
      " 5   city               839623 non-null   object \n",
      " 6   state              718226 non-null   object \n",
      " 7   zip                543386 non-null   object \n",
      " 8   country            1138801 non-null  object \n",
      " 9   url                267724 non-null   object \n",
      " 10  phone              342855 non-null   object \n",
      " 11  categories         1040505 non-null  object \n",
      " 12  point_of_interest  1138812 non-null  object \n",
      "dtypes: float64(2), object(11)\n",
      "memory usage: 112.9+ MB\n"
     ]
    }
   ],
   "source": [
    "df_train.info()"
   ]
  },
  {
   "cell_type": "code",
   "execution_count": 4,
   "metadata": {
    "id": "idtUOlRQU4xH",
    "outputId": "4777ee7f-ac86-462d-9e00-4b10f0130f0d"
   },
   "outputs": [
    {
     "data": {
      "text/html": [
       "<div>\n",
       "<style scoped>\n",
       "    .dataframe tbody tr th:only-of-type {\n",
       "        vertical-align: middle;\n",
       "    }\n",
       "\n",
       "    .dataframe tbody tr th {\n",
       "        vertical-align: top;\n",
       "    }\n",
       "\n",
       "    .dataframe thead th {\n",
       "        text-align: right;\n",
       "    }\n",
       "</style>\n",
       "<table border=\"1\" class=\"dataframe\">\n",
       "  <thead>\n",
       "    <tr style=\"text-align: right;\">\n",
       "      <th></th>\n",
       "      <th>id</th>\n",
       "      <th>name</th>\n",
       "      <th>latitude</th>\n",
       "      <th>longitude</th>\n",
       "      <th>address</th>\n",
       "      <th>city</th>\n",
       "      <th>state</th>\n",
       "      <th>zip</th>\n",
       "      <th>country</th>\n",
       "      <th>url</th>\n",
       "      <th>phone</th>\n",
       "      <th>categories</th>\n",
       "      <th>point_of_interest</th>\n",
       "    </tr>\n",
       "  </thead>\n",
       "  <tbody>\n",
       "    <tr>\n",
       "      <th>0</th>\n",
       "      <td>E_000001272c6c5d</td>\n",
       "      <td>Café Stad Oudenaarde</td>\n",
       "      <td>50.859975</td>\n",
       "      <td>3.634196</td>\n",
       "      <td>Abdijstraat</td>\n",
       "      <td>Nederename</td>\n",
       "      <td>Oost-Vlaanderen</td>\n",
       "      <td>9700</td>\n",
       "      <td>BE</td>\n",
       "      <td>NaN</td>\n",
       "      <td>NaN</td>\n",
       "      <td>Bars</td>\n",
       "      <td>P_677e840bb6fc7e</td>\n",
       "    </tr>\n",
       "    <tr>\n",
       "      <th>1</th>\n",
       "      <td>E_000002eae2a589</td>\n",
       "      <td>Carioca Manero</td>\n",
       "      <td>-22.907225</td>\n",
       "      <td>-43.178244</td>\n",
       "      <td>NaN</td>\n",
       "      <td>NaN</td>\n",
       "      <td>NaN</td>\n",
       "      <td>NaN</td>\n",
       "      <td>BR</td>\n",
       "      <td>NaN</td>\n",
       "      <td>NaN</td>\n",
       "      <td>Brazilian Restaurants</td>\n",
       "      <td>P_d82910d8382a83</td>\n",
       "    </tr>\n",
       "    <tr>\n",
       "      <th>2</th>\n",
       "      <td>E_000007f24ebc95</td>\n",
       "      <td>ร้านตัดผมการาเกด</td>\n",
       "      <td>13.780813</td>\n",
       "      <td>100.484900</td>\n",
       "      <td>NaN</td>\n",
       "      <td>NaN</td>\n",
       "      <td>NaN</td>\n",
       "      <td>NaN</td>\n",
       "      <td>TH</td>\n",
       "      <td>NaN</td>\n",
       "      <td>NaN</td>\n",
       "      <td>Salons / Barbershops</td>\n",
       "      <td>P_b1066599e78477</td>\n",
       "    </tr>\n",
       "    <tr>\n",
       "      <th>3</th>\n",
       "      <td>E_000008a8ba4f48</td>\n",
       "      <td>Turkcell</td>\n",
       "      <td>37.844510</td>\n",
       "      <td>27.844202</td>\n",
       "      <td>Adnan Menderes Bulvarı</td>\n",
       "      <td>NaN</td>\n",
       "      <td>NaN</td>\n",
       "      <td>NaN</td>\n",
       "      <td>TR</td>\n",
       "      <td>NaN</td>\n",
       "      <td>NaN</td>\n",
       "      <td>Mobile Phone Shops</td>\n",
       "      <td>P_b2ed86905a4cd3</td>\n",
       "    </tr>\n",
       "    <tr>\n",
       "      <th>4</th>\n",
       "      <td>E_00001d92066153</td>\n",
       "      <td>Restaurante Casa Cofiño</td>\n",
       "      <td>43.338196</td>\n",
       "      <td>-4.326821</td>\n",
       "      <td>NaN</td>\n",
       "      <td>Caviedes</td>\n",
       "      <td>Cantabria</td>\n",
       "      <td>NaN</td>\n",
       "      <td>ES</td>\n",
       "      <td>NaN</td>\n",
       "      <td>NaN</td>\n",
       "      <td>Spanish Restaurants</td>\n",
       "      <td>P_809a884d4407fb</td>\n",
       "    </tr>\n",
       "  </tbody>\n",
       "</table>\n",
       "</div>"
      ],
      "text/plain": [
       "                 id                     name   latitude   longitude  \\\n",
       "0  E_000001272c6c5d     Café Stad Oudenaarde  50.859975    3.634196   \n",
       "1  E_000002eae2a589           Carioca Manero -22.907225  -43.178244   \n",
       "2  E_000007f24ebc95         ร้านตัดผมการาเกด  13.780813  100.484900   \n",
       "3  E_000008a8ba4f48                 Turkcell  37.844510   27.844202   \n",
       "4  E_00001d92066153  Restaurante Casa Cofiño  43.338196   -4.326821   \n",
       "\n",
       "                  address        city            state   zip country  url  \\\n",
       "0             Abdijstraat  Nederename  Oost-Vlaanderen  9700      BE  NaN   \n",
       "1                     NaN         NaN              NaN   NaN      BR  NaN   \n",
       "2                     NaN         NaN              NaN   NaN      TH  NaN   \n",
       "3  Adnan Menderes Bulvarı         NaN              NaN   NaN      TR  NaN   \n",
       "4                     NaN    Caviedes        Cantabria   NaN      ES  NaN   \n",
       "\n",
       "  phone             categories point_of_interest  \n",
       "0   NaN                   Bars  P_677e840bb6fc7e  \n",
       "1   NaN  Brazilian Restaurants  P_d82910d8382a83  \n",
       "2   NaN   Salons / Barbershops  P_b1066599e78477  \n",
       "3   NaN     Mobile Phone Shops  P_b2ed86905a4cd3  \n",
       "4   NaN    Spanish Restaurants  P_809a884d4407fb  "
      ]
     },
     "execution_count": 4,
     "metadata": {},
     "output_type": "execute_result"
    }
   ],
   "source": [
    "df_train.head()"
   ]
  },
  {
   "cell_type": "code",
   "execution_count": 5,
   "metadata": {},
   "outputs": [
    {
     "data": {
      "text/plain": [
       "(1138812, 13)"
      ]
     },
     "execution_count": 5,
     "metadata": {},
     "output_type": "execute_result"
    }
   ],
   "source": [
    "df_train.shape"
   ]
  },
  {
   "cell_type": "markdown",
   "metadata": {
    "id": "waFMskOvU4xI",
    "tags": [],
    "toc-hr-collapsed": true
   },
   "source": [
    "## Missing values\n",
    "- No missing values in the features: `id`, `latitude`, `longitude`, `point_of_interest`(POI)\n",
    "- All other features have missing values\n",
    "- Features with most missing values (top 3): `url`, `phone`, `zip`.\n",
    "- only one missing value in `name`"
   ]
  },
  {
   "cell_type": "code",
   "execution_count": 6,
   "metadata": {
    "id": "5XYjoxaGU4xI",
    "outputId": "5a502a75-f072-4a0b-c324-45ec663c22d3"
   },
   "outputs": [
    {
     "name": "stdout",
     "output_type": "stream",
     "text": [
      "id                    0.000000\n",
      "latitude              0.000000\n",
      "longitude             0.000000\n",
      "point_of_interest     0.000000\n",
      "name                  0.000088\n",
      "country               0.000966\n",
      "categories            8.632417\n",
      "city                 26.272027\n",
      "address              34.827610\n",
      "state                36.931996\n",
      "zip                  52.284837\n",
      "phone                69.893626\n",
      "url                  76.490940\n",
      "dtype: float64\n"
     ]
    },
    {
     "data": {
      "image/png": "[encoded data removed]",
      "text/plain": [
       "<Figure size 576x432 with 1 Axes>"
      ]
     },
     "metadata": {
      "needs_background": "light"
     },
     "output_type": "display_data"
    }
   ],
   "source": [
    "df = df_train.copy()\n",
    "# Count the missing values in each feature\n",
    "missing = df.isna().sum()/df.shape[0]*100\n",
    "print(missing.sort_values())\n",
    "\n",
    "# Plot the percentages of missing values for each feature\n",
    "import matplotlib.ticker as mtick\n",
    "tmp = df.isna().sum().sort_values()\n",
    "fig, ax = plt.subplots(figsize=(8,6))\n",
    "\n",
    "y = tmp/len(df)*100\n",
    "ax.barh(tmp.index, y)\n",
    "ax.set_title(\"Missing values\", fontsize=18)\n",
    "# ax.axvline(x=60,color='r',linestyle='--')\n",
    "# ax.xaxis.set_major_formatter(mtick.PercentFormatter())\n",
    "ax.tick_params(axis='both', labelsize=15 )\n",
    "ax.set_ylabel('features', fontsize=18)\n",
    "ax.set_xlabel('percentages (%)', fontsize=18)\n",
    "ax.set_xlim(0,100)\n",
    "\n",
    "for index, value in enumerate(y):\n",
    "    if value < 1:\n",
    "        ax.text(value, index, '{:.6f}'.format(value), color = 'red', fontweight = 'bold')\n",
    "    else:\n",
    "        ax.text(value, index, '{:.1f}'.format(value), color = 'red', fontweight = 'bold')\n",
    "plt.show()"
   ]
  },
  {
   "cell_type": "markdown",
   "metadata": {
    "tags": []
   },
   "source": [
    "## Features in `train.csv`\n",
    "\n",
    "- We verify that the `id` feature is indeed a unique identifier for each entry.\n",
    "\n",
    "- We explore in this section the features that have fewer missing values:\n",
    "    - latitude and longitude\n",
    "    - name\n",
    "    - country\n",
    "    - point_of_interest\n",
    "\n",
    "- We explore entries that have the same POI."
   ]
  },
  {
   "cell_type": "code",
   "execution_count": 7,
   "metadata": {},
   "outputs": [
    {
     "name": "stdout",
     "output_type": "stream",
     "text": [
      "['id' 'name' 'latitude' 'longitude' 'address' 'city' 'state' 'zip'\n",
      " 'country' 'url' 'phone' 'categories' 'point_of_interest']\n"
     ]
    }
   ],
   "source": [
    "print(df.columns.values)"
   ]
  },
  {
   "cell_type": "markdown",
   "metadata": {
    "tags": []
   },
   "source": [
    "### `id` (no missing values)"
   ]
  },
  {
   "cell_type": "code",
   "execution_count": 8,
   "metadata": {},
   "outputs": [
    {
     "name": "stdout",
     "output_type": "stream",
     "text": [
      "Each value in `id` is unique: True\n"
     ]
    }
   ],
   "source": [
    "# each value in `id` is indeed unique.\n",
    "print(\"Each value in `id` is unique:\", len(df.id.unique()) == df.shape[0])"
   ]
  },
  {
   "cell_type": "markdown",
   "metadata": {
    "tags": []
   },
   "source": [
    "### `latitude` and `longitude` (no missing values)\n",
    "This (combination of) feature(s) shows that the places are all over the world, mostly in the US and the European regions.\n"
   ]
  },
  {
   "cell_type": "code",
   "execution_count": 9,
   "metadata": {
    "tags": []
   },
   "outputs": [],
   "source": [
    "# # fancy plot\n",
    "# geometry = [Point(xy) for xy in zip(df['longitude'], df['latitude'])]\n",
    "# gdf = GeoDataFrame(df_train.copy(), geometry=geometry)   \n",
    "\n",
    "# #this is a simple map that goes with geopandas\n",
    "# world = gpd.read_file(gpd.datasets.get_path('naturalearth_lowres'))\n",
    "# fig, ax = plt.subplots(figsize=(20, 12))\n",
    "# world.plot(figsize=(20, 12), ax=ax)\n",
    "# gdf.plot(ax=ax, marker='o', color='red', markersize=10)\n",
    "\n",
    "# fig.savefig(\"./train_coords.png\")\n",
    "# plt.show()"
   ]
  },
  {
   "cell_type": "markdown",
   "metadata": {
    "tags": []
   },
   "source": [
    "### `name`\n",
    "\n",
    "This column has different languages. "
   ]
  },
  {
   "cell_type": "markdown",
   "metadata": {
    "id": "dsg2f55IU4xL",
    "tags": []
   },
   "source": [
    "#### How many languages are present in `name`?\n",
    "\n",
    "We sample 10K names and find that roughly 20% of the sampled data is in English. The second most frequent language is about less than 8%."
   ]
  },
  {
   "cell_type": "code",
   "execution_count": 15,
   "metadata": {},
   "outputs": [
    {
     "name": "stdout",
     "output_type": "stream",
     "text": [
      "366 bagh🌳🐝🐞🐜🐛🍀🌱🌿🌷🌾🍃 152💔🚶🏻 ｇｕｃｃｉ "
     ]
    }
   ],
   "source": [
    "def lang_detect(x):\n",
    "    ''' language detect with exception handling '''\n",
    "    \n",
    "    try:\n",
    "        return detect(x)\n",
    "    except:\n",
    "        # print names that cause exception.\n",
    "        print(x,end=' ')\n",
    "        return np.nan\n",
    "\n",
    "df = df_train.copy()\n",
    "tmp = df['name'].sample(10000).fillna('').str.replace('[{}]'.format(string.punctuation),'',regex=True).str.lower()\n",
    "lang_sample = tmp.apply(lang_detect)"
   ]
  },
  {
   "cell_type": "code",
   "execution_count": 16,
   "metadata": {},
   "outputs": [
    {
     "data": {
      "image/png": "[encoded data removed]",
      "text/plain": [
       "<Figure size 576x432 with 1 Axes>"
      ]
     },
     "metadata": {
      "needs_background": "light"
     },
     "output_type": "display_data"
    }
   ],
   "source": [
    "lang_stats = lang_sample.value_counts()*100/lang_sample.value_counts().sum()\n",
    "lang_stats = lang_stats.head(10).sort_values()\n",
    "\n",
    "fig, ax = plt.subplots(figsize=(8,6))\n",
    "color = [\"gray\"]*len(lang_stats.index)\n",
    "color[-1] = '#1f77b4'\n",
    "lang_stats.plot(kind = 'barh', ax = ax, color = color)\n",
    "\n",
    "ax.set_title(\"languages appearing in the name (top 10)\", fontsize = 18)\n",
    "ax.set_ylabel('language', fontsize = 18)\n",
    "ax.set_xlabel('Percentages (%)', fontsize = 18)\n",
    "for index, value in enumerate(lang_stats.values):\n",
    "    if value < 1:\n",
    "        ax.text(value, index, '{:.6f}'.format(value), color = 'red', fontweight = 'bold')\n",
    "    else:\n",
    "        ax.text(value, index, '{:5.1f}'.format(value), color = 'red', fontweight = 'bold')\n",
    "ax.set_xlim(0,25)\n",
    "plt.show()"
   ]
  },
  {
   "cell_type": "markdown",
   "metadata": {
    "tags": []
   },
   "source": [
    "### `country` \n",
    "\n",
    "Data availability in the `country` feature.\n"
   ]
  },
  {
   "cell_type": "code",
   "execution_count": 18,
   "metadata": {},
   "outputs": [
    {
     "name": "stdout",
     "output_type": "stream",
     "text": [
      "(10,)\n"
     ]
    },
    {
     "data": {
      "image/png": "[encoded data removed]",
      "text/plain": [
       "<Figure size 576x432 with 1 Axes>"
      ]
     },
     "metadata": {
      "needs_background": "light"
     },
     "output_type": "display_data"
    }
   ],
   "source": [
    "df = df_train.copy()\n",
    "country_stats = df['country'].value_counts()*100/df['country'].value_counts().sum()\n",
    "country_stats = country_stats.head(10).sort_values()\n",
    "print(country_stats.shape)\n",
    "\n",
    "fig, ax = plt.subplots(figsize=(8,6))\n",
    "color = [\"gray\"]*len(country_stats.index)\n",
    "color[-1] = '#1f77b4'\n",
    "country_stats.plot(kind = 'barh', ax = ax, color = color)\n",
    "\n",
    "ax.set_title(\"Available Data by Countries (top 10)\", fontsize = 18)\n",
    "ax.set_ylabel('country', fontsize = 18)\n",
    "ax.set_xlabel('Percentages (%)', fontsize = 18)\n",
    "for index, value in enumerate(country_stats.values):\n",
    "    if value < 1:\n",
    "        ax.text(value, index, '{:.6f}'.format(value), color = 'red', fontweight = 'bold')\n",
    "    else:\n",
    "        ax.text(value, index, '{:5.1f}'.format(value), color = 'red', fontweight = 'bold')\n",
    "ax.set_xlim(0,25)\n",
    "plt.show()"
   ]
  },
  {
   "cell_type": "markdown",
   "metadata": {
    "tags": []
   },
   "source": [
    "### `point_of_interest`\n",
    "\n",
    "Notes on the `point_of_interest` feature:\n",
    "https://www.kaggle.com/competitions/foursquare-location-matching/discussion/318967#1783581"
   ]
  },
  {
   "cell_type": "code",
   "execution_count": 19,
   "metadata": {},
   "outputs": [
    {
     "name": "stdout",
     "output_type": "stream",
     "text": [
      "There are 739972 distinct POIs.\n",
      "Abount 64.98 %POIs are uniue\n"
     ]
    }
   ],
   "source": [
    "print('There are {} distinct POIs.'.format(df.point_of_interest.nunique()))\n",
    "print('Abount {:.2f} %POIs are uniue'.format(df.point_of_interest.nunique()*100/df.point_of_interest.shape[0]))"
   ]
  },
  {
   "cell_type": "code",
   "execution_count": 20,
   "metadata": {},
   "outputs": [
    {
     "data": {
      "text/plain": [
       "P_fb339198a31db3    332\n",
       "P_3a3fbd26e16269    199\n",
       "P_f70a0977377171    166\n",
       "P_9290e406eb58ac    145\n",
       "P_fbe61733fcdebe    132\n",
       "P_59cb47cbf3a432    130\n",
       "P_f82d146eaf21da    120\n",
       "P_40323f7f948c18    120\n",
       "P_f8a0cd160eec80    119\n",
       "P_6c385e5fd3a4b7    119\n",
       "Name: point_of_interest, dtype: int64"
      ]
     },
     "execution_count": 20,
     "metadata": {},
     "output_type": "execute_result"
    }
   ],
   "source": [
    "most_freq_POI = df['point_of_interest'].value_counts().head(10)\n",
    "most_freq_POI"
   ]
  },
  {
   "cell_type": "code",
   "execution_count": 21,
   "metadata": {},
   "outputs": [
    {
     "data": {
      "text/html": [
       "<div>\n",
       "<style scoped>\n",
       "    .dataframe tbody tr th:only-of-type {\n",
       "        vertical-align: middle;\n",
       "    }\n",
       "\n",
       "    .dataframe tbody tr th {\n",
       "        vertical-align: top;\n",
       "    }\n",
       "\n",
       "    .dataframe thead th {\n",
       "        text-align: right;\n",
       "    }\n",
       "</style>\n",
       "<table border=\"1\" class=\"dataframe\">\n",
       "  <thead>\n",
       "    <tr style=\"text-align: right;\">\n",
       "      <th></th>\n",
       "      <th>id</th>\n",
       "      <th>name</th>\n",
       "      <th>latitude</th>\n",
       "      <th>longitude</th>\n",
       "      <th>address</th>\n",
       "      <th>city</th>\n",
       "      <th>state</th>\n",
       "      <th>zip</th>\n",
       "      <th>country</th>\n",
       "      <th>url</th>\n",
       "      <th>phone</th>\n",
       "      <th>categories</th>\n",
       "      <th>point_of_interest</th>\n",
       "    </tr>\n",
       "  </thead>\n",
       "  <tbody>\n",
       "    <tr>\n",
       "      <th>89407</th>\n",
       "      <td>E_140b5041aa4cd6</td>\n",
       "      <td>\"\\\"Sorkarno - Hatta Intl Airport, Indonesia\\\"\"</td>\n",
       "      <td>-6.122573</td>\n",
       "      <td>106.725217</td>\n",
       "      <td>Jl Raya Bandara</td>\n",
       "      <td>Tangerang</td>\n",
       "      <td>Indonesia</td>\n",
       "      <td>NaN</td>\n",
       "      <td>ID</td>\n",
       "      <td>NaN</td>\n",
       "      <td>NaN</td>\n",
       "      <td>Airports</td>\n",
       "      <td>P_fb339198a31db3</td>\n",
       "    </tr>\n",
       "    <tr>\n",
       "      <th>1115855</th>\n",
       "      <td>E_fadb459e7f70ca</td>\n",
       "      <td>(CGK) Soekarno Hatta International Airport</td>\n",
       "      <td>-6.317134</td>\n",
       "      <td>106.805808</td>\n",
       "      <td>NaN</td>\n",
       "      <td>NaN</td>\n",
       "      <td>NaN</td>\n",
       "      <td>NaN</td>\n",
       "      <td>ID</td>\n",
       "      <td>NaN</td>\n",
       "      <td>NaN</td>\n",
       "      <td>NaN</td>\n",
       "      <td>P_fb339198a31db3</td>\n",
       "    </tr>\n",
       "    <tr>\n",
       "      <th>545547</th>\n",
       "      <td>E_7a97df0189d838</td>\n",
       "      <td>@ Blue Bird Otw To Soeta</td>\n",
       "      <td>-6.229253</td>\n",
       "      <td>106.587979</td>\n",
       "      <td>NaN</td>\n",
       "      <td>NaN</td>\n",
       "      <td>NaN</td>\n",
       "      <td>NaN</td>\n",
       "      <td>ID</td>\n",
       "      <td>NaN</td>\n",
       "      <td>NaN</td>\n",
       "      <td>NaN</td>\n",
       "      <td>P_fb339198a31db3</td>\n",
       "    </tr>\n",
       "    <tr>\n",
       "      <th>1086887</th>\n",
       "      <td>E_f43a547c2bf278</td>\n",
       "      <td>@ Jakarta International Airport Soekarno Hatta</td>\n",
       "      <td>-6.188795</td>\n",
       "      <td>106.814735</td>\n",
       "      <td>Tangerang, Banten</td>\n",
       "      <td>NaN</td>\n",
       "      <td>NaN</td>\n",
       "      <td>NaN</td>\n",
       "      <td>ID</td>\n",
       "      <td>NaN</td>\n",
       "      <td>NaN</td>\n",
       "      <td>Airport Terminals</td>\n",
       "      <td>P_fb339198a31db3</td>\n",
       "    </tr>\n",
       "    <tr>\n",
       "      <th>703170</th>\n",
       "      <td>E_9def7e6622aff9</td>\n",
       "      <td>Airport</td>\n",
       "      <td>-6.226321</td>\n",
       "      <td>106.610071</td>\n",
       "      <td>NaN</td>\n",
       "      <td>NaN</td>\n",
       "      <td>NaN</td>\n",
       "      <td>NaN</td>\n",
       "      <td>ID</td>\n",
       "      <td>NaN</td>\n",
       "      <td>NaN</td>\n",
       "      <td>NaN</td>\n",
       "      <td>P_fb339198a31db3</td>\n",
       "    </tr>\n",
       "  </tbody>\n",
       "</table>\n",
       "</div>"
      ],
      "text/plain": [
       "                       id                                            name  \\\n",
       "89407    E_140b5041aa4cd6  \"\\\"Sorkarno - Hatta Intl Airport, Indonesia\\\"\"   \n",
       "1115855  E_fadb459e7f70ca      (CGK) Soekarno Hatta International Airport   \n",
       "545547   E_7a97df0189d838                        @ Blue Bird Otw To Soeta   \n",
       "1086887  E_f43a547c2bf278  @ Jakarta International Airport Soekarno Hatta   \n",
       "703170   E_9def7e6622aff9                                         Airport   \n",
       "\n",
       "         latitude   longitude            address       city      state  zip  \\\n",
       "89407   -6.122573  106.725217    Jl Raya Bandara  Tangerang  Indonesia  NaN   \n",
       "1115855 -6.317134  106.805808                NaN        NaN        NaN  NaN   \n",
       "545547  -6.229253  106.587979                NaN        NaN        NaN  NaN   \n",
       "1086887 -6.188795  106.814735  Tangerang, Banten        NaN        NaN  NaN   \n",
       "703170  -6.226321  106.610071                NaN        NaN        NaN  NaN   \n",
       "\n",
       "        country  url phone         categories point_of_interest  \n",
       "89407        ID  NaN   NaN           Airports  P_fb339198a31db3  \n",
       "1115855      ID  NaN   NaN                NaN  P_fb339198a31db3  \n",
       "545547       ID  NaN   NaN                NaN  P_fb339198a31db3  \n",
       "1086887      ID  NaN   NaN  Airport Terminals  P_fb339198a31db3  \n",
       "703170       ID  NaN   NaN                NaN  P_fb339198a31db3  "
      ]
     },
     "execution_count": 21,
     "metadata": {},
     "output_type": "execute_result"
    }
   ],
   "source": [
    "tmp = df[df['point_of_interest']==most_freq_POI.keys().values[0]].sort_values(by='name')\n",
    "tmp.head()"
   ]
  },
  {
   "cell_type": "code",
   "execution_count": 22,
   "metadata": {},
   "outputs": [
    {
     "data": {
      "text/html": [
       "<div>\n",
       "<style scoped>\n",
       "    .dataframe tbody tr th:only-of-type {\n",
       "        vertical-align: middle;\n",
       "    }\n",
       "\n",
       "    .dataframe tbody tr th {\n",
       "        vertical-align: top;\n",
       "    }\n",
       "\n",
       "    .dataframe thead th {\n",
       "        text-align: right;\n",
       "    }\n",
       "</style>\n",
       "<table border=\"1\" class=\"dataframe\">\n",
       "  <thead>\n",
       "    <tr style=\"text-align: right;\">\n",
       "      <th></th>\n",
       "      <th>id</th>\n",
       "      <th>name</th>\n",
       "      <th>latitude</th>\n",
       "      <th>longitude</th>\n",
       "      <th>address</th>\n",
       "      <th>city</th>\n",
       "      <th>state</th>\n",
       "      <th>zip</th>\n",
       "      <th>country</th>\n",
       "      <th>url</th>\n",
       "      <th>phone</th>\n",
       "      <th>categories</th>\n",
       "      <th>point_of_interest</th>\n",
       "    </tr>\n",
       "  </thead>\n",
       "  <tbody>\n",
       "    <tr>\n",
       "      <th>1113750</th>\n",
       "      <td>E_fa600b778ee5b6</td>\n",
       "      <td>15 TEMMUZ ŞEHİRLER KÖPRÜSÜ Boğaziçi</td>\n",
       "      <td>41.053444</td>\n",
       "      <td>29.025681</td>\n",
       "      <td>NaN</td>\n",
       "      <td>NaN</td>\n",
       "      <td>NaN</td>\n",
       "      <td>NaN</td>\n",
       "      <td>TR</td>\n",
       "      <td>NaN</td>\n",
       "      <td>NaN</td>\n",
       "      <td>General Travel</td>\n",
       "      <td>P_fbe61733fcdebe</td>\n",
       "    </tr>\n",
       "    <tr>\n",
       "      <th>205220</th>\n",
       "      <td>E_2e0eabcf4f1fce</td>\n",
       "      <td>15 TEMMUZ ŞEHİTLER KÖPRÜSÜ</td>\n",
       "      <td>41.044080</td>\n",
       "      <td>29.035778</td>\n",
       "      <td>ÜSKÜDAR</td>\n",
       "      <td>İSTANBUL</td>\n",
       "      <td>İstanbul</td>\n",
       "      <td>34600</td>\n",
       "      <td>TR</td>\n",
       "      <td>NaN</td>\n",
       "      <td>NaN</td>\n",
       "      <td>Toll Plazas</td>\n",
       "      <td>P_fbe61733fcdebe</td>\n",
       "    </tr>\n",
       "    <tr>\n",
       "      <th>1113170</th>\n",
       "      <td>E_fa3f089d94ab18</td>\n",
       "      <td>15 TEMMUZ ŞEHİTLER KÖPRÜSÜ</td>\n",
       "      <td>41.066280</td>\n",
       "      <td>29.109200</td>\n",
       "      <td>15 TEMMUZ ŞEHİTLER KÖPRÜSÜ</td>\n",
       "      <td>İSTANBUL</td>\n",
       "      <td>İstanbul</td>\n",
       "      <td>34830</td>\n",
       "      <td>TR</td>\n",
       "      <td>NaN</td>\n",
       "      <td>NaN</td>\n",
       "      <td>Bus Stops</td>\n",
       "      <td>P_fbe61733fcdebe</td>\n",
       "    </tr>\n",
       "    <tr>\n",
       "      <th>836015</th>\n",
       "      <td>E_bbb9eece6631b4</td>\n",
       "      <td>15 Temmuz Şehitler Köprüsü</td>\n",
       "      <td>41.045662</td>\n",
       "      <td>29.033861</td>\n",
       "      <td>NaN</td>\n",
       "      <td>İstanbul</td>\n",
       "      <td>İstanbul</td>\n",
       "      <td>NaN</td>\n",
       "      <td>TR</td>\n",
       "      <td>NaN</td>\n",
       "      <td>NaN</td>\n",
       "      <td>Bridges</td>\n",
       "      <td>P_fbe61733fcdebe</td>\n",
       "    </tr>\n",
       "    <tr>\n",
       "      <th>817814</th>\n",
       "      <td>E_b7a8576db9ee44</td>\n",
       "      <td>15 Temmuz Şehitler Köprüsü</td>\n",
       "      <td>41.045322</td>\n",
       "      <td>29.034568</td>\n",
       "      <td>NaN</td>\n",
       "      <td>NaN</td>\n",
       "      <td>NaN</td>\n",
       "      <td>NaN</td>\n",
       "      <td>TR</td>\n",
       "      <td>NaN</td>\n",
       "      <td>NaN</td>\n",
       "      <td>Bridges</td>\n",
       "      <td>P_fbe61733fcdebe</td>\n",
       "    </tr>\n",
       "  </tbody>\n",
       "</table>\n",
       "</div>"
      ],
      "text/plain": [
       "                       id                                 name   latitude  \\\n",
       "1113750  E_fa600b778ee5b6  15 TEMMUZ ŞEHİRLER KÖPRÜSÜ Boğaziçi  41.053444   \n",
       "205220   E_2e0eabcf4f1fce           15 TEMMUZ ŞEHİTLER KÖPRÜSÜ  41.044080   \n",
       "1113170  E_fa3f089d94ab18           15 TEMMUZ ŞEHİTLER KÖPRÜSÜ  41.066280   \n",
       "836015   E_bbb9eece6631b4           15 Temmuz Şehitler Köprüsü  41.045662   \n",
       "817814   E_b7a8576db9ee44           15 Temmuz Şehitler Köprüsü  41.045322   \n",
       "\n",
       "         longitude                     address      city     state    zip  \\\n",
       "1113750  29.025681                         NaN       NaN       NaN    NaN   \n",
       "205220   29.035778                     ÜSKÜDAR  İSTANBUL  İstanbul  34600   \n",
       "1113170  29.109200  15 TEMMUZ ŞEHİTLER KÖPRÜSÜ  İSTANBUL  İstanbul  34830   \n",
       "836015   29.033861                         NaN  İstanbul  İstanbul    NaN   \n",
       "817814   29.034568                         NaN       NaN       NaN    NaN   \n",
       "\n",
       "        country  url phone      categories point_of_interest  \n",
       "1113750      TR  NaN   NaN  General Travel  P_fbe61733fcdebe  \n",
       "205220       TR  NaN   NaN     Toll Plazas  P_fbe61733fcdebe  \n",
       "1113170      TR  NaN   NaN       Bus Stops  P_fbe61733fcdebe  \n",
       "836015       TR  NaN   NaN         Bridges  P_fbe61733fcdebe  \n",
       "817814       TR  NaN   NaN         Bridges  P_fbe61733fcdebe  "
      ]
     },
     "execution_count": 22,
     "metadata": {},
     "output_type": "execute_result"
    }
   ],
   "source": [
    "tmp = df[df['point_of_interest']==most_freq_POI.keys().values[4]].sort_values(by='name')\n",
    "tmp.head()"
   ]
  },
  {
   "cell_type": "code",
   "execution_count": 23,
   "metadata": {},
   "outputs": [
    {
     "data": {
      "text/html": [
       "<div>\n",
       "<style scoped>\n",
       "    .dataframe tbody tr th:only-of-type {\n",
       "        vertical-align: middle;\n",
       "    }\n",
       "\n",
       "    .dataframe tbody tr th {\n",
       "        vertical-align: top;\n",
       "    }\n",
       "\n",
       "    .dataframe thead th {\n",
       "        text-align: right;\n",
       "    }\n",
       "</style>\n",
       "<table border=\"1\" class=\"dataframe\">\n",
       "  <thead>\n",
       "    <tr style=\"text-align: right;\">\n",
       "      <th></th>\n",
       "      <th>id</th>\n",
       "      <th>name</th>\n",
       "      <th>latitude</th>\n",
       "      <th>longitude</th>\n",
       "      <th>address</th>\n",
       "      <th>city</th>\n",
       "      <th>state</th>\n",
       "      <th>zip</th>\n",
       "      <th>country</th>\n",
       "      <th>url</th>\n",
       "      <th>phone</th>\n",
       "      <th>categories</th>\n",
       "      <th>point_of_interest</th>\n",
       "    </tr>\n",
       "  </thead>\n",
       "  <tbody>\n",
       "    <tr>\n",
       "      <th>439624</th>\n",
       "      <td>E_62cd73485781f1</td>\n",
       "      <td>Demir Tekel</td>\n",
       "      <td>41.041172</td>\n",
       "      <td>29.027612</td>\n",
       "      <td>Ambarli Mh. Cumhuriyet Cd No 17 A</td>\n",
       "      <td>Avcilar</td>\n",
       "      <td>Istanbul</td>\n",
       "      <td>NaN</td>\n",
       "      <td>TR</td>\n",
       "      <td>NaN</td>\n",
       "      <td>NaN</td>\n",
       "      <td>Smoke Shops, Convenience Stores</td>\n",
       "      <td>P_9290e406eb58ac</td>\n",
       "    </tr>\n",
       "    <tr>\n",
       "      <th>278777</th>\n",
       "      <td>E_3e948439e48f45</td>\n",
       "      <td>FutureIsNow@Ciftci Tekel Bayii</td>\n",
       "      <td>41.007343</td>\n",
       "      <td>28.965347</td>\n",
       "      <td>Mimar Kemalettin Mahallesi Mithatpasa Caddesi ...</td>\n",
       "      <td>Istanbul</td>\n",
       "      <td>NaN</td>\n",
       "      <td>NaN</td>\n",
       "      <td>TR</td>\n",
       "      <td>NaN</td>\n",
       "      <td>NaN</td>\n",
       "      <td>Smoke Shops</td>\n",
       "      <td>P_9290e406eb58ac</td>\n",
       "    </tr>\n",
       "    <tr>\n",
       "      <th>315654</th>\n",
       "      <td>E_46ef95847e0610</td>\n",
       "      <td>FutureIsNow@Gunes Bufe</td>\n",
       "      <td>41.009254</td>\n",
       "      <td>28.964443</td>\n",
       "      <td>Mimar Kemalettin Mahallesi Darphane Sokak No:2...</td>\n",
       "      <td>Istanbul</td>\n",
       "      <td>NaN</td>\n",
       "      <td>NaN</td>\n",
       "      <td>TR</td>\n",
       "      <td>NaN</td>\n",
       "      <td>NaN</td>\n",
       "      <td>Convenience Stores</td>\n",
       "      <td>P_9290e406eb58ac</td>\n",
       "    </tr>\n",
       "    <tr>\n",
       "      <th>793420</th>\n",
       "      <td>E_b2346f54a52976</td>\n",
       "      <td>FutureIsNow@Mini Market</td>\n",
       "      <td>41.004417</td>\n",
       "      <td>28.975771</td>\n",
       "      <td>NaN</td>\n",
       "      <td>NaN</td>\n",
       "      <td>NaN</td>\n",
       "      <td>NaN</td>\n",
       "      <td>TR</td>\n",
       "      <td>NaN</td>\n",
       "      <td>NaN</td>\n",
       "      <td>Convenience Stores</td>\n",
       "      <td>P_9290e406eb58ac</td>\n",
       "    </tr>\n",
       "    <tr>\n",
       "      <th>902887</th>\n",
       "      <td>E_cacdf23280dc06</td>\n",
       "      <td>FutureIsNow@Rut 24 Tekel</td>\n",
       "      <td>40.951267</td>\n",
       "      <td>29.098049</td>\n",
       "      <td>Bostancı Mah. Bagdat Cad. No544 Kadiköy</td>\n",
       "      <td>Istanbul</td>\n",
       "      <td>NaN</td>\n",
       "      <td>NaN</td>\n",
       "      <td>TR</td>\n",
       "      <td>NaN</td>\n",
       "      <td>NaN</td>\n",
       "      <td>Convenience Stores</td>\n",
       "      <td>P_9290e406eb58ac</td>\n",
       "    </tr>\n",
       "  </tbody>\n",
       "</table>\n",
       "</div>"
      ],
      "text/plain": [
       "                      id                            name   latitude  \\\n",
       "439624  E_62cd73485781f1                     Demir Tekel  41.041172   \n",
       "278777  E_3e948439e48f45  FutureIsNow@Ciftci Tekel Bayii  41.007343   \n",
       "315654  E_46ef95847e0610          FutureIsNow@Gunes Bufe  41.009254   \n",
       "793420  E_b2346f54a52976         FutureIsNow@Mini Market  41.004417   \n",
       "902887  E_cacdf23280dc06        FutureIsNow@Rut 24 Tekel  40.951267   \n",
       "\n",
       "        longitude                                            address  \\\n",
       "439624  29.027612                  Ambarli Mh. Cumhuriyet Cd No 17 A   \n",
       "278777  28.965347  Mimar Kemalettin Mahallesi Mithatpasa Caddesi ...   \n",
       "315654  28.964443  Mimar Kemalettin Mahallesi Darphane Sokak No:2...   \n",
       "793420  28.975771                                                NaN   \n",
       "902887  29.098049            Bostancı Mah. Bagdat Cad. No544 Kadiköy   \n",
       "\n",
       "            city     state  zip country  url phone  \\\n",
       "439624   Avcilar  Istanbul  NaN      TR  NaN   NaN   \n",
       "278777  Istanbul       NaN  NaN      TR  NaN   NaN   \n",
       "315654  Istanbul       NaN  NaN      TR  NaN   NaN   \n",
       "793420       NaN       NaN  NaN      TR  NaN   NaN   \n",
       "902887  Istanbul       NaN  NaN      TR  NaN   NaN   \n",
       "\n",
       "                             categories point_of_interest  \n",
       "439624  Smoke Shops, Convenience Stores  P_9290e406eb58ac  \n",
       "278777                      Smoke Shops  P_9290e406eb58ac  \n",
       "315654               Convenience Stores  P_9290e406eb58ac  \n",
       "793420               Convenience Stores  P_9290e406eb58ac  \n",
       "902887               Convenience Stores  P_9290e406eb58ac  "
      ]
     },
     "execution_count": 23,
     "metadata": {},
     "output_type": "execute_result"
    }
   ],
   "source": [
    "tmp = df[df['point_of_interest']==most_freq_POI.keys().values[3]].sort_values(by='name')\n",
    "tmp.head()"
   ]
  },
  {
   "cell_type": "markdown",
   "metadata": {
    "tags": [],
    "toc-hr-collapsed": true
   },
   "source": [
    "# Exploring the US data in `train.csv`"
   ]
  },
  {
   "cell_type": "code",
   "execution_count": 24,
   "metadata": {},
   "outputs": [],
   "source": [
    "df_us = df[df['country']=='US'].copy()"
   ]
  },
  {
   "cell_type": "code",
   "execution_count": 25,
   "metadata": {},
   "outputs": [
    {
     "name": "stdout",
     "output_type": "stream",
     "text": [
      "<class 'pandas.core.frame.DataFrame'>\n",
      "Int64Index: 245284 entries, 8 to 1138808\n",
      "Data columns (total 13 columns):\n",
      " #   Column             Non-Null Count   Dtype  \n",
      "---  ------             --------------   -----  \n",
      " 0   id                 245284 non-null  object \n",
      " 1   name               245283 non-null  object \n",
      " 2   latitude           245284 non-null  float64\n",
      " 3   longitude          245284 non-null  float64\n",
      " 4   address            188824 non-null  object \n",
      " 5   city               236241 non-null  object \n",
      " 6   state              239373 non-null  object \n",
      " 7   zip                213277 non-null  object \n",
      " 8   country            245284 non-null  object \n",
      " 9   url                99477 non-null   object \n",
      " 10  phone              131597 non-null  object \n",
      " 11  categories         232133 non-null  object \n",
      " 12  point_of_interest  245284 non-null  object \n",
      "dtypes: float64(2), object(11)\n",
      "memory usage: 26.2+ MB\n"
     ]
    }
   ],
   "source": [
    "df_us.info()"
   ]
  },
  {
   "cell_type": "markdown",
   "metadata": {
    "tags": []
   },
   "source": [
    "## Missing values\n",
    "- No missing values in the features: `id`, `latitude`, `longitude`, `point_of_interest`(POI)\n",
    "- All other features have missing values\n",
    "- Features with most missing values (top 3): `url`, `phone`, `address`.\n",
    "- only one missing value in `name`"
   ]
  },
  {
   "cell_type": "code",
   "execution_count": 26,
   "metadata": {},
   "outputs": [
    {
     "name": "stdout",
     "output_type": "stream",
     "text": [
      "id                    0.000000\n",
      "latitude              0.000000\n",
      "longitude             0.000000\n",
      "country               0.000000\n",
      "point_of_interest     0.000000\n",
      "name                  0.000408\n",
      "state                 2.409860\n",
      "city                  3.686747\n",
      "categories            5.361540\n",
      "zip                  13.048955\n",
      "address              23.018216\n",
      "phone                46.349130\n",
      "url                  59.444155\n",
      "dtype: float64\n"
     ]
    },
    {
     "data": {
      "image/png": "[encoded data removed]",
      "text/plain": [
       "<Figure size 576x432 with 1 Axes>"
      ]
     },
     "metadata": {
      "needs_background": "light"
     },
     "output_type": "display_data"
    }
   ],
   "source": [
    "df = df_us.copy()\n",
    "# Count the missing values in each feature\n",
    "missing = df.isna().sum()/df.shape[0]*100\n",
    "print(missing.sort_values())\n",
    "\n",
    "# Plot the percentages of missing values for each feature\n",
    "import matplotlib.ticker as mtick\n",
    "tmp = df.isna().sum().sort_values()\n",
    "fig, ax = plt.subplots(figsize=(8,6))\n",
    "\n",
    "y = tmp/len(df)*100\n",
    "ax.barh(tmp.index, y)\n",
    "ax.set_title(\"Missing values\", fontsize=18)\n",
    "# ax.axvline(x=60,color='r',linestyle='--')\n",
    "# ax.xaxis.set_major_formatter(mtick.PercentFormatter())\n",
    "ax.tick_params(axis='both', labelsize=15 )\n",
    "ax.set_ylabel('features', fontsize=18)\n",
    "ax.set_xlabel('percentages (%)', fontsize=18)\n",
    "ax.set_xlim(0,100)\n",
    "\n",
    "for index, value in enumerate(y):\n",
    "    if value < 1:\n",
    "        ax.text(value, index, '{:.6f}'.format(value), color = 'red', fontweight = 'bold')\n",
    "    else:\n",
    "        ax.text(value, index, '{:5.1f}'.format(value), color = 'red', fontweight = 'bold')\n",
    "plt.show()"
   ]
  },
  {
   "cell_type": "markdown",
   "metadata": {
    "tags": []
   },
   "source": [
    "## Features"
   ]
  },
  {
   "cell_type": "markdown",
   "metadata": {
    "tags": []
   },
   "source": [
    "### `latitude` and `longitude`"
   ]
  },
  {
   "cell_type": "code",
   "execution_count": 27,
   "metadata": {
    "id": "6NFk48mHU4xN",
    "outputId": "9d61bd58-a318-4453-86fe-3dd65cef4d67"
   },
   "outputs": [
    {
     "data": {
      "image/png": "[encoded data removed]",
      "text/plain": [
       "<Figure size 1440x864 with 1 Axes>"
      ]
     },
     "metadata": {
      "needs_background": "light"
     },
     "output_type": "display_data"
    }
   ],
   "source": [
    "# fancy plot\n",
    "geometry = [Point(xy) for xy in zip(df['longitude'], df['latitude'])]\n",
    "gdf = GeoDataFrame(df.copy(), geometry=geometry)   \n",
    "\n",
    "#this is a simple map that goes with geopandas\n",
    "world = gpd.read_file(gpd.datasets.get_path('naturalearth_lowres'))\n",
    "fig, ax = plt.subplots(figsize=(20, 12))\n",
    "world.plot(figsize=(20, 12), ax=ax)\n",
    "gdf.plot(ax=ax, marker='o', color='red', markersize=10)\n",
    "\n",
    "fig.savefig(\"./train_coords_us.png\")\n",
    "plt.show()\n",
    "\n",
    "# fig, ax = plt.subplots(figsize=(40,10))\n",
    "# ax.scatter(df_us['longitude'],df_us['latitude'])\n",
    "# ax.set_xlabel('longitude',fontsize=40)\n",
    "# ax.set_ylabel('latitude',fontsize=40)\n",
    "# ax.tick_params(axis='both', labelsize=40)\n",
    "# ax.set_title('US data',fontsize=40)\n",
    "# ax.grid()\n",
    "# plt.show()"
   ]
  },
  {
   "cell_type": "markdown",
   "metadata": {},
   "source": [
    "### `name`"
   ]
  },
  {
   "cell_type": "code",
   "execution_count": 29,
   "metadata": {},
   "outputs": [
    {
     "data": {
      "text/plain": [
       "622268                               \"#208 \\\"Comfort Inn\\\"\"\n",
       "769105                  \"Access Health Care, LLC \\\"Adams\\\"\"\n",
       "885613                 \"Access Health Care, LLC \\\"Howell\\\"\"\n",
       "779271    \"Alfredo's Beach Club's \\\"Sunsets On The Beach...\n",
       "493745                       \"AmVets Post #2 \\\"Post Home\\\"\"\n",
       "                                ...                        \n",
       "150203                                   Kaleigh's Krib\n",
       "513853                                              Heaven\n",
       "121260                                  ﻿V Bar Ultra Lounge\n",
       "474973                                   💇 Hair By CHiiNK 💋\n",
       "750648                                                  NaN\n",
       "Name: name, Length: 245284, dtype: object"
      ]
     },
     "execution_count": 29,
     "metadata": {},
     "output_type": "execute_result"
    }
   ],
   "source": [
    "tmp = df_us['name'].sort_values()\n",
    "tmp"
   ]
  },
  {
   "cell_type": "code",
   "execution_count": 28,
   "metadata": {},
   "outputs": [
    {
     "name": "stdout",
     "output_type": "stream",
     "text": [
      "711 711 "
     ]
    }
   ],
   "source": [
    "def lang_detect(x):\n",
    "    ''' language detect with exception handling '''\n",
    "    \n",
    "    try:\n",
    "        return detect(x)\n",
    "    except:\n",
    "        # print names that cause exception.\n",
    "        print(x,end=' ')\n",
    "        return np.nan\n",
    "\n",
    "tmp = df['name'].sample(10000).fillna('').str.replace('[{}]'.format(string.punctuation),'',regex=True).str.lower()\n",
    "lang_sample = tmp.apply(lang_detect)"
   ]
  },
  {
   "cell_type": "code",
   "execution_count": 30,
   "metadata": {},
   "outputs": [
    {
     "data": {
      "image/png": "[encoded data removed]",
      "text/plain": [
       "<Figure size 576x432 with 1 Axes>"
      ]
     },
     "metadata": {
      "needs_background": "light"
     },
     "output_type": "display_data"
    }
   ],
   "source": [
    "lang_stats = lang_sample.value_counts()*100/lang_sample.value_counts().sum()\n",
    "lang_stats = lang_stats.head(10).sort_values()\n",
    "\n",
    "fig, ax = plt.subplots(figsize=(8,6))\n",
    "color = [\"gray\"]*len(lang_stats.index)\n",
    "color[-1] = '#1f77b4'\n",
    "lang_stats.plot(kind = 'barh', ax = ax, color = color)\n",
    "\n",
    "ax.set_title(\"languages appearing in the name (top 10)\", fontsize = 18)\n",
    "ax.set_ylabel('language', fontsize = 18)\n",
    "ax.set_xlabel('Percentages (%)', fontsize = 18)\n",
    "for index, value in enumerate(lang_stats.values):\n",
    "    if value < 1:\n",
    "        ax.text(value, index, '{:.6f}'.format(value), color = 'red', fontweight = 'bold')\n",
    "    else:\n",
    "        ax.text(value, index, '{:5.1f}'.format(value), color = 'red', fontweight = 'bold')\n",
    "ax.set_xlim(0,50)\n",
    "plt.show()"
   ]
  },
  {
   "cell_type": "markdown",
   "metadata": {
    "tags": []
   },
   "source": [
    "### `state`\n",
    "\n",
    "- We can filter non US data by looking at the `state` feature. \n",
    "- It turns out that the state codes are not in the same format. "
   ]
  },
  {
   "cell_type": "code",
   "execution_count": 31,
   "metadata": {},
   "outputs": [
    {
     "data": {
      "text/plain": [
       "array(['CA', 'GA', 'NM', 'FL', 'PA', 'VA', 'NJ', 'OH', 'WI', 'MO', 'SC',\n",
       "       'TN', 'OR', 'AZ', 'TX', 'MD', 'NY', 'MI', 'MA', 'NC', 'UT', 'IN',\n",
       "       'IL', nan, 'Calif', 'NV', 'KS', 'MS', 'WA', 'AL', 'OK', 'AR', 'CT',\n",
       "       'KY', 'NE', 'WV', 'CO', 'HI', 'ID', 'LA', 'MN', 'MT', 'ME', 'NH',\n",
       "       'nv', 'WY', 'IA', 'DE', 'RI', 'VT', 'il', 'ND', 'AK', 'DC', 'SD',\n",
       "       'D.C.', 'Ia', 'Ohio', 'Nj', 'Georgia', 'Nc', 'de', 'New York',\n",
       "       'New Jersey', 'Ca', 'texas', 'Pa', 'Missouri', 'pa', 'Tx',\n",
       "       'Connecticut', 'Ok', 'co', 'wi', 'Va', 'Az', 'ca',\n",
       "       'North Carolina', 'Tennessee', 'Pennsylvania', 'Florida',\n",
       "       'Massachusetts', 'tx', 'Kansas', 'Ny', 'Ga', 'Virginia', 'fl',\n",
       "       'Tamaulipas', 'LOUISIANA', 'nc', 'Il', 'California', 'Ma', 'PR',\n",
       "       'wa', 'Maryland', 'ny', 'Illinois', 'District of Columbia', 'Iowa',\n",
       "       'Texas', 'CE', 'Wisconsin', 'Fl', 'mi', 'az', 'Arkansas',\n",
       "       'Capital Region of Denmark', 'Minnesota', 'Md', 'Tn',\n",
       "       'Mississippi', 'Idaho', 'Oregon', 'Mo', 'In', 'Or', 'Kentucky',\n",
       "       'Co', 'ky', 'nj', 'al', 'Alabama', 'Ky', 'Oklahoma', 'Ct', 'oh',\n",
       "       'New york', 'Nebraska', 'Indiana', 'BCN', 'Louisiana', 'Al', 'Ks',\n",
       "       'Delaware', 'Colorado', 'florida', 'Vermont', 'va', 'Arizona',\n",
       "       'Michigan', 'South Carolina', 'georgia', 'Baja California', 'mn',\n",
       "       'Me', 'in', 'ga', 'Oh', 'Washington', 'Nevada', 'Wv', 'ks',\n",
       "       'ON/NY', 'Mi', 'Mn', 'North Dakota', 'sc', 'dc', 'vt',\n",
       "       'West Virginia', 'NU', 'La', 'ohio', 'New Mexico', 'London', 'or',\n",
       "       'Sc', 'md', 'ar', 'South Dakota', 'ma', 'Nv', '国外', 'UK', 'Ri',\n",
       "       'tn', 'Wa', 'Hawaii', 'la', 'Wi', 'ct'], dtype=object)"
      ]
     },
     "execution_count": 31,
     "metadata": {},
     "output_type": "execute_result"
    }
   ],
   "source": [
    "df_us['state'].unique()"
   ]
  },
  {
   "cell_type": "code",
   "execution_count": 32,
   "metadata": {},
   "outputs": [],
   "source": [
    "# # Drop these.\n",
    "# filter_set = ['国外','UK','CE','ON/NY','Capital Region of Denmark','BCN','Tamaulipas','NU']\n",
    "# df_us[df_us['state'].isin(filter_set)]"
   ]
  },
  {
   "cell_type": "markdown",
   "metadata": {},
   "source": [
    "### `categories`"
   ]
  },
  {
   "cell_type": "code",
   "execution_count": 49,
   "metadata": {},
   "outputs": [
    {
     "data": {
      "text/plain": [
       "1060532                                                 ATMs\n",
       "464577                                                  ATMs\n",
       "549309                                                  ATMs\n",
       "450405                                                  ATMs\n",
       "630674                                                  ATMs\n",
       "                                 ...                        \n",
       "928084                        Zoos, Playgrounds, Theme Parks\n",
       "23377      Zoos, Residential Buildings (Apartments / Cond...\n",
       "509463                                     Zoos, Theme Parks\n",
       "592928               Zoos, Theme Parks, Other Great Outdoors\n",
       "1017048                                   Zoos, Zoo Exhibits\n",
       "Name: categories, Length: 232133, dtype: object"
      ]
     },
     "execution_count": 49,
     "metadata": {},
     "output_type": "execute_result"
    }
   ],
   "source": [
    "df_us.loc[df_us['categories'].notna(),'categories'].sort_values()"
   ]
  },
  {
   "cell_type": "markdown",
   "metadata": {
    "tags": []
   },
   "source": [
    "### `point_of_interest`"
   ]
  },
  {
   "cell_type": "code",
   "execution_count": 51,
   "metadata": {},
   "outputs": [
    {
     "name": "stdout",
     "output_type": "stream",
     "text": [
      "There are 160641 distinct POIs.\n",
      "Abount 65.49 %POIs are uniue\n"
     ]
    }
   ],
   "source": [
    "df = df_us.copy()\n",
    "print('There are {} distinct POIs.'.format(df.point_of_interest.nunique()))\n",
    "print('Abount {:.2f} %POIs are uniue'.format(df.point_of_interest.nunique()*100/df.point_of_interest.shape[0]))"
   ]
  },
  {
   "cell_type": "code",
   "execution_count": 52,
   "metadata": {},
   "outputs": [
    {
     "data": {
      "text/plain": [
       "P_399ab9d64f2a2e    58\n",
       "P_ce9291000a8f0b    46\n",
       "P_a3fddc2f0a77e7    37\n",
       "P_d89437d5f1169c    35\n",
       "P_5cf56bf7bdf7ae    29\n",
       "P_fff25ec89e22da    28\n",
       "P_0c880e80aaa19f    26\n",
       "P_bae8584591fe1a    26\n",
       "P_1e8e17b542e178    25\n",
       "P_4efd9da6085caf    25\n",
       "Name: point_of_interest, dtype: int64"
      ]
     },
     "execution_count": 52,
     "metadata": {},
     "output_type": "execute_result"
    }
   ],
   "source": [
    "most_freq_POI = df['point_of_interest'].value_counts().head(10)\n",
    "most_freq_POI"
   ]
  },
  {
   "cell_type": "code",
   "execution_count": 53,
   "metadata": {},
   "outputs": [
    {
     "data": {
      "text/html": [
       "<div>\n",
       "<style scoped>\n",
       "    .dataframe tbody tr th:only-of-type {\n",
       "        vertical-align: middle;\n",
       "    }\n",
       "\n",
       "    .dataframe tbody tr th {\n",
       "        vertical-align: top;\n",
       "    }\n",
       "\n",
       "    .dataframe thead th {\n",
       "        text-align: right;\n",
       "    }\n",
       "</style>\n",
       "<table border=\"1\" class=\"dataframe\">\n",
       "  <thead>\n",
       "    <tr style=\"text-align: right;\">\n",
       "      <th></th>\n",
       "      <th>id</th>\n",
       "      <th>name</th>\n",
       "      <th>latitude</th>\n",
       "      <th>longitude</th>\n",
       "      <th>address</th>\n",
       "      <th>city</th>\n",
       "      <th>state</th>\n",
       "      <th>zip</th>\n",
       "      <th>country</th>\n",
       "      <th>url</th>\n",
       "      <th>phone</th>\n",
       "      <th>categories</th>\n",
       "      <th>point_of_interest</th>\n",
       "    </tr>\n",
       "  </thead>\n",
       "  <tbody>\n",
       "    <tr>\n",
       "      <th>642307</th>\n",
       "      <td>E_90630d60677c99</td>\n",
       "      <td>Gregg Steiner - Nationwide Insurance &amp; Financi...</td>\n",
       "      <td>33.607341</td>\n",
       "      <td>-117.877248</td>\n",
       "      <td>3 Corporate Plaza Dr Ste 250</td>\n",
       "      <td>Newport Beach</td>\n",
       "      <td>CA</td>\n",
       "      <td>92660</td>\n",
       "      <td>US</td>\n",
       "      <td>http://t.co/4eDIQ4ptQn</td>\n",
       "      <td>+19492200701</td>\n",
       "      <td>Financial or Legal Services</td>\n",
       "      <td>P_399ab9d64f2a2e</td>\n",
       "    </tr>\n",
       "    <tr>\n",
       "      <th>268102</th>\n",
       "      <td>E_3c368427e1cb7d</td>\n",
       "      <td>James S Wills Agency - Nationwide Insurance</td>\n",
       "      <td>34.002130</td>\n",
       "      <td>-81.772107</td>\n",
       "      <td>100 North Main St</td>\n",
       "      <td>Saluda</td>\n",
       "      <td>SC</td>\n",
       "      <td>29138</td>\n",
       "      <td>US</td>\n",
       "      <td>http://agency.nationwide.com/agent/james-wills...</td>\n",
       "      <td>8644450011</td>\n",
       "      <td>NaN</td>\n",
       "      <td>P_399ab9d64f2a2e</td>\n",
       "    </tr>\n",
       "    <tr>\n",
       "      <th>1517</th>\n",
       "      <td>E_005b1a6f97ca7b</td>\n",
       "      <td>Nationwide Insurance</td>\n",
       "      <td>39.962014</td>\n",
       "      <td>-82.885847</td>\n",
       "      <td>583 S Yearling Rd</td>\n",
       "      <td>Columbus</td>\n",
       "      <td>OH</td>\n",
       "      <td>43213</td>\n",
       "      <td>US</td>\n",
       "      <td>http://t.co/4eDIQ4ptQn</td>\n",
       "      <td>+16145752643</td>\n",
       "      <td>Financial or Legal Services</td>\n",
       "      <td>P_399ab9d64f2a2e</td>\n",
       "    </tr>\n",
       "    <tr>\n",
       "      <th>585453</th>\n",
       "      <td>E_839a15bc569a8c</td>\n",
       "      <td>Nationwide Insurance</td>\n",
       "      <td>39.280624</td>\n",
       "      <td>-76.611005</td>\n",
       "      <td>209 Key Hwy</td>\n",
       "      <td>Baltimore</td>\n",
       "      <td>MD</td>\n",
       "      <td>21230</td>\n",
       "      <td>US</td>\n",
       "      <td>http://agency.nationwide.com/agent/lawrence-l-...</td>\n",
       "      <td>+14108376400</td>\n",
       "      <td>Financial or Legal Services</td>\n",
       "      <td>P_399ab9d64f2a2e</td>\n",
       "    </tr>\n",
       "    <tr>\n",
       "      <th>233839</th>\n",
       "      <td>E_347ba6490704f1</td>\n",
       "      <td>Nationwide Insurance</td>\n",
       "      <td>41.224360</td>\n",
       "      <td>-73.071814</td>\n",
       "      <td>333 Boston Post Rd</td>\n",
       "      <td>Milford</td>\n",
       "      <td>CT</td>\n",
       "      <td>06460</td>\n",
       "      <td>US</td>\n",
       "      <td>http://t.co/4eDIQ4ptQn</td>\n",
       "      <td>+12038789003</td>\n",
       "      <td>Financial or Legal Services</td>\n",
       "      <td>P_399ab9d64f2a2e</td>\n",
       "    </tr>\n",
       "  </tbody>\n",
       "</table>\n",
       "</div>"
      ],
      "text/plain": [
       "                      id                                               name  \\\n",
       "642307  E_90630d60677c99  Gregg Steiner - Nationwide Insurance & Financi...   \n",
       "268102  E_3c368427e1cb7d        James S Wills Agency - Nationwide Insurance   \n",
       "1517    E_005b1a6f97ca7b                               Nationwide Insurance   \n",
       "585453  E_839a15bc569a8c                               Nationwide Insurance   \n",
       "233839  E_347ba6490704f1                               Nationwide Insurance   \n",
       "\n",
       "         latitude   longitude                       address           city  \\\n",
       "642307  33.607341 -117.877248  3 Corporate Plaza Dr Ste 250  Newport Beach   \n",
       "268102  34.002130  -81.772107             100 North Main St         Saluda   \n",
       "1517    39.962014  -82.885847             583 S Yearling Rd       Columbus   \n",
       "585453  39.280624  -76.611005                   209 Key Hwy      Baltimore   \n",
       "233839  41.224360  -73.071814            333 Boston Post Rd        Milford   \n",
       "\n",
       "       state    zip country  \\\n",
       "642307    CA  92660      US   \n",
       "268102    SC  29138      US   \n",
       "1517      OH  43213      US   \n",
       "585453    MD  21230      US   \n",
       "233839    CT  06460      US   \n",
       "\n",
       "                                                      url         phone  \\\n",
       "642307                             http://t.co/4eDIQ4ptQn  +19492200701   \n",
       "268102  http://agency.nationwide.com/agent/james-wills...    8644450011   \n",
       "1517                               http://t.co/4eDIQ4ptQn  +16145752643   \n",
       "585453  http://agency.nationwide.com/agent/lawrence-l-...  +14108376400   \n",
       "233839                             http://t.co/4eDIQ4ptQn  +12038789003   \n",
       "\n",
       "                         categories point_of_interest  \n",
       "642307  Financial or Legal Services  P_399ab9d64f2a2e  \n",
       "268102                          NaN  P_399ab9d64f2a2e  \n",
       "1517    Financial or Legal Services  P_399ab9d64f2a2e  \n",
       "585453  Financial or Legal Services  P_399ab9d64f2a2e  \n",
       "233839  Financial or Legal Services  P_399ab9d64f2a2e  "
      ]
     },
     "execution_count": 53,
     "metadata": {},
     "output_type": "execute_result"
    }
   ],
   "source": [
    "tmp = df[df['point_of_interest']==most_freq_POI.keys().values[0]].sort_values(by='name')\n",
    "tmp.head()"
   ]
  },
  {
   "cell_type": "code",
   "execution_count": null,
   "metadata": {},
   "outputs": [],
   "source": [
    "tmp = df[df['point_of_interest']==most_freq_POI.keys().values[1]].sort_values(by='name')\n",
    "tmp.head()"
   ]
  },
  {
   "cell_type": "code",
   "execution_count": 54,
   "metadata": {},
   "outputs": [
    {
     "data": {
      "text/html": [
       "<div>\n",
       "<style scoped>\n",
       "    .dataframe tbody tr th:only-of-type {\n",
       "        vertical-align: middle;\n",
       "    }\n",
       "\n",
       "    .dataframe tbody tr th {\n",
       "        vertical-align: top;\n",
       "    }\n",
       "\n",
       "    .dataframe thead th {\n",
       "        text-align: right;\n",
       "    }\n",
       "</style>\n",
       "<table border=\"1\" class=\"dataframe\">\n",
       "  <thead>\n",
       "    <tr style=\"text-align: right;\">\n",
       "      <th></th>\n",
       "      <th>id</th>\n",
       "      <th>name</th>\n",
       "      <th>latitude</th>\n",
       "      <th>longitude</th>\n",
       "      <th>address</th>\n",
       "      <th>city</th>\n",
       "      <th>state</th>\n",
       "      <th>zip</th>\n",
       "      <th>country</th>\n",
       "      <th>url</th>\n",
       "      <th>phone</th>\n",
       "      <th>categories</th>\n",
       "      <th>point_of_interest</th>\n",
       "    </tr>\n",
       "  </thead>\n",
       "  <tbody>\n",
       "    <tr>\n",
       "      <th>284681</th>\n",
       "      <td>E_3fe9cc909dac86</td>\n",
       "      <td>12 hour work day = lost voice</td>\n",
       "      <td>28.473537</td>\n",
       "      <td>-81.464653</td>\n",
       "      <td>NaN</td>\n",
       "      <td>Orlando</td>\n",
       "      <td>FL</td>\n",
       "      <td>32819</td>\n",
       "      <td>US</td>\n",
       "      <td>NaN</td>\n",
       "      <td>NaN</td>\n",
       "      <td>Coworking Spaces</td>\n",
       "      <td>P_a3fddc2f0a77e7</td>\n",
       "    </tr>\n",
       "    <tr>\n",
       "      <th>544544</th>\n",
       "      <td>E_7a616daa47e92b</td>\n",
       "      <td>@ Work</td>\n",
       "      <td>28.473057</td>\n",
       "      <td>-81.272141</td>\n",
       "      <td>NaN</td>\n",
       "      <td>Orlando</td>\n",
       "      <td>FL</td>\n",
       "      <td>32829</td>\n",
       "      <td>US</td>\n",
       "      <td>NaN</td>\n",
       "      <td>NaN</td>\n",
       "      <td>Fairs</td>\n",
       "      <td>P_a3fddc2f0a77e7</td>\n",
       "    </tr>\n",
       "    <tr>\n",
       "      <th>47999</th>\n",
       "      <td>E_0abd0b3f5f7fbb</td>\n",
       "      <td>@ work</td>\n",
       "      <td>28.588776</td>\n",
       "      <td>-81.416936</td>\n",
       "      <td>Parkway Commerce Blvd.</td>\n",
       "      <td>Orlando</td>\n",
       "      <td>FL</td>\n",
       "      <td>32808</td>\n",
       "      <td>US</td>\n",
       "      <td>NaN</td>\n",
       "      <td>NaN</td>\n",
       "      <td>NaN</td>\n",
       "      <td>P_a3fddc2f0a77e7</td>\n",
       "    </tr>\n",
       "    <tr>\n",
       "      <th>666911</th>\n",
       "      <td>E_95d3f005074fc8</td>\n",
       "      <td>Heading to work!</td>\n",
       "      <td>28.484512</td>\n",
       "      <td>-81.408905</td>\n",
       "      <td>NaN</td>\n",
       "      <td>Orlando</td>\n",
       "      <td>FL</td>\n",
       "      <td>32839</td>\n",
       "      <td>US</td>\n",
       "      <td>NaN</td>\n",
       "      <td>NaN</td>\n",
       "      <td>Bowling Alleys</td>\n",
       "      <td>P_a3fddc2f0a77e7</td>\n",
       "    </tr>\n",
       "    <tr>\n",
       "      <th>302839</th>\n",
       "      <td>E_4400f8dd22b9bf</td>\n",
       "      <td>Hell Aka Work</td>\n",
       "      <td>28.798779</td>\n",
       "      <td>-81.296295</td>\n",
       "      <td>132 commerce way</td>\n",
       "      <td>Sanford</td>\n",
       "      <td>FL</td>\n",
       "      <td>NaN</td>\n",
       "      <td>US</td>\n",
       "      <td>NaN</td>\n",
       "      <td>NaN</td>\n",
       "      <td>Tech Startups</td>\n",
       "      <td>P_a3fddc2f0a77e7</td>\n",
       "    </tr>\n",
       "  </tbody>\n",
       "</table>\n",
       "</div>"
      ],
      "text/plain": [
       "                      id                           name   latitude  longitude  \\\n",
       "284681  E_3fe9cc909dac86  12 hour work day = lost voice  28.473537 -81.464653   \n",
       "544544  E_7a616daa47e92b                         @ Work  28.473057 -81.272141   \n",
       "47999   E_0abd0b3f5f7fbb                         @ work  28.588776 -81.416936   \n",
       "666911  E_95d3f005074fc8               Heading to work!  28.484512 -81.408905   \n",
       "302839  E_4400f8dd22b9bf                  Hell Aka Work  28.798779 -81.296295   \n",
       "\n",
       "                       address     city state    zip country  url phone  \\\n",
       "284681                     NaN  Orlando    FL  32819      US  NaN   NaN   \n",
       "544544                     NaN  Orlando    FL  32829      US  NaN   NaN   \n",
       "47999   Parkway Commerce Blvd.  Orlando    FL  32808      US  NaN   NaN   \n",
       "666911                     NaN  Orlando    FL  32839      US  NaN   NaN   \n",
       "302839        132 commerce way  Sanford    FL    NaN      US  NaN   NaN   \n",
       "\n",
       "              categories point_of_interest  \n",
       "284681  Coworking Spaces  P_a3fddc2f0a77e7  \n",
       "544544             Fairs  P_a3fddc2f0a77e7  \n",
       "47999                NaN  P_a3fddc2f0a77e7  \n",
       "666911    Bowling Alleys  P_a3fddc2f0a77e7  \n",
       "302839     Tech Startups  P_a3fddc2f0a77e7  "
      ]
     },
     "execution_count": 54,
     "metadata": {},
     "output_type": "execute_result"
    }
   ],
   "source": [
    "tmp = df[df['point_of_interest']==most_freq_POI.keys().values[2]].sort_values(by='name')\n",
    "tmp.head()"
   ]
  },
  {
   "cell_type": "markdown",
   "metadata": {
    "id": "T6_CxSi5U4xN",
    "tags": []
   },
   "source": [
    "# Exploring and Manipulating `pairs.csv`\n",
    "\n",
    "Official description of the data:\n",
    "\n",
    "`pairs.csv` - A pregenerated set of pairs of place entries from train.csv designed to improve detection of matches. You may wish to generate additional pairs to improve your model's ability to discriminate POIs.\n",
    "        \n",
    "`match` - Whether (True or False) the pair of entries describes a common POI (in `train.csv`).\n",
    "\n",
    "The file `pairs.csv` is a subset of pairs from `train.csv`. The value of `match` is \"True\" if an only if the pair has the same `point_of_interest` (POI) value in `train.csv`. We will focus on the US pairs. \n"
   ]
  },
  {
   "cell_type": "markdown",
   "metadata": {
    "id": "CkQkT7NvU4xN"
   },
   "source": [
    "## Basic information"
   ]
  },
  {
   "cell_type": "code",
   "execution_count": 55,
   "metadata": {
    "id": "U3nKi21PU4xN"
   },
   "outputs": [],
   "source": [
    "# # Tim loading\n",
    "# df_pairs = pd.read_csv(r'C:\\Users\\gorma\\OneDrive\\Documents\\Erdos\\foursquare-location-matching\\data_raw\\pairs.csv')\n",
    "# Yu loading\n",
    "df_pairs = pd.read_csv('../data_raw/pairs.csv')"
   ]
  },
  {
   "cell_type": "code",
   "execution_count": 56,
   "metadata": {
    "id": "Qo_BdR09U4xO",
    "outputId": "8aeb2c42-d1d2-4ef6-d6c7-8c4bd2d2d96e",
    "tags": []
   },
   "outputs": [
    {
     "data": {
      "text/html": [
       "<div>\n",
       "<style scoped>\n",
       "    .dataframe tbody tr th:only-of-type {\n",
       "        vertical-align: middle;\n",
       "    }\n",
       "\n",
       "    .dataframe tbody tr th {\n",
       "        vertical-align: top;\n",
       "    }\n",
       "\n",
       "    .dataframe thead th {\n",
       "        text-align: right;\n",
       "    }\n",
       "</style>\n",
       "<table border=\"1\" class=\"dataframe\">\n",
       "  <thead>\n",
       "    <tr style=\"text-align: right;\">\n",
       "      <th></th>\n",
       "      <th>id_1</th>\n",
       "      <th>name_1</th>\n",
       "      <th>latitude_1</th>\n",
       "      <th>longitude_1</th>\n",
       "      <th>address_1</th>\n",
       "      <th>city_1</th>\n",
       "      <th>state_1</th>\n",
       "      <th>zip_1</th>\n",
       "      <th>country_1</th>\n",
       "      <th>url_1</th>\n",
       "      <th>...</th>\n",
       "      <th>longitude_2</th>\n",
       "      <th>address_2</th>\n",
       "      <th>city_2</th>\n",
       "      <th>state_2</th>\n",
       "      <th>zip_2</th>\n",
       "      <th>country_2</th>\n",
       "      <th>url_2</th>\n",
       "      <th>phone_2</th>\n",
       "      <th>categories_2</th>\n",
       "      <th>match</th>\n",
       "    </tr>\n",
       "  </thead>\n",
       "  <tbody>\n",
       "    <tr>\n",
       "      <th>0</th>\n",
       "      <td>E_000001272c6c5d</td>\n",
       "      <td>Café Stad Oudenaarde</td>\n",
       "      <td>50.859975</td>\n",
       "      <td>3.634196</td>\n",
       "      <td>Abdijstraat</td>\n",
       "      <td>Nederename</td>\n",
       "      <td>Oost-Vlaanderen</td>\n",
       "      <td>9700</td>\n",
       "      <td>BE</td>\n",
       "      <td>NaN</td>\n",
       "      <td>...</td>\n",
       "      <td>3.635206</td>\n",
       "      <td>NaN</td>\n",
       "      <td>NaN</td>\n",
       "      <td>NaN</td>\n",
       "      <td>NaN</td>\n",
       "      <td>BE</td>\n",
       "      <td>NaN</td>\n",
       "      <td>NaN</td>\n",
       "      <td>Bars</td>\n",
       "      <td>True</td>\n",
       "    </tr>\n",
       "    <tr>\n",
       "      <th>1</th>\n",
       "      <td>E_000008a8ba4f48</td>\n",
       "      <td>Turkcell</td>\n",
       "      <td>37.844510</td>\n",
       "      <td>27.844202</td>\n",
       "      <td>Adnan Menderes Bulvarı</td>\n",
       "      <td>NaN</td>\n",
       "      <td>NaN</td>\n",
       "      <td>NaN</td>\n",
       "      <td>TR</td>\n",
       "      <td>NaN</td>\n",
       "      <td>...</td>\n",
       "      <td>27.845560</td>\n",
       "      <td>batı aydın</td>\n",
       "      <td>aydın</td>\n",
       "      <td>NaN</td>\n",
       "      <td>67500</td>\n",
       "      <td>TR</td>\n",
       "      <td>NaN</td>\n",
       "      <td>NaN</td>\n",
       "      <td>Electronics Stores</td>\n",
       "      <td>False</td>\n",
       "    </tr>\n",
       "    <tr>\n",
       "      <th>2</th>\n",
       "      <td>E_000023d8f4be44</td>\n",
       "      <td>Island Spa</td>\n",
       "      <td>14.518970</td>\n",
       "      <td>121.018702</td>\n",
       "      <td>5th Flr, Newport Mall, Resorts World Manila</td>\n",
       "      <td>Pasay City</td>\n",
       "      <td>Metro Manila</td>\n",
       "      <td>NaN</td>\n",
       "      <td>PH</td>\n",
       "      <td>NaN</td>\n",
       "      <td>...</td>\n",
       "      <td>121.019827</td>\n",
       "      <td>NaN</td>\n",
       "      <td>NaN</td>\n",
       "      <td>NaN</td>\n",
       "      <td>NaN</td>\n",
       "      <td>PH</td>\n",
       "      <td>NaN</td>\n",
       "      <td>NaN</td>\n",
       "      <td>Spas</td>\n",
       "      <td>True</td>\n",
       "    </tr>\n",
       "    <tr>\n",
       "      <th>3</th>\n",
       "      <td>E_00007dcd2bb53f</td>\n",
       "      <td>TOGO'S Sandwiches</td>\n",
       "      <td>38.257797</td>\n",
       "      <td>-122.064599</td>\n",
       "      <td>1380 Holiday Ln., Ste. B</td>\n",
       "      <td>Fairfield</td>\n",
       "      <td>CA</td>\n",
       "      <td>94534</td>\n",
       "      <td>US</td>\n",
       "      <td>https://locations.togos.com/ll/US/CA/Fairfield...</td>\n",
       "      <td>...</td>\n",
       "      <td>-122.064606</td>\n",
       "      <td>NaN</td>\n",
       "      <td>Fairfield</td>\n",
       "      <td>CA</td>\n",
       "      <td>NaN</td>\n",
       "      <td>US</td>\n",
       "      <td>NaN</td>\n",
       "      <td>NaN</td>\n",
       "      <td>Sandwich Places</td>\n",
       "      <td>True</td>\n",
       "    </tr>\n",
       "    <tr>\n",
       "      <th>4</th>\n",
       "      <td>E_0000c362229d93</td>\n",
       "      <td>Coffee Cat</td>\n",
       "      <td>7.082218</td>\n",
       "      <td>125.610244</td>\n",
       "      <td>F. Torres St.</td>\n",
       "      <td>Davao City</td>\n",
       "      <td>Davao Region</td>\n",
       "      <td>8000</td>\n",
       "      <td>PH</td>\n",
       "      <td>NaN</td>\n",
       "      <td>...</td>\n",
       "      <td>125.611457</td>\n",
       "      <td>E. Jacinto Extension</td>\n",
       "      <td>Davao City</td>\n",
       "      <td>Davao Region</td>\n",
       "      <td>8000</td>\n",
       "      <td>PH</td>\n",
       "      <td>NaN</td>\n",
       "      <td>NaN</td>\n",
       "      <td>Coffee Shops, Cafés, Dessert Shops</td>\n",
       "      <td>False</td>\n",
       "    </tr>\n",
       "  </tbody>\n",
       "</table>\n",
       "<p>5 rows × 25 columns</p>\n",
       "</div>"
      ],
      "text/plain": [
       "               id_1                name_1  latitude_1  longitude_1  \\\n",
       "0  E_000001272c6c5d  Café Stad Oudenaarde   50.859975     3.634196   \n",
       "1  E_000008a8ba4f48              Turkcell   37.844510    27.844202   \n",
       "2  E_000023d8f4be44            Island Spa   14.518970   121.018702   \n",
       "3  E_00007dcd2bb53f     TOGO'S Sandwiches   38.257797  -122.064599   \n",
       "4  E_0000c362229d93            Coffee Cat    7.082218   125.610244   \n",
       "\n",
       "                                     address_1      city_1          state_1  \\\n",
       "0                                  Abdijstraat  Nederename  Oost-Vlaanderen   \n",
       "1                       Adnan Menderes Bulvarı         NaN              NaN   \n",
       "2  5th Flr, Newport Mall, Resorts World Manila  Pasay City     Metro Manila   \n",
       "3                     1380 Holiday Ln., Ste. B   Fairfield               CA   \n",
       "4                                F. Torres St.  Davao City     Davao Region   \n",
       "\n",
       "   zip_1 country_1                                              url_1  ...  \\\n",
       "0   9700        BE                                                NaN  ...   \n",
       "1    NaN        TR                                                NaN  ...   \n",
       "2    NaN        PH                                                NaN  ...   \n",
       "3  94534        US  https://locations.togos.com/ll/US/CA/Fairfield...  ...   \n",
       "4   8000        PH                                                NaN  ...   \n",
       "\n",
       "  longitude_2             address_2      city_2       state_2  zip_2  \\\n",
       "0    3.635206                   NaN         NaN           NaN    NaN   \n",
       "1   27.845560            batı aydın       aydın           NaN  67500   \n",
       "2  121.019827                   NaN         NaN           NaN    NaN   \n",
       "3 -122.064606                   NaN   Fairfield            CA    NaN   \n",
       "4  125.611457  E. Jacinto Extension  Davao City  Davao Region   8000   \n",
       "\n",
       "   country_2 url_2 phone_2                        categories_2  match  \n",
       "0         BE   NaN     NaN                                Bars   True  \n",
       "1         TR   NaN     NaN                  Electronics Stores  False  \n",
       "2         PH   NaN     NaN                                Spas   True  \n",
       "3         US   NaN     NaN                     Sandwich Places   True  \n",
       "4         PH   NaN     NaN  Coffee Shops, Cafés, Dessert Shops  False  \n",
       "\n",
       "[5 rows x 25 columns]"
      ]
     },
     "execution_count": 56,
     "metadata": {},
     "output_type": "execute_result"
    }
   ],
   "source": [
    "df_pairs.head()"
   ]
  },
  {
   "cell_type": "code",
   "execution_count": 64,
   "metadata": {},
   "outputs": [
    {
     "name": "stdout",
     "output_type": "stream",
     "text": [
      "There are 578907 pairs\n",
      "There are 464765 unique id_1s\n",
      "There are 565512 unique id_2s\n"
     ]
    }
   ],
   "source": [
    "print('There are {} pairs'.format(df_pairs.shape[0]))\n",
    "print('There are {} unique id_1s'.format(df_pairs.id_1.nunique()))\n",
    "print('There are {} unique id_2s'.format(df_pairs.id_2.nunique()))\n"
   ]
  },
  {
   "cell_type": "code",
   "execution_count": 65,
   "metadata": {
    "colab": {
     "base_uri": "https://localhost:8080/"
    },
    "id": "QJMYK5X9gnKz",
    "outputId": "39ce778c-1e89-4d5c-e052-c3ae8ffda39a",
    "tags": []
   },
   "outputs": [
    {
     "name": "stdout",
     "output_type": "stream",
     "text": [
      "<class 'pandas.core.frame.DataFrame'>\n",
      "RangeIndex: 578907 entries, 0 to 578906\n",
      "Data columns (total 25 columns):\n",
      " #   Column        Non-Null Count   Dtype  \n",
      "---  ------        --------------   -----  \n",
      " 0   id_1          578907 non-null  object \n",
      " 1   name_1        578907 non-null  object \n",
      " 2   latitude_1    578907 non-null  float64\n",
      " 3   longitude_1   578907 non-null  float64\n",
      " 4   address_1     475383 non-null  object \n",
      " 5   city_1        512928 non-null  object \n",
      " 6   state_1       452316 non-null  object \n",
      " 7   zip_1         359509 non-null  object \n",
      " 8   country_1     578899 non-null  object \n",
      " 9   url_1         231806 non-null  object \n",
      " 10  phone_1       270022 non-null  object \n",
      " 11  categories_1  562613 non-null  object \n",
      " 12  id_2          578907 non-null  object \n",
      " 13  name_2        578907 non-null  object \n",
      " 14  latitude_2    578907 non-null  float64\n",
      " 15  longitude_2   578907 non-null  float64\n",
      " 16  address_2     312497 non-null  object \n",
      " 17  city_2        367490 non-null  object \n",
      " 18  state_2       309689 non-null  object \n",
      " 19  zip_2         224827 non-null  object \n",
      " 20  country_2     578901 non-null  object \n",
      " 21  url_2         84850 non-null   object \n",
      " 22  phone_2       118963 non-null  object \n",
      " 23  categories_2  502931 non-null  object \n",
      " 24  match         578907 non-null  bool   \n",
      "dtypes: bool(1), float64(4), object(20)\n",
      "memory usage: 106.6+ MB\n"
     ]
    }
   ],
   "source": [
    "df_pairs.info()"
   ]
  },
  {
   "cell_type": "markdown",
   "metadata": {
    "id": "xDBWCz6BjabY"
   },
   "source": [
    "## Feature analysis\n",
    "\n",
    "---\n",
    "\n",
    "The available pairs of features from `train.csv` include\n",
    "\n",
    "```\n",
    "'name', 'latitude', 'longitude', 'address', 'city', 'state',\n",
    "       'zip', 'country', 'url', 'phone', 'categories'\n",
    "```"
   ]
  },
  {
   "cell_type": "code",
   "execution_count": null,
   "metadata": {},
   "outputs": [],
   "source": [
    "df_pairs.columns"
   ]
  },
  {
   "cell_type": "markdown",
   "metadata": {},
   "source": [
    "### True vs False in the `match` feature"
   ]
  },
  {
   "cell_type": "code",
   "execution_count": null,
   "metadata": {},
   "outputs": [],
   "source": [
    "df_pairs.groupby('match')['match'].count()"
   ]
  },
  {
   "cell_type": "markdown",
   "metadata": {},
   "source": [
    "# Calculating Location Diff"
   ]
  },
  {
   "cell_type": "markdown",
   "metadata": {
    "id": "3ROFAHSvjp2i"
   },
   "source": [
    "### latitude and longitude\n",
    "\n",
    "\n",
    "---\n",
    "We compute the difference for (latitude, longitude) of each pair in `pairs.csv`. It turns out \n",
    "  * locations with close (difference less than 0.001) can have have different POIs: stores are next to each other in a shopping center. In some extreme cases, places with identical coordinates can have different POI. For example, one classroom can be located vertically on top of another.  \n",
    "  * conversely, locations physically far can represent the same POI, such as mountains."
   ]
  },
  {
   "cell_type": "code",
   "execution_count": null,
   "metadata": {
    "colab": {
     "base_uri": "https://localhost:8080/"
    },
    "id": "2kmvhtodjsOt",
    "outputId": "09ae32d6-30e2-4234-8f08-7d9cc2ef2602"
   },
   "outputs": [],
   "source": [
    "# Compute the L^\\infty difference of (latitude, longitude) of each pair in df_pairs.csv\n",
    "df_pairs['location_diff'] = pd.concat([(df_pairs['latitude_1']-df_pairs['latitude_2']).abs(), \n",
    "                                       (df_pairs['longitude_1']-df_pairs['longitude_2']).abs()], axis=1).max(axis=1)\n",
    "\n",
    "df_pairs.location_diff.describe()"
   ]
  },
  {
   "cell_type": "code",
   "execution_count": null,
   "metadata": {
    "colab": {
     "base_uri": "https://localhost:8080/",
     "height": 279
    },
    "id": "GjRGIvBCjtr1",
    "outputId": "146ddf84-5690-48a8-cd90-de7565ded4ed"
   },
   "outputs": [],
   "source": [
    "fig, ax = plt.subplots(figsize = (8,6))\n",
    "sns.stripplot(x=\"match\", y=\"location_diff\", data=df_pairs.loc[df_pairs.location_diff<0.001], ax=ax)\n",
    "ax.set_ylabel(r\"location difference\", fontsize=18)\n",
    "ax.set_xlabel(\"match\", fontsize=18)\n",
    "ax.tick_params(labelsize=14)\n",
    "plt.show()"
   ]
  },
  {
   "cell_type": "code",
   "execution_count": null,
   "metadata": {
    "colab": {
     "base_uri": "https://localhost:8080/",
     "height": 279
    },
    "id": "lE2QZGghjvZT",
    "outputId": "e4e2b54a-dafd-40a1-9c01-e136ee9c4700"
   },
   "outputs": [],
   "source": [
    "fig, ax = plt.subplots(figsize = (8,6))\n",
    "sns.stripplot(x=\"match\", y=\"location_diff\", data=df_pairs.loc[df_pairs.location_diff==0],ax=ax)\n",
    "ax.set_ylabel(r\"location difference\", fontsize=18)\n",
    "ax.set_xlabel(\"match\", fontsize=18)\n",
    "ax.tick_params(labelsize=14)\n",
    "plt.show()"
   ]
  },
  {
   "cell_type": "code",
   "execution_count": null,
   "metadata": {
    "colab": {
     "base_uri": "https://localhost:8080/"
    },
    "id": "uLGuEQP1jwnH",
    "outputId": "24cdda0f-21ec-45bb-f54b-9e184a7cd299"
   },
   "outputs": [],
   "source": [
    "print('There are',len(df_pairs.loc[(df_pairs.location_diff==0) & (df_pairs.match==False)]),\n",
    "      'df_pairs with location_diff=0 but different POIs, out of all',len(df_pairs),'df_pairs.')"
   ]
  },
  {
   "cell_type": "markdown",
   "metadata": {
    "id": "xeKcOoJMjxm1"
   },
   "source": [
    "### name\n",
    "\n",
    "  * There are some true pairs with slightly different names, e.g. short name v.s. full name.\n",
    "  * Conversely, there are false pairs with the same name, e.g. chain stores in different cities."
   ]
  },
  {
   "cell_type": "code",
   "execution_count": null,
   "metadata": {
    "colab": {
     "base_uri": "https://localhost:8080/"
    },
    "id": "Kk68YMgWj0tW",
    "outputId": "6f6ccd40-74e3-40a9-fb1e-47d6e2a1535a"
   },
   "outputs": [],
   "source": [
    "df_pairs.loc[df_pairs.match==True].values[0]"
   ]
  },
  {
   "cell_type": "code",
   "execution_count": null,
   "metadata": {
    "colab": {
     "base_uri": "https://localhost:8080/"
    },
    "id": "NSb8fX7oj5Im",
    "outputId": "2451d545-66b6-40cb-e453-b24e264f1331"
   },
   "outputs": [],
   "source": [
    "df_pairs.loc[(df_pairs.name_1==df_pairs.name_2)&(df_pairs.name_1==\"McDonald's\")&(df_pairs.match==True)].values[0]"
   ]
  },
  {
   "cell_type": "markdown",
   "metadata": {
    "id": "5E1AxwtXkbOO",
    "tags": [],
    "toc-hr-collapsed": true
   },
   "source": [
    "## Comparing string features\n",
    "\n",
    "Most columns in this data are strings. We consider different metrics for string comparison letter by letter, including:\n",
    "\n",
    "*   `SequenceMatcher`\n",
    "*   `Levenshtein distance`\n",
    "\n",
    "or word by word using a `CountVectorizer` and `cosine_similarity`\n",
    "\n",
    "If one value of a pair of features is missing, we set the distance to be -1.\n",
    "\n"
   ]
  },
  {
   "cell_type": "code",
   "execution_count": null,
   "metadata": {
    "id": "C-0Kfscskd0R"
   },
   "outputs": [],
   "source": [
    "from difflib import SequenceMatcher\n",
    "import math\n",
    "# Reference: https://stackoverflow.com/questions/43916271/python-pandas-sequencematch-columns-for-each-value-and-return-closet-match\n",
    "\n",
    "def seq_metric(df, col1, col2):\n",
    "    a = df[col1]\n",
    "    b = df[col2]\n",
    "    \n",
    "    if type(a)!=str or type(b)!=str:\n",
    "        return -1\n",
    "    else:\n",
    "        a = a.lower().replace(\" \", \"\").replace(\"'\", \"\")\n",
    "        b = b.lower().replace(\" \", \"\").replace(\"'\", \"\")\n",
    "        \n",
    "    return 1-SequenceMatcher(None, a, b).ratio()"
   ]
  },
  {
   "cell_type": "code",
   "execution_count": null,
   "metadata": {
    "id": "CPLr87wlkfi6"
   },
   "outputs": [],
   "source": [
    "# !pip install python-Levenshtein\n",
    "\n",
    "from Levenshtein import distance as lev\n",
    "def lev_metric(df, col1, col2):\n",
    "    a = df[col1]\n",
    "    b = df[col2]\n",
    "    \n",
    "    if type(a)!=str or type(b)!=str:\n",
    "        return -1\n",
    "    else:\n",
    "        a = a.lower().replace(\" \", \"\").replace(\"'\", \"\")\n",
    "        b = b.lower().replace(\" \", \"\").replace(\"'\", \"\")\n",
    "    #if a in b or b in a: \n",
    "    #    return 0\n",
    "    return lev(a,b)/max(len(a),len(b))"
   ]
  },
  {
   "cell_type": "code",
   "execution_count": null,
   "metadata": {
    "id": "uxB-SVLokjNt"
   },
   "outputs": [],
   "source": [
    "from sklearn.feature_extraction.text import CountVectorizer\n",
    "from sklearn.metrics.pairwise import cosine_similarity\n",
    "\n",
    "def countvec_metric(df, col1, col2):\n",
    "    a = df[col1]\n",
    "    b = df[col2]\n",
    "    if type(a)!=str or type(b)!=str:\n",
    "        return -1\n",
    "    else:\n",
    "        a = a.lower().replace(\"'\", \"\")\n",
    "        b = b.lower().replace(\"'\", \"\")\n",
    "    return cosine_similarity(CountVectorizer().fit_transform([a,b]).toarray())[0][1]"
   ]
  },
  {
   "cell_type": "code",
   "execution_count": null,
   "metadata": {
    "id": "jIKO8FP7km5t"
   },
   "outputs": [],
   "source": [
    "# The following function allows us to apply different metric on the columns of pairs.csv to generate distance between features.\n",
    "def compute_diffs(df, cols, string_metric):\n",
    "    df_copy = df\n",
    "    for col in cols:\n",
    "        df_copy[col+'_diff'] = df.apply(string_metric,\n",
    "                          args=(col+'_1', col+'_2'),\n",
    "                          axis=1)\n",
    "    return df_copy[ ['id_1','id_2','match']+['location_diff']+ [col+'_diff' for col in cols] ]"
   ]
  },
  {
   "cell_type": "markdown",
   "metadata": {
    "id": "CMVHl-9PkpRK"
   },
   "source": [
    "We now construct the new dataframe with the selected feactures and chosen methods to compute a metric between the features."
   ]
  },
  {
   "cell_type": "code",
   "execution_count": null,
   "metadata": {
    "id": "OSyQwzRWk8Qy"
   },
   "outputs": [],
   "source": [
    "# Using SequenceMatcher\n",
    "\n",
    "columns = ['name', 'address', 'city', 'state',\n",
    "       'zip', 'url', 'phone', 'categories']\n",
    "       \n",
    "df_pairs_seq = compute_diffs(df_pairs, columns, seq_metric)"
   ]
  },
  {
   "cell_type": "code",
   "execution_count": null,
   "metadata": {
    "id": "H6HnWh59k90t"
   },
   "outputs": [],
   "source": [
    "# Using Levenshtein distance\n",
    "\n",
    "columns = ['name', 'address', 'city', 'state',\n",
    "       'zip', 'url', 'phone', 'categories']\n",
    "       \n",
    "df_pairs_lev = compute_diffs(df_pairs, columns, lev_metric)"
   ]
  },
  {
   "cell_type": "code",
   "execution_count": null,
   "metadata": {
    "colab": {
     "base_uri": "https://localhost:8080/",
     "height": 360
    },
    "id": "91MkfhY1roaU",
    "outputId": "0fc0cd33-0899-4877-cf9e-921fb30cb239"
   },
   "outputs": [],
   "source": [
    "# Using CountVectorizer\n",
    "\n",
    "columns = ['name']#, 'address', 'city', 'state', 'zip', 'url', 'phone', 'categories']\n",
    "       \n",
    "df_pairs_count = compute_diffs(df_pairs, columns, countvec_metric)"
   ]
  },
  {
   "cell_type": "markdown",
   "metadata": {
    "id": "i9qZD8FolBSA"
   },
   "source": [
    "## Histogram"
   ]
  },
  {
   "cell_type": "code",
   "execution_count": null,
   "metadata": {
    "colab": {
     "base_uri": "https://localhost:8080/",
     "height": 1000
    },
    "id": "Q75uUWwAlDei",
    "outputId": "a8ce487e-35f2-4b01-e086-aec837fcf8ed"
   },
   "outputs": [],
   "source": [
    "## histograms for SequenceMatcher\n",
    "\n",
    "columns = ['location_diff','name_diff','address_diff','city_diff','zip_diff','url_diff', 'phone_diff', 'categories_diff']\n",
    "\n",
    "for i in range(len(columns)):\n",
    "    column=columns[i]\n",
    "    plt.hist(df_pairs_seq.loc[(df_pairs_seq.match==True)&(df_pairs_seq.location_diff<1), column], color='b', label=\"True\")\n",
    "    plt.hist(df_pairs_seq.loc[(df_pairs_seq.match==False)&(df_pairs_seq.location_diff<1), column], color='r', label=\"False\")\n",
    "    plt.legend(fontsize=14)\n",
    "    plt.title(column,fontsize=16)\n",
    "    plt.show()"
   ]
  },
  {
   "cell_type": "code",
   "execution_count": null,
   "metadata": {
    "colab": {
     "base_uri": "https://localhost:8080/",
     "height": 1000
    },
    "id": "PSpEqV7vlEoU",
    "outputId": "2260bc74-c229-4713-850d-e7324ed240ff"
   },
   "outputs": [],
   "source": [
    "# Histogram for Levenshtein distance\n",
    "\n",
    "columns = ['location_diff','name_diff','address_diff','city_diff','zip_diff','url_diff', 'phone_diff', 'categories_diff']\n",
    "\n",
    "for i in range(len(columns)):\n",
    "    column=columns[i]\n",
    "    plt.hist(df_pairs_lev.loc[(df_pairs_lev.match==True)&(df_pairs_lev.location_diff<1), column], color='b', label=\"True\")\n",
    "    plt.hist(df_pairs_lev.loc[(df_pairs_lev.match==False)&(df_pairs_lev.location_diff<1), column], color='r', label=\"False\")\n",
    "    plt.legend(fontsize=14)\n",
    "    plt.title(column,fontsize=16)\n",
    "    plt.show()"
   ]
  },
  {
   "cell_type": "markdown",
   "metadata": {
    "id": "rAyRT6N5U4xU"
   },
   "source": [
    "### Tim Prep for Cosine Similarities: Filling NAs and  Making Combined Full Addresses"
   ]
  },
  {
   "cell_type": "code",
   "execution_count": null,
   "metadata": {
    "id": "iyE4moKJU4xU"
   },
   "outputs": [],
   "source": [
    "df_pairs['categories_1']   = df_pairs['categories_1'].fillna('')\n",
    "df_pairs['categories_2']   = df_pairs['categories_2'].fillna('')\n",
    "df_pairs['full_address_1'] = df_pairs['address_1'].fillna('') + ' ' + df_pairs['city_1'].fillna('') + ' ' + df_pairs['state_1'].fillna('') + ' ' + df_pairs['zip_1'].fillna('')  + ' ' + df_pairs['country_1'].fillna('')"
   ]
  },
  {
   "cell_type": "code",
   "execution_count": null,
   "metadata": {
    "id": "QaQaD1SLU4xU"
   },
   "outputs": [],
   "source": [
    "df_pairs['full_address_1'] = df_pairs['address_1'].fillna('') + ' ' + df_pairs['city_1'].fillna('') + ' ' + df_pairs['state_1'].fillna('') + ' ' + df_pairs['zip_1'].fillna('')  + ' ' + df_pairs['country_1'].fillna('')\n",
    "df_pairs['full_address_2'] = df_pairs['address_2'].fillna('') + ' ' + df_pairs['city_2'].fillna('') + ' ' + df_pairs['state_2'].fillna('') + ' ' + df_pairs['zip_2'].fillna('')  + ' ' + df_pairs['country_2'].fillna('')"
   ]
  },
  {
   "cell_type": "markdown",
   "metadata": {
    "id": "V7FTSOWtU4xU"
   },
   "source": [
    "### Reducing to only columns that seems useful. (Mostly based on shear amount of nans)"
   ]
  },
  {
   "cell_type": "code",
   "execution_count": null,
   "metadata": {
    "id": "rfrQhgJEU4xU"
   },
   "outputs": [],
   "source": [
    "column_list = ['id_1','name_1', 'latitude_1', 'longitude_1', 'country_1', 'full_address_1', 'categories_1', 'id_2','name_2', 'latitude_2', 'longitude_2', 'country_2', 'full_address_2', 'categories_2', 'match']"
   ]
  },
  {
   "cell_type": "code",
   "execution_count": null,
   "metadata": {
    "id": "6W8TYd17U4xU"
   },
   "outputs": [],
   "source": [
    "pairs_reduced = df_pairs[column_list]"
   ]
  },
  {
   "cell_type": "code",
   "execution_count": null,
   "metadata": {
    "id": "9U6kXpEmU4xU",
    "outputId": "5e0b79b6-2358-4dd6-fc0a-20ec4d50acf5"
   },
   "outputs": [],
   "source": [
    "pairs_reduced.head()"
   ]
  },
  {
   "cell_type": "code",
   "execution_count": null,
   "metadata": {
    "id": "DR57jTIKU4xU",
    "outputId": "1e34fabf-7b3a-4c60-a88b-d8b3adac4ec6"
   },
   "outputs": [],
   "source": [
    "pairs_reduced.info()"
   ]
  },
  {
   "cell_type": "markdown",
   "metadata": {
    "id": "YfAyUUY8U4xU"
   },
   "source": [
    "### Calculating angular difference of latitude and longitude"
   ]
  },
  {
   "cell_type": "code",
   "execution_count": null,
   "metadata": {
    "id": "hi4CDENPU4xV",
    "outputId": "e4cb56bd-4704-4431-bfcc-1588b3dd7aac"
   },
   "outputs": [],
   "source": [
    "pairs_reduced['theta_diff'] = np.abs(np.arctan(np.sqrt(\n",
    "    (np.cos(np.radians(pairs_reduced['latitude_2']))*np.sin(np.radians(pairs_reduced['longitude_1']-pairs_reduced['longitude_2'])))**2 +\n",
    "        (np.cos(np.radians(pairs_reduced['latitude_1']))*np.sin(np.radians(pairs_reduced['latitude_2']))-\n",
    "            np.sin(np.radians(pairs_reduced['latitude_1']))*np.cos(np.radians(pairs_reduced['latitude_2']))*np.cos(np.radians(pairs_reduced['longitude_1']-pairs_reduced['longitude_2'])))**2\n",
    "                                                )/\n",
    "    (np.sin(np.radians(pairs_reduced['latitude_1']))*np.sin(np.radians(pairs_reduced['latitude_2']))+\n",
    "        np.cos(np.radians(pairs_reduced['latitude_1']))*np.cos(np.radians(pairs_reduced['latitude_2']))*np.cos(np.radians(pairs_reduced['longitude_1']-pairs_reduced['longitude_2']))\n",
    "    )\n",
    "                                               )\n",
    "                                      )"
   ]
  },
  {
   "cell_type": "code",
   "execution_count": null,
   "metadata": {
    "id": "8GECDH0nU4xV",
    "outputId": "271cf488-5481-4b26-a074-a50b1dfc2deb"
   },
   "outputs": [],
   "source": [
    "pairs_reduced[pairs_reduced['theta_diff'].isna()]"
   ]
  },
  {
   "cell_type": "markdown",
   "metadata": {
    "id": "Qu6X-NR3U4xV",
    "tags": []
   },
   "source": [
    "# Reducing `pairs.csv` to only US data"
   ]
  },
  {
   "cell_type": "code",
   "execution_count": null,
   "metadata": {
    "id": "YKy9sHefU4xV",
    "outputId": "039e4d1b-61d8-4bf3-9782-e95c22315361"
   },
   "outputs": [],
   "source": [
    "len(pairs_reduced[(pairs_reduced['country_1'] == 'US') & (pairs_reduced['country_2'] == 'US')])"
   ]
  },
  {
   "cell_type": "markdown",
   "metadata": {
    "id": "9hsoZlxdU4xV"
   },
   "source": [
    "Dropping no longer needed columns"
   ]
  },
  {
   "cell_type": "code",
   "execution_count": null,
   "metadata": {
    "id": "_CFueOCeU4xV"
   },
   "outputs": [],
   "source": [
    "pairs_red_us = pairs_reduced[(pairs_reduced['country_1'] == 'US') & (pairs_reduced['country_2'] == 'US')]"
   ]
  },
  {
   "cell_type": "code",
   "execution_count": null,
   "metadata": {
    "id": "OozA0cQYU4xV"
   },
   "outputs": [],
   "source": [
    "pairs_red_us = pairs_red_us.drop(['country_1','country_2', 'latitude_1', 'longitude_1', 'latitude_2', 'longitude_2'], axis = 1)"
   ]
  },
  {
   "cell_type": "code",
   "execution_count": null,
   "metadata": {
    "id": "qYdoE1iWU4xV",
    "outputId": "1aed2aa3-bd2a-41e6-c69e-c163849f9afd"
   },
   "outputs": [],
   "source": [
    "pairs_red_us.head()"
   ]
  },
  {
   "cell_type": "markdown",
   "metadata": {
    "id": "Q5UWiep-U4xW"
   },
   "source": [
    "It's probably in my best interest to lower case all of the strings when doing the string matching aspect"
   ]
  },
  {
   "cell_type": "code",
   "execution_count": null,
   "metadata": {
    "id": "uhPVnrf5U4xW"
   },
   "outputs": [],
   "source": [
    "pairs_red_us['name_1'] = pairs_red_us['name_1'].astype(str)\n",
    "pairs_red_us['name_2'] = pairs_red_us['name_2'].astype(str)\n",
    "pairs_red_us['full_address_1'] = pairs_red_us['full_address_1'].astype(str)\n",
    "pairs_red_us['full_address_2'] = pairs_red_us['full_address_2'].astype(str)\n",
    "pairs_red_us['categories_1'] = pairs_red_us['categories_1'].astype(str)\n",
    "pairs_red_us['categories_2'] = pairs_red_us['categories_2'].astype(str)\n",
    "\n",
    "pairs_red_us['name_1'] = pairs_red_us['name_1'].str.lower()\n",
    "pairs_red_us['full_address_1'] = pairs_red_us['full_address_1'].str.lower()\n",
    "pairs_red_us['categories_1'] = pairs_red_us['categories_1'].str.lower()\n",
    "pairs_red_us['name_2'] = pairs_red_us['name_2'].str.lower()\n",
    "pairs_red_us['full_address_2'] = pairs_red_us['full_address_2'].str.lower()\n",
    "pairs_red_us['categories_2'] = pairs_red_us['categories_2'].str.lower()"
   ]
  },
  {
   "cell_type": "code",
   "execution_count": null,
   "metadata": {
    "id": "ozBHmXePU4xW",
    "outputId": "60e99e19-a33d-454d-da5c-06c86ae80cd7"
   },
   "outputs": [],
   "source": [
    "pairs_red_us.head()"
   ]
  },
  {
   "cell_type": "markdown",
   "metadata": {
    "id": "7V6mmvBXU4xW"
   },
   "source": [
    "I tihnk I can drop ids as well"
   ]
  },
  {
   "cell_type": "code",
   "execution_count": null,
   "metadata": {
    "id": "DqQ84BbkU4xW"
   },
   "outputs": [],
   "source": [
    "pairs_red_us = pairs_red_us.drop(['id_1', 'id_2'], axis = 1)"
   ]
  },
  {
   "cell_type": "code",
   "execution_count": null,
   "metadata": {
    "id": "W3cdivbGU4xW",
    "outputId": "868cfdbd-9d18-47c8-814b-acb6f008583d"
   },
   "outputs": [],
   "source": [
    "len(pairs_red_us['name_1'])"
   ]
  },
  {
   "cell_type": "code",
   "execution_count": null,
   "metadata": {
    "id": "lu-hnqpeU4xW",
    "outputId": "069a1245-a6e8-4eba-b07a-2f1ab58e99f8"
   },
   "outputs": [],
   "source": [
    "len(pairs_red_us['name_1'][pairs_red_us['name_1'].isna()])"
   ]
  },
  {
   "cell_type": "code",
   "execution_count": null,
   "metadata": {
    "id": "dWPC4WakU4xW",
    "outputId": "19004d3c-c558-440a-bbde-524bc3062ccb"
   },
   "outputs": [],
   "source": [
    "pairs_red_us['name_1'].tolist()[1:100]"
   ]
  },
  {
   "cell_type": "markdown",
   "metadata": {
    "id": "2kIdUhFlU4xW"
   },
   "source": [
    "Now following the article \"Calculating STring Similarity in Python\""
   ]
  },
  {
   "cell_type": "code",
   "execution_count": null,
   "metadata": {
    "id": "ahbyO9GSU4xW",
    "outputId": "03d5de27-79cf-4f34-9e4e-374e5a3d8a92"
   },
   "outputs": [],
   "source": [
    "pairs_red_us['name_1']"
   ]
  },
  {
   "cell_type": "code",
   "execution_count": null,
   "metadata": {
    "id": "99giZrxYU4xX"
   },
   "outputs": [],
   "source": [
    "pairs_red_us['name_1'] = pairs_red_us['name_1'].str.replace('[{}]'.format(string.punctuation),'')\n",
    "pairs_red_us['name_2'] = pairs_red_us['name_2'].str.replace('[{}]'.format(string.punctuation),'')\n",
    "pairs_red_us['full_address_1'] = pairs_red_us['full_address_1'].str.replace('[{}]'.format(string.punctuation),'')\n",
    "pairs_red_us['full_address_2'] = pairs_red_us['full_address_2'].str.replace('[{}]'.format(string.punctuation),'')\n",
    "pairs_red_us['categories_1'] = pairs_red_us['categories_1'].str.replace('[{}]'.format(string.punctuation),'')\n",
    "pairs_red_us['categories_2'] = pairs_red_us['categories_2'].str.replace('[{}]'.format(string.punctuation),'')"
   ]
  },
  {
   "cell_type": "code",
   "execution_count": null,
   "metadata": {
    "id": "XWohhtXkU4xX",
    "outputId": "470b486b-9d3f-4778-a414-0128b54420af"
   },
   "outputs": [],
   "source": [
    "pairs_red_us['name_1'].iloc[0]"
   ]
  },
  {
   "cell_type": "code",
   "execution_count": null,
   "metadata": {
    "id": "qk_TMHmoU4xX",
    "outputId": "6ed19375-0bd5-4235-ed43-56a72e3d3a3d"
   },
   "outputs": [],
   "source": [
    "pairs_red_us.head()"
   ]
  },
  {
   "cell_type": "code",
   "execution_count": null,
   "metadata": {
    "id": "O1MDITeUU4xX"
   },
   "outputs": [],
   "source": [
    "pairs_red_us = pairs_red_us.reset_index().drop('index', axis = 1)"
   ]
  },
  {
   "cell_type": "code",
   "execution_count": null,
   "metadata": {
    "id": "_nYUj4d5U4xX",
    "outputId": "e268a84b-5bd1-4987-df32-d68bbaf013f9"
   },
   "outputs": [],
   "source": [
    "pairs_red_us.head()"
   ]
  },
  {
   "cell_type": "code",
   "execution_count": null,
   "metadata": {
    "id": "WMk8CgtmU4xX"
   },
   "outputs": [],
   "source": [
    "pairs_red_us.to_csv(r'C:\\Users\\gorma\\OneDrive\\Documents\\Erdos\\foursquare-location-matching\\tim_code\\working_data\\pairs_reduced_us.csv')"
   ]
  },
  {
   "cell_type": "code",
   "execution_count": null,
   "metadata": {
    "id": "t6-CVK-8U4xX"
   },
   "outputs": [],
   "source": [
    "vectors = CountVectorizer().fit_transform([pairs_red_us['name_1'].iloc[0], pairs_red_us['name_2'].iloc[0]]).toarray()"
   ]
  },
  {
   "cell_type": "code",
   "execution_count": null,
   "metadata": {
    "id": "C6SjtQNCU4xX"
   },
   "outputs": [],
   "source": [
    "csim = cosine_similarity(vectors)"
   ]
  },
  {
   "cell_type": "code",
   "execution_count": null,
   "metadata": {
    "id": "QsCd7hunU4xX",
    "outputId": "4a8295c6-0100-40fb-cd4a-4087cebe2ba2"
   },
   "outputs": [],
   "source": [
    "csim"
   ]
  },
  {
   "cell_type": "code",
   "execution_count": null,
   "metadata": {
    "id": "X6rv_c5WU4xY",
    "outputId": "3bed2b83-1c10-47e8-aa82-8644bdedb820"
   },
   "outputs": [],
   "source": [
    "csim[0][1]"
   ]
  },
  {
   "cell_type": "code",
   "execution_count": null,
   "metadata": {
    "id": "VwGOJaLQU4xY",
    "outputId": "17b6c104-3b62-469e-fd66-3e066d87eb49"
   },
   "outputs": [],
   "source": [
    "range(len(pairs_red_us.iloc[:]))"
   ]
  },
  {
   "cell_type": "code",
   "execution_count": null,
   "metadata": {
    "id": "0maKzFrHU4xY"
   },
   "outputs": [],
   "source": [
    "name_cosines = []\n",
    "for i in range(len(pairs_red_us)):\n",
    "    if (pairs_red_us['name_1'].iloc[i] == '') | (pairs_red_us['name_2'].iloc[i] == ''):\n",
    "        csim = -1\n",
    "    else:\n",
    "        csim = cosine_similarity(CountVectorizer().fit_transform([pairs_red_us['name_1'].iloc[i], pairs_red_us['name_2'].iloc[i]]).toarray())[0][1]\n",
    "    name_cosines.append(csim)"
   ]
  },
  {
   "cell_type": "code",
   "execution_count": null,
   "metadata": {
    "id": "hSpNAIyRU4xY",
    "outputId": "d8c881c5-0f1e-4054-abdc-fce5e308bb40"
   },
   "outputs": [],
   "source": [
    "len(name_cosines)"
   ]
  },
  {
   "cell_type": "code",
   "execution_count": null,
   "metadata": {
    "id": "5OZKEs7gU4xY"
   },
   "outputs": [],
   "source": [
    "pairs_red_us['name_cosines'] = pd.DataFrame(name_cosines)"
   ]
  },
  {
   "cell_type": "code",
   "execution_count": null,
   "metadata": {
    "id": "fiU7BblvU4xY",
    "outputId": "ef90b87c-6f54-4c01-ecf6-dfcb618034ad"
   },
   "outputs": [],
   "source": [
    "pairs_red_us.info()"
   ]
  },
  {
   "cell_type": "code",
   "execution_count": null,
   "metadata": {
    "id": "u2acEbjKU4xY",
    "outputId": "e4c7d950-0e04-4e42-f1ad-18b65377dfcb"
   },
   "outputs": [],
   "source": [
    "pairs_red_us[pairs_red_us['name_cosines'].isna()]"
   ]
  },
  {
   "cell_type": "code",
   "execution_count": null,
   "metadata": {
    "id": "JHTMZHeoU4xY",
    "outputId": "a78cee6a-3f1e-4861-a20b-455577aed8cf"
   },
   "outputs": [],
   "source": [
    "pairs_red_us[pairs_red_us['categories_2'].isna()]"
   ]
  },
  {
   "cell_type": "code",
   "execution_count": null,
   "metadata": {
    "id": "9j233zqAU4xY",
    "outputId": "643f42e4-3e29-49f4-ea6a-c46e58dd7906"
   },
   "outputs": [],
   "source": [
    "pairs_red_us.head()"
   ]
  },
  {
   "cell_type": "code",
   "execution_count": null,
   "metadata": {
    "id": "0GCw8oTDU4xY"
   },
   "outputs": [],
   "source": [
    "address_cosines = []\n",
    "for i in range(len(pairs_red_us)):\n",
    "    if (pairs_red_us['full_address_1'].iloc[i] == '') | (pairs_red_us['full_address_2'].iloc[i] == ''):\n",
    "        csim = -1\n",
    "    else:\n",
    "        csim = cosine_similarity(CountVectorizer().fit_transform([pairs_red_us['full_address_1'].iloc[i], pairs_red_us['full_address_2'].iloc[i]]).toarray())[0][1]\n",
    "    address_cosines.append(csim)\n",
    "\n",
    "pairs_red_us['full_address_cosines'] = pd.DataFrame(address_cosines)"
   ]
  },
  {
   "cell_type": "code",
   "execution_count": null,
   "metadata": {
    "id": "CZhEy5SSU4xZ",
    "outputId": "c5734dae-7251-429e-bd57-0a411572c93c"
   },
   "outputs": [],
   "source": [
    "pairs_red_us.head()"
   ]
  },
  {
   "cell_type": "code",
   "execution_count": null,
   "metadata": {
    "id": "68oIP2HKU4xZ"
   },
   "outputs": [],
   "source": [
    "categories_cosines = []\n",
    "for i in range(len(pairs_red_us)):\n",
    "    if (pairs_red_us['categories_1'].iloc[i] == '') | (pairs_red_us['categories_2'].iloc[i] == ''):\n",
    "        csim = -1\n",
    "    else:\n",
    "        csim = cosine_similarity(CountVectorizer().fit_transform([pairs_red_us['categories_1'].iloc[i], pairs_red_us['categories_2'].iloc[i]]).toarray())[0][1]\n",
    "    categories_cosines.append(csim)\n",
    "    \n",
    "pairs_red_us['categories_cosines'] = pd.DataFrame(categories_cosines)"
   ]
  },
  {
   "cell_type": "code",
   "execution_count": null,
   "metadata": {
    "id": "5KItRltTU4xZ",
    "outputId": "330668ce-6fe0-4519-beee-0a7966073ea8"
   },
   "outputs": [],
   "source": [
    "pairs_red_us.head()"
   ]
  },
  {
   "cell_type": "code",
   "execution_count": null,
   "metadata": {
    "id": "r7NWk1oVU4xZ"
   },
   "outputs": [],
   "source": [
    "pairs_final_diffed_us = pairs_red_us[['theta_diff', 'name_cosines', 'full_address_cosines', 'categories_cosines', 'match']]"
   ]
  },
  {
   "cell_type": "code",
   "execution_count": null,
   "metadata": {
    "id": "yYR2S0ZZU4xZ",
    "outputId": "b9939efc-8cc1-4dd7-d6c7-a5d647036d23"
   },
   "outputs": [],
   "source": [
    "pairs_final_diffed_us"
   ]
  },
  {
   "cell_type": "markdown",
   "metadata": {
    "id": "6Ag0xdrrU4xZ"
   },
   "source": [
    "# Exploring the transformed data"
   ]
  },
  {
   "cell_type": "code",
   "execution_count": null,
   "metadata": {
    "id": "W3Kzs-x9U4xZ",
    "outputId": "4dc17973-862d-4ae3-829c-67ca84e250a9"
   },
   "outputs": [],
   "source": [
    "pairs_final_diffed_us['theta_diff']"
   ]
  },
  {
   "cell_type": "code",
   "execution_count": null,
   "metadata": {
    "id": "37HMtlUYU4xZ",
    "outputId": "39384057-148b-41ab-a681-9bf572614afb"
   },
   "outputs": [],
   "source": [
    "pairs_final_diffed_us.describe()"
   ]
  },
  {
   "cell_type": "code",
   "execution_count": null,
   "metadata": {
    "id": "sb3rJEBFU4xZ"
   },
   "outputs": [],
   "source": [
    "# import seaborn as sns"
   ]
  },
  {
   "cell_type": "code",
   "execution_count": null,
   "metadata": {
    "id": "DXEtnZKAU4xZ"
   },
   "outputs": [],
   "source": [
    "pairs_corr = pairs_final_diffed_us.corr()"
   ]
  },
  {
   "cell_type": "code",
   "execution_count": null,
   "metadata": {
    "id": "ccoe3_WpU4xZ",
    "outputId": "97f2c402-41fe-45f3-b010-a086038ccfc4"
   },
   "outputs": [],
   "source": [
    "sns.heatmap(pairs_corr)"
   ]
  },
  {
   "cell_type": "code",
   "execution_count": null,
   "metadata": {
    "id": "gT70y1rlU4xa",
    "outputId": "17975063-3825-431f-af20-3eb69d5495b8"
   },
   "outputs": [],
   "source": [
    "pairs_corr"
   ]
  },
  {
   "cell_type": "code",
   "execution_count": null,
   "metadata": {
    "id": "E2q5WukEU4xa",
    "outputId": "1fdb3f39-c53d-408d-c29c-3ff0a9d17768"
   },
   "outputs": [],
   "source": [
    "pairs_final_diffed_us['theta_diff'][pairs_final_diffed_us['match']==True].describe()"
   ]
  },
  {
   "cell_type": "code",
   "execution_count": null,
   "metadata": {
    "id": "GQR3PoXoU4xa",
    "outputId": "94bc9931-f898-400d-cff2-ba18f174ab62"
   },
   "outputs": [],
   "source": [
    "pairs_final_diffed_us['theta_diff'][pairs_final_diffed_us['match']==False].describe()"
   ]
  },
  {
   "cell_type": "raw",
   "metadata": {
    "id": "yGFdMLwQU4xa"
   },
   "source": [
    "from sklearn.preprocessing import StandardScaler"
   ]
  },
  {
   "cell_type": "raw",
   "metadata": {
    "id": "GD76fEIiU4xa"
   },
   "source": [
    "cols_to_scale = ['theta_diff', 'name_cosines', 'full_address_cosines', 'categories_cosines']"
   ]
  },
  {
   "cell_type": "raw",
   "metadata": {
    "id": "a1rCB6g8U4xa"
   },
   "source": [
    "scaler = StandardScaler()"
   ]
  },
  {
   "cell_type": "code",
   "execution_count": null,
   "metadata": {
    "id": "rhIRTcUAU4xb",
    "outputId": "e753891f-5e2b-4aae-8483-b06fb8ad61ba"
   },
   "outputs": [],
   "source": [
    "pairs_final_diffed_us.describe()"
   ]
  },
  {
   "cell_type": "raw",
   "metadata": {
    "id": "oiUDvHIOU4xb"
   },
   "source": [
    "scaler.fit(pairs_final_diffed_us[cols_to_scale])"
   ]
  },
  {
   "cell_type": "raw",
   "metadata": {
    "id": "WlE7n2-kU4xb"
   },
   "source": [
    "pairs_final_diffed_us[cols_to_scale] = scaler.transform(pairs_final_diffed_us[cols_to_scale])"
   ]
  },
  {
   "cell_type": "code",
   "execution_count": null,
   "metadata": {
    "id": "rSiw1yFFU4xb",
    "outputId": "fcb34851-494a-4033-d2e4-b065fbb03588"
   },
   "outputs": [],
   "source": [
    "pairs_final_diffed_us.head()"
   ]
  },
  {
   "cell_type": "raw",
   "metadata": {
    "id": "skV0rnAWU4xb"
   },
   "source": [
    "pairs_corr = pairs_final_diffed_us.corr()"
   ]
  },
  {
   "cell_type": "raw",
   "metadata": {
    "id": "65R9snczU4xb"
   },
   "source": [
    "pairs_corr"
   ]
  },
  {
   "cell_type": "raw",
   "metadata": {
    "id": "gbvsQyihU4xb"
   },
   "source": [
    "sns.heatmap(pairs_corr)"
   ]
  },
  {
   "cell_type": "code",
   "execution_count": null,
   "metadata": {
    "id": "RvIaSIfQU4xb"
   },
   "outputs": [],
   "source": [
    "pairs_final_diffed_us.to_csv(r'C:\\Users\\gorma\\OneDrive\\Documents\\Erdos\\foursquare-location-matching\\tim_code\\working_data\\pairs_final_diffed_us.csv')"
   ]
  },
  {
   "cell_type": "markdown",
   "metadata": {
    "id": "6zc-reOTU4xb"
   },
   "source": [
    "## Optional Scaling"
   ]
  },
  {
   "cell_type": "code",
   "execution_count": null,
   "metadata": {
    "id": "tPYavjoSU4xb"
   },
   "outputs": [],
   "source": [
    "pairs_final_diffed_us = pd.read_csv(r'C:\\Users\\gorma\\OneDrive\\Documents\\Erdos\\foursquare-location-matching\\tim_code\\working_data\\pairs_final_diffed_us.csv')"
   ]
  },
  {
   "cell_type": "code",
   "execution_count": null,
   "metadata": {
    "id": "dBgbd6CAU4xb"
   },
   "outputs": [],
   "source": [
    "pairs_final_diffed_us = pairs_final_diffed_us.drop('Unnamed: 0', axis =1)"
   ]
  },
  {
   "cell_type": "code",
   "execution_count": null,
   "metadata": {
    "id": "B6WcZ85UU4xc",
    "outputId": "8a8e4dd3-6113-4a56-de41-931ca4d6a75b"
   },
   "outputs": [],
   "source": [
    "pairs_final_diffed_us.head()"
   ]
  },
  {
   "cell_type": "code",
   "execution_count": null,
   "metadata": {
    "id": "NdThkOFuU4xc",
    "outputId": "e6eb07c5-04e3-4c59-d015-3ba485ba15fb"
   },
   "outputs": [],
   "source": [
    "pairs_final_diffed_us.describe()"
   ]
  },
  {
   "cell_type": "code",
   "execution_count": null,
   "metadata": {
    "id": "6-jyIITfU4xc"
   },
   "outputs": [],
   "source": [
    "from sklearn.preprocessing import StandardScaler\n",
    "cols_to_scale = ['theta_diff', 'name_cosines', 'full_address_cosines', 'categories_cosines']\n",
    "scaler = StandardScaler()\n",
    "scaler.fit(pairs_final_diffed_us[cols_to_scale])\n",
    "pairs_final_diffed_us[cols_to_scale] = scaler.transform(pairs_final_diffed_us[cols_to_scale])"
   ]
  },
  {
   "cell_type": "code",
   "execution_count": null,
   "metadata": {
    "id": "Jwp7QBL8U4xc",
    "outputId": "42d9bdd5-e773-4326-cba4-e6dab3fd91bc"
   },
   "outputs": [],
   "source": [
    "pairs_final_diffed_us.describe()"
   ]
  },
  {
   "cell_type": "code",
   "execution_count": null,
   "metadata": {
    "id": "9JyyNs3qU4xc"
   },
   "outputs": [],
   "source": [
    "pairs_final_diffed_us.to_csv(r'C:\\Users\\gorma\\OneDrive\\Documents\\Erdos\\foursquare-location-matching\\tim_code\\working_data\\pairs_final_diffed_us_scaled.csv', index = False)"
   ]
  },
  {
   "cell_type": "markdown",
   "metadata": {
    "id": "ZR79pqXSp7a2"
   },
   "source": [
    "# To improve (to be filled)\n",
    "\n",
    "\n",
    "\n",
    "1.   Generate more pairs: mention how many pairs there are blabla\n",
    "2.   Consider places in other countries blabla\n",
    "3.   Filling in missing values: for example, zip codes can be obtained from the coordinates.\n",
    "4.   Balance the dataset: change the ratio of true/false pairs blabla.\n",
    "\n"
   ]
  }
 ],
 "metadata": {
  "colab": {
   "name": "2022.05.25_train_and_pairs_eda.ipynb",
   "provenance": [],
   "toc_visible": true
  },
  "kernelspec": {
   "display_name": "Python [conda env:geo_env]",
   "language": "python",
   "name": "conda-env-geo_env-py"
  },
  "language_info": {
   "codemirror_mode": {
    "name": "ipython",
    "version": 3
   },
   "file_extension": ".py",
   "mimetype": "text/x-python",
   "name": "python",
   "nbconvert_exporter": "python",
   "pygments_lexer": "ipython3",
   "version": "3.10.4"
  },
  "toc-autonumbering": false,
  "toc-showcode": false,
  "toc-showmarkdowntxt": false
 },
 "nbformat": 4,
 "nbformat_minor": 4
}
