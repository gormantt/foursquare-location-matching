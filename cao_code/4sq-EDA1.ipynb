{
 "cells": [
  {
   "cell_type": "markdown",
   "id": "32acefab",
   "metadata": {},
   "source": [
    "https://www.kaggle.com/competitions/foursquare-location-matching/data"
   ]
  },
  {
   "cell_type": "markdown",
   "id": "ed08409d-3309-4ff6-9b8f-47e48a53d38d",
   "metadata": {},
   "source": []
  },
  {
   "cell_type": "code",
   "execution_count": 1,
   "id": "f5a56915",
   "metadata": {},
   "outputs": [],
   "source": [
    "import numpy as np\n",
    "import pandas as pd\n",
    "import matplotlib.pyplot as plt\n",
    "import seaborn as sns\n",
    "from shapely.geometry import Point\n",
    "from geopandas import GeoDataFrame\n",
    "import geopandas as gpd\n",
    "\n",
    "from sklearn.decomposition import PCA"
   ]
  },
  {
   "cell_type": "markdown",
   "id": "1d6b4f29",
   "metadata": {
    "tags": [],
    "toc-hr-collapsed": true
   },
   "source": [
    "# Read data from Kaggel data sets\n",
    "\n",
    "`train.csv` \n",
    "`pairs.csv`\n"
   ]
  },
  {
   "cell_type": "code",
   "execution_count": 2,
   "id": "80260fcb",
   "metadata": {},
   "outputs": [],
   "source": [
    "df_train  = pd.read_csv(\"./data-foursquare-location-matching/train.csv\")\n",
    "df_pairs  = pd.read_csv(\"./data-foursquare-location-matching/pairs.csv\")\n",
    "# df_test   = pd.read_csv(\"./data-foursquare-location-matching/test.csv\")\n",
    "# df_sample = pd.read_csv(\"./data-foursquare-location-matching/sample_submission.csv\")"
   ]
  },
  {
   "cell_type": "markdown",
   "id": "15a5fadc",
   "metadata": {
    "tags": [],
    "toc-hr-collapsed": true
   },
   "source": [
    "# Exploring `train.csv`"
   ]
  },
  {
   "cell_type": "markdown",
   "id": "18b101d5-b86e-403e-bdd6-945320e7ba2a",
   "metadata": {
    "tags": []
   },
   "source": [
    "## Basic information"
   ]
  },
  {
   "cell_type": "code",
   "execution_count": 3,
   "id": "7f8fbe2a",
   "metadata": {},
   "outputs": [
    {
     "name": "stdout",
     "output_type": "stream",
     "text": [
      "<class 'pandas.core.frame.DataFrame'>\n",
      "RangeIndex: 1138812 entries, 0 to 1138811\n",
      "Data columns (total 13 columns):\n",
      " #   Column             Non-Null Count    Dtype  \n",
      "---  ------             --------------    -----  \n",
      " 0   id                 1138812 non-null  object \n",
      " 1   name               1138811 non-null  object \n",
      " 2   latitude           1138812 non-null  float64\n",
      " 3   longitude          1138812 non-null  float64\n",
      " 4   address            742191 non-null   object \n",
      " 5   city               839623 non-null   object \n",
      " 6   state              718226 non-null   object \n",
      " 7   zip                543386 non-null   object \n",
      " 8   country            1138801 non-null  object \n",
      " 9   url                267724 non-null   object \n",
      " 10  phone              342855 non-null   object \n",
      " 11  categories         1040505 non-null  object \n",
      " 12  point_of_interest  1138812 non-null  object \n",
      "dtypes: float64(2), object(11)\n",
      "memory usage: 112.9+ MB\n"
     ]
    }
   ],
   "source": [
    "df = df_train # working data frame\n",
    "df.info()"
   ]
  },
  {
   "cell_type": "code",
   "execution_count": 4,
   "id": "974523e7",
   "metadata": {},
   "outputs": [
    {
     "data": {
      "text/html": [
       "<div>\n",
       "<style scoped>\n",
       "    .dataframe tbody tr th:only-of-type {\n",
       "        vertical-align: middle;\n",
       "    }\n",
       "\n",
       "    .dataframe tbody tr th {\n",
       "        vertical-align: top;\n",
       "    }\n",
       "\n",
       "    .dataframe thead th {\n",
       "        text-align: right;\n",
       "    }\n",
       "</style>\n",
       "<table border=\"1\" class=\"dataframe\">\n",
       "  <thead>\n",
       "    <tr style=\"text-align: right;\">\n",
       "      <th></th>\n",
       "      <th>id</th>\n",
       "      <th>name</th>\n",
       "      <th>latitude</th>\n",
       "      <th>longitude</th>\n",
       "      <th>address</th>\n",
       "      <th>city</th>\n",
       "      <th>state</th>\n",
       "      <th>zip</th>\n",
       "      <th>country</th>\n",
       "      <th>url</th>\n",
       "      <th>phone</th>\n",
       "      <th>categories</th>\n",
       "      <th>point_of_interest</th>\n",
       "    </tr>\n",
       "  </thead>\n",
       "  <tbody>\n",
       "    <tr>\n",
       "      <th>0</th>\n",
       "      <td>E_000001272c6c5d</td>\n",
       "      <td>Café Stad Oudenaarde</td>\n",
       "      <td>50.859975</td>\n",
       "      <td>3.634196</td>\n",
       "      <td>Abdijstraat</td>\n",
       "      <td>Nederename</td>\n",
       "      <td>Oost-Vlaanderen</td>\n",
       "      <td>9700</td>\n",
       "      <td>BE</td>\n",
       "      <td>NaN</td>\n",
       "      <td>NaN</td>\n",
       "      <td>Bars</td>\n",
       "      <td>P_677e840bb6fc7e</td>\n",
       "    </tr>\n",
       "    <tr>\n",
       "      <th>1</th>\n",
       "      <td>E_000002eae2a589</td>\n",
       "      <td>Carioca Manero</td>\n",
       "      <td>-22.907225</td>\n",
       "      <td>-43.178244</td>\n",
       "      <td>NaN</td>\n",
       "      <td>NaN</td>\n",
       "      <td>NaN</td>\n",
       "      <td>NaN</td>\n",
       "      <td>BR</td>\n",
       "      <td>NaN</td>\n",
       "      <td>NaN</td>\n",
       "      <td>Brazilian Restaurants</td>\n",
       "      <td>P_d82910d8382a83</td>\n",
       "    </tr>\n",
       "    <tr>\n",
       "      <th>2</th>\n",
       "      <td>E_000007f24ebc95</td>\n",
       "      <td>ร้านตัดผมการาเกด</td>\n",
       "      <td>13.780813</td>\n",
       "      <td>100.484900</td>\n",
       "      <td>NaN</td>\n",
       "      <td>NaN</td>\n",
       "      <td>NaN</td>\n",
       "      <td>NaN</td>\n",
       "      <td>TH</td>\n",
       "      <td>NaN</td>\n",
       "      <td>NaN</td>\n",
       "      <td>Salons / Barbershops</td>\n",
       "      <td>P_b1066599e78477</td>\n",
       "    </tr>\n",
       "    <tr>\n",
       "      <th>3</th>\n",
       "      <td>E_000008a8ba4f48</td>\n",
       "      <td>Turkcell</td>\n",
       "      <td>37.844510</td>\n",
       "      <td>27.844202</td>\n",
       "      <td>Adnan Menderes Bulvarı</td>\n",
       "      <td>NaN</td>\n",
       "      <td>NaN</td>\n",
       "      <td>NaN</td>\n",
       "      <td>TR</td>\n",
       "      <td>NaN</td>\n",
       "      <td>NaN</td>\n",
       "      <td>Mobile Phone Shops</td>\n",
       "      <td>P_b2ed86905a4cd3</td>\n",
       "    </tr>\n",
       "    <tr>\n",
       "      <th>4</th>\n",
       "      <td>E_00001d92066153</td>\n",
       "      <td>Restaurante Casa Cofiño</td>\n",
       "      <td>43.338196</td>\n",
       "      <td>-4.326821</td>\n",
       "      <td>NaN</td>\n",
       "      <td>Caviedes</td>\n",
       "      <td>Cantabria</td>\n",
       "      <td>NaN</td>\n",
       "      <td>ES</td>\n",
       "      <td>NaN</td>\n",
       "      <td>NaN</td>\n",
       "      <td>Spanish Restaurants</td>\n",
       "      <td>P_809a884d4407fb</td>\n",
       "    </tr>\n",
       "  </tbody>\n",
       "</table>\n",
       "</div>"
      ],
      "text/plain": [
       "                 id                     name   latitude   longitude  \\\n",
       "0  E_000001272c6c5d     Café Stad Oudenaarde  50.859975    3.634196   \n",
       "1  E_000002eae2a589           Carioca Manero -22.907225  -43.178244   \n",
       "2  E_000007f24ebc95         ร้านตัดผมการาเกด  13.780813  100.484900   \n",
       "3  E_000008a8ba4f48                 Turkcell  37.844510   27.844202   \n",
       "4  E_00001d92066153  Restaurante Casa Cofiño  43.338196   -4.326821   \n",
       "\n",
       "                  address        city            state   zip country  url  \\\n",
       "0             Abdijstraat  Nederename  Oost-Vlaanderen  9700      BE  NaN   \n",
       "1                     NaN         NaN              NaN   NaN      BR  NaN   \n",
       "2                     NaN         NaN              NaN   NaN      TH  NaN   \n",
       "3  Adnan Menderes Bulvarı         NaN              NaN   NaN      TR  NaN   \n",
       "4                     NaN    Caviedes        Cantabria   NaN      ES  NaN   \n",
       "\n",
       "  phone             categories point_of_interest  \n",
       "0   NaN                   Bars  P_677e840bb6fc7e  \n",
       "1   NaN  Brazilian Restaurants  P_d82910d8382a83  \n",
       "2   NaN   Salons / Barbershops  P_b1066599e78477  \n",
       "3   NaN     Mobile Phone Shops  P_b2ed86905a4cd3  \n",
       "4   NaN    Spanish Restaurants  P_809a884d4407fb  "
      ]
     },
     "execution_count": 4,
     "metadata": {},
     "output_type": "execute_result"
    }
   ],
   "source": [
    "df.head()"
   ]
  },
  {
   "cell_type": "code",
   "execution_count": 5,
   "id": "72bf140a",
   "metadata": {},
   "outputs": [
    {
     "data": {
      "text/plain": [
       "(1138812, 13)"
      ]
     },
     "execution_count": 5,
     "metadata": {},
     "output_type": "execute_result"
    }
   ],
   "source": [
    "df.shape"
   ]
  },
  {
   "cell_type": "markdown",
   "id": "4a2b1e2e",
   "metadata": {
    "tags": []
   },
   "source": [
    "## Missing values\n",
    "- Every row has the features: `id`, `latitude`, `longitude`, `point_of_interest`\n",
    "- Other features have missing values\n",
    "- Features that have less missing values: `name`, `country`, `categories`"
   ]
  },
  {
   "cell_type": "code",
   "execution_count": 6,
   "id": "ba0e9a5b",
   "metadata": {},
   "outputs": [
    {
     "name": "stdout",
     "output_type": "stream",
     "text": [
      "id                    0.000000\n",
      "latitude              0.000000\n",
      "longitude             0.000000\n",
      "point_of_interest     0.000000\n",
      "name                  0.000088\n",
      "country               0.000966\n",
      "categories            8.632417\n",
      "city                 26.272027\n",
      "address              34.827610\n",
      "state                36.931996\n",
      "zip                  52.284837\n",
      "phone                69.893626\n",
      "url                  76.490940\n",
      "dtype: float64\n"
     ]
    },
    {
     "data": {
      "image/png": "[encoded data removed]",
      "text/plain": [
       "<Figure size 576x432 with 1 Axes>"
      ]
     },
     "metadata": {
      "needs_background": "light"
     },
     "output_type": "display_data"
    }
   ],
   "source": [
    "df = df_train\n",
    "# Count the missing values in each feature\n",
    "missing = df.isna().sum()/df.shape[0]*100\n",
    "print(missing.sort_values())\n",
    "\n",
    "# Plot the percentages of missing values for each feature\n",
    "import matplotlib.ticker as mtick\n",
    "tmp = df.isna().sum().sort_values()\n",
    "fig, ax = plt.subplots(figsize=(8,6))\n",
    "\n",
    "y = tmp/len(df)*100\n",
    "ax.barh(tmp.index, y, color='gray')\n",
    "ax.set_title(\"Missing values\", fontsize=18)\n",
    "ax.axvline(x=60,color='r',linestyle='--')\n",
    "# ax.xaxis.set_major_formatter(mtick.PercentFormatter())\n",
    "ax.tick_params(axis='both', labelsize=15 )\n",
    "ax.set_ylabel('features', fontsize=18)\n",
    "ax.set_xlabel('percentages (%)', fontsize=18)\n",
    "ax.set_xlim(0,100)\n",
    "\n",
    "for index, value in enumerate(y):\n",
    "    if value < 1:\n",
    "        ax.text(value, index, '{:.6f}'.format(value), color = 'blue', fontweight = 'bold')\n",
    "    else:\n",
    "        ax.text(value, index, '{:.1f}'.format(value), color = 'blue', fontweight = 'bold')\n",
    "plt.show()"
   ]
  },
  {
   "cell_type": "markdown",
   "id": "62c9ca7e",
   "metadata": {},
   "source": [
    "Should drop the url and phone columns since more than 60% are missing."
   ]
  },
  {
   "cell_type": "markdown",
   "id": "3b7f6a52",
   "metadata": {
    "tags": []
   },
   "source": [
    "## Features in `train.csv`"
   ]
  },
  {
   "cell_type": "code",
   "execution_count": 7,
   "id": "d04a36c6",
   "metadata": {},
   "outputs": [
    {
     "data": {
      "text/plain": [
       "Index(['id', 'name', 'latitude', 'longitude', 'address', 'city', 'state',\n",
       "       'zip', 'country', 'url', 'phone', 'categories', 'point_of_interest'],\n",
       "      dtype='object')"
      ]
     },
     "execution_count": 7,
     "metadata": {},
     "output_type": "execute_result"
    }
   ],
   "source": [
    "df.columns"
   ]
  },
  {
   "cell_type": "markdown",
   "id": "7b52d167",
   "metadata": {
    "tags": []
   },
   "source": [
    "## `id`"
   ]
  },
  {
   "cell_type": "code",
   "execution_count": 8,
   "id": "3c4a0ff9",
   "metadata": {},
   "outputs": [
    {
     "name": "stdout",
     "output_type": "stream",
     "text": [
      "Each value in `id` is unique: True\n"
     ]
    }
   ],
   "source": [
    "# each value in `id` is unique.\n",
    "print(\"Each value in `id` is unique:\", len(df.id.unique()) == df.shape[0])"
   ]
  },
  {
   "cell_type": "markdown",
   "id": "2a316902",
   "metadata": {
    "tags": []
   },
   "source": [
    "## `latitude` and `longitude`"
   ]
  },
  {
   "cell_type": "code",
   "execution_count": 9,
   "id": "dc2b3454",
   "metadata": {},
   "outputs": [
    {
     "data": {
      "image/png": "[encoded data removed]",
      "text/plain": [
       "<Figure size 1440x864 with 1 Axes>"
      ]
     },
     "metadata": {
      "needs_background": "light"
     },
     "output_type": "display_data"
    }
   ],
   "source": [
    "# simple sketch\n",
    "# fig, ax = plt.subplots(figsize=(40,25))\n",
    "# ax.scatter(df_train['longitude'],df_train['latitude'])\n",
    "# ax.set_xlabel('longitude',fontsize=40)\n",
    "# ax.set_ylabel('latitude',fontsize=40)\n",
    "# ax.tick_params(axis='both', labelsize=40)\n",
    "# ax.grid()\n",
    "# plt.show()\n",
    "\n",
    "# fancy plot\n",
    "geometry = [Point(xy) for xy in zip(df['longitude'], df['latitude'])]\n",
    "gdf = GeoDataFrame(df_train.copy(), geometry=geometry)   \n",
    "\n",
    "#this is a simple map that goes with geopandas\n",
    "world = gpd.read_file(gpd.datasets.get_path('naturalearth_lowres'))\n",
    "fig, ax = plt.subplots(figsize=(20, 12))\n",
    "world.plot(figsize=(20, 12), ax=ax)\n",
    "gdf.plot(ax=ax, marker='o', color='red', markersize=10)\n",
    "\n",
    "fig.savefig(\"./train_coords.png\")\n",
    "plt.show()"
   ]
  },
  {
   "cell_type": "markdown",
   "id": "4e81e2ed",
   "metadata": {
    "tags": []
   },
   "source": [
    "## `name`\n",
    "\n",
    "This column has different languages. "
   ]
  },
  {
   "cell_type": "code",
   "execution_count": 10,
   "id": "73e0d1fb",
   "metadata": {},
   "outputs": [
    {
     "data": {
      "text/plain": [
       "0                    Café Stad Oudenaarde\n",
       "1                          Carioca Manero\n",
       "2                        ร้านตัดผมการาเกด\n",
       "3                                Turkcell\n",
       "4                 Restaurante Casa Cofiño\n",
       "                        ...              \n",
       "1138807                              青ガエル\n",
       "1138808                      Deshon Place\n",
       "1138809    İzmir Adnan Menderes Havaalanı\n",
       "1138810                             焼肉 和家\n",
       "1138811                       Waihi Beach\n",
       "Name: name, Length: 1138812, dtype: object"
      ]
     },
     "execution_count": 10,
     "metadata": {},
     "output_type": "execute_result"
    }
   ],
   "source": [
    "df['name']"
   ]
  },
  {
   "cell_type": "code",
   "execution_count": 11,
   "id": "61caf8f8",
   "metadata": {},
   "outputs": [],
   "source": [
    "# !pip install langdetect\n",
    "from langdetect import detect"
   ]
  },
  {
   "cell_type": "code",
   "execution_count": 12,
   "id": "8a6041ab",
   "metadata": {
    "tags": []
   },
   "outputs": [],
   "source": [
    "# Takes a few minutes.\n",
    "# flag = 0\n",
    "# lang = []\n",
    "# for row in df['name'].dropna():\n",
    "#     if flag > 20:\n",
    "#         break\n",
    "#     try:\n",
    "#         lang.append(detect(row))\n",
    "#     except:\n",
    "#         flag += 1\n",
    "#         language = \"error\"\n",
    "#         print(\"This row throws and error:\", row)\n",
    "# print(set(lang))"
   ]
  },
  {
   "cell_type": "markdown",
   "id": "5a2b1cff",
   "metadata": {
    "tags": []
   },
   "source": [
    "## `country` \n",
    "\n",
    "Data availability\n"
   ]
  },
  {
   "cell_type": "code",
   "execution_count": 13,
   "id": "84901e2e",
   "metadata": {},
   "outputs": [
    {
     "name": "stdout",
     "output_type": "stream",
     "text": [
      "(10,)\n"
     ]
    },
    {
     "data": {
      "image/png": "[encoded data removed]",
      "text/plain": [
       "<Figure size 576x432 with 1 Axes>"
      ]
     },
     "metadata": {
      "needs_background": "light"
     },
     "output_type": "display_data"
    }
   ],
   "source": [
    "country_stats = df['country'].value_counts()*100/df['country'].value_counts().sum()\n",
    "country_stats = country_stats.head(10).sort_values()\n",
    "print(country_stats.shape)\n",
    "\n",
    "fig, ax = plt.subplots(figsize=(8,6))\n",
    "color = [\"gray\"]*len(country_stats.index)\n",
    "color[-1] = \"red\"\n",
    "country_stats.plot(kind = 'barh', ax = ax, color = color)\n",
    "\n",
    "ax.set_title(\"Available Data by Countries (top 10)\", fontsize = 18)\n",
    "ax.set_ylabel('country', fontsize = 18)\n",
    "ax.set_xlabel('Percentage (%)', fontsize = 18)\n",
    "plt.show()"
   ]
  },
  {
   "cell_type": "markdown",
   "id": "266f63c9-d094-45fb-a0bf-c4da1aec5bdf",
   "metadata": {
    "tags": []
   },
   "source": [
    "## `point_of_interest`"
   ]
  },
  {
   "cell_type": "code",
   "execution_count": 14,
   "id": "76155440-b7c5-444b-82d1-572e1d1ee2c9",
   "metadata": {},
   "outputs": [
    {
     "data": {
      "text/plain": [
       "P_fb339198a31db3    332\n",
       "P_3a3fbd26e16269    199\n",
       "P_f70a0977377171    166\n",
       "P_9290e406eb58ac    145\n",
       "P_fbe61733fcdebe    132\n",
       "                   ... \n",
       "P_ed44fbd056eb4d      1\n",
       "P_6601e86230f550      1\n",
       "P_36404ebf8565ee      1\n",
       "P_3270f1f5b135b9      1\n",
       "P_ea6578bf39b406      1\n",
       "Name: point_of_interest, Length: 739972, dtype: int64"
      ]
     },
     "execution_count": 14,
     "metadata": {},
     "output_type": "execute_result"
    }
   ],
   "source": [
    "df['point_of_interest'].value_counts()"
   ]
  },
  {
   "cell_type": "code",
   "execution_count": 15,
   "id": "a33cf0ea-d830-46b0-b2d5-5afd8a747d84",
   "metadata": {},
   "outputs": [
    {
     "data": {
      "text/html": [
       "<div>\n",
       "<style scoped>\n",
       "    .dataframe tbody tr th:only-of-type {\n",
       "        vertical-align: middle;\n",
       "    }\n",
       "\n",
       "    .dataframe tbody tr th {\n",
       "        vertical-align: top;\n",
       "    }\n",
       "\n",
       "    .dataframe thead th {\n",
       "        text-align: right;\n",
       "    }\n",
       "</style>\n",
       "<table border=\"1\" class=\"dataframe\">\n",
       "  <thead>\n",
       "    <tr style=\"text-align: right;\">\n",
       "      <th></th>\n",
       "      <th>id</th>\n",
       "      <th>name</th>\n",
       "      <th>latitude</th>\n",
       "      <th>longitude</th>\n",
       "      <th>address</th>\n",
       "      <th>city</th>\n",
       "      <th>state</th>\n",
       "      <th>zip</th>\n",
       "      <th>country</th>\n",
       "      <th>url</th>\n",
       "      <th>phone</th>\n",
       "      <th>categories</th>\n",
       "      <th>point_of_interest</th>\n",
       "    </tr>\n",
       "  </thead>\n",
       "  <tbody>\n",
       "    <tr>\n",
       "      <th>1517</th>\n",
       "      <td>E_005b1a6f97ca7b</td>\n",
       "      <td>Nationwide Insurance</td>\n",
       "      <td>39.962014</td>\n",
       "      <td>-82.885847</td>\n",
       "      <td>583 S Yearling Rd</td>\n",
       "      <td>Columbus</td>\n",
       "      <td>OH</td>\n",
       "      <td>43213</td>\n",
       "      <td>US</td>\n",
       "      <td>http://t.co/4eDIQ4ptQn</td>\n",
       "      <td>+16145752643</td>\n",
       "      <td>Financial or Legal Services</td>\n",
       "      <td>P_399ab9d64f2a2e</td>\n",
       "    </tr>\n",
       "    <tr>\n",
       "      <th>526905</th>\n",
       "      <td>E_7667106372e795</td>\n",
       "      <td>Nationwide Insurance - Monica M Radke</td>\n",
       "      <td>37.576416</td>\n",
       "      <td>-77.443130</td>\n",
       "      <td>11428 Belvedere Vista Ln</td>\n",
       "      <td>North Chesterfield</td>\n",
       "      <td>VA</td>\n",
       "      <td>23235</td>\n",
       "      <td>US</td>\n",
       "      <td>http://t.co/4eDIQ4ptQn</td>\n",
       "      <td>+18046585233</td>\n",
       "      <td>Financial or Legal Services</td>\n",
       "      <td>P_399ab9d64f2a2e</td>\n",
       "    </tr>\n",
       "    <tr>\n",
       "      <th>539146</th>\n",
       "      <td>E_79295816ef8549</td>\n",
       "      <td>Nationwide Insurance - Ruben Saucedo Agency</td>\n",
       "      <td>32.756500</td>\n",
       "      <td>-96.822220</td>\n",
       "      <td>1112 N Zang Blvd</td>\n",
       "      <td>Dallas</td>\n",
       "      <td>TX</td>\n",
       "      <td>75203</td>\n",
       "      <td>US</td>\n",
       "      <td>http://t.co/4eDIQ4ptQn</td>\n",
       "      <td>+12149428500</td>\n",
       "      <td>Financial or Legal Services</td>\n",
       "      <td>P_399ab9d64f2a2e</td>\n",
       "    </tr>\n",
       "    <tr>\n",
       "      <th>543303</th>\n",
       "      <td>E_7a17b3160fa7eb</td>\n",
       "      <td>Nationwide Insurance - Kent Kiesewetter</td>\n",
       "      <td>30.644263</td>\n",
       "      <td>-94.873782</td>\n",
       "      <td>8 N Main St</td>\n",
       "      <td>Kingwood</td>\n",
       "      <td>TX</td>\n",
       "      <td>77339</td>\n",
       "      <td>US</td>\n",
       "      <td>http://t.co/4eDIQ4ptQn</td>\n",
       "      <td>+12815487003</td>\n",
       "      <td>Financial or Legal Services</td>\n",
       "      <td>P_399ab9d64f2a2e</td>\n",
       "    </tr>\n",
       "    <tr>\n",
       "      <th>582169</th>\n",
       "      <td>E_82db401372a141</td>\n",
       "      <td>Nationwide Insurance - Alison Maureen Rielli A...</td>\n",
       "      <td>38.607881</td>\n",
       "      <td>-121.435018</td>\n",
       "      <td>2251 Harvard St</td>\n",
       "      <td>Sacramento</td>\n",
       "      <td>CA</td>\n",
       "      <td>95815</td>\n",
       "      <td>US</td>\n",
       "      <td>http://t.co/4eDIQ4ptQn</td>\n",
       "      <td>+19169152744</td>\n",
       "      <td>Financial or Legal Services</td>\n",
       "      <td>P_399ab9d64f2a2e</td>\n",
       "    </tr>\n",
       "  </tbody>\n",
       "</table>\n",
       "</div>"
      ],
      "text/plain": [
       "                      id                                               name  \\\n",
       "1517    E_005b1a6f97ca7b                               Nationwide Insurance   \n",
       "526905  E_7667106372e795              Nationwide Insurance - Monica M Radke   \n",
       "539146  E_79295816ef8549        Nationwide Insurance - Ruben Saucedo Agency   \n",
       "543303  E_7a17b3160fa7eb            Nationwide Insurance - Kent Kiesewetter   \n",
       "582169  E_82db401372a141  Nationwide Insurance - Alison Maureen Rielli A...   \n",
       "\n",
       "         latitude   longitude                   address                city  \\\n",
       "1517    39.962014  -82.885847         583 S Yearling Rd            Columbus   \n",
       "526905  37.576416  -77.443130  11428 Belvedere Vista Ln  North Chesterfield   \n",
       "539146  32.756500  -96.822220          1112 N Zang Blvd              Dallas   \n",
       "543303  30.644263  -94.873782               8 N Main St            Kingwood   \n",
       "582169  38.607881 -121.435018           2251 Harvard St          Sacramento   \n",
       "\n",
       "       state    zip country                     url         phone  \\\n",
       "1517      OH  43213      US  http://t.co/4eDIQ4ptQn  +16145752643   \n",
       "526905    VA  23235      US  http://t.co/4eDIQ4ptQn  +18046585233   \n",
       "539146    TX  75203      US  http://t.co/4eDIQ4ptQn  +12149428500   \n",
       "543303    TX  77339      US  http://t.co/4eDIQ4ptQn  +12815487003   \n",
       "582169    CA  95815      US  http://t.co/4eDIQ4ptQn  +19169152744   \n",
       "\n",
       "                         categories point_of_interest  \n",
       "1517    Financial or Legal Services  P_399ab9d64f2a2e  \n",
       "526905  Financial or Legal Services  P_399ab9d64f2a2e  \n",
       "539146  Financial or Legal Services  P_399ab9d64f2a2e  \n",
       "543303  Financial or Legal Services  P_399ab9d64f2a2e  \n",
       "582169  Financial or Legal Services  P_399ab9d64f2a2e  "
      ]
     },
     "execution_count": 15,
     "metadata": {},
     "output_type": "execute_result"
    }
   ],
   "source": [
    "tmp = df[df['point_of_interest']=='P_399ab9d64f2a2e'].sort_values(by='point_of_interest')\n",
    "tmp.head()"
   ]
  },
  {
   "cell_type": "code",
   "execution_count": 16,
   "id": "8f1c0147-2cb6-4e55-94c2-8594093bcf92",
   "metadata": {},
   "outputs": [
    {
     "data": {
      "text/html": [
       "<div>\n",
       "<style scoped>\n",
       "    .dataframe tbody tr th:only-of-type {\n",
       "        vertical-align: middle;\n",
       "    }\n",
       "\n",
       "    .dataframe tbody tr th {\n",
       "        vertical-align: top;\n",
       "    }\n",
       "\n",
       "    .dataframe thead th {\n",
       "        text-align: right;\n",
       "    }\n",
       "</style>\n",
       "<table border=\"1\" class=\"dataframe\">\n",
       "  <thead>\n",
       "    <tr style=\"text-align: right;\">\n",
       "      <th></th>\n",
       "      <th>id</th>\n",
       "      <th>name</th>\n",
       "      <th>latitude</th>\n",
       "      <th>longitude</th>\n",
       "      <th>address</th>\n",
       "      <th>city</th>\n",
       "      <th>state</th>\n",
       "      <th>zip</th>\n",
       "      <th>country</th>\n",
       "      <th>url</th>\n",
       "      <th>phone</th>\n",
       "      <th>categories</th>\n",
       "      <th>point_of_interest</th>\n",
       "    </tr>\n",
       "  </thead>\n",
       "  <tbody>\n",
       "    <tr>\n",
       "      <th>19594</th>\n",
       "      <td>E_04656287079d09</td>\n",
       "      <td>Cara J. Lasley, MD</td>\n",
       "      <td>39.779379</td>\n",
       "      <td>-75.555298</td>\n",
       "      <td>1600 Rockland Rd</td>\n",
       "      <td>Wilmington</td>\n",
       "      <td>DE</td>\n",
       "      <td>19803</td>\n",
       "      <td>US</td>\n",
       "      <td>https://findaprovider.nemours.org/details/1877...</td>\n",
       "      <td>+18004164441</td>\n",
       "      <td>Doctor's Offices</td>\n",
       "      <td>P_ce9291000a8f0b</td>\n",
       "    </tr>\n",
       "    <tr>\n",
       "      <th>647358</th>\n",
       "      <td>E_917cf32095d31e</td>\n",
       "      <td>Naomi F. Lauriello, MD</td>\n",
       "      <td>39.779379</td>\n",
       "      <td>-75.555298</td>\n",
       "      <td>1600 Rockland Rd</td>\n",
       "      <td>Wilmington</td>\n",
       "      <td>DE</td>\n",
       "      <td>19803</td>\n",
       "      <td>US</td>\n",
       "      <td>https://findaprovider.nemours.org/details/2202...</td>\n",
       "      <td>+18004164441</td>\n",
       "      <td>Doctor's Offices</td>\n",
       "      <td>P_ce9291000a8f0b</td>\n",
       "    </tr>\n",
       "    <tr>\n",
       "      <th>648768</th>\n",
       "      <td>E_91ceb13234ef44</td>\n",
       "      <td>Stephen J. Falchek, MD</td>\n",
       "      <td>39.779379</td>\n",
       "      <td>-75.555298</td>\n",
       "      <td>1600 Rockland Rd</td>\n",
       "      <td>Wilmington</td>\n",
       "      <td>DE</td>\n",
       "      <td>19803</td>\n",
       "      <td>US</td>\n",
       "      <td>https://findaprovider.nemours.org/details/973/...</td>\n",
       "      <td>+18004164441</td>\n",
       "      <td>Doctor's Offices</td>\n",
       "      <td>P_ce9291000a8f0b</td>\n",
       "    </tr>\n",
       "    <tr>\n",
       "      <th>670884</th>\n",
       "      <td>E_96b3145a11cf21</td>\n",
       "      <td>Steven L. Blumer, MD</td>\n",
       "      <td>39.779379</td>\n",
       "      <td>-75.555298</td>\n",
       "      <td>1600 Rockland Rd</td>\n",
       "      <td>Wilmington</td>\n",
       "      <td>DE</td>\n",
       "      <td>19803</td>\n",
       "      <td>US</td>\n",
       "      <td>https://findaprovider.nemours.org/details/787/...</td>\n",
       "      <td>+18004164441</td>\n",
       "      <td>Doctor's Offices</td>\n",
       "      <td>P_ce9291000a8f0b</td>\n",
       "    </tr>\n",
       "    <tr>\n",
       "      <th>675333</th>\n",
       "      <td>E_97b2cb975f93b7</td>\n",
       "      <td>Takeshi Tsuda, MD</td>\n",
       "      <td>39.779379</td>\n",
       "      <td>-75.555298</td>\n",
       "      <td>1600 Rockland Rd</td>\n",
       "      <td>Wilmington</td>\n",
       "      <td>DE</td>\n",
       "      <td>19803</td>\n",
       "      <td>US</td>\n",
       "      <td>https://findaprovider.nemours.org/details/1261...</td>\n",
       "      <td>+18004164441</td>\n",
       "      <td>Doctor's Offices</td>\n",
       "      <td>P_ce9291000a8f0b</td>\n",
       "    </tr>\n",
       "  </tbody>\n",
       "</table>\n",
       "</div>"
      ],
      "text/plain": [
       "                      id                    name   latitude  longitude  \\\n",
       "19594   E_04656287079d09      Cara J. Lasley, MD  39.779379 -75.555298   \n",
       "647358  E_917cf32095d31e  Naomi F. Lauriello, MD  39.779379 -75.555298   \n",
       "648768  E_91ceb13234ef44  Stephen J. Falchek, MD  39.779379 -75.555298   \n",
       "670884  E_96b3145a11cf21    Steven L. Blumer, MD  39.779379 -75.555298   \n",
       "675333  E_97b2cb975f93b7       Takeshi Tsuda, MD  39.779379 -75.555298   \n",
       "\n",
       "                 address        city state    zip country  \\\n",
       "19594   1600 Rockland Rd  Wilmington    DE  19803      US   \n",
       "647358  1600 Rockland Rd  Wilmington    DE  19803      US   \n",
       "648768  1600 Rockland Rd  Wilmington    DE  19803      US   \n",
       "670884  1600 Rockland Rd  Wilmington    DE  19803      US   \n",
       "675333  1600 Rockland Rd  Wilmington    DE  19803      US   \n",
       "\n",
       "                                                      url         phone  \\\n",
       "19594   https://findaprovider.nemours.org/details/1877...  +18004164441   \n",
       "647358  https://findaprovider.nemours.org/details/2202...  +18004164441   \n",
       "648768  https://findaprovider.nemours.org/details/973/...  +18004164441   \n",
       "670884  https://findaprovider.nemours.org/details/787/...  +18004164441   \n",
       "675333  https://findaprovider.nemours.org/details/1261...  +18004164441   \n",
       "\n",
       "              categories point_of_interest  \n",
       "19594   Doctor's Offices  P_ce9291000a8f0b  \n",
       "647358  Doctor's Offices  P_ce9291000a8f0b  \n",
       "648768  Doctor's Offices  P_ce9291000a8f0b  \n",
       "670884  Doctor's Offices  P_ce9291000a8f0b  \n",
       "675333  Doctor's Offices  P_ce9291000a8f0b  "
      ]
     },
     "execution_count": 16,
     "metadata": {},
     "output_type": "execute_result"
    }
   ],
   "source": [
    "tmp = df[df['point_of_interest']=='P_ce9291000a8f0b'].sort_values(by='point_of_interest')\n",
    "tmp.head()"
   ]
  },
  {
   "cell_type": "markdown",
   "id": "5f5e6201",
   "metadata": {
    "tags": [],
    "toc-hr-collapsed": true
   },
   "source": [
    "# The US data in `train.csv`\n",
    "\n",
    "We focus on the US data in `train.csv` to have a smaller data set."
   ]
  },
  {
   "cell_type": "code",
   "execution_count": 17,
   "id": "13bcf099",
   "metadata": {},
   "outputs": [],
   "source": [
    "df_us = df[df['country']=='US']"
   ]
  },
  {
   "cell_type": "code",
   "execution_count": 18,
   "id": "6b350e07",
   "metadata": {},
   "outputs": [
    {
     "name": "stdout",
     "output_type": "stream",
     "text": [
      "<class 'pandas.core.frame.DataFrame'>\n",
      "Int64Index: 245284 entries, 8 to 1138808\n",
      "Data columns (total 13 columns):\n",
      " #   Column             Non-Null Count   Dtype  \n",
      "---  ------             --------------   -----  \n",
      " 0   id                 245284 non-null  object \n",
      " 1   name               245283 non-null  object \n",
      " 2   latitude           245284 non-null  float64\n",
      " 3   longitude          245284 non-null  float64\n",
      " 4   address            188824 non-null  object \n",
      " 5   city               236241 non-null  object \n",
      " 6   state              239373 non-null  object \n",
      " 7   zip                213277 non-null  object \n",
      " 8   country            245284 non-null  object \n",
      " 9   url                99477 non-null   object \n",
      " 10  phone              131597 non-null  object \n",
      " 11  categories         232133 non-null  object \n",
      " 12  point_of_interest  245284 non-null  object \n",
      "dtypes: float64(2), object(11)\n",
      "memory usage: 26.2+ MB\n"
     ]
    }
   ],
   "source": [
    "df_us.info()"
   ]
  },
  {
   "cell_type": "markdown",
   "id": "42597389-dd17-45f4-9383-593a05b0502d",
   "metadata": {
    "tags": []
   },
   "source": [
    "## Missing values"
   ]
  },
  {
   "cell_type": "code",
   "execution_count": 19,
   "id": "69334aeb-80e9-41b6-9e61-e69e821f4d80",
   "metadata": {},
   "outputs": [
    {
     "name": "stdout",
     "output_type": "stream",
     "text": [
      "id                    0.000000\n",
      "latitude              0.000000\n",
      "longitude             0.000000\n",
      "country               0.000000\n",
      "point_of_interest     0.000000\n",
      "name                  0.000408\n",
      "state                 2.409860\n",
      "city                  3.686747\n",
      "categories            5.361540\n",
      "zip                  13.048955\n",
      "address              23.018216\n",
      "phone                46.349130\n",
      "url                  59.444155\n",
      "dtype: float64\n"
     ]
    },
    {
     "data": {
      "image/png": "[encoded data removed]",
      "text/plain": [
       "<Figure size 576x432 with 1 Axes>"
      ]
     },
     "metadata": {
      "needs_background": "light"
     },
     "output_type": "display_data"
    }
   ],
   "source": [
    "df = df_us\n",
    "# Count the missing values in each feature\n",
    "missing = df.isna().sum()/df.shape[0]*100\n",
    "print(missing.sort_values())\n",
    "\n",
    "# Plot the percentages of missing values for each feature\n",
    "import matplotlib.ticker as mtick\n",
    "tmp = df.isna().sum().sort_values()\n",
    "fig, ax = plt.subplots(figsize=(8,6))\n",
    "\n",
    "y = tmp/len(df)*100\n",
    "ax.barh(tmp.index, y, color='gray')\n",
    "ax.set_title(\"Missing values\", fontsize=18)\n",
    "ax.axvline(x=60,color='r',linestyle='--')\n",
    "# ax.xaxis.set_major_formatter(mtick.PercentFormatter())\n",
    "ax.tick_params(axis='both', labelsize=15 )\n",
    "ax.set_ylabel('features', fontsize=18)\n",
    "ax.set_xlabel('percentages (%)', fontsize=18)\n",
    "ax.set_xlim(0,100)\n",
    "\n",
    "for index, value in enumerate(y):\n",
    "    if value < 1:\n",
    "        ax.text(value, index, '{:.6f}'.format(value), color = 'blue', fontweight = 'bold')\n",
    "    else:\n",
    "        ax.text(value, index, '{:.1f}'.format(value), color = 'blue', fontweight = 'bold')\n",
    "plt.show()"
   ]
  },
  {
   "cell_type": "markdown",
   "id": "f2076109-5673-45f2-a449-809673367be1",
   "metadata": {
    "tags": []
   },
   "source": [
    "Throw away the `url` column because about 60% data are missing."
   ]
  },
  {
   "cell_type": "code",
   "execution_count": 20,
   "id": "12579fad-15e9-4152-a197-a4e8e2da6c32",
   "metadata": {},
   "outputs": [
    {
     "data": {
      "text/html": [
       "<div>\n",
       "<style scoped>\n",
       "    .dataframe tbody tr th:only-of-type {\n",
       "        vertical-align: middle;\n",
       "    }\n",
       "\n",
       "    .dataframe tbody tr th {\n",
       "        vertical-align: top;\n",
       "    }\n",
       "\n",
       "    .dataframe thead th {\n",
       "        text-align: right;\n",
       "    }\n",
       "</style>\n",
       "<table border=\"1\" class=\"dataframe\">\n",
       "  <thead>\n",
       "    <tr style=\"text-align: right;\">\n",
       "      <th></th>\n",
       "      <th>id</th>\n",
       "      <th>name</th>\n",
       "      <th>latitude</th>\n",
       "      <th>longitude</th>\n",
       "      <th>address</th>\n",
       "      <th>city</th>\n",
       "      <th>state</th>\n",
       "      <th>zip</th>\n",
       "      <th>country</th>\n",
       "      <th>url</th>\n",
       "      <th>phone</th>\n",
       "      <th>categories</th>\n",
       "      <th>point_of_interest</th>\n",
       "    </tr>\n",
       "  </thead>\n",
       "  <tbody>\n",
       "    <tr>\n",
       "      <th>45891</th>\n",
       "      <td>E_0a44b45f734139</td>\n",
       "      <td>Markham, Maerua Mall</td>\n",
       "      <td>-22.583108</td>\n",
       "      <td>17.093568</td>\n",
       "      <td>NaN</td>\n",
       "      <td>NaN</td>\n",
       "      <td>NaN</td>\n",
       "      <td>NaN</td>\n",
       "      <td>NaN</td>\n",
       "      <td>NaN</td>\n",
       "      <td>NaN</td>\n",
       "      <td>Men's Stores</td>\n",
       "      <td>P_845763d172f88e</td>\n",
       "    </tr>\n",
       "    <tr>\n",
       "      <th>201697</th>\n",
       "      <td>E_2d417f61d76741</td>\n",
       "      <td>Wernhill Park</td>\n",
       "      <td>-22.567297</td>\n",
       "      <td>17.082069</td>\n",
       "      <td>NaN</td>\n",
       "      <td>Windhoek</td>\n",
       "      <td>Khomas</td>\n",
       "      <td>NaN</td>\n",
       "      <td>NaN</td>\n",
       "      <td>NaN</td>\n",
       "      <td>NaN</td>\n",
       "      <td>Shopping Malls</td>\n",
       "      <td>P_5ffceb1c2ec3cd</td>\n",
       "    </tr>\n",
       "    <tr>\n",
       "      <th>253807</th>\n",
       "      <td>E_3900936ca2996a</td>\n",
       "      <td>Hilton Windhoek</td>\n",
       "      <td>-22.570327</td>\n",
       "      <td>17.085307</td>\n",
       "      <td>Rev. Michael Scott Street</td>\n",
       "      <td>Windhoek</td>\n",
       "      <td>Khomas</td>\n",
       "      <td>70</td>\n",
       "      <td>NaN</td>\n",
       "      <td>http://windhoek.hilton.com</td>\n",
       "      <td>612962929</td>\n",
       "      <td>NaN</td>\n",
       "      <td>P_d7df3f321a984f</td>\n",
       "    </tr>\n",
       "  </tbody>\n",
       "</table>\n",
       "</div>"
      ],
      "text/plain": [
       "                      id                  name   latitude  longitude  \\\n",
       "45891   E_0a44b45f734139  Markham, Maerua Mall -22.583108  17.093568   \n",
       "201697  E_2d417f61d76741         Wernhill Park -22.567297  17.082069   \n",
       "253807  E_3900936ca2996a       Hilton Windhoek -22.570327  17.085307   \n",
       "\n",
       "                          address      city   state  zip country  \\\n",
       "45891                         NaN       NaN     NaN  NaN     NaN   \n",
       "201697                        NaN  Windhoek  Khomas  NaN     NaN   \n",
       "253807  Rev. Michael Scott Street  Windhoek  Khomas   70     NaN   \n",
       "\n",
       "                               url      phone      categories  \\\n",
       "45891                          NaN        NaN    Men's Stores   \n",
       "201697                         NaN        NaN  Shopping Malls   \n",
       "253807  http://windhoek.hilton.com  612962929             NaN   \n",
       "\n",
       "       point_of_interest  \n",
       "45891   P_845763d172f88e  \n",
       "201697  P_5ffceb1c2ec3cd  \n",
       "253807  P_d7df3f321a984f  "
      ]
     },
     "execution_count": 20,
     "metadata": {},
     "output_type": "execute_result"
    }
   ],
   "source": [
    "df_train[df_train['country'].isna()].head(3)"
   ]
  },
  {
   "cell_type": "code",
   "execution_count": 21,
   "id": "ed10e406-4ef4-483a-8d82-1f32b07707bf",
   "metadata": {},
   "outputs": [
    {
     "data": {
      "text/html": [
       "<div>\n",
       "<style scoped>\n",
       "    .dataframe tbody tr th:only-of-type {\n",
       "        vertical-align: middle;\n",
       "    }\n",
       "\n",
       "    .dataframe tbody tr th {\n",
       "        vertical-align: top;\n",
       "    }\n",
       "\n",
       "    .dataframe thead th {\n",
       "        text-align: right;\n",
       "    }\n",
       "</style>\n",
       "<table border=\"1\" class=\"dataframe\">\n",
       "  <thead>\n",
       "    <tr style=\"text-align: right;\">\n",
       "      <th></th>\n",
       "      <th>id</th>\n",
       "      <th>name</th>\n",
       "      <th>latitude</th>\n",
       "      <th>longitude</th>\n",
       "      <th>address</th>\n",
       "      <th>city</th>\n",
       "      <th>state</th>\n",
       "      <th>zip</th>\n",
       "      <th>country</th>\n",
       "      <th>url</th>\n",
       "      <th>phone</th>\n",
       "      <th>categories</th>\n",
       "      <th>point_of_interest</th>\n",
       "    </tr>\n",
       "  </thead>\n",
       "  <tbody>\n",
       "    <tr>\n",
       "      <th>750648</th>\n",
       "      <td>E_a8a20800af4423</td>\n",
       "      <td>NaN</td>\n",
       "      <td>40.822332</td>\n",
       "      <td>-96.689102</td>\n",
       "      <td>NaN</td>\n",
       "      <td>NaN</td>\n",
       "      <td>AK</td>\n",
       "      <td>NaN</td>\n",
       "      <td>US</td>\n",
       "      <td>NaN</td>\n",
       "      <td>NaN</td>\n",
       "      <td>NaN</td>\n",
       "      <td>P_be5d12315d8588</td>\n",
       "    </tr>\n",
       "  </tbody>\n",
       "</table>\n",
       "</div>"
      ],
      "text/plain": [
       "                      id name   latitude  longitude address city state  zip  \\\n",
       "750648  E_a8a20800af4423  NaN  40.822332 -96.689102     NaN  NaN    AK  NaN   \n",
       "\n",
       "       country  url phone categories point_of_interest  \n",
       "750648      US  NaN   NaN        NaN  P_be5d12315d8588  "
      ]
     },
     "execution_count": 21,
     "metadata": {},
     "output_type": "execute_result"
    }
   ],
   "source": [
    "df_train[df_train['name'].isna()].head(3)"
   ]
  },
  {
   "cell_type": "markdown",
   "id": "221fca72-aa04-4f82-9361-93970b550d98",
   "metadata": {},
   "source": [
    "## Features in the US set"
   ]
  },
  {
   "cell_type": "code",
   "execution_count": 22,
   "id": "b1ec5fda-1765-4585-b037-1b3e11c0c53f",
   "metadata": {},
   "outputs": [],
   "source": [
    "# # simple sketch\n",
    "# df = df_us\n",
    "# fig, ax = plt.subplots(figsize=(20,11))\n",
    "# ax.scatter(df['longitude'],df['latitude'])\n",
    "# ax.set_xlabel('longitude',fontsize=20)\n",
    "# ax.set_ylabel('latitude',fontsize=20)\n",
    "# ax.tick_params(axis='both', labelsize=20)\n",
    "# ax.grid()\n",
    "# plt.show()"
   ]
  },
  {
   "cell_type": "markdown",
   "id": "adaddae6-a6f4-449a-8e05-3f9375fbcaa8",
   "metadata": {
    "tags": []
   },
   "source": [
    "### `name`"
   ]
  },
  {
   "cell_type": "code",
   "execution_count": 23,
   "id": "b741c2fe-d6d0-4272-8c7c-624785083d16",
   "metadata": {},
   "outputs": [],
   "source": [
    "# # Takes a few minutes.\n",
    "# df = df_us\n",
    "# flag = 0\n",
    "# lang = []\n",
    "# for row in df['name'].dropna():\n",
    "#     if flag > 20:\n",
    "#         break\n",
    "#     try:\n",
    "#         lang.append(detect(row))\n",
    "#     except:\n",
    "#         flag += 1\n",
    "#         language = \"error\"\n",
    "#         print(\"This row throws and error:\", row)\n",
    "# print(set(lang))"
   ]
  },
  {
   "cell_type": "code",
   "execution_count": 24,
   "id": "215135b1-3879-4c39-a5a5-b9377609af2c",
   "metadata": {},
   "outputs": [
    {
     "data": {
      "text/plain": [
       "622268                               \"#208 \\\"Comfort Inn\\\"\"\n",
       "769105                  \"Access Health Care, LLC \\\"Adams\\\"\"\n",
       "885613                 \"Access Health Care, LLC \\\"Howell\\\"\"\n",
       "779271    \"Alfredo's Beach Club's \\\"Sunsets On The Beach...\n",
       "493745                       \"AmVets Post #2 \\\"Post Home\\\"\"\n",
       "                                ...                        \n",
       "150203                                   Kaleigh's Krib\n",
       "513853                                              Heaven\n",
       "121260                                  ﻿V Bar Ultra Lounge\n",
       "474973                                   💇 Hair By CHiiNK 💋\n",
       "750648                                                  NaN\n",
       "Name: name, Length: 245284, dtype: object"
      ]
     },
     "execution_count": 24,
     "metadata": {},
     "output_type": "execute_result"
    }
   ],
   "source": [
    "tmp = df_us['name'].sort_values()\n",
    "tmp"
   ]
  },
  {
   "cell_type": "markdown",
   "id": "e7e24e44-2e33-4ddf-a52f-132f57dec542",
   "metadata": {
    "tags": []
   },
   "source": [
    "### `point_of_interest`"
   ]
  },
  {
   "cell_type": "code",
   "execution_count": 25,
   "id": "26fb9ac1-28b1-4e2a-9f71-fa74c507f11a",
   "metadata": {},
   "outputs": [
    {
     "name": "stdout",
     "output_type": "stream",
     "text": [
      "Number of (unique) POIs :   739972\n",
      "Number of (unique) ids  :  1138812\n"
     ]
    }
   ],
   "source": [
    "print('Number of (unique) POIs : {:8d}'.format(len(df_train['point_of_interest'].unique())))\n",
    "print('Number of (unique) ids  : {:8d}'.format(len(df_train['id'].unique())))"
   ]
  },
  {
   "cell_type": "code",
   "execution_count": 26,
   "id": "e85d3615",
   "metadata": {},
   "outputs": [
    {
     "data": {
      "text/plain": [
       "P_399ab9d64f2a2e    58\n",
       "P_ce9291000a8f0b    46\n",
       "P_a3fddc2f0a77e7    37\n",
       "P_d89437d5f1169c    35\n",
       "P_5cf56bf7bdf7ae    29\n",
       "P_fff25ec89e22da    28\n",
       "P_0c880e80aaa19f    26\n",
       "P_bae8584591fe1a    26\n",
       "P_1e8e17b542e178    25\n",
       "P_4efd9da6085caf    25\n",
       "Name: point_of_interest, dtype: int64"
      ]
     },
     "execution_count": 26,
     "metadata": {},
     "output_type": "execute_result"
    }
   ],
   "source": [
    "df_us['point_of_interest'].value_counts().head(10)"
   ]
  },
  {
   "cell_type": "code",
   "execution_count": 27,
   "id": "aa027598",
   "metadata": {},
   "outputs": [
    {
     "data": {
      "text/html": [
       "<div>\n",
       "<style scoped>\n",
       "    .dataframe tbody tr th:only-of-type {\n",
       "        vertical-align: middle;\n",
       "    }\n",
       "\n",
       "    .dataframe tbody tr th {\n",
       "        vertical-align: top;\n",
       "    }\n",
       "\n",
       "    .dataframe thead th {\n",
       "        text-align: right;\n",
       "    }\n",
       "</style>\n",
       "<table border=\"1\" class=\"dataframe\">\n",
       "  <thead>\n",
       "    <tr style=\"text-align: right;\">\n",
       "      <th></th>\n",
       "      <th>name</th>\n",
       "      <th>latitude</th>\n",
       "      <th>longitude</th>\n",
       "      <th>city</th>\n",
       "      <th>state</th>\n",
       "      <th>zip</th>\n",
       "      <th>categories</th>\n",
       "      <th>point_of_interest</th>\n",
       "    </tr>\n",
       "  </thead>\n",
       "  <tbody>\n",
       "    <tr>\n",
       "      <th>642307</th>\n",
       "      <td>Gregg Steiner - Nationwide Insurance &amp; Financi...</td>\n",
       "      <td>33.607341</td>\n",
       "      <td>-117.877248</td>\n",
       "      <td>Newport Beach</td>\n",
       "      <td>CA</td>\n",
       "      <td>92660</td>\n",
       "      <td>Financial or Legal Services</td>\n",
       "      <td>P_399ab9d64f2a2e</td>\n",
       "    </tr>\n",
       "    <tr>\n",
       "      <th>268102</th>\n",
       "      <td>James S Wills Agency - Nationwide Insurance</td>\n",
       "      <td>34.002130</td>\n",
       "      <td>-81.772107</td>\n",
       "      <td>Saluda</td>\n",
       "      <td>SC</td>\n",
       "      <td>29138</td>\n",
       "      <td>NaN</td>\n",
       "      <td>P_399ab9d64f2a2e</td>\n",
       "    </tr>\n",
       "    <tr>\n",
       "      <th>1517</th>\n",
       "      <td>Nationwide Insurance</td>\n",
       "      <td>39.962014</td>\n",
       "      <td>-82.885847</td>\n",
       "      <td>Columbus</td>\n",
       "      <td>OH</td>\n",
       "      <td>43213</td>\n",
       "      <td>Financial or Legal Services</td>\n",
       "      <td>P_399ab9d64f2a2e</td>\n",
       "    </tr>\n",
       "    <tr>\n",
       "      <th>585453</th>\n",
       "      <td>Nationwide Insurance</td>\n",
       "      <td>39.280624</td>\n",
       "      <td>-76.611005</td>\n",
       "      <td>Baltimore</td>\n",
       "      <td>MD</td>\n",
       "      <td>21230</td>\n",
       "      <td>Financial or Legal Services</td>\n",
       "      <td>P_399ab9d64f2a2e</td>\n",
       "    </tr>\n",
       "    <tr>\n",
       "      <th>233839</th>\n",
       "      <td>Nationwide Insurance</td>\n",
       "      <td>41.224360</td>\n",
       "      <td>-73.071814</td>\n",
       "      <td>Milford</td>\n",
       "      <td>CT</td>\n",
       "      <td>06460</td>\n",
       "      <td>Financial or Legal Services</td>\n",
       "      <td>P_399ab9d64f2a2e</td>\n",
       "    </tr>\n",
       "    <tr>\n",
       "      <th>205941</th>\n",
       "      <td>Nationwide Insurance</td>\n",
       "      <td>35.726227</td>\n",
       "      <td>-79.465096</td>\n",
       "      <td>Siler City</td>\n",
       "      <td>NC</td>\n",
       "      <td>27344</td>\n",
       "      <td>Financial or Legal Services</td>\n",
       "      <td>P_399ab9d64f2a2e</td>\n",
       "    </tr>\n",
       "    <tr>\n",
       "      <th>1109854</th>\n",
       "      <td>Nationwide Insurance</td>\n",
       "      <td>37.771586</td>\n",
       "      <td>-122.276649</td>\n",
       "      <td>Alameda</td>\n",
       "      <td>CA</td>\n",
       "      <td>94501</td>\n",
       "      <td>Financial or Legal Services</td>\n",
       "      <td>P_399ab9d64f2a2e</td>\n",
       "    </tr>\n",
       "    <tr>\n",
       "      <th>147100</th>\n",
       "      <td>Nationwide Insurance</td>\n",
       "      <td>35.991922</td>\n",
       "      <td>-80.028573</td>\n",
       "      <td>High Point</td>\n",
       "      <td>NC</td>\n",
       "      <td>27262</td>\n",
       "      <td>Financial or Legal Services</td>\n",
       "      <td>P_399ab9d64f2a2e</td>\n",
       "    </tr>\n",
       "    <tr>\n",
       "      <th>416436</th>\n",
       "      <td>Nationwide Insurance - AOK Agency</td>\n",
       "      <td>41.594937</td>\n",
       "      <td>-83.647413</td>\n",
       "      <td>Toledo</td>\n",
       "      <td>OH</td>\n",
       "      <td>43614</td>\n",
       "      <td>Financial or Legal Services</td>\n",
       "      <td>P_399ab9d64f2a2e</td>\n",
       "    </tr>\n",
       "    <tr>\n",
       "      <th>818454</th>\n",
       "      <td>Nationwide Insurance - Alexandra Ramos Agency</td>\n",
       "      <td>40.145845</td>\n",
       "      <td>-82.945719</td>\n",
       "      <td>Westerville</td>\n",
       "      <td>OH</td>\n",
       "      <td>43082</td>\n",
       "      <td>Financial or Legal Services</td>\n",
       "      <td>P_399ab9d64f2a2e</td>\n",
       "    </tr>\n",
       "  </tbody>\n",
       "</table>\n",
       "</div>"
      ],
      "text/plain": [
       "                                                      name   latitude  \\\n",
       "642307   Gregg Steiner - Nationwide Insurance & Financi...  33.607341   \n",
       "268102         James S Wills Agency - Nationwide Insurance  34.002130   \n",
       "1517                                  Nationwide Insurance  39.962014   \n",
       "585453                                Nationwide Insurance  39.280624   \n",
       "233839                                Nationwide Insurance  41.224360   \n",
       "205941                                Nationwide Insurance  35.726227   \n",
       "1109854                               Nationwide Insurance  37.771586   \n",
       "147100                                Nationwide Insurance  35.991922   \n",
       "416436                   Nationwide Insurance - AOK Agency  41.594937   \n",
       "818454       Nationwide Insurance - Alexandra Ramos Agency  40.145845   \n",
       "\n",
       "          longitude           city state    zip                   categories  \\\n",
       "642307  -117.877248  Newport Beach    CA  92660  Financial or Legal Services   \n",
       "268102   -81.772107         Saluda    SC  29138                          NaN   \n",
       "1517     -82.885847       Columbus    OH  43213  Financial or Legal Services   \n",
       "585453   -76.611005      Baltimore    MD  21230  Financial or Legal Services   \n",
       "233839   -73.071814        Milford    CT  06460  Financial or Legal Services   \n",
       "205941   -79.465096     Siler City    NC  27344  Financial or Legal Services   \n",
       "1109854 -122.276649        Alameda    CA  94501  Financial or Legal Services   \n",
       "147100   -80.028573     High Point    NC  27262  Financial or Legal Services   \n",
       "416436   -83.647413         Toledo    OH  43614  Financial or Legal Services   \n",
       "818454   -82.945719    Westerville    OH  43082  Financial or Legal Services   \n",
       "\n",
       "        point_of_interest  \n",
       "642307   P_399ab9d64f2a2e  \n",
       "268102   P_399ab9d64f2a2e  \n",
       "1517     P_399ab9d64f2a2e  \n",
       "585453   P_399ab9d64f2a2e  \n",
       "233839   P_399ab9d64f2a2e  \n",
       "205941   P_399ab9d64f2a2e  \n",
       "1109854  P_399ab9d64f2a2e  \n",
       "147100   P_399ab9d64f2a2e  \n",
       "416436   P_399ab9d64f2a2e  \n",
       "818454   P_399ab9d64f2a2e  "
      ]
     },
     "execution_count": 27,
     "metadata": {},
     "output_type": "execute_result"
    }
   ],
   "source": [
    "# Noise: same POI with different physical places; sorted by 'name'.\n",
    "df_us.loc[df_us['point_of_interest']=='P_399ab9d64f2a2e',\n",
    "          ['name','latitude','longitude','city','state','zip','categories','point_of_interest']].sort_values(by='name').head(10)"
   ]
  },
  {
   "cell_type": "code",
   "execution_count": 28,
   "id": "ca247716",
   "metadata": {},
   "outputs": [
    {
     "data": {
      "text/html": [
       "<div>\n",
       "<style scoped>\n",
       "    .dataframe tbody tr th:only-of-type {\n",
       "        vertical-align: middle;\n",
       "    }\n",
       "\n",
       "    .dataframe tbody tr th {\n",
       "        vertical-align: top;\n",
       "    }\n",
       "\n",
       "    .dataframe thead th {\n",
       "        text-align: right;\n",
       "    }\n",
       "</style>\n",
       "<table border=\"1\" class=\"dataframe\">\n",
       "  <thead>\n",
       "    <tr style=\"text-align: right;\">\n",
       "      <th></th>\n",
       "      <th>name</th>\n",
       "      <th>latitude</th>\n",
       "      <th>longitude</th>\n",
       "      <th>city</th>\n",
       "      <th>state</th>\n",
       "      <th>zip</th>\n",
       "      <th>categories</th>\n",
       "      <th>point_of_interest</th>\n",
       "    </tr>\n",
       "  </thead>\n",
       "  <tbody>\n",
       "    <tr>\n",
       "      <th>161948</th>\n",
       "      <td>Nationwide Insurance - Bruce Sargent Insurance...</td>\n",
       "      <td>34.262962</td>\n",
       "      <td>-92.084663</td>\n",
       "      <td>White Hall</td>\n",
       "      <td>AR</td>\n",
       "      <td>71602</td>\n",
       "      <td>Financial or Legal Services</td>\n",
       "      <td>P_399ab9d64f2a2e</td>\n",
       "    </tr>\n",
       "    <tr>\n",
       "      <th>193359</th>\n",
       "      <td>Nationwide Insurance - Gates Ins Inc</td>\n",
       "      <td>33.396255</td>\n",
       "      <td>-111.684190</td>\n",
       "      <td>Mesa</td>\n",
       "      <td>AZ</td>\n",
       "      <td>85206</td>\n",
       "      <td>Financial or Legal Services</td>\n",
       "      <td>P_399ab9d64f2a2e</td>\n",
       "    </tr>\n",
       "    <tr>\n",
       "      <th>1109854</th>\n",
       "      <td>Nationwide Insurance</td>\n",
       "      <td>37.771586</td>\n",
       "      <td>-122.276649</td>\n",
       "      <td>Alameda</td>\n",
       "      <td>CA</td>\n",
       "      <td>94501</td>\n",
       "      <td>Financial or Legal Services</td>\n",
       "      <td>P_399ab9d64f2a2e</td>\n",
       "    </tr>\n",
       "    <tr>\n",
       "      <th>642307</th>\n",
       "      <td>Gregg Steiner - Nationwide Insurance &amp; Financi...</td>\n",
       "      <td>33.607341</td>\n",
       "      <td>-117.877248</td>\n",
       "      <td>Newport Beach</td>\n",
       "      <td>CA</td>\n",
       "      <td>92660</td>\n",
       "      <td>Financial or Legal Services</td>\n",
       "      <td>P_399ab9d64f2a2e</td>\n",
       "    </tr>\n",
       "    <tr>\n",
       "      <th>582169</th>\n",
       "      <td>Nationwide Insurance - Alison Maureen Rielli A...</td>\n",
       "      <td>38.607881</td>\n",
       "      <td>-121.435018</td>\n",
       "      <td>Sacramento</td>\n",
       "      <td>CA</td>\n",
       "      <td>95815</td>\n",
       "      <td>Financial or Legal Services</td>\n",
       "      <td>P_399ab9d64f2a2e</td>\n",
       "    </tr>\n",
       "    <tr>\n",
       "      <th>52883</th>\n",
       "      <td>Nationwide Insurance - Ronald Scott Madden Agency</td>\n",
       "      <td>36.828552</td>\n",
       "      <td>-119.701050</td>\n",
       "      <td>Clovis</td>\n",
       "      <td>CA</td>\n",
       "      <td>93612</td>\n",
       "      <td>Financial or Legal Services</td>\n",
       "      <td>P_399ab9d64f2a2e</td>\n",
       "    </tr>\n",
       "    <tr>\n",
       "      <th>630340</th>\n",
       "      <td>Nationwide Insurance - Colorado Insurance Group</td>\n",
       "      <td>39.678352</td>\n",
       "      <td>-105.082184</td>\n",
       "      <td>Denver</td>\n",
       "      <td>CO</td>\n",
       "      <td>80246</td>\n",
       "      <td>Financial or Legal Services</td>\n",
       "      <td>P_399ab9d64f2a2e</td>\n",
       "    </tr>\n",
       "    <tr>\n",
       "      <th>233839</th>\n",
       "      <td>Nationwide Insurance</td>\n",
       "      <td>41.224360</td>\n",
       "      <td>-73.071814</td>\n",
       "      <td>Milford</td>\n",
       "      <td>CT</td>\n",
       "      <td>06460</td>\n",
       "      <td>Financial or Legal Services</td>\n",
       "      <td>P_399ab9d64f2a2e</td>\n",
       "    </tr>\n",
       "    <tr>\n",
       "      <th>272625</th>\n",
       "      <td>Nationwide Insurance - Bryan Slater Agency</td>\n",
       "      <td>33.740365</td>\n",
       "      <td>-84.392853</td>\n",
       "      <td>Atlanta</td>\n",
       "      <td>GA</td>\n",
       "      <td>30312</td>\n",
       "      <td>Financial or Legal Services</td>\n",
       "      <td>P_399ab9d64f2a2e</td>\n",
       "    </tr>\n",
       "    <tr>\n",
       "      <th>1009171</th>\n",
       "      <td>Nationwide Insurance - Nicholas Greene Agency</td>\n",
       "      <td>34.111238</td>\n",
       "      <td>-84.039890</td>\n",
       "      <td>Sugar Hill</td>\n",
       "      <td>GA</td>\n",
       "      <td>30518</td>\n",
       "      <td>Financial or Legal Services</td>\n",
       "      <td>P_399ab9d64f2a2e</td>\n",
       "    </tr>\n",
       "  </tbody>\n",
       "</table>\n",
       "</div>"
      ],
      "text/plain": [
       "                                                      name   latitude  \\\n",
       "161948   Nationwide Insurance - Bruce Sargent Insurance...  34.262962   \n",
       "193359                Nationwide Insurance - Gates Ins Inc  33.396255   \n",
       "1109854                               Nationwide Insurance  37.771586   \n",
       "642307   Gregg Steiner - Nationwide Insurance & Financi...  33.607341   \n",
       "582169   Nationwide Insurance - Alison Maureen Rielli A...  38.607881   \n",
       "52883    Nationwide Insurance - Ronald Scott Madden Agency  36.828552   \n",
       "630340     Nationwide Insurance - Colorado Insurance Group  39.678352   \n",
       "233839                                Nationwide Insurance  41.224360   \n",
       "272625          Nationwide Insurance - Bryan Slater Agency  33.740365   \n",
       "1009171      Nationwide Insurance - Nicholas Greene Agency  34.111238   \n",
       "\n",
       "          longitude           city state    zip                   categories  \\\n",
       "161948   -92.084663     White Hall    AR  71602  Financial or Legal Services   \n",
       "193359  -111.684190           Mesa    AZ  85206  Financial or Legal Services   \n",
       "1109854 -122.276649        Alameda    CA  94501  Financial or Legal Services   \n",
       "642307  -117.877248  Newport Beach    CA  92660  Financial or Legal Services   \n",
       "582169  -121.435018     Sacramento    CA  95815  Financial or Legal Services   \n",
       "52883   -119.701050         Clovis    CA  93612  Financial or Legal Services   \n",
       "630340  -105.082184         Denver    CO  80246  Financial or Legal Services   \n",
       "233839   -73.071814        Milford    CT  06460  Financial or Legal Services   \n",
       "272625   -84.392853        Atlanta    GA  30312  Financial or Legal Services   \n",
       "1009171  -84.039890     Sugar Hill    GA  30518  Financial or Legal Services   \n",
       "\n",
       "        point_of_interest  \n",
       "161948   P_399ab9d64f2a2e  \n",
       "193359   P_399ab9d64f2a2e  \n",
       "1109854  P_399ab9d64f2a2e  \n",
       "642307   P_399ab9d64f2a2e  \n",
       "582169   P_399ab9d64f2a2e  \n",
       "52883    P_399ab9d64f2a2e  \n",
       "630340   P_399ab9d64f2a2e  \n",
       "233839   P_399ab9d64f2a2e  \n",
       "272625   P_399ab9d64f2a2e  \n",
       "1009171  P_399ab9d64f2a2e  "
      ]
     },
     "execution_count": 28,
     "metadata": {},
     "output_type": "execute_result"
    }
   ],
   "source": [
    "# Noise: same POI with different physical places; sorted by 'state'.\n",
    "df_us.loc[df_us['point_of_interest']=='P_399ab9d64f2a2e',\n",
    "          ['name','latitude','longitude','city','state','zip','categories','point_of_interest']].sort_values(by='state').head(10)"
   ]
  },
  {
   "cell_type": "code",
   "execution_count": 29,
   "id": "e4d77f19",
   "metadata": {},
   "outputs": [
    {
     "data": {
      "text/html": [
       "<div>\n",
       "<style scoped>\n",
       "    .dataframe tbody tr th:only-of-type {\n",
       "        vertical-align: middle;\n",
       "    }\n",
       "\n",
       "    .dataframe tbody tr th {\n",
       "        vertical-align: top;\n",
       "    }\n",
       "\n",
       "    .dataframe thead th {\n",
       "        text-align: right;\n",
       "    }\n",
       "</style>\n",
       "<table border=\"1\" class=\"dataframe\">\n",
       "  <thead>\n",
       "    <tr style=\"text-align: right;\">\n",
       "      <th></th>\n",
       "      <th>name</th>\n",
       "      <th>latitude</th>\n",
       "      <th>longitude</th>\n",
       "      <th>city</th>\n",
       "      <th>state</th>\n",
       "      <th>zip</th>\n",
       "      <th>categories</th>\n",
       "      <th>point_of_interest</th>\n",
       "    </tr>\n",
       "  </thead>\n",
       "  <tbody>\n",
       "    <tr>\n",
       "      <th>1109854</th>\n",
       "      <td>Nationwide Insurance</td>\n",
       "      <td>37.771586</td>\n",
       "      <td>-122.276649</td>\n",
       "      <td>Alameda</td>\n",
       "      <td>CA</td>\n",
       "      <td>94501</td>\n",
       "      <td>Financial or Legal Services</td>\n",
       "      <td>P_399ab9d64f2a2e</td>\n",
       "    </tr>\n",
       "    <tr>\n",
       "      <th>272625</th>\n",
       "      <td>Nationwide Insurance - Bryan Slater Agency</td>\n",
       "      <td>33.740365</td>\n",
       "      <td>-84.392853</td>\n",
       "      <td>Atlanta</td>\n",
       "      <td>GA</td>\n",
       "      <td>30312</td>\n",
       "      <td>Financial or Legal Services</td>\n",
       "      <td>P_399ab9d64f2a2e</td>\n",
       "    </tr>\n",
       "    <tr>\n",
       "      <th>671771</th>\n",
       "      <td>Nationwide Insurance - Corrigan Insurance Agen...</td>\n",
       "      <td>39.280465</td>\n",
       "      <td>-76.610727</td>\n",
       "      <td>Baltimore</td>\n",
       "      <td>MD</td>\n",
       "      <td>21230</td>\n",
       "      <td>Financial or Legal Services</td>\n",
       "      <td>P_399ab9d64f2a2e</td>\n",
       "    </tr>\n",
       "    <tr>\n",
       "      <th>585453</th>\n",
       "      <td>Nationwide Insurance</td>\n",
       "      <td>39.280624</td>\n",
       "      <td>-76.611005</td>\n",
       "      <td>Baltimore</td>\n",
       "      <td>MD</td>\n",
       "      <td>21230</td>\n",
       "      <td>Financial or Legal Services</td>\n",
       "      <td>P_399ab9d64f2a2e</td>\n",
       "    </tr>\n",
       "    <tr>\n",
       "      <th>472930</th>\n",
       "      <td>Nationwide Insurance - Robertson Financial Group</td>\n",
       "      <td>39.280121</td>\n",
       "      <td>-80.233749</td>\n",
       "      <td>Bridgeport</td>\n",
       "      <td>WV</td>\n",
       "      <td>26330</td>\n",
       "      <td>Financial or Legal Services</td>\n",
       "      <td>P_399ab9d64f2a2e</td>\n",
       "    </tr>\n",
       "    <tr>\n",
       "      <th>748106</th>\n",
       "      <td>Nationwide Insurance - Michael Glick Agency Inc</td>\n",
       "      <td>36.080887</td>\n",
       "      <td>-79.474373</td>\n",
       "      <td>Burlington</td>\n",
       "      <td>NC</td>\n",
       "      <td>27215</td>\n",
       "      <td>Financial or Legal Services</td>\n",
       "      <td>P_399ab9d64f2a2e</td>\n",
       "    </tr>\n",
       "    <tr>\n",
       "      <th>675426</th>\n",
       "      <td>Nationwide Insurance - Bouldin Williams Agency...</td>\n",
       "      <td>36.072111</td>\n",
       "      <td>-79.427535</td>\n",
       "      <td>Burlington</td>\n",
       "      <td>NC</td>\n",
       "      <td>27215</td>\n",
       "      <td>Financial or Legal Services</td>\n",
       "      <td>P_399ab9d64f2a2e</td>\n",
       "    </tr>\n",
       "    <tr>\n",
       "      <th>418003</th>\n",
       "      <td>Nationwide Insurance - Mcglothin Insurance And Co</td>\n",
       "      <td>39.603920</td>\n",
       "      <td>-82.918571</td>\n",
       "      <td>Circleville</td>\n",
       "      <td>OH</td>\n",
       "      <td>43113</td>\n",
       "      <td>Financial or Legal Services</td>\n",
       "      <td>P_399ab9d64f2a2e</td>\n",
       "    </tr>\n",
       "    <tr>\n",
       "      <th>52883</th>\n",
       "      <td>Nationwide Insurance - Ronald Scott Madden Agency</td>\n",
       "      <td>36.828552</td>\n",
       "      <td>-119.701050</td>\n",
       "      <td>Clovis</td>\n",
       "      <td>CA</td>\n",
       "      <td>93612</td>\n",
       "      <td>Financial or Legal Services</td>\n",
       "      <td>P_399ab9d64f2a2e</td>\n",
       "    </tr>\n",
       "    <tr>\n",
       "      <th>303528</th>\n",
       "      <td>Nationwide Insurance - Thomas S Davis</td>\n",
       "      <td>36.201122</td>\n",
       "      <td>-76.767464</td>\n",
       "      <td>Colerain</td>\n",
       "      <td>NC</td>\n",
       "      <td>27924</td>\n",
       "      <td>Financial or Legal Services</td>\n",
       "      <td>P_399ab9d64f2a2e</td>\n",
       "    </tr>\n",
       "  </tbody>\n",
       "</table>\n",
       "</div>"
      ],
      "text/plain": [
       "                                                      name   latitude  \\\n",
       "1109854                               Nationwide Insurance  37.771586   \n",
       "272625          Nationwide Insurance - Bryan Slater Agency  33.740365   \n",
       "671771   Nationwide Insurance - Corrigan Insurance Agen...  39.280465   \n",
       "585453                                Nationwide Insurance  39.280624   \n",
       "472930    Nationwide Insurance - Robertson Financial Group  39.280121   \n",
       "748106     Nationwide Insurance - Michael Glick Agency Inc  36.080887   \n",
       "675426   Nationwide Insurance - Bouldin Williams Agency...  36.072111   \n",
       "418003   Nationwide Insurance - Mcglothin Insurance And Co  39.603920   \n",
       "52883    Nationwide Insurance - Ronald Scott Madden Agency  36.828552   \n",
       "303528               Nationwide Insurance - Thomas S Davis  36.201122   \n",
       "\n",
       "          longitude         city state    zip                   categories  \\\n",
       "1109854 -122.276649      Alameda    CA  94501  Financial or Legal Services   \n",
       "272625   -84.392853      Atlanta    GA  30312  Financial or Legal Services   \n",
       "671771   -76.610727    Baltimore    MD  21230  Financial or Legal Services   \n",
       "585453   -76.611005    Baltimore    MD  21230  Financial or Legal Services   \n",
       "472930   -80.233749   Bridgeport    WV  26330  Financial or Legal Services   \n",
       "748106   -79.474373   Burlington    NC  27215  Financial or Legal Services   \n",
       "675426   -79.427535   Burlington    NC  27215  Financial or Legal Services   \n",
       "418003   -82.918571  Circleville    OH  43113  Financial or Legal Services   \n",
       "52883   -119.701050       Clovis    CA  93612  Financial or Legal Services   \n",
       "303528   -76.767464     Colerain    NC  27924  Financial or Legal Services   \n",
       "\n",
       "        point_of_interest  \n",
       "1109854  P_399ab9d64f2a2e  \n",
       "272625   P_399ab9d64f2a2e  \n",
       "671771   P_399ab9d64f2a2e  \n",
       "585453   P_399ab9d64f2a2e  \n",
       "472930   P_399ab9d64f2a2e  \n",
       "748106   P_399ab9d64f2a2e  \n",
       "675426   P_399ab9d64f2a2e  \n",
       "418003   P_399ab9d64f2a2e  \n",
       "52883    P_399ab9d64f2a2e  \n",
       "303528   P_399ab9d64f2a2e  "
      ]
     },
     "execution_count": 29,
     "metadata": {},
     "output_type": "execute_result"
    }
   ],
   "source": [
    "# Noise: same POI with different physical places; sorted by 'city'.\n",
    "df_us.loc[df_us['point_of_interest']=='P_399ab9d64f2a2e',\n",
    "          ['name','latitude','longitude','city','state','zip','categories','point_of_interest']].sort_values(by='city').head(10)\n",
    "# df_us[df_us['name']=='CVS'].sort_values(by='point_of_interest').head()"
   ]
  },
  {
   "cell_type": "markdown",
   "id": "1b1ab179-9708-49b6-abde-1312c620b141",
   "metadata": {},
   "source": [
    "### `state`"
   ]
  },
  {
   "cell_type": "code",
   "execution_count": 30,
   "id": "7cabf909-b975-4fd3-a5fe-b1881595ba29",
   "metadata": {},
   "outputs": [
    {
     "data": {
      "text/plain": [
       "array(['CA', 'GA', 'NM', 'FL', 'PA', 'VA', 'NJ', 'OH', 'WI', 'MO', 'SC',\n",
       "       'TN', 'OR', 'AZ', 'TX', 'MD', 'NY', 'MI', 'MA', 'NC', 'UT', 'IN',\n",
       "       'IL', nan, 'Calif', 'NV', 'KS', 'MS', 'WA', 'AL', 'OK', 'AR', 'CT',\n",
       "       'KY', 'NE', 'WV', 'CO', 'HI', 'ID', 'LA', 'MN', 'MT', 'ME', 'NH',\n",
       "       'nv', 'WY', 'IA', 'DE', 'RI', 'VT', 'il', 'ND', 'AK', 'DC', 'SD',\n",
       "       'D.C.', 'Ia', 'Ohio', 'Nj', 'Georgia', 'Nc', 'de', 'New York',\n",
       "       'New Jersey', 'Ca', 'texas', 'Pa', 'Missouri', 'pa', 'Tx',\n",
       "       'Connecticut', 'Ok', 'co', 'wi', 'Va', 'Az', 'ca',\n",
       "       'North Carolina', 'Tennessee', 'Pennsylvania', 'Florida',\n",
       "       'Massachusetts', 'tx', 'Kansas', 'Ny', 'Ga', 'Virginia', 'fl',\n",
       "       'Tamaulipas', 'LOUISIANA', 'nc', 'Il', 'California', 'Ma', 'PR',\n",
       "       'wa', 'Maryland', 'ny', 'Illinois', 'District of Columbia', 'Iowa',\n",
       "       'Texas', 'CE', 'Wisconsin', 'Fl', 'mi', 'az', 'Arkansas',\n",
       "       'Capital Region of Denmark', 'Minnesota', 'Md', 'Tn',\n",
       "       'Mississippi', 'Idaho', 'Oregon', 'Mo', 'In', 'Or', 'Kentucky',\n",
       "       'Co', 'ky', 'nj', 'al', 'Alabama', 'Ky', 'Oklahoma', 'Ct', 'oh',\n",
       "       'New york', 'Nebraska', 'Indiana', 'BCN', 'Louisiana', 'Al', 'Ks',\n",
       "       'Delaware', 'Colorado', 'florida', 'Vermont', 'va', 'Arizona',\n",
       "       'Michigan', 'South Carolina', 'georgia', 'Baja California', 'mn',\n",
       "       'Me', 'in', 'ga', 'Oh', 'Washington', 'Nevada', 'Wv', 'ks',\n",
       "       'ON/NY', 'Mi', 'Mn', 'North Dakota', 'sc', 'dc', 'vt',\n",
       "       'West Virginia', 'NU', 'La', 'ohio', 'New Mexico', 'London', 'or',\n",
       "       'Sc', 'md', 'ar', 'South Dakota', 'ma', 'Nv', '国外', 'UK', 'Ri',\n",
       "       'tn', 'Wa', 'Hawaii', 'la', 'Wi', 'ct'], dtype=object)"
      ]
     },
     "execution_count": 30,
     "metadata": {},
     "output_type": "execute_result"
    }
   ],
   "source": [
    "df_us['state'].unique()"
   ]
  },
  {
   "cell_type": "code",
   "execution_count": 31,
   "id": "08dd12ff-2fea-4daa-afa3-b3d66a5fae31",
   "metadata": {},
   "outputs": [
    {
     "data": {
      "text/html": [
       "<div>\n",
       "<style scoped>\n",
       "    .dataframe tbody tr th:only-of-type {\n",
       "        vertical-align: middle;\n",
       "    }\n",
       "\n",
       "    .dataframe tbody tr th {\n",
       "        vertical-align: top;\n",
       "    }\n",
       "\n",
       "    .dataframe thead th {\n",
       "        text-align: right;\n",
       "    }\n",
       "</style>\n",
       "<table border=\"1\" class=\"dataframe\">\n",
       "  <thead>\n",
       "    <tr style=\"text-align: right;\">\n",
       "      <th></th>\n",
       "      <th>id</th>\n",
       "      <th>name</th>\n",
       "      <th>latitude</th>\n",
       "      <th>longitude</th>\n",
       "      <th>address</th>\n",
       "      <th>city</th>\n",
       "      <th>state</th>\n",
       "      <th>zip</th>\n",
       "      <th>country</th>\n",
       "      <th>url</th>\n",
       "      <th>phone</th>\n",
       "      <th>categories</th>\n",
       "      <th>point_of_interest</th>\n",
       "    </tr>\n",
       "  </thead>\n",
       "  <tbody>\n",
       "    <tr>\n",
       "      <th>75113</th>\n",
       "      <td>E_10d0a514fabcc6</td>\n",
       "      <td>AutoZone</td>\n",
       "      <td>26.080340</td>\n",
       "      <td>-98.304671</td>\n",
       "      <td>Blvd. Hidalgo # 1750 Col. Morelos</td>\n",
       "      <td>Reynosa</td>\n",
       "      <td>Tamaulipas</td>\n",
       "      <td>88651</td>\n",
       "      <td>US</td>\n",
       "      <td>https://www.autozone.com.mx</td>\n",
       "      <td>8999238990</td>\n",
       "      <td>Automotive Shops</td>\n",
       "      <td>P_caaec985490160</td>\n",
       "    </tr>\n",
       "    <tr>\n",
       "      <th>153657</th>\n",
       "      <td>E_226eb110eb0a4e</td>\n",
       "      <td>Evevideo 8</td>\n",
       "      <td>40.771182</td>\n",
       "      <td>-73.977953</td>\n",
       "      <td>Av Pedro Alves</td>\n",
       "      <td>Acopiara</td>\n",
       "      <td>CE</td>\n",
       "      <td>63560-000</td>\n",
       "      <td>US</td>\n",
       "      <td>NaN</td>\n",
       "      <td>NaN</td>\n",
       "      <td>Conferences</td>\n",
       "      <td>P_ac5a6fb63841d4</td>\n",
       "    </tr>\n",
       "    <tr>\n",
       "      <th>182570</th>\n",
       "      <td>E_28f6a8c1810d42</td>\n",
       "      <td>Copenhagen Airport (CPH)</td>\n",
       "      <td>55.613190</td>\n",
       "      <td>12.647946</td>\n",
       "      <td>NaN</td>\n",
       "      <td>Copenhagen</td>\n",
       "      <td>Capital Region of Denmark</td>\n",
       "      <td>NaN</td>\n",
       "      <td>US</td>\n",
       "      <td>NaN</td>\n",
       "      <td>NaN</td>\n",
       "      <td>Airports</td>\n",
       "      <td>P_de322dff6e3a8b</td>\n",
       "    </tr>\n",
       "    <tr>\n",
       "      <th>251224</th>\n",
       "      <td>E_3869cbc132af4a</td>\n",
       "      <td>Evevideo 1</td>\n",
       "      <td>40.770792</td>\n",
       "      <td>-73.976183</td>\n",
       "      <td>Av Pedro Alves</td>\n",
       "      <td>Acopiara</td>\n",
       "      <td>CE</td>\n",
       "      <td>63560-000</td>\n",
       "      <td>US</td>\n",
       "      <td>NaN</td>\n",
       "      <td>NaN</td>\n",
       "      <td>Conferences</td>\n",
       "      <td>P_ac5a6fb63841d4</td>\n",
       "    </tr>\n",
       "    <tr>\n",
       "      <th>295772</th>\n",
       "      <td>E_426b4d3c7f12cf</td>\n",
       "      <td>Evevideo 7</td>\n",
       "      <td>40.771361</td>\n",
       "      <td>-73.977191</td>\n",
       "      <td>Av Pedro Alves</td>\n",
       "      <td>Acopiara</td>\n",
       "      <td>CE</td>\n",
       "      <td>63560-000</td>\n",
       "      <td>US</td>\n",
       "      <td>NaN</td>\n",
       "      <td>NaN</td>\n",
       "      <td>Conferences</td>\n",
       "      <td>P_ac5a6fb63841d4</td>\n",
       "    </tr>\n",
       "    <tr>\n",
       "      <th>361799</th>\n",
       "      <td>E_514da8554757c7</td>\n",
       "      <td>Dulceria Alejandra</td>\n",
       "      <td>32.659417</td>\n",
       "      <td>-115.486806</td>\n",
       "      <td>NaN</td>\n",
       "      <td>Mexicali</td>\n",
       "      <td>BCN</td>\n",
       "      <td>NaN</td>\n",
       "      <td>US</td>\n",
       "      <td>NaN</td>\n",
       "      <td>NaN</td>\n",
       "      <td>Candy Stores</td>\n",
       "      <td>P_363b19f021fb6f</td>\n",
       "    </tr>\n",
       "    <tr>\n",
       "      <th>600387</th>\n",
       "      <td>E_86ee21433a06ce</td>\n",
       "      <td>Canada / US Border</td>\n",
       "      <td>42.907269</td>\n",
       "      <td>-78.907035</td>\n",
       "      <td>Peace Bridge</td>\n",
       "      <td>Fort Erie/Buffalo</td>\n",
       "      <td>ON/NY</td>\n",
       "      <td>NaN</td>\n",
       "      <td>US</td>\n",
       "      <td>NaN</td>\n",
       "      <td>NaN</td>\n",
       "      <td>Border Crossings</td>\n",
       "      <td>P_856fc237546080</td>\n",
       "    </tr>\n",
       "    <tr>\n",
       "      <th>738444</th>\n",
       "      <td>E_a5e59da858ec99</td>\n",
       "      <td>Wegmans Pharmacy</td>\n",
       "      <td>42.145954</td>\n",
       "      <td>-77.062603</td>\n",
       "      <td>24 S. Bridge St.</td>\n",
       "      <td>Corning</td>\n",
       "      <td>NU</td>\n",
       "      <td>14830</td>\n",
       "      <td>US</td>\n",
       "      <td>NaN</td>\n",
       "      <td>NaN</td>\n",
       "      <td>Pharmacies</td>\n",
       "      <td>P_fcf4397457178a</td>\n",
       "    </tr>\n",
       "    <tr>\n",
       "      <th>886639</th>\n",
       "      <td>E_c72776cf1d131b</td>\n",
       "      <td>boiling crab</td>\n",
       "      <td>37.302755</td>\n",
       "      <td>-121.864208</td>\n",
       "      <td>1631 E Capitol Expy San Jose, CA 95121-1826 (4...</td>\n",
       "      <td>海外</td>\n",
       "      <td>国外</td>\n",
       "      <td>95121</td>\n",
       "      <td>US</td>\n",
       "      <td>NaN</td>\n",
       "      <td>NaN</td>\n",
       "      <td>NaN</td>\n",
       "      <td>P_0cc38b5ae552c4</td>\n",
       "    </tr>\n",
       "    <tr>\n",
       "      <th>918520</th>\n",
       "      <td>E_ce51ff08bea33e</td>\n",
       "      <td>Albemarle Art Gallery, London UK</td>\n",
       "      <td>33.636645</td>\n",
       "      <td>-84.437706</td>\n",
       "      <td>Albermarle</td>\n",
       "      <td>London</td>\n",
       "      <td>UK</td>\n",
       "      <td>NaN</td>\n",
       "      <td>US</td>\n",
       "      <td>NaN</td>\n",
       "      <td>NaN</td>\n",
       "      <td>NaN</td>\n",
       "      <td>P_a2569d6f26dd5c</td>\n",
       "    </tr>\n",
       "  </tbody>\n",
       "</table>\n",
       "</div>"
      ],
      "text/plain": [
       "                      id                              name   latitude  \\\n",
       "75113   E_10d0a514fabcc6                          AutoZone  26.080340   \n",
       "153657  E_226eb110eb0a4e                        Evevideo 8  40.771182   \n",
       "182570  E_28f6a8c1810d42          Copenhagen Airport (CPH)  55.613190   \n",
       "251224  E_3869cbc132af4a                        Evevideo 1  40.770792   \n",
       "295772  E_426b4d3c7f12cf                        Evevideo 7  40.771361   \n",
       "361799  E_514da8554757c7                Dulceria Alejandra  32.659417   \n",
       "600387  E_86ee21433a06ce                Canada / US Border  42.907269   \n",
       "738444  E_a5e59da858ec99                  Wegmans Pharmacy  42.145954   \n",
       "886639  E_c72776cf1d131b                      boiling crab  37.302755   \n",
       "918520  E_ce51ff08bea33e  Albemarle Art Gallery, London UK  33.636645   \n",
       "\n",
       "         longitude                                            address  \\\n",
       "75113   -98.304671                  Blvd. Hidalgo # 1750 Col. Morelos   \n",
       "153657  -73.977953                                     Av Pedro Alves   \n",
       "182570   12.647946                                                NaN   \n",
       "251224  -73.976183                                     Av Pedro Alves   \n",
       "295772  -73.977191                                     Av Pedro Alves   \n",
       "361799 -115.486806                                                NaN   \n",
       "600387  -78.907035                                       Peace Bridge   \n",
       "738444  -77.062603                                   24 S. Bridge St.   \n",
       "886639 -121.864208  1631 E Capitol Expy San Jose, CA 95121-1826 (4...   \n",
       "918520  -84.437706                                         Albermarle   \n",
       "\n",
       "                     city                      state        zip country  \\\n",
       "75113             Reynosa                 Tamaulipas      88651      US   \n",
       "153657           Acopiara                         CE  63560-000      US   \n",
       "182570         Copenhagen  Capital Region of Denmark        NaN      US   \n",
       "251224           Acopiara                         CE  63560-000      US   \n",
       "295772           Acopiara                         CE  63560-000      US   \n",
       "361799           Mexicali                        BCN        NaN      US   \n",
       "600387  Fort Erie/Buffalo                      ON/NY        NaN      US   \n",
       "738444            Corning                         NU      14830      US   \n",
       "886639                 海外                         国外      95121      US   \n",
       "918520             London                         UK        NaN      US   \n",
       "\n",
       "                                url       phone        categories  \\\n",
       "75113   https://www.autozone.com.mx  8999238990  Automotive Shops   \n",
       "153657                          NaN         NaN       Conferences   \n",
       "182570                          NaN         NaN          Airports   \n",
       "251224                          NaN         NaN       Conferences   \n",
       "295772                          NaN         NaN       Conferences   \n",
       "361799                          NaN         NaN      Candy Stores   \n",
       "600387                          NaN         NaN  Border Crossings   \n",
       "738444                          NaN         NaN        Pharmacies   \n",
       "886639                          NaN         NaN               NaN   \n",
       "918520                          NaN         NaN               NaN   \n",
       "\n",
       "       point_of_interest  \n",
       "75113   P_caaec985490160  \n",
       "153657  P_ac5a6fb63841d4  \n",
       "182570  P_de322dff6e3a8b  \n",
       "251224  P_ac5a6fb63841d4  \n",
       "295772  P_ac5a6fb63841d4  \n",
       "361799  P_363b19f021fb6f  \n",
       "600387  P_856fc237546080  \n",
       "738444  P_fcf4397457178a  \n",
       "886639  P_0cc38b5ae552c4  \n",
       "918520  P_a2569d6f26dd5c  "
      ]
     },
     "execution_count": 31,
     "metadata": {},
     "output_type": "execute_result"
    }
   ],
   "source": [
    "# Drop these.\n",
    "filter_set = ['国外','UK','CE','ON/NY','Capital Region of Denmark','BCN','Tamaulipas','NU']\n",
    "df_us[df_us['state'].isin(filter_set)]"
   ]
  },
  {
   "cell_type": "markdown",
   "id": "097af4e3",
   "metadata": {},
   "source": [
    "#### Notes on the `point_of_interest` feature:\n",
    "\n",
    "https://www.kaggle.com/competitions/foursquare-location-matching/discussion/318967#1783581"
   ]
  },
  {
   "cell_type": "code",
   "execution_count": 32,
   "id": "fdce010a",
   "metadata": {},
   "outputs": [],
   "source": [
    "# mask = (df_train['country'] == 'US')\n",
    "# total     = len(df_train[df_train['country'] == 'US'])\n",
    "# zip_len   = len(df_train[df_train['zip'].isna()  & mask])\n",
    "# state_len = len(df_train[df_train['state'].isna()& mask])\n",
    "# city_len  = len(df_train[df_train['city'].isna() & mask])\n",
    "# zsc_len   = len(df_train[df_train['zip'].isna() | df_train['state'].isna() | df_train['city'].isna() | mask])\n",
    "# print(total)\n",
    "# print(zip_len/total)\n",
    "# print(state_len/total)\n",
    "# print(city_len/total)\n",
    "# print(zsc_len/total)"
   ]
  },
  {
   "cell_type": "markdown",
   "id": "039e2750-7c9f-4f7a-82e9-a8e09677f61f",
   "metadata": {},
   "source": [
    "### `categories`"
   ]
  },
  {
   "cell_type": "code",
   "execution_count": 33,
   "id": "ef8c5292-2c01-4919-8f24-6cd1439b78d6",
   "metadata": {},
   "outputs": [
    {
     "data": {
      "text/plain": [
       "383852                                     Basketball Courts\n",
       "953666                                                 Parks\n",
       "898963                                             Mountains\n",
       "400118           Residential Buildings (Apartments / Condos)\n",
       "809231                                       Sandwich Places\n",
       "449706                                          Gas Stations\n",
       "252305        Automotive Shops, Auto Workshops, Auto Garages\n",
       "982379                                          Auto Garages\n",
       "643076                                           Non-Profits\n",
       "225870                                                Hotels\n",
       "107222                                                Hotels\n",
       "531282                                            Roof Decks\n",
       "186114                                               Lawyers\n",
       "73340                                                    NaN\n",
       "39507                    French Restaurants, Delis / Bodegas\n",
       "1058086                                        Tech Startups\n",
       "912820                                 Soccer Fields, Fields\n",
       "450922                                           Campgrounds\n",
       "669919                                         Soccer Fields\n",
       "78479                                                    NaN\n",
       "1119166                                           Nightclubs\n",
       "880463                                           Campgrounds\n",
       "1018529                                Ethiopian Restaurants\n",
       "212066                           Financial or Legal Services\n",
       "267120                                   Mexican Restaurants\n",
       "141868                                                   NaN\n",
       "1074365    Sandwich Places, Fast Food Restaurants, Restau...\n",
       "856665                                                   NaN\n",
       "270248     Residential Buildings (Apartments / Condos), C...\n",
       "813375                       American Restaurants, Beer Bars\n",
       "Name: categories, dtype: object"
      ]
     },
     "execution_count": 33,
     "metadata": {},
     "output_type": "execute_result"
    }
   ],
   "source": [
    "df_us.categories.sample(30)"
   ]
  },
  {
   "cell_type": "markdown",
   "id": "164c248a",
   "metadata": {
    "tags": []
   },
   "source": [
    "# Exploring (US) `pairs.csv`\n",
    "This is a subset of pairs from `train.csv`. The value of `match` is \"True\" if an only if the pair has the same `point_of_interest` value in `train.csv`. We will focus on the US pairs. "
   ]
  },
  {
   "cell_type": "code",
   "execution_count": 34,
   "id": "87c439d2",
   "metadata": {},
   "outputs": [
    {
     "name": "stdout",
     "output_type": "stream",
     "text": [
      "<class 'pandas.core.frame.DataFrame'>\n",
      "RangeIndex: 578907 entries, 0 to 578906\n",
      "Data columns (total 25 columns):\n",
      " #   Column        Non-Null Count   Dtype  \n",
      "---  ------        --------------   -----  \n",
      " 0   id_1          578907 non-null  object \n",
      " 1   name_1        578907 non-null  object \n",
      " 2   latitude_1    578907 non-null  float64\n",
      " 3   longitude_1   578907 non-null  float64\n",
      " 4   address_1     475383 non-null  object \n",
      " 5   city_1        512928 non-null  object \n",
      " 6   state_1       452316 non-null  object \n",
      " 7   zip_1         359509 non-null  object \n",
      " 8   country_1     578899 non-null  object \n",
      " 9   url_1         231806 non-null  object \n",
      " 10  phone_1       270022 non-null  object \n",
      " 11  categories_1  562613 non-null  object \n",
      " 12  id_2          578907 non-null  object \n",
      " 13  name_2        578907 non-null  object \n",
      " 14  latitude_2    578907 non-null  float64\n",
      " 15  longitude_2   578907 non-null  float64\n",
      " 16  address_2     312497 non-null  object \n",
      " 17  city_2        367490 non-null  object \n",
      " 18  state_2       309689 non-null  object \n",
      " 19  zip_2         224827 non-null  object \n",
      " 20  country_2     578901 non-null  object \n",
      " 21  url_2         84850 non-null   object \n",
      " 22  phone_2       118963 non-null  object \n",
      " 23  categories_2  502931 non-null  object \n",
      " 24  match         578907 non-null  bool   \n",
      "dtypes: bool(1), float64(4), object(20)\n",
      "memory usage: 106.6+ MB\n"
     ]
    }
   ],
   "source": [
    "df_pairs.info()"
   ]
  },
  {
   "cell_type": "code",
   "execution_count": 35,
   "id": "c130a5b3-d6dd-4384-98f0-a996cbf57b5c",
   "metadata": {},
   "outputs": [],
   "source": [
    "df_pairs_us = df_pairs[(df_pairs.country_1=='US') & (df_pairs.country_2=='US')]"
   ]
  },
  {
   "cell_type": "code",
   "execution_count": 36,
   "id": "d12efa81-ca72-41be-a7d0-de2842569835",
   "metadata": {},
   "outputs": [],
   "source": [
    "df = df_pairs_us.copy()"
   ]
  },
  {
   "cell_type": "code",
   "execution_count": 37,
   "id": "82be8ee6-de1a-4dd6-b833-87f0820be8b5",
   "metadata": {},
   "outputs": [
    {
     "data": {
      "text/plain": [
       "(117708, 25)"
      ]
     },
     "execution_count": 37,
     "metadata": {},
     "output_type": "execute_result"
    }
   ],
   "source": [
    "df.shape"
   ]
  },
  {
   "cell_type": "code",
   "execution_count": 38,
   "id": "aa3112ff-e904-40b4-a582-ecdf867d434f",
   "metadata": {},
   "outputs": [
    {
     "data": {
      "text/plain": [
       "(117708, 117708)"
      ]
     },
     "execution_count": 38,
     "metadata": {},
     "output_type": "execute_result"
    }
   ],
   "source": [
    "df['state_1'].isna().count(), df['state_2'].isna().count()"
   ]
  },
  {
   "cell_type": "markdown",
   "id": "6e98b3fb-780b-4981-b852-22d8e2386fc6",
   "metadata": {},
   "source": [
    "## True vs. False in the `match` feature"
   ]
  },
  {
   "cell_type": "code",
   "execution_count": 39,
   "id": "a31acaf8-abcf-4d48-9c25-3ff5e2344dea",
   "metadata": {},
   "outputs": [
    {
     "name": "stdout",
     "output_type": "stream",
     "text": [
      "match\n",
      "False    33097\n",
      "True     84611\n",
      "Name: match, dtype: int64\n"
     ]
    }
   ],
   "source": [
    "print(df.groupby('match')['match'].count())"
   ]
  },
  {
   "cell_type": "code",
   "execution_count": 40,
   "id": "5310e19a-7dfa-4d35-85d1-81eaef95a5c0",
   "metadata": {},
   "outputs": [
    {
     "name": "stdout",
     "output_type": "stream",
     "text": [
      "0.7188211506439665\n"
     ]
    }
   ],
   "source": [
    "a,b = zip(df.groupby('match')['match'].count())\n",
    "print(b[0]/(a[0]+b[0]))"
   ]
  },
  {
   "cell_type": "markdown",
   "id": "6f4dd76f-8f20-4a3b-9cc1-b240388f8077",
   "metadata": {},
   "source": [
    "## Engineering the state code in `state_1` and `state_2`"
   ]
  },
  {
   "cell_type": "code",
   "execution_count": 41,
   "id": "6b4cdd90-9eff-450c-be21-3f454afac826",
   "metadata": {},
   "outputs": [
    {
     "name": "stdout",
     "output_type": "stream",
     "text": [
      "['CA' 'GA' 'NM' 'FL' 'VA' 'TN' 'NJ' 'UT' 'IN' 'NC' 'WI' nan 'NV' 'KS' 'MA'\n",
      " 'MS' 'AZ' 'MI' 'NY' 'TX' 'IL' 'AL' 'PA' 'OK' 'AR' 'KY' 'MO' 'WV' 'CO'\n",
      " 'NE' 'OH' 'OR' 'MT' 'CT' 'NH' 'Calif' 'MD' 'HI' 'WA' 'WY' 'RI' 'VT' 'IA'\n",
      " 'MN' 'LA' 'SC' 'ND' 'DE' 'DC' 'SD' 'AK' 'D.C.' 'ID' 'ME' 'New York'\n",
      " 'North Carolina' 'tx' 'Il' 'Virginia' 'District of Columbia' 'Ma' 'Ohio'\n",
      " 'Texas' 'Md' 'Ca' 'California' 'Kentucky' 'CE' 'Kansas' 'In' 'Arizona'\n",
      " 'il' 'Illinois' 'nj' 'Missouri' 'ON/NY' 'Wisconsin' 'Iowa'\n",
      " 'South Carolina' 'Georgia' 'Tennessee' 'Fl' 'Ia' 'Maryland']\n",
      "['CA' 'GA' 'NM' 'FL' 'VA' 'TN' nan 'NJ' 'Calif' 'UT' 'IN' 'NC' 'WI' 'NV'\n",
      " 'KS' 'MA' 'MS' 'AZ' 'MI' 'NY' 'TX' 'IL' 'AL' 'PA' 'OK' 'AR' 'KY' 'WV'\n",
      " 'CO' 'NE' 'Fl' 'OH' 'OR' 'MT' 'SC' 'CT' 'NH' 'MO' 'MD' 'HI' 'WA' 'WY'\n",
      " 'VT' 'IA' 'MN' 'LA' 'ND' 'DE' 'Pennsylvania' 'Illinois' 'DC' 'SD'\n",
      " 'Nevada' 'AK' 'ID' 'va' 'Il' 'ME' 'Texas' 'Arkansas' 'RI' 'Ga' 'New York'\n",
      " 'D.C.' 'Florida' 'fl' 'oh' 'Ca' 'Al' 'tx' 'Michigan' 'ny' 'Tx' 'Ohio'\n",
      " 'New Jersey' 'Ks' 'Connecticut' 'Me' 'Oh' 'ar' 'Mi' 'Co' 'Pa' 'Az' 'mi'\n",
      " 'de' 'North Carolina' 'pa' 'Va' 'Ri' 'nj' 'georgia' 'Virginia' 'Colorado'\n",
      " 'Nc' 'Georgia' 'Mn' 'California' 'Missouri' 'UK' 'wi' 'nv' 'LOUISIANA'\n",
      " 'Ok' 'il' 'Tennessee' 'Mo' 'Delaware' 'ct' 'Ny' 'Wi' 'Wisconsin' 'ks'\n",
      " 'Arizona' 'Or' 'Massachusetts' 'La' 'ca' 'Mississippi' 'Ma' 'CE' 'sc'\n",
      " 'Idaho' 'Alabama' 'texas' 'dc' 'Minnesota' 'Nj' 'ky' 'in' 'wa' 'In' 'Tn'\n",
      " 'md' 'Ct' 'Oregon' 'Indiana' 'Iowa' 'or' 'West Virginia' 'florida' 'Sc'\n",
      " 'Kansas' 'Wv' 'Ky' 'ohio' 'co' 'ma' 'nc' 'ga' 'al' 'Maryland' 'mn' 'NU'\n",
      " 'New Mexico' 'Louisiana' 'Nv' 'la' 'az' 'Washington' 'Nebraska' 'Hawaii'\n",
      " 'South Carolina' 'South Dakota' 'New york' 'Oklahoma' 'Vermont' 'Ia' 'Wa'\n",
      " 'Md' 'vt' 'North Dakota' 'tn' '国外']\n"
     ]
    }
   ],
   "source": [
    "print(df['state_1'].unique())\n",
    "print(df['state_2'].unique())"
   ]
  },
  {
   "cell_type": "code",
   "execution_count": 42,
   "id": "bda3cdd9-b42d-4e76-b06c-50363e75045b",
   "metadata": {},
   "outputs": [
    {
     "data": {
      "text/html": [
       "<div>\n",
       "<style scoped>\n",
       "    .dataframe tbody tr th:only-of-type {\n",
       "        vertical-align: middle;\n",
       "    }\n",
       "\n",
       "    .dataframe tbody tr th {\n",
       "        vertical-align: top;\n",
       "    }\n",
       "\n",
       "    .dataframe thead th {\n",
       "        text-align: right;\n",
       "    }\n",
       "</style>\n",
       "<table border=\"1\" class=\"dataframe\">\n",
       "  <thead>\n",
       "    <tr style=\"text-align: right;\">\n",
       "      <th></th>\n",
       "      <th>id_1</th>\n",
       "      <th>name_1</th>\n",
       "      <th>latitude_1</th>\n",
       "      <th>longitude_1</th>\n",
       "      <th>address_1</th>\n",
       "      <th>city_1</th>\n",
       "      <th>state_1</th>\n",
       "      <th>zip_1</th>\n",
       "      <th>country_1</th>\n",
       "      <th>url_1</th>\n",
       "      <th>...</th>\n",
       "      <th>longitude_2</th>\n",
       "      <th>address_2</th>\n",
       "      <th>city_2</th>\n",
       "      <th>state_2</th>\n",
       "      <th>zip_2</th>\n",
       "      <th>country_2</th>\n",
       "      <th>url_2</th>\n",
       "      <th>phone_2</th>\n",
       "      <th>categories_2</th>\n",
       "      <th>match</th>\n",
       "    </tr>\n",
       "  </thead>\n",
       "  <tbody>\n",
       "    <tr>\n",
       "      <th>305701</th>\n",
       "      <td>E_86ee21433a06ce</td>\n",
       "      <td>Canada / US Border</td>\n",
       "      <td>42.907269</td>\n",
       "      <td>-78.907035</td>\n",
       "      <td>Peace Bridge</td>\n",
       "      <td>Fort Erie/Buffalo</td>\n",
       "      <td>ON/NY</td>\n",
       "      <td>NaN</td>\n",
       "      <td>US</td>\n",
       "      <td>NaN</td>\n",
       "      <td>...</td>\n",
       "      <td>-78.871142</td>\n",
       "      <td>NaN</td>\n",
       "      <td>NaN</td>\n",
       "      <td>NaN</td>\n",
       "      <td>NaN</td>\n",
       "      <td>US</td>\n",
       "      <td>NaN</td>\n",
       "      <td>NaN</td>\n",
       "      <td>Bed &amp; Breakfasts</td>\n",
       "      <td>True</td>\n",
       "    </tr>\n",
       "    <tr>\n",
       "      <th>305703</th>\n",
       "      <td>E_86ee21433a06ce</td>\n",
       "      <td>Canada / US Border</td>\n",
       "      <td>42.907269</td>\n",
       "      <td>-78.907035</td>\n",
       "      <td>Peace Bridge</td>\n",
       "      <td>Fort Erie/Buffalo</td>\n",
       "      <td>ON/NY</td>\n",
       "      <td>NaN</td>\n",
       "      <td>US</td>\n",
       "      <td>NaN</td>\n",
       "      <td>...</td>\n",
       "      <td>-78.734970</td>\n",
       "      <td>NaN</td>\n",
       "      <td>NaN</td>\n",
       "      <td>NaN</td>\n",
       "      <td>NaN</td>\n",
       "      <td>US</td>\n",
       "      <td>NaN</td>\n",
       "      <td>NaN</td>\n",
       "      <td>General Travel</td>\n",
       "      <td>True</td>\n",
       "    </tr>\n",
       "  </tbody>\n",
       "</table>\n",
       "<p>2 rows × 25 columns</p>\n",
       "</div>"
      ],
      "text/plain": [
       "                    id_1              name_1  latitude_1  longitude_1  \\\n",
       "305701  E_86ee21433a06ce  Canada / US Border   42.907269   -78.907035   \n",
       "305703  E_86ee21433a06ce  Canada / US Border   42.907269   -78.907035   \n",
       "\n",
       "           address_1             city_1 state_1 zip_1 country_1 url_1  ...  \\\n",
       "305701  Peace Bridge  Fort Erie/Buffalo   ON/NY   NaN        US   NaN  ...   \n",
       "305703  Peace Bridge  Fort Erie/Buffalo   ON/NY   NaN        US   NaN  ...   \n",
       "\n",
       "       longitude_2 address_2 city_2 state_2  zip_2  country_2 url_2 phone_2  \\\n",
       "305701  -78.871142       NaN    NaN     NaN    NaN         US   NaN     NaN   \n",
       "305703  -78.734970       NaN    NaN     NaN    NaN         US   NaN     NaN   \n",
       "\n",
       "            categories_2 match  \n",
       "305701  Bed & Breakfasts  True  \n",
       "305703    General Travel  True  \n",
       "\n",
       "[2 rows x 25 columns]"
      ]
     },
     "execution_count": 42,
     "metadata": {},
     "output_type": "execute_result"
    }
   ],
   "source": [
    "df[df['state_1']=='ON/NY']"
   ]
  },
  {
   "cell_type": "code",
   "execution_count": 43,
   "id": "22bd78d4-f503-4ae5-bd80-39b0348306df",
   "metadata": {},
   "outputs": [
    {
     "data": {
      "text/html": [
       "<div>\n",
       "<style scoped>\n",
       "    .dataframe tbody tr th:only-of-type {\n",
       "        vertical-align: middle;\n",
       "    }\n",
       "\n",
       "    .dataframe tbody tr th {\n",
       "        vertical-align: top;\n",
       "    }\n",
       "\n",
       "    .dataframe thead th {\n",
       "        text-align: right;\n",
       "    }\n",
       "</style>\n",
       "<table border=\"1\" class=\"dataframe\">\n",
       "  <thead>\n",
       "    <tr style=\"text-align: right;\">\n",
       "      <th></th>\n",
       "      <th>state</th>\n",
       "      <th>code</th>\n",
       "    </tr>\n",
       "  </thead>\n",
       "  <tbody>\n",
       "    <tr>\n",
       "      <th>0</th>\n",
       "      <td>ALABAMA</td>\n",
       "      <td>AL</td>\n",
       "    </tr>\n",
       "    <tr>\n",
       "      <th>1</th>\n",
       "      <td>ALASKA</td>\n",
       "      <td>AK</td>\n",
       "    </tr>\n",
       "    <tr>\n",
       "      <th>2</th>\n",
       "      <td>ARIZONA</td>\n",
       "      <td>AZ</td>\n",
       "    </tr>\n",
       "    <tr>\n",
       "      <th>3</th>\n",
       "      <td>ARKANSAS</td>\n",
       "      <td>AR</td>\n",
       "    </tr>\n",
       "    <tr>\n",
       "      <th>4</th>\n",
       "      <td>CALIFORNIA</td>\n",
       "      <td>CA</td>\n",
       "    </tr>\n",
       "  </tbody>\n",
       "</table>\n",
       "</div>"
      ],
      "text/plain": [
       "        state code\n",
       "0     ALABAMA   AL\n",
       "1      ALASKA   AK\n",
       "2     ARIZONA   AZ\n",
       "3    ARKANSAS   AR\n",
       "4  CALIFORNIA   CA"
      ]
     },
     "execution_count": 43,
     "metadata": {},
     "output_type": "execute_result"
    }
   ],
   "source": [
    "state = pd.read_csv('./data/state-code.csv', header=None)\n",
    "state.head()\n",
    "state.columns=['state','code']\n",
    "state.head()\n",
    "state['state'] = state['state'].str.upper()\n",
    "state.head()"
   ]
  },
  {
   "cell_type": "code",
   "execution_count": 44,
   "id": "9fa102e4-2953-4f76-ab22-f9c223a6bf3f",
   "metadata": {},
   "outputs": [],
   "source": [
    "dict_lookup = dict(zip(state['state'],state['code']))\n",
    "dict_lookup['CALIF'] = 'CA'\n",
    "dict_lookup['D.C.']  = 'DC'"
   ]
  },
  {
   "cell_type": "code",
   "execution_count": 45,
   "id": "c21c6bcc-9f6b-4b97-b345-d3ff7a7ddb9d",
   "metadata": {},
   "outputs": [
    {
     "name": "stdout",
     "output_type": "stream",
     "text": [
      "(112881, 25)\n",
      "['CA' 'GA' 'NM' 'FL' 'VA' 'TN' 'NJ' 'UT' 'IN' 'NC' 'WI' 'NV' 'KS' 'MA'\n",
      " 'MS' 'AZ' 'MI' 'NY' 'TX' 'IL' 'AL' 'PA' 'OK' 'AR' 'KY' 'WV' 'CO' 'NE'\n",
      " 'OH' 'OR' 'MT' 'CT' 'NH' 'MO' 'MD' 'HI' 'WA' 'WY' 'VT' 'IA' 'MN' 'LA'\n",
      " 'SC' 'ND' 'DE' 'DC' 'SD' 'AK' 'ID' 'ME' 'RI' 'CE']\n",
      "['CA' 'GA' 'NM' 'FL' 'VA' 'TN' 'NJ' 'UT' 'IN' 'NC' 'WI' 'NV' 'KS' 'MA'\n",
      " 'MS' 'AZ' 'MI' 'NY' 'TX' 'IL' 'AL' 'PA' 'OK' 'AR' 'KY' 'WV' 'CO' 'NE'\n",
      " 'OH' 'OR' 'MT' 'CT' 'NH' 'MO' 'MD' 'HI' 'WA' 'WY' 'VT' 'IA' 'MN' 'LA'\n",
      " 'SC' 'ND' 'DE' 'DC' 'SD' 'AK' 'ID' 'ME' 'RI' 'UK' 'CE' 'NU' '国外']\n"
     ]
    }
   ],
   "source": [
    "df = df.dropna(subset=['state_1','state_2'])\n",
    "print(df.shape)\n",
    "df['state_1'] = df['state_1'].str.upper()\n",
    "df['state_2'] = df['state_2'].str.upper()\n",
    "\n",
    "for x in dict_lookup.keys():\n",
    "    \n",
    "    df.loc[df[\"state_1\"] == x, \"state_1\"] = dict_lookup[x]\n",
    "    df.loc[df[\"state_2\"] == x, \"state_2\"] = dict_lookup[x]\n",
    "    \n",
    "print(df['state_1'].unique())\n",
    "print(df['state_2'].unique())"
   ]
  },
  {
   "cell_type": "code",
   "execution_count": 46,
   "id": "da8947d0-847a-4bba-942e-44931af48076",
   "metadata": {},
   "outputs": [
    {
     "name": "stdout",
     "output_type": "stream",
     "text": [
      "['CA' 'GA' 'NM' 'FL' 'VA' 'TN' 'NJ' 'UT' 'IN' 'NC' 'WI' 'NV' 'KS' 'MA'\n",
      " 'MS' 'AZ' 'MI' 'NY' 'TX' 'IL' 'AL' 'PA' 'OK' 'AR' 'KY' 'WV' 'CO' 'NE'\n",
      " 'OH' 'OR' 'MT' 'CT' 'NH' 'MO' 'MD' 'HI' 'WA' 'WY' 'VT' 'IA' 'MN' 'LA'\n",
      " 'SC' 'ND' 'DE' 'DC' 'SD' 'AK' 'ID' 'ME' 'RI']\n",
      "['CA' 'GA' 'NM' 'FL' 'VA' 'TN' 'NJ' 'UT' 'IN' 'NC' 'WI' 'NV' 'KS' 'MA'\n",
      " 'MS' 'AZ' 'MI' 'NY' 'TX' 'IL' 'AL' 'PA' 'OK' 'AR' 'KY' 'WV' 'CO' 'NE'\n",
      " 'OH' 'OR' 'MT' 'CT' 'NH' 'MO' 'MD' 'HI' 'WA' 'WY' 'VT' 'IA' 'MN' 'LA'\n",
      " 'SC' 'ND' 'DE' 'DC' 'SD' 'AK' 'ID' 'ME' 'RI']\n"
     ]
    }
   ],
   "source": [
    "drop_list = ['UK', 'CE', 'NU', '国外']\n",
    "df = df[df['state_1'].isin(drop_list)==False] \n",
    "df = df[df['state_2'].isin(drop_list)==False] \n",
    "print(df['state_1'].unique())\n",
    "print(df['state_2'].unique())"
   ]
  },
  {
   "cell_type": "code",
   "execution_count": 47,
   "id": "58256e69-7b44-42c9-a327-0c00453c4623",
   "metadata": {},
   "outputs": [
    {
     "name": "stdout",
     "output_type": "stream",
     "text": [
      "{'PR', 'VI'}\n",
      "{'PR', 'VI'}\n"
     ]
    }
   ],
   "source": [
    "tmp1 = df['state_1'].unique()\n",
    "tmp2 = df['state_2'].unique()\n",
    "print(set(state['code']).difference(set(tmp1)))\n",
    "print(set(state['code']).difference(set(tmp2)))"
   ]
  },
  {
   "cell_type": "code",
   "execution_count": null,
   "id": "465ac612-45d1-4e39-b17d-c1d7108cac9c",
   "metadata": {},
   "outputs": [],
   "source": []
  },
  {
   "cell_type": "code",
   "execution_count": null,
   "id": "7c852d8d-69af-4781-9503-3387ce8898ae",
   "metadata": {},
   "outputs": [],
   "source": []
  },
  {
   "cell_type": "markdown",
   "id": "c38be412-ce92-4f0b-bca5-4a18f945abb3",
   "metadata": {},
   "source": [
    "## Adding similarity features"
   ]
  },
  {
   "cell_type": "code",
   "execution_count": 48,
   "id": "2042fe9b-a6c9-41a0-981a-ea97e7358386",
   "metadata": {},
   "outputs": [
    {
     "name": "stdout",
     "output_type": "stream",
     "text": [
      "<class 'pandas.core.frame.DataFrame'>\n",
      "Int64Index: 112876 entries, 3 to 578904\n",
      "Data columns (total 25 columns):\n",
      " #   Column        Non-Null Count   Dtype  \n",
      "---  ------        --------------   -----  \n",
      " 0   id_1          112876 non-null  object \n",
      " 1   name_1        112876 non-null  object \n",
      " 2   latitude_1    112876 non-null  float64\n",
      " 3   longitude_1   112876 non-null  float64\n",
      " 4   address_1     99868 non-null   object \n",
      " 5   city_1        111756 non-null  object \n",
      " 6   state_1       112876 non-null  object \n",
      " 7   zip_1         107483 non-null  object \n",
      " 8   country_1     112876 non-null  object \n",
      " 9   url_1         64751 non-null   object \n",
      " 10  phone_1       77194 non-null   object \n",
      " 11  categories_1  110710 non-null  object \n",
      " 12  id_2          112876 non-null  object \n",
      " 13  name_2        112876 non-null  object \n",
      " 14  latitude_2    112876 non-null  float64\n",
      " 15  longitude_2   112876 non-null  float64\n",
      " 16  address_2     80649 non-null   object \n",
      " 17  city_2        110554 non-null  object \n",
      " 18  state_2       112876 non-null  object \n",
      " 19  zip_2         93602 non-null   object \n",
      " 20  country_2     112876 non-null  object \n",
      " 21  url_2         34418 non-null   object \n",
      " 22  phone_2       51856 non-null   object \n",
      " 23  categories_2  104080 non-null  object \n",
      " 24  match         112876 non-null  bool   \n",
      "dtypes: bool(1), float64(4), object(20)\n",
      "memory usage: 21.6+ MB\n"
     ]
    }
   ],
   "source": [
    "df.info()"
   ]
  },
  {
   "cell_type": "code",
   "execution_count": 49,
   "id": "d472711f-c92b-4f8e-8fd6-2e858149308c",
   "metadata": {},
   "outputs": [],
   "source": [
    "from difflib import SequenceMatcher\n",
    "\n",
    "def similar(a, b):\n",
    "    return SequenceMatcher(None, a, b).ratio()"
   ]
  },
  {
   "cell_type": "markdown",
   "id": "4ab515be-707a-4d51-8841-77a646b5b7df",
   "metadata": {},
   "source": [
    "### name similarity"
   ]
  },
  {
   "cell_type": "code",
   "execution_count": 50,
   "id": "7be979d3-4e3c-493c-a68b-612876b03a7d",
   "metadata": {},
   "outputs": [
    {
     "name": "stdout",
     "output_type": "stream",
     "text": [
      "0; \n",
      "5000; 10000; 15000; 20000; 25000; 30000; 35000; 40000; 45000; 50000; \n",
      "55000; 60000; 65000; 70000; 75000; 80000; 85000; 90000; 95000; 100000; \n",
      "105000; 110000; "
     ]
    }
   ],
   "source": [
    "# name similarity array;\n",
    "sim_arr = []\n",
    "for i in range(len(df)):\n",
    "    a = df.iloc[[i]].loc[:,'name_1'].values[0]\n",
    "    b = df.iloc[[i]].loc[:,'name_2'].values[0]\n",
    "    sim = similar(a,b)\n",
    "    sim_arr.append(sim)\n",
    "    if i%5000==0: \n",
    "        print('{}; '.format(i), end='')\n",
    "    if i%50000==0:\n",
    "        print()"
   ]
  },
  {
   "cell_type": "code",
   "execution_count": 51,
   "id": "4db8c0c2-73cf-44f7-93ce-80a6866ba526",
   "metadata": {},
   "outputs": [],
   "source": [
    "df['name_similarity'] = sim_arr"
   ]
  },
  {
   "cell_type": "markdown",
   "id": "4a6c09a7-06b7-4c35-ac2f-e04815eb5f5b",
   "metadata": {},
   "source": [
    "### geo-distance similarity"
   ]
  },
  {
   "cell_type": "code",
   "execution_count": 52,
   "id": "f2926401-3c41-4451-8ade-8d227ead27ec",
   "metadata": {},
   "outputs": [
    {
     "name": "stdout",
     "output_type": "stream",
     "text": [
      "0; \n",
      "5000; 10000; 15000; 20000; 25000; 30000; 35000; 40000; 45000; 50000; \n",
      "55000; 60000; 65000; 70000; 75000; 80000; 85000; 90000; 95000; 100000; \n",
      "105000; 110000; "
     ]
    }
   ],
   "source": [
    "# geo-distance array;\n",
    "dist_arr = []\n",
    "for i in range(len(df)):\n",
    "    a = df.iloc[[i]].loc[:,['latitude_1','longitude_1']].values[0]\n",
    "    b = df.iloc[[i]].loc[:,['latitude_2','longitude_2']].values[0]\n",
    "    d = np.linalg.norm(a-b)\n",
    "    dist_arr.append(d)\n",
    "    if i%5000==0: \n",
    "        print('{}; '.format(i), end='')\n",
    "    if i%50000==0:\n",
    "        print()\n",
    "# dist_arr"
   ]
  },
  {
   "cell_type": "code",
   "execution_count": 53,
   "id": "f65afd8b-d517-48c7-b2ba-4033a886040f",
   "metadata": {},
   "outputs": [],
   "source": [
    "df['geo_distance'] = dist_arr"
   ]
  },
  {
   "cell_type": "markdown",
   "id": "5804745b-b816-4615-a2bd-fbde908dde1f",
   "metadata": {},
   "source": [
    "### state similarity"
   ]
  },
  {
   "cell_type": "code",
   "execution_count": 54,
   "id": "0d75f6e6-c65f-4a2e-857c-fe959e118d66",
   "metadata": {},
   "outputs": [
    {
     "name": "stdout",
     "output_type": "stream",
     "text": [
      "0; \n",
      "5000; 10000; 15000; 20000; 25000; 30000; 35000; 40000; 45000; 50000; \n",
      "55000; 60000; 65000; 70000; 75000; 80000; 85000; 90000; 95000; 100000; \n",
      "105000; 110000; "
     ]
    }
   ],
   "source": [
    "# state similarity array;\n",
    "sim_arr = []\n",
    "for i in range(len(df)):\n",
    "    a = df.iloc[[i]].loc[:,'state_1'].values[0]\n",
    "    b = df.iloc[[i]].loc[:,'state_2'].values[0]\n",
    "    sim = similar(a,b)\n",
    "    sim_arr.append(sim)\n",
    "    if i%5000==0: \n",
    "        print('{}; '.format(i), end='')\n",
    "    if i%50000==0:\n",
    "        print()\n",
    "df['state_sim'] = sim_arr"
   ]
  },
  {
   "cell_type": "code",
   "execution_count": 55,
   "id": "7f5d78f3-beed-4507-96c1-c08af734b335",
   "metadata": {},
   "outputs": [
    {
     "name": "stdout",
     "output_type": "stream",
     "text": [
      "<class 'pandas.core.frame.DataFrame'>\n",
      "Int64Index: 112876 entries, 3 to 578904\n",
      "Data columns (total 28 columns):\n",
      " #   Column           Non-Null Count   Dtype  \n",
      "---  ------           --------------   -----  \n",
      " 0   id_1             112876 non-null  object \n",
      " 1   name_1           112876 non-null  object \n",
      " 2   latitude_1       112876 non-null  float64\n",
      " 3   longitude_1      112876 non-null  float64\n",
      " 4   address_1        99868 non-null   object \n",
      " 5   city_1           111756 non-null  object \n",
      " 6   state_1          112876 non-null  object \n",
      " 7   zip_1            107483 non-null  object \n",
      " 8   country_1        112876 non-null  object \n",
      " 9   url_1            64751 non-null   object \n",
      " 10  phone_1          77194 non-null   object \n",
      " 11  categories_1     110710 non-null  object \n",
      " 12  id_2             112876 non-null  object \n",
      " 13  name_2           112876 non-null  object \n",
      " 14  latitude_2       112876 non-null  float64\n",
      " 15  longitude_2      112876 non-null  float64\n",
      " 16  address_2        80649 non-null   object \n",
      " 17  city_2           110554 non-null  object \n",
      " 18  state_2          112876 non-null  object \n",
      " 19  zip_2            93602 non-null   object \n",
      " 20  country_2        112876 non-null  object \n",
      " 21  url_2            34418 non-null   object \n",
      " 22  phone_2          51856 non-null   object \n",
      " 23  categories_2     104080 non-null  object \n",
      " 24  match            112876 non-null  bool   \n",
      " 25  name_similarity  112876 non-null  float64\n",
      " 26  geo_distance     112876 non-null  float64\n",
      " 27  state_sim        112876 non-null  float64\n",
      "dtypes: bool(1), float64(7), object(20)\n",
      "memory usage: 24.2+ MB\n"
     ]
    }
   ],
   "source": [
    "# df.rename(columns={'name_similarity':'name_sim'}, inplace=True)\n",
    "df.info()"
   ]
  },
  {
   "cell_type": "markdown",
   "id": "8bfc9a06-0f7b-4362-bcac-cf4ac1667a5b",
   "metadata": {},
   "source": [
    "### address+city+state+zip\n",
    "\n",
    "\n"
   ]
  },
  {
   "cell_type": "code",
   "execution_count": 56,
   "id": "18b788d6-cf84-4b8f-ab6c-e2c641cbbe47",
   "metadata": {},
   "outputs": [
    {
     "ename": "FileNotFoundError",
     "evalue": "[Errno 2] No such file or directory: './data/pairs_us_sim.csv'",
     "output_type": "error",
     "traceback": [
      "\u001b[0;31m---------------------------------------------------------------------------\u001b[0m",
      "\u001b[0;31mFileNotFoundError\u001b[0m                         Traceback (most recent call last)",
      "Input \u001b[0;32mIn [56]\u001b[0m, in \u001b[0;36m<cell line: 1>\u001b[0;34m()\u001b[0m\n\u001b[0;32m----> 1\u001b[0m df \u001b[38;5;241m=\u001b[39m \u001b[43mpd\u001b[49m\u001b[38;5;241;43m.\u001b[39;49m\u001b[43mread_csv\u001b[49m\u001b[43m(\u001b[49m\u001b[38;5;124;43m\"\u001b[39;49m\u001b[38;5;124;43m./data/pairs_us_sim.csv\u001b[39;49m\u001b[38;5;124;43m\"\u001b[39;49m\u001b[43m)\u001b[49m\n",
      "File \u001b[0;32m~/opt/anaconda3/envs/geo_env/lib/python3.10/site-packages/pandas/util/_decorators.py:311\u001b[0m, in \u001b[0;36mdeprecate_nonkeyword_arguments.<locals>.decorate.<locals>.wrapper\u001b[0;34m(*args, **kwargs)\u001b[0m\n\u001b[1;32m    305\u001b[0m \u001b[38;5;28;01mif\u001b[39;00m \u001b[38;5;28mlen\u001b[39m(args) \u001b[38;5;241m>\u001b[39m num_allow_args:\n\u001b[1;32m    306\u001b[0m     warnings\u001b[38;5;241m.\u001b[39mwarn(\n\u001b[1;32m    307\u001b[0m         msg\u001b[38;5;241m.\u001b[39mformat(arguments\u001b[38;5;241m=\u001b[39marguments),\n\u001b[1;32m    308\u001b[0m         \u001b[38;5;167;01mFutureWarning\u001b[39;00m,\n\u001b[1;32m    309\u001b[0m         stacklevel\u001b[38;5;241m=\u001b[39mstacklevel,\n\u001b[1;32m    310\u001b[0m     )\n\u001b[0;32m--> 311\u001b[0m \u001b[38;5;28;01mreturn\u001b[39;00m \u001b[43mfunc\u001b[49m\u001b[43m(\u001b[49m\u001b[38;5;241;43m*\u001b[39;49m\u001b[43margs\u001b[49m\u001b[43m,\u001b[49m\u001b[43m \u001b[49m\u001b[38;5;241;43m*\u001b[39;49m\u001b[38;5;241;43m*\u001b[39;49m\u001b[43mkwargs\u001b[49m\u001b[43m)\u001b[49m\n",
      "File \u001b[0;32m~/opt/anaconda3/envs/geo_env/lib/python3.10/site-packages/pandas/io/parsers/readers.py:680\u001b[0m, in \u001b[0;36mread_csv\u001b[0;34m(filepath_or_buffer, sep, delimiter, header, names, index_col, usecols, squeeze, prefix, mangle_dupe_cols, dtype, engine, converters, true_values, false_values, skipinitialspace, skiprows, skipfooter, nrows, na_values, keep_default_na, na_filter, verbose, skip_blank_lines, parse_dates, infer_datetime_format, keep_date_col, date_parser, dayfirst, cache_dates, iterator, chunksize, compression, thousands, decimal, lineterminator, quotechar, quoting, doublequote, escapechar, comment, encoding, encoding_errors, dialect, error_bad_lines, warn_bad_lines, on_bad_lines, delim_whitespace, low_memory, memory_map, float_precision, storage_options)\u001b[0m\n\u001b[1;32m    665\u001b[0m kwds_defaults \u001b[38;5;241m=\u001b[39m _refine_defaults_read(\n\u001b[1;32m    666\u001b[0m     dialect,\n\u001b[1;32m    667\u001b[0m     delimiter,\n\u001b[0;32m   (...)\u001b[0m\n\u001b[1;32m    676\u001b[0m     defaults\u001b[38;5;241m=\u001b[39m{\u001b[38;5;124m\"\u001b[39m\u001b[38;5;124mdelimiter\u001b[39m\u001b[38;5;124m\"\u001b[39m: \u001b[38;5;124m\"\u001b[39m\u001b[38;5;124m,\u001b[39m\u001b[38;5;124m\"\u001b[39m},\n\u001b[1;32m    677\u001b[0m )\n\u001b[1;32m    678\u001b[0m kwds\u001b[38;5;241m.\u001b[39mupdate(kwds_defaults)\n\u001b[0;32m--> 680\u001b[0m \u001b[38;5;28;01mreturn\u001b[39;00m \u001b[43m_read\u001b[49m\u001b[43m(\u001b[49m\u001b[43mfilepath_or_buffer\u001b[49m\u001b[43m,\u001b[49m\u001b[43m \u001b[49m\u001b[43mkwds\u001b[49m\u001b[43m)\u001b[49m\n",
      "File \u001b[0;32m~/opt/anaconda3/envs/geo_env/lib/python3.10/site-packages/pandas/io/parsers/readers.py:575\u001b[0m, in \u001b[0;36m_read\u001b[0;34m(filepath_or_buffer, kwds)\u001b[0m\n\u001b[1;32m    572\u001b[0m _validate_names(kwds\u001b[38;5;241m.\u001b[39mget(\u001b[38;5;124m\"\u001b[39m\u001b[38;5;124mnames\u001b[39m\u001b[38;5;124m\"\u001b[39m, \u001b[38;5;28;01mNone\u001b[39;00m))\n\u001b[1;32m    574\u001b[0m \u001b[38;5;66;03m# Create the parser.\u001b[39;00m\n\u001b[0;32m--> 575\u001b[0m parser \u001b[38;5;241m=\u001b[39m \u001b[43mTextFileReader\u001b[49m\u001b[43m(\u001b[49m\u001b[43mfilepath_or_buffer\u001b[49m\u001b[43m,\u001b[49m\u001b[43m \u001b[49m\u001b[38;5;241;43m*\u001b[39;49m\u001b[38;5;241;43m*\u001b[39;49m\u001b[43mkwds\u001b[49m\u001b[43m)\u001b[49m\n\u001b[1;32m    577\u001b[0m \u001b[38;5;28;01mif\u001b[39;00m chunksize \u001b[38;5;129;01mor\u001b[39;00m iterator:\n\u001b[1;32m    578\u001b[0m     \u001b[38;5;28;01mreturn\u001b[39;00m parser\n",
      "File \u001b[0;32m~/opt/anaconda3/envs/geo_env/lib/python3.10/site-packages/pandas/io/parsers/readers.py:933\u001b[0m, in \u001b[0;36mTextFileReader.__init__\u001b[0;34m(self, f, engine, **kwds)\u001b[0m\n\u001b[1;32m    930\u001b[0m     \u001b[38;5;28mself\u001b[39m\u001b[38;5;241m.\u001b[39moptions[\u001b[38;5;124m\"\u001b[39m\u001b[38;5;124mhas_index_names\u001b[39m\u001b[38;5;124m\"\u001b[39m] \u001b[38;5;241m=\u001b[39m kwds[\u001b[38;5;124m\"\u001b[39m\u001b[38;5;124mhas_index_names\u001b[39m\u001b[38;5;124m\"\u001b[39m]\n\u001b[1;32m    932\u001b[0m \u001b[38;5;28mself\u001b[39m\u001b[38;5;241m.\u001b[39mhandles: IOHandles \u001b[38;5;241m|\u001b[39m \u001b[38;5;28;01mNone\u001b[39;00m \u001b[38;5;241m=\u001b[39m \u001b[38;5;28;01mNone\u001b[39;00m\n\u001b[0;32m--> 933\u001b[0m \u001b[38;5;28mself\u001b[39m\u001b[38;5;241m.\u001b[39m_engine \u001b[38;5;241m=\u001b[39m \u001b[38;5;28;43mself\u001b[39;49m\u001b[38;5;241;43m.\u001b[39;49m\u001b[43m_make_engine\u001b[49m\u001b[43m(\u001b[49m\u001b[43mf\u001b[49m\u001b[43m,\u001b[49m\u001b[43m \u001b[49m\u001b[38;5;28;43mself\u001b[39;49m\u001b[38;5;241;43m.\u001b[39;49m\u001b[43mengine\u001b[49m\u001b[43m)\u001b[49m\n",
      "File \u001b[0;32m~/opt/anaconda3/envs/geo_env/lib/python3.10/site-packages/pandas/io/parsers/readers.py:1217\u001b[0m, in \u001b[0;36mTextFileReader._make_engine\u001b[0;34m(self, f, engine)\u001b[0m\n\u001b[1;32m   1213\u001b[0m     mode \u001b[38;5;241m=\u001b[39m \u001b[38;5;124m\"\u001b[39m\u001b[38;5;124mrb\u001b[39m\u001b[38;5;124m\"\u001b[39m\n\u001b[1;32m   1214\u001b[0m \u001b[38;5;66;03m# error: No overload variant of \"get_handle\" matches argument types\u001b[39;00m\n\u001b[1;32m   1215\u001b[0m \u001b[38;5;66;03m# \"Union[str, PathLike[str], ReadCsvBuffer[bytes], ReadCsvBuffer[str]]\"\u001b[39;00m\n\u001b[1;32m   1216\u001b[0m \u001b[38;5;66;03m# , \"str\", \"bool\", \"Any\", \"Any\", \"Any\", \"Any\", \"Any\"\u001b[39;00m\n\u001b[0;32m-> 1217\u001b[0m \u001b[38;5;28mself\u001b[39m\u001b[38;5;241m.\u001b[39mhandles \u001b[38;5;241m=\u001b[39m \u001b[43mget_handle\u001b[49m\u001b[43m(\u001b[49m\u001b[43m  \u001b[49m\u001b[38;5;66;43;03m# type: ignore[call-overload]\u001b[39;49;00m\n\u001b[1;32m   1218\u001b[0m \u001b[43m    \u001b[49m\u001b[43mf\u001b[49m\u001b[43m,\u001b[49m\n\u001b[1;32m   1219\u001b[0m \u001b[43m    \u001b[49m\u001b[43mmode\u001b[49m\u001b[43m,\u001b[49m\n\u001b[1;32m   1220\u001b[0m \u001b[43m    \u001b[49m\u001b[43mencoding\u001b[49m\u001b[38;5;241;43m=\u001b[39;49m\u001b[38;5;28;43mself\u001b[39;49m\u001b[38;5;241;43m.\u001b[39;49m\u001b[43moptions\u001b[49m\u001b[38;5;241;43m.\u001b[39;49m\u001b[43mget\u001b[49m\u001b[43m(\u001b[49m\u001b[38;5;124;43m\"\u001b[39;49m\u001b[38;5;124;43mencoding\u001b[39;49m\u001b[38;5;124;43m\"\u001b[39;49m\u001b[43m,\u001b[49m\u001b[43m \u001b[49m\u001b[38;5;28;43;01mNone\u001b[39;49;00m\u001b[43m)\u001b[49m\u001b[43m,\u001b[49m\n\u001b[1;32m   1221\u001b[0m \u001b[43m    \u001b[49m\u001b[43mcompression\u001b[49m\u001b[38;5;241;43m=\u001b[39;49m\u001b[38;5;28;43mself\u001b[39;49m\u001b[38;5;241;43m.\u001b[39;49m\u001b[43moptions\u001b[49m\u001b[38;5;241;43m.\u001b[39;49m\u001b[43mget\u001b[49m\u001b[43m(\u001b[49m\u001b[38;5;124;43m\"\u001b[39;49m\u001b[38;5;124;43mcompression\u001b[39;49m\u001b[38;5;124;43m\"\u001b[39;49m\u001b[43m,\u001b[49m\u001b[43m \u001b[49m\u001b[38;5;28;43;01mNone\u001b[39;49;00m\u001b[43m)\u001b[49m\u001b[43m,\u001b[49m\n\u001b[1;32m   1222\u001b[0m \u001b[43m    \u001b[49m\u001b[43mmemory_map\u001b[49m\u001b[38;5;241;43m=\u001b[39;49m\u001b[38;5;28;43mself\u001b[39;49m\u001b[38;5;241;43m.\u001b[39;49m\u001b[43moptions\u001b[49m\u001b[38;5;241;43m.\u001b[39;49m\u001b[43mget\u001b[49m\u001b[43m(\u001b[49m\u001b[38;5;124;43m\"\u001b[39;49m\u001b[38;5;124;43mmemory_map\u001b[39;49m\u001b[38;5;124;43m\"\u001b[39;49m\u001b[43m,\u001b[49m\u001b[43m \u001b[49m\u001b[38;5;28;43;01mFalse\u001b[39;49;00m\u001b[43m)\u001b[49m\u001b[43m,\u001b[49m\n\u001b[1;32m   1223\u001b[0m \u001b[43m    \u001b[49m\u001b[43mis_text\u001b[49m\u001b[38;5;241;43m=\u001b[39;49m\u001b[43mis_text\u001b[49m\u001b[43m,\u001b[49m\n\u001b[1;32m   1224\u001b[0m \u001b[43m    \u001b[49m\u001b[43merrors\u001b[49m\u001b[38;5;241;43m=\u001b[39;49m\u001b[38;5;28;43mself\u001b[39;49m\u001b[38;5;241;43m.\u001b[39;49m\u001b[43moptions\u001b[49m\u001b[38;5;241;43m.\u001b[39;49m\u001b[43mget\u001b[49m\u001b[43m(\u001b[49m\u001b[38;5;124;43m\"\u001b[39;49m\u001b[38;5;124;43mencoding_errors\u001b[39;49m\u001b[38;5;124;43m\"\u001b[39;49m\u001b[43m,\u001b[49m\u001b[43m \u001b[49m\u001b[38;5;124;43m\"\u001b[39;49m\u001b[38;5;124;43mstrict\u001b[39;49m\u001b[38;5;124;43m\"\u001b[39;49m\u001b[43m)\u001b[49m\u001b[43m,\u001b[49m\n\u001b[1;32m   1225\u001b[0m \u001b[43m    \u001b[49m\u001b[43mstorage_options\u001b[49m\u001b[38;5;241;43m=\u001b[39;49m\u001b[38;5;28;43mself\u001b[39;49m\u001b[38;5;241;43m.\u001b[39;49m\u001b[43moptions\u001b[49m\u001b[38;5;241;43m.\u001b[39;49m\u001b[43mget\u001b[49m\u001b[43m(\u001b[49m\u001b[38;5;124;43m\"\u001b[39;49m\u001b[38;5;124;43mstorage_options\u001b[39;49m\u001b[38;5;124;43m\"\u001b[39;49m\u001b[43m,\u001b[49m\u001b[43m \u001b[49m\u001b[38;5;28;43;01mNone\u001b[39;49;00m\u001b[43m)\u001b[49m\u001b[43m,\u001b[49m\n\u001b[1;32m   1226\u001b[0m \u001b[43m\u001b[49m\u001b[43m)\u001b[49m\n\u001b[1;32m   1227\u001b[0m \u001b[38;5;28;01massert\u001b[39;00m \u001b[38;5;28mself\u001b[39m\u001b[38;5;241m.\u001b[39mhandles \u001b[38;5;129;01mis\u001b[39;00m \u001b[38;5;129;01mnot\u001b[39;00m \u001b[38;5;28;01mNone\u001b[39;00m\n\u001b[1;32m   1228\u001b[0m f \u001b[38;5;241m=\u001b[39m \u001b[38;5;28mself\u001b[39m\u001b[38;5;241m.\u001b[39mhandles\u001b[38;5;241m.\u001b[39mhandle\n",
      "File \u001b[0;32m~/opt/anaconda3/envs/geo_env/lib/python3.10/site-packages/pandas/io/common.py:789\u001b[0m, in \u001b[0;36mget_handle\u001b[0;34m(path_or_buf, mode, encoding, compression, memory_map, is_text, errors, storage_options)\u001b[0m\n\u001b[1;32m    784\u001b[0m \u001b[38;5;28;01melif\u001b[39;00m \u001b[38;5;28misinstance\u001b[39m(handle, \u001b[38;5;28mstr\u001b[39m):\n\u001b[1;32m    785\u001b[0m     \u001b[38;5;66;03m# Check whether the filename is to be opened in binary mode.\u001b[39;00m\n\u001b[1;32m    786\u001b[0m     \u001b[38;5;66;03m# Binary mode does not support 'encoding' and 'newline'.\u001b[39;00m\n\u001b[1;32m    787\u001b[0m     \u001b[38;5;28;01mif\u001b[39;00m ioargs\u001b[38;5;241m.\u001b[39mencoding \u001b[38;5;129;01mand\u001b[39;00m \u001b[38;5;124m\"\u001b[39m\u001b[38;5;124mb\u001b[39m\u001b[38;5;124m\"\u001b[39m \u001b[38;5;129;01mnot\u001b[39;00m \u001b[38;5;129;01min\u001b[39;00m ioargs\u001b[38;5;241m.\u001b[39mmode:\n\u001b[1;32m    788\u001b[0m         \u001b[38;5;66;03m# Encoding\u001b[39;00m\n\u001b[0;32m--> 789\u001b[0m         handle \u001b[38;5;241m=\u001b[39m \u001b[38;5;28;43mopen\u001b[39;49m\u001b[43m(\u001b[49m\n\u001b[1;32m    790\u001b[0m \u001b[43m            \u001b[49m\u001b[43mhandle\u001b[49m\u001b[43m,\u001b[49m\n\u001b[1;32m    791\u001b[0m \u001b[43m            \u001b[49m\u001b[43mioargs\u001b[49m\u001b[38;5;241;43m.\u001b[39;49m\u001b[43mmode\u001b[49m\u001b[43m,\u001b[49m\n\u001b[1;32m    792\u001b[0m \u001b[43m            \u001b[49m\u001b[43mencoding\u001b[49m\u001b[38;5;241;43m=\u001b[39;49m\u001b[43mioargs\u001b[49m\u001b[38;5;241;43m.\u001b[39;49m\u001b[43mencoding\u001b[49m\u001b[43m,\u001b[49m\n\u001b[1;32m    793\u001b[0m \u001b[43m            \u001b[49m\u001b[43merrors\u001b[49m\u001b[38;5;241;43m=\u001b[39;49m\u001b[43merrors\u001b[49m\u001b[43m,\u001b[49m\n\u001b[1;32m    794\u001b[0m \u001b[43m            \u001b[49m\u001b[43mnewline\u001b[49m\u001b[38;5;241;43m=\u001b[39;49m\u001b[38;5;124;43m\"\u001b[39;49m\u001b[38;5;124;43m\"\u001b[39;49m\u001b[43m,\u001b[49m\n\u001b[1;32m    795\u001b[0m \u001b[43m        \u001b[49m\u001b[43m)\u001b[49m\n\u001b[1;32m    796\u001b[0m     \u001b[38;5;28;01melse\u001b[39;00m:\n\u001b[1;32m    797\u001b[0m         \u001b[38;5;66;03m# Binary mode\u001b[39;00m\n\u001b[1;32m    798\u001b[0m         handle \u001b[38;5;241m=\u001b[39m \u001b[38;5;28mopen\u001b[39m(handle, ioargs\u001b[38;5;241m.\u001b[39mmode)\n",
      "\u001b[0;31mFileNotFoundError\u001b[0m: [Errno 2] No such file or directory: './data/pairs_us_sim.csv'"
     ]
    }
   ],
   "source": [
    "df = pd.read_csv(\"./data/pairs_us_sim.csv\")"
   ]
  },
  {
   "cell_type": "code",
   "execution_count": null,
   "id": "ffd6c6f4-3e6c-4493-9d20-bdf43fa501e7",
   "metadata": {},
   "outputs": [],
   "source": [
    "df.columns"
   ]
  },
  {
   "cell_type": "code",
   "execution_count": null,
   "id": "62bba8c8-7b37-44d7-80ab-df0b7b9854f9",
   "metadata": {},
   "outputs": [],
   "source": [
    "df.fillna('', inplace=True)"
   ]
  },
  {
   "cell_type": "code",
   "execution_count": null,
   "id": "a3b465d9-d535-415b-806e-87006ab0fdb6",
   "metadata": {},
   "outputs": [],
   "source": [
    "# df['add_city_state_zip_1'] = df['address_1'] + df['city_1'] + df['state_1'] + df['zip_1']"
   ]
  },
  {
   "cell_type": "code",
   "execution_count": null,
   "id": "6c8a2dd8-b4f9-4f49-bf6f-1657c566d604",
   "metadata": {},
   "outputs": [],
   "source": [
    "# df['add_city_state_zip_2'] = df['address_2'] + df['city_2'] + df['state_2'] + df['zip_2']"
   ]
  },
  {
   "cell_type": "code",
   "execution_count": null,
   "id": "065a0ef4-b026-41da-bb11-ad51a6e3e147",
   "metadata": {},
   "outputs": [],
   "source": [
    "# df[['add_city_state_zip_1','add_city_state_zip_2']]"
   ]
  },
  {
   "cell_type": "code",
   "execution_count": null,
   "id": "0c175497-72ee-42ab-8aca-c458e63871c7",
   "metadata": {},
   "outputs": [],
   "source": [
    "# address similarity array;\n",
    "sim_arr = []\n",
    "for i in range(len(df)):\n",
    "    a = df.iloc[[i]].loc[:,'address_1'].values[0]\n",
    "    b = df.iloc[[i]].loc[:,'address_2'].values[0]\n",
    "    sim = similar(a,b)\n",
    "    sim_arr.append(sim)\n",
    "    if i%5000==0: \n",
    "        print('{}; '.format(i), end='')\n",
    "    if i%50000==0:\n",
    "        print()\n",
    "df['add_sim'] = sim_arr"
   ]
  },
  {
   "cell_type": "code",
   "execution_count": null,
   "id": "3a672b83-437b-4b92-8fb3-ad27e2109e16",
   "metadata": {},
   "outputs": [],
   "source": [
    "# city similarity array;\n",
    "sim_arr = []\n",
    "for i in range(len(df)):\n",
    "    a = df.iloc[[i]].loc[:,'city_1'].values[0]\n",
    "    b = df.iloc[[i]].loc[:,'city_2'].values[0]\n",
    "    sim = similar(a,b)\n",
    "    sim_arr.append(sim)\n",
    "    if i%5000==0: \n",
    "        print('{}; '.format(i), end='')\n",
    "    if i%50000==0:\n",
    "        print()\n",
    "df['city_sim'] = sim_arr"
   ]
  },
  {
   "cell_type": "code",
   "execution_count": null,
   "id": "dcce9636-5e9a-4e13-a055-bb602f881cb9",
   "metadata": {},
   "outputs": [],
   "source": [
    "# zip similarity array;\n",
    "sim_arr = []\n",
    "for i in range(len(df)):\n",
    "    a = df.iloc[[i]].loc[:,'zip_1'].values[0]\n",
    "    b = df.iloc[[i]].loc[:,'zip_2'].values[0]\n",
    "    sim = similar(a,b)\n",
    "    sim_arr.append(sim)\n",
    "    if i%5000==0: \n",
    "        print('{}; '.format(i), end='')\n",
    "    if i%50000==0:\n",
    "        print()\n",
    "df['zip_sim'] = sim_arr"
   ]
  },
  {
   "cell_type": "code",
   "execution_count": null,
   "id": "fe6e5e8e-5d28-4e4a-abf6-62a68652adcc",
   "metadata": {},
   "outputs": [],
   "source": [
    "df['acsz_1'] = df['address_1'] + ' ' + df['city_1'] + ' ' + df['state_1'] + ' ' + df['zip_1']\n",
    "df['acsz_2'] = df['address_2'] + ' ' + df['city_2'] + ' ' + df['state_2'] + ' ' + df['zip_2']"
   ]
  },
  {
   "cell_type": "code",
   "execution_count": null,
   "id": "d7c3b70f-bb60-4264-801b-3e471cc90222",
   "metadata": {},
   "outputs": [],
   "source": [
    "df['acsz_1'].fillna('', inplace=True)\n",
    "df['acsz_2'].fillna('', inplace=True)"
   ]
  },
  {
   "cell_type": "code",
   "execution_count": null,
   "id": "eb42aa26-a342-40c5-8a8b-448a02f2507f",
   "metadata": {},
   "outputs": [],
   "source": [
    "# acsz similarity array;\n",
    "sim_arr = []\n",
    "for i in range(len(df)):\n",
    "    a = df.iloc[[i]].loc[:,'acsz_1'].values[0]\n",
    "    b = df.iloc[[i]].loc[:,'acsz_2'].values[0]\n",
    "    sim = similar(a,b)\n",
    "    sim_arr.append(sim)\n",
    "    if i%5000==0: \n",
    "        print('{}; '.format(i), end='')\n",
    "    if i%50000==0:\n",
    "        print()\n",
    "df['acsz_sim'] = sim_arr"
   ]
  },
  {
   "cell_type": "markdown",
   "id": "2e5a1f20-6d2b-4d61-bef8-087324c75980",
   "metadata": {},
   "source": [
    "# Logistic Regression"
   ]
  },
  {
   "cell_type": "code",
   "execution_count": null,
   "id": "6a4ae3b1-c1b1-4ec8-aed8-521a683187dd",
   "metadata": {},
   "outputs": [],
   "source": [
    "# df.to_csv('./data/pairs_us_sim.csv')"
   ]
  },
  {
   "cell_type": "code",
   "execution_count": null,
   "id": "1ed21cbe-f8e8-4105-b5c4-6266b8bafd10",
   "metadata": {},
   "outputs": [],
   "source": [
    "df = pd.read_csv(\"./data/pairs_us_sim.csv\")"
   ]
  },
  {
   "cell_type": "code",
   "execution_count": null,
   "id": "2f364a37-3638-4eec-90a3-8300de667e3c",
   "metadata": {},
   "outputs": [],
   "source": [
    "df.columns"
   ]
  },
  {
   "cell_type": "code",
   "execution_count": null,
   "id": "44f7f5a3-8bd3-4876-9799-0686b3e60a62",
   "metadata": {},
   "outputs": [],
   "source": [
    "df_sim = df[['name_similarity','geo_distance','state_sim','add_sim', 'city_sim', 'zip_sim','acsz_sim', 'match']].copy()\n",
    "# ,'acsz_sim'\n",
    "df_sim.head()"
   ]
  },
  {
   "cell_type": "code",
   "execution_count": null,
   "id": "1412ca5b-6cb3-4296-993f-3d4f037b00b5",
   "metadata": {},
   "outputs": [],
   "source": [
    "fig, ax = plt.subplots()\n",
    "sns.heatmap(df_sim.iloc[:,:-1].corr(), annot=True, ax=ax)\n",
    "plt.show()"
   ]
  },
  {
   "cell_type": "code",
   "execution_count": null,
   "id": "b6fb88ed-7f75-4c61-b9d2-a3bf5a0a6ded",
   "metadata": {},
   "outputs": [],
   "source": [
    "df_sim.columns"
   ]
  },
  {
   "cell_type": "code",
   "execution_count": null,
   "id": "50c80430-601b-4f45-9402-3c4f3adfaa0f",
   "metadata": {},
   "outputs": [],
   "source": [
    "# Define Feature matrix and Target vector\n",
    "X = df_sim.iloc[:,:-1]\n",
    "y = df_sim.iloc[:,-1]\n",
    "\n",
    "# Make train and test sets\n",
    "from sklearn.model_selection import train_test_split\n",
    "X_train, X_test, y_train, y_test = train_test_split(X, y, test_size=0.20, \n",
    "                                                    shuffle=True, random_state=2)\n",
    "\n",
    "# Initialize the logistic regression model\n",
    "from sklearn.linear_model import LogisticRegression\n",
    "clf = LogisticRegression(max_iter=2500)\n",
    "\n",
    "# Train the model\n",
    "clf.fit(X_train, y_train)\n",
    "\n",
    "# Make predictions\n",
    "y_pred = clf.predict(X_test) # Predictions\n",
    "y_true = y_test # True values\n",
    "\n",
    "# Measure accuracy\n",
    "from sklearn.metrics import accuracy_score\n",
    "# import numpy as np\n",
    "print(\"Train accuracy:\", np.round(accuracy_score(y_train, \n",
    "                                                 clf.predict(X_train)), 2))\n",
    "print(\"Test accuracy:\", np.round(accuracy_score(y_true, y_pred), 2))\n",
    "\n",
    "# Make the confusion matrix\n",
    "from sklearn.metrics import confusion_matrix\n",
    "cf_matrix = confusion_matrix(y_true, y_pred)\n",
    "print(\"\\nTest confusion_matrix\")\n",
    "sns.heatmap(cf_matrix, annot=True, cmap='Blues')\n",
    "plt.xlabel('Predicted', fontsize=14)\n",
    "plt.ylabel('True', fontsize=14)"
   ]
  },
  {
   "cell_type": "code",
   "execution_count": null,
   "id": "ddf73271-d736-42bc-bbb6-5f0421a12571",
   "metadata": {},
   "outputs": [],
   "source": [
    "y_prob = clf.predict_proba(X_train)[:,1]"
   ]
  },
  {
   "cell_type": "code",
   "execution_count": null,
   "id": "f1e1f263-1225-4dcf-ab80-57f584fbcdd2",
   "metadata": {},
   "outputs": [],
   "source": [
    "## Now plot how the accuracy changes with the cutoff\n",
    "cutoffs = np.arange(0,1.01,.01)\n",
    "accs = []\n",
    "\n",
    "for cutoff in cutoffs:\n",
    "    y_train_pred = 1*(y_prob >= cutoff)\n",
    "    accs.append(np.sum(y_train_pred == y_train)/len(y_train))"
   ]
  },
  {
   "cell_type": "code",
   "execution_count": null,
   "id": "2434153f-9fd7-495a-9f61-156ce4ef21aa",
   "metadata": {},
   "outputs": [],
   "source": [
    "fig, ax = plt.subplots(figsize=(8,6))\n",
    "\n",
    "ax.scatter(cutoffs,accs)\n",
    "\n",
    "ax.set_xlabel(\"Cutoff\",fontsize=16)\n",
    "ax.set_ylabel(\"Training Accuracy\",fontsize=16)\n",
    "\n",
    "plt.show()"
   ]
  },
  {
   "cell_type": "code",
   "execution_count": null,
   "id": "4ad455b1-cc1b-482d-9063-2ea3eb8354af",
   "metadata": {},
   "outputs": [],
   "source": [
    "max(accs)"
   ]
  },
  {
   "cell_type": "markdown",
   "id": "0afa957f-8cdf-43c6-8895-deef2fc956e9",
   "metadata": {
    "tags": []
   },
   "source": [
    "## Applying PCA"
   ]
  },
  {
   "cell_type": "code",
   "execution_count": null,
   "id": "0c1c0d21-f552-468b-9c25-c1b40cd8eb53",
   "metadata": {},
   "outputs": [],
   "source": [
    "# Do feature scaling\n",
    "from sklearn.preprocessing import StandardScaler\n",
    "sc = StandardScaler()\n",
    "X_scaled = sc.fit_transform(X)\n",
    "\n",
    "# Apply PCA\n",
    "from sklearn.decomposition import PCA\n",
    "pca = PCA(n_components=None)\n",
    "pca.fit(X_scaled)\n",
    "\n",
    "# Get the eigenvalues\n",
    "print(\"Eigenvalues:\")\n",
    "print(pca.explained_variance_)\n",
    "print()\n",
    "\n",
    "# Get explained variances\n",
    "print(\"Variances (Percentage):\")\n",
    "print(pca.explained_variance_ratio_ * 100)\n",
    "print()\n",
    "\n",
    "# Make the scree plot\n",
    "fig, ax = plt.subplots()\n",
    "ax.plot(np.cumsum(pca.explained_variance_ratio_ * 100))\n",
    "ax.set_xlabel(\"Number of components (Dimensions)\")\n",
    "ax.set_ylabel(\"Explained variance (%)\")\n",
    "ax.set_xticks(np.arange(0,6.1,1))\n",
    "plt.show()"
   ]
  },
  {
   "cell_type": "code",
   "execution_count": null,
   "id": "af06e0e6-5cd9-46e2-81b1-945fb234649f",
   "metadata": {},
   "outputs": [],
   "source": [
    "# Do feature scaling\n",
    "from sklearn.preprocessing import StandardScaler\n",
    "sc = StandardScaler()\n",
    "X_scaled = sc.fit_transform(X)\n",
    "\n",
    "# Apply PCA\n",
    "from sklearn.decomposition import PCA\n",
    "pca = PCA(n_components=6)\n",
    "X_pca = pca.fit_transform(X_scaled)\n",
    "\n",
    "# Get the transformed dataset\n",
    "X_pca = pd.DataFrame(X_pca)\n",
    "print(X_pca.head())\n",
    "print(\"\\nSize: \")\n",
    "print(X_pca.shape)"
   ]
  },
  {
   "cell_type": "code",
   "execution_count": null,
   "id": "19070b11-190d-4f46-b1a4-fe51f82efd11",
   "metadata": {},
   "outputs": [],
   "source": [
    "fig, ax = plt.subplots()\n",
    "sns.heatmap(X_pca.corr(), annot=True, ax=ax)\n",
    "plt.show()"
   ]
  },
  {
   "cell_type": "code",
   "execution_count": null,
   "id": "885dc122-1b5d-49a8-81ec-44e05585a568",
   "metadata": {},
   "outputs": [],
   "source": [
    "# Make train and test sets\n",
    "from sklearn.model_selection import train_test_split\n",
    "X_train_pca, X_test_pca, y_train, y_test = train_test_split(X_pca, y, test_size=0.20, \n",
    "                                                            shuffle=True, random_state=2)\n",
    "\n",
    "# Initialize the logistic regression model\n",
    "from sklearn.linear_model import LogisticRegression\n",
    "clf = LogisticRegression(max_iter=2500)\n",
    "\n",
    "# Train the model\n",
    "clf.fit(X_train_pca, y_train)\n",
    "\n",
    "# Make predictions\n",
    "y_pred = clf.predict(X_test_pca) # Predictions\n",
    "y_true = y_test # True values\n",
    "\n",
    "# Measure accuracy\n",
    "from sklearn.metrics import accuracy_score\n",
    "# import numpy as np\n",
    "print(\"Train accuracy:\", np.round(accuracy_score(y_train, clf.predict(X_train_pca)), 2))\n",
    "print(\"Test accuracy:\", np.round(accuracy_score(y_true, y_pred), 2))\n",
    "\n",
    "# Make the confusion matrix\n",
    "from sklearn.metrics import confusion_matrix\n",
    "cf_matrix = confusion_matrix(y_true, y_pred)\n",
    "print(\"\\nTest confusion_matrix\")\n",
    "sns.heatmap(cf_matrix, annot=True, cmap='Blues')\n",
    "plt.xlabel('Predicted', fontsize=12)\n",
    "plt.ylabel('True', fontsize=12)"
   ]
  },
  {
   "cell_type": "code",
   "execution_count": null,
   "id": "fb6bd80f-d9df-4c6e-bd56-a0d7bbf0a262",
   "metadata": {},
   "outputs": [],
   "source": [
    "# from sklearn.pipeline import Pipeline\n",
    "# from sklearn.preprocessing import StandardScaler\n",
    "# from sklearn.decomposition import PCA\n",
    "# from sklearn.linear_model import LogisticRegression\n",
    "\n",
    "# # Construct pipeline\n",
    "# sc = StandardScaler()\n",
    "# pca = PCA(n_components=3)\n",
    "# log_reg = LogisticRegression(max_iter=2500)\n",
    "\n",
    "# log_reg_model = Pipeline([\n",
    "#     ('std_scaler', sc),\n",
    "#     ('pca', pca),\n",
    "#     ('regressor', log_reg)\n",
    "# ])"
   ]
  },
  {
   "cell_type": "code",
   "execution_count": null,
   "id": "87142491-3c9d-4d21-892d-7425137bf836",
   "metadata": {},
   "outputs": [],
   "source": [
    "# log_reg_model.fit(X,y)"
   ]
  },
  {
   "cell_type": "code",
   "execution_count": null,
   "id": "90f045ed-4fb9-483a-99d3-56cd414f0ffc",
   "metadata": {},
   "outputs": [],
   "source": []
  },
  {
   "cell_type": "code",
   "execution_count": null,
   "id": "1082862a-2118-40ff-8a05-8783c553e43d",
   "metadata": {},
   "outputs": [],
   "source": []
  },
  {
   "cell_type": "code",
   "execution_count": null,
   "id": "26e27383-0971-49da-8dbb-13006ac9d4df",
   "metadata": {},
   "outputs": [],
   "source": []
  },
  {
   "cell_type": "code",
   "execution_count": null,
   "id": "09d8c1c3-59de-4eb7-b391-82892a3a126b",
   "metadata": {},
   "outputs": [],
   "source": []
  },
  {
   "cell_type": "code",
   "execution_count": null,
   "id": "2ed39ebb-44a3-4ffa-bab8-2a509d1aee31",
   "metadata": {},
   "outputs": [],
   "source": []
  },
  {
   "cell_type": "code",
   "execution_count": null,
   "id": "f7352729-8d06-4909-a413-069e7c2e293e",
   "metadata": {},
   "outputs": [],
   "source": []
  },
  {
   "cell_type": "code",
   "execution_count": null,
   "id": "a98bb365-545d-4826-9687-d969b86cb0c1",
   "metadata": {},
   "outputs": [],
   "source": [
    "df.loc[df['name_2']=='7-11',['name_1','name_2']]"
   ]
  },
  {
   "cell_type": "code",
   "execution_count": null,
   "id": "35c1a699-2c69-487c-8e81-feddd16f5651",
   "metadata": {},
   "outputs": [],
   "source": []
  },
  {
   "cell_type": "code",
   "execution_count": null,
   "id": "48515954-8979-4d18-8331-a99f2df49c70",
   "metadata": {},
   "outputs": [],
   "source": []
  },
  {
   "cell_type": "code",
   "execution_count": null,
   "id": "308f17e5-108e-49da-bbc6-e60136d2a9e5",
   "metadata": {},
   "outputs": [],
   "source": []
  },
  {
   "cell_type": "code",
   "execution_count": null,
   "id": "0dae1848-eba1-4eb9-9484-972696463acc",
   "metadata": {},
   "outputs": [],
   "source": []
  },
  {
   "cell_type": "markdown",
   "id": "036b29e6",
   "metadata": {
    "tags": []
   },
   "source": [
    "---\n",
    "\n",
    "# `pairs.csv` and `train.csv` (Redundant. To be deleted. Already in the Kaggle description.)\n",
    "We verify that all place \"entries\" in `pairs.csv` are from `train.csv`. "
   ]
  },
  {
   "cell_type": "code",
   "execution_count": null,
   "id": "58534f76",
   "metadata": {},
   "outputs": [],
   "source": [
    "# Make a copy of df_pairs\n",
    "# Rename the columns in df_pairs_copy with the names in train.csv\n",
    "df_pairs_copy = df_pairs.copy(deep=True)\n",
    "for x in df_pairs_copy.columns:\n",
    "    df_pairs_copy.rename({x:x.split('_')[0]},axis='columns',inplace=True)"
   ]
  },
  {
   "cell_type": "code",
   "execution_count": null,
   "id": "309f63d7",
   "metadata": {},
   "outputs": [],
   "source": [
    "df_pairs_copy.columns"
   ]
  },
  {
   "cell_type": "code",
   "execution_count": null,
   "id": "2ea25579",
   "metadata": {},
   "outputs": [],
   "source": [
    "# Reshape df_pairs_copy to compare it with df_train (train set)\n",
    "# The reshape data framed is tmp\n",
    "tmp1 = df_pairs_copy.iloc[:,:12]\n",
    "tmp2 = df_pairs_copy.iloc[:,12:-1]\n",
    "tmp  = pd.concat([tmp1,tmp2])\n",
    "# tmp.shape[0] == tmp1.shape[0]+tmp2.shape[0]\n",
    "print('Number of ids in pairs.csv:        {}'.format(tmp.shape[0]))\n",
    "print('Number of unique ids in pairs.csv: {}'.format(len(tmp['id'].unique())))\n",
    "print('Number of ids in train.csv:        {}'.format(df_train.shape[0]))\n",
    "print('The set of ids in pairs.csv is a subset of those in the train set: {}'\n",
    "      .format(set(tmp['id']).issubset(set(df_train['id']))))"
   ]
  },
  {
   "cell_type": "code",
   "execution_count": null,
   "id": "a1e94ada",
   "metadata": {},
   "outputs": [],
   "source": [
    "# tmp is too big. Take random samples to compare with entries in train.csv\n",
    "tmp_sample = tmp.sample(100)\n",
    "flag = True\n",
    "for i in range(len(tmp_sample)):\n",
    "    s_pairs = tmp_sample.iloc[i,:]\n",
    "    s_train = df_train[df_train['id']==s_pairs[0]]\n",
    "    s_train = s_train.iloc[0,:-1]\n",
    "    s_pairs.notna() == s_train.notna()\n",
    "    if not all(s_pairs.notna() == s_train.notna()): \n",
    "        print('Oops')\n",
    "        flag = False\n",
    "        break\n",
    "    if i%10 == 0: print(i)\n",
    "if flag: print(\"All random samples are from train.csv\")"
   ]
  },
  {
   "cell_type": "code",
   "execution_count": null,
   "id": "9e95a534",
   "metadata": {},
   "outputs": [],
   "source": [
    "df_train.point_of_interest.unique()"
   ]
  },
  {
   "cell_type": "code",
   "execution_count": null,
   "id": "3c28c47f",
   "metadata": {},
   "outputs": [],
   "source": [
    "# df_train.groupby(['point_of_interest']).count()\n",
    "df_train['point_of_interest'].value_counts()"
   ]
  }
 ],
 "metadata": {
  "celltoolbar": "Raw Cell Format",
  "kernelspec": {
   "display_name": "Python [conda env:geo_env]",
   "language": "python",
   "name": "conda-env-geo_env-py"
  },
  "language_info": {
   "codemirror_mode": {
    "name": "ipython",
    "version": 3
   },
   "file_extension": ".py",
   "mimetype": "text/x-python",
   "name": "python",
   "nbconvert_exporter": "python",
   "pygments_lexer": "ipython3",
   "version": "3.10.4"
  },
  "toc-autonumbering": true,
  "toc-showmarkdowntxt": false
 },
 "nbformat": 4,
 "nbformat_minor": 5
}
