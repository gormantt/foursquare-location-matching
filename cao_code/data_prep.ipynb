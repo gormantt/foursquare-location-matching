{
 "cells": [
  {
   "cell_type": "markdown",
   "id": "e1615dd0-25af-4e2c-bcdb-d6598d5a1488",
   "metadata": {},
   "source": [
    "# Data preparation\n",
    "\n",
    "What we do in this notebook:\n",
    "\n",
    "* Read data from the Kaggle file `pairs.csv`.\n",
    "* Take the subset of data with country label `US`.\n",
    "* Unify the `state` code into two letter format using the state code file `state-code.csv`.\n",
    "* Throw away \"fake\" rows with the `state` codes in `['UK', 'CE', 'NU', '国外']`.\n",
    "* For each feature in `[('latitude','longitude'),'name','address','city','state','zip','url','phone','categories']`.\n",
    "  calculate the \"difference\" using two different metrics: SequenceMatcher and Levinshtein.\n",
    "* Add a new column with name in the format `feature_diff_seq` or `feature_diff_lev` depending on the metric used.\n",
    "* Save the new dataframe into the file `pairs_us_diffs.csv`. Current size: 53M.\n",
    "* At the end, we just take a very quick look at the coorelation matrix of those \"difference features\".\n",
    "\n",
    "---\n"
   ]
  },
  {
   "cell_type": "code",
   "execution_count": 1,
   "id": "551463c2-f250-4fad-8fed-7d4644b43666",
   "metadata": {},
   "outputs": [],
   "source": [
    "import numpy as np\n",
    "import pandas as pd"
   ]
  },
  {
   "cell_type": "code",
   "execution_count": 2,
   "id": "731ad6aa-9670-4708-bd10-7b8ec1fa54f1",
   "metadata": {},
   "outputs": [],
   "source": [
    "# read data from pairs.csv\n",
    "# replace mypath to your local path of the file pairs.csv\n",
    "mypath = \"./data-foursquare-location-matching/pairs.csv\"\n",
    "df_pairs  = pd.read_csv(mypath)"
   ]
  },
  {
   "cell_type": "code",
   "execution_count": 3,
   "id": "624b964c-d184-4830-b515-68994a98c326",
   "metadata": {},
   "outputs": [],
   "source": [
    "# consider only the US pairs\n",
    "df_pairs_us = df_pairs[(df_pairs.country_1=='US') & (df_pairs.country_2=='US')]"
   ]
  },
  {
   "cell_type": "code",
   "execution_count": 4,
   "id": "7c14ac71-9402-42a9-9d5d-43970680eb62",
   "metadata": {},
   "outputs": [
    {
     "data": {
      "text/html": [
       "<div>\n",
       "<style scoped>\n",
       "    .dataframe tbody tr th:only-of-type {\n",
       "        vertical-align: middle;\n",
       "    }\n",
       "\n",
       "    .dataframe tbody tr th {\n",
       "        vertical-align: top;\n",
       "    }\n",
       "\n",
       "    .dataframe thead th {\n",
       "        text-align: right;\n",
       "    }\n",
       "</style>\n",
       "<table border=\"1\" class=\"dataframe\">\n",
       "  <thead>\n",
       "    <tr style=\"text-align: right;\">\n",
       "      <th></th>\n",
       "      <th>state</th>\n",
       "      <th>code</th>\n",
       "    </tr>\n",
       "  </thead>\n",
       "  <tbody>\n",
       "    <tr>\n",
       "      <th>0</th>\n",
       "      <td>ALABAMA</td>\n",
       "      <td>AL</td>\n",
       "    </tr>\n",
       "    <tr>\n",
       "      <th>1</th>\n",
       "      <td>ALASKA</td>\n",
       "      <td>AK</td>\n",
       "    </tr>\n",
       "    <tr>\n",
       "      <th>2</th>\n",
       "      <td>ARIZONA</td>\n",
       "      <td>AZ</td>\n",
       "    </tr>\n",
       "    <tr>\n",
       "      <th>3</th>\n",
       "      <td>ARKANSAS</td>\n",
       "      <td>AR</td>\n",
       "    </tr>\n",
       "    <tr>\n",
       "      <th>4</th>\n",
       "      <td>CALIFORNIA</td>\n",
       "      <td>CA</td>\n",
       "    </tr>\n",
       "  </tbody>\n",
       "</table>\n",
       "</div>"
      ],
      "text/plain": [
       "        state code\n",
       "0     ALABAMA   AL\n",
       "1      ALASKA   AK\n",
       "2     ARIZONA   AZ\n",
       "3    ARKANSAS   AR\n",
       "4  CALIFORNIA   CA"
      ]
     },
     "execution_count": 4,
     "metadata": {},
     "output_type": "execute_result"
    }
   ],
   "source": [
    "# two letter US state code from \n",
    "# https://www.bls.gov/respondents/mwr/electronic-data-interchange/appendix-d-usps-state-abbreviations-and-fips-codes.htm\n",
    "# saved in state-code.csv\n",
    "# Notes: Don't be confused with FIPS Code: 56 is not the total; some numbers are missing.\n",
    "\n",
    "state = pd.read_csv('./data/state-code.csv', header=None)\n",
    "state.columns=['state','code']\n",
    "state['state'] = state['state'].str.upper()\n",
    "state.head()"
   ]
  },
  {
   "cell_type": "code",
   "execution_count": 5,
   "id": "0913c616-cf46-426c-8831-a82d34f1d79e",
   "metadata": {
    "tags": []
   },
   "outputs": [
    {
     "name": "stdout",
     "output_type": "stream",
     "text": [
      "['CA' 'GA' 'NM' 'FL' 'VA' 'TN' 'NJ' 'UT' 'IN' 'NC' 'WI' nan 'NV' 'KS' 'MA'\n",
      " 'MS' 'AZ' 'MI' 'NY' 'TX' 'IL' 'AL' 'PA' 'OK' 'AR' 'KY' 'MO' 'WV' 'CO'\n",
      " 'NE' 'OH' 'OR' 'MT' 'CT' 'NH' 'MD' 'HI' 'WA' 'WY' 'RI' 'VT' 'IA' 'MN'\n",
      " 'LA' 'SC' 'ND' 'DE' 'DC' 'SD' 'AK' 'ID' 'ME' 'CE']\n",
      "['CA' 'GA' 'NM' 'FL' 'VA' 'TN' nan 'NJ' 'UT' 'IN' 'NC' 'WI' 'NV' 'KS' 'MA'\n",
      " 'MS' 'AZ' 'MI' 'NY' 'TX' 'IL' 'AL' 'PA' 'OK' 'AR' 'KY' 'WV' 'CO' 'NE'\n",
      " 'OH' 'OR' 'MT' 'SC' 'CT' 'NH' 'MO' 'MD' 'HI' 'WA' 'WY' 'VT' 'IA' 'MN'\n",
      " 'LA' 'ND' 'DE' 'DC' 'SD' 'AK' 'ID' 'ME' 'RI' 'UK' 'CE' 'NU' '国外']\n"
     ]
    }
   ],
   "source": [
    "# Unify the format of the state code\n",
    "\n",
    "dict_lookup = dict(zip(state['state'],state['code']))\n",
    "dict_lookup['CALIF']  = 'CA'\n",
    "dict_lookup['D.C.']   = 'DC'\n",
    "dict_lookup['ON/NY']  = 'NY'\n",
    "\n",
    "df = df_pairs_us.copy()\n",
    "df['state_1'] = df['state_1'].str.upper()\n",
    "df['state_2'] = df['state_2'].str.upper()\n",
    "\n",
    "for x in dict_lookup.keys():\n",
    "    \n",
    "    df.loc[df[\"state_1\"] == x, \"state_1\"] = dict_lookup[x]\n",
    "    df.loc[df[\"state_2\"] == x, \"state_2\"] = dict_lookup[x]\n",
    "    \n",
    "print(df['state_1'].unique())\n",
    "print(df['state_2'].unique())"
   ]
  },
  {
   "cell_type": "code",
   "execution_count": 6,
   "id": "3d55e001-9a98-4943-bc1d-483cff6179a9",
   "metadata": {},
   "outputs": [
    {
     "name": "stdout",
     "output_type": "stream",
     "text": [
      "['CA' 'GA' 'NM' 'FL' 'VA' 'TN' 'NJ' 'UT' 'IN' 'NC' 'WI' nan 'NV' 'KS' 'MA'\n",
      " 'MS' 'AZ' 'MI' 'NY' 'TX' 'IL' 'AL' 'PA' 'OK' 'AR' 'KY' 'MO' 'WV' 'CO'\n",
      " 'NE' 'OH' 'OR' 'MT' 'CT' 'NH' 'MD' 'HI' 'WA' 'WY' 'RI' 'VT' 'IA' 'MN'\n",
      " 'LA' 'SC' 'ND' 'DE' 'DC' 'SD' 'AK' 'ID' 'ME']\n",
      "['CA' 'GA' 'NM' 'FL' 'VA' 'TN' nan 'NJ' 'UT' 'IN' 'NC' 'WI' 'NV' 'KS' 'MA'\n",
      " 'MS' 'AZ' 'MI' 'NY' 'TX' 'IL' 'AL' 'PA' 'OK' 'AR' 'KY' 'WV' 'CO' 'NE'\n",
      " 'OH' 'OR' 'MT' 'SC' 'CT' 'NH' 'MO' 'MD' 'HI' 'WA' 'WY' 'VT' 'IA' 'MN'\n",
      " 'LA' 'ND' 'DE' 'DC' 'SD' 'AK' 'ID' 'ME' 'RI']\n",
      "{'PR', 'VI'}\n",
      "{'PR', 'VI'}\n",
      "(117703, 25)\n"
     ]
    }
   ],
   "source": [
    "# If your data frame does not have the same number of rows, \n",
    "# it is very likely because Yu Cao throw away \"fake\" us data\n",
    "# as follows. Comment out the following lines if you want to keep those rows.\n",
    "drop_list = ['UK', 'CE', 'NU', '国外']\n",
    "df = df[df['state_1'].isin(drop_list)==False] \n",
    "df = df[df['state_2'].isin(drop_list)==False] \n",
    "print(df['state_1'].unique())\n",
    "print(df['state_2'].unique())\n",
    "tmp1 = df['state_1'].unique()\n",
    "tmp2 = df['state_2'].unique()\n",
    "print(set(state['code']).difference(set(tmp1)))\n",
    "print(set(state['code']).difference(set(tmp2)))\n",
    "print(df.shape)"
   ]
  },
  {
   "cell_type": "markdown",
   "id": "04ed0963-19d6-4a3c-8da4-cbfe504edb2c",
   "metadata": {},
   "source": [
    "# Computing \"difference\" of various features and adding the difference as new columns "
   ]
  },
  {
   "cell_type": "code",
   "execution_count": 7,
   "id": "81d7455c-4464-46f3-936e-8a7627051b5e",
   "metadata": {},
   "outputs": [],
   "source": [
    "def get_diff(df,func,*feature,name=None):\n",
    "    '''Get difference of given feature using input metric\n",
    "    \n",
    "    df:      data frame of pairs\n",
    "    func:    metric to apply\n",
    "    feature: features to compare with the metric\n",
    "    name:    new feature name\n",
    "    \n",
    "    '''\n",
    "    if name is None:\n",
    "        name = feature[0]+'_diff'\n",
    "    print('Getting difference in {} with the \"{}\" metric.'.format(feature,func.__name__))\n",
    "    print('Making new column \"{}\"'.format(name))\n",
    "    print()\n",
    "    cols = [str(x)+'_1' for x in feature]+[str(x)+'_2' for x in feature]\n",
    "    df[name] = df[cols].apply(func, axis=1)\n"
   ]
  },
  {
   "cell_type": "code",
   "execution_count": 8,
   "id": "ea46ccdf-d0f3-43b3-8ad7-7f03e5b64e04",
   "metadata": {},
   "outputs": [],
   "source": [
    "from difflib import SequenceMatcher\n",
    "def seq_metric(pair):\n",
    "    ''' metric for comparing strings\n",
    "    \n",
    "    '''\n",
    "    a,b = tuple(pair)\n",
    "    if type(a)!=str or type(b)!=str:\n",
    "        return -1\n",
    "    else:\n",
    "        # from Ling.\n",
    "        a = a.lower().replace(\" \", \"\").replace(\"'\", \"\")\n",
    "        b = b.lower().replace(\" \", \"\").replace(\"'\", \"\")\n",
    "        # b = b.lower().replace('[{}]'.format(string.punctuation),'').replace(\" \", \"\")\n",
    "    return 1-SequenceMatcher(None, a, b).ratio()\n"
   ]
  },
  {
   "cell_type": "code",
   "execution_count": 9,
   "id": "d4fae3e3-7213-4b35-8c04-3eb8aa282da7",
   "metadata": {},
   "outputs": [],
   "source": [
    "def l2_metric(pair):\n",
    "    ''' Euclidean distance (l2) for comparing geographic coordinates\n",
    "    \n",
    "    '''\n",
    "    a = np.asarray(pair[0],pair[1])\n",
    "    b = np.asarray(pair[2],pair[3])\n",
    "    return np.linalg.norm(a-b)"
   ]
  },
  {
   "cell_type": "code",
   "execution_count": 10,
   "id": "8f4b85a8-55ea-400f-9c2a-13b72250c368",
   "metadata": {},
   "outputs": [],
   "source": [
    "from Levenshtein import distance as lev\n",
    "def lev_metric(pair):\n",
    "    ''' Levenshtein metric for comparing strings\n",
    "    \n",
    "    '''\n",
    "    a,b = tuple(pair)\n",
    "    if type(a)!=str or type(b)!=str:\n",
    "        return -1\n",
    "    elif len(a)==0 or len(b)==0:\n",
    "        return -1\n",
    "    else:\n",
    "        a = a.lower().replace(\" \", \"\").replace(\"'\", \"\")\n",
    "        b = b.lower().replace(\" \", \"\").replace(\"'\", \"\")\n",
    "    return lev(a,b)/max(len(a),len(b))"
   ]
  },
  {
   "cell_type": "code",
   "execution_count": 11,
   "id": "2b97c905-be4f-44c2-8b8e-cf06121c0aa4",
   "metadata": {},
   "outputs": [
    {
     "name": "stdout",
     "output_type": "stream",
     "text": [
      "['id_1' 'name_1' 'latitude_1' 'longitude_1' 'address_1' 'city_1' 'state_1'\n",
      " 'zip_1' 'country_1' 'url_1' 'phone_1' 'categories_1' 'id_2' 'name_2'\n",
      " 'latitude_2' 'longitude_2' 'address_2' 'city_2' 'state_2' 'zip_2'\n",
      " 'country_2' 'url_2' 'phone_2' 'categories_2' 'match']\n",
      "\n",
      "Getting difference in ('latitude', 'longitude') with the \"l2_metric\" metric.\n",
      "Making new column \"geo_diff\"\n",
      "\n",
      "Getting difference in ('name',) with the \"seq_metric\" metric.\n",
      "Making new column \"name_diff_seq\"\n",
      "\n",
      "Getting difference in ('name',) with the \"lev_metric\" metric.\n",
      "Making new column \"name_diff_lev\"\n",
      "\n",
      "Getting difference in ('address',) with the \"seq_metric\" metric.\n",
      "Making new column \"address_diff_seq\"\n",
      "\n",
      "Getting difference in ('address',) with the \"lev_metric\" metric.\n",
      "Making new column \"address_diff_lev\"\n",
      "\n",
      "Getting difference in ('city',) with the \"seq_metric\" metric.\n",
      "Making new column \"city_diff_seq\"\n",
      "\n",
      "Getting difference in ('city',) with the \"lev_metric\" metric.\n",
      "Making new column \"city_diff_lev\"\n",
      "\n",
      "Getting difference in ('state',) with the \"seq_metric\" metric.\n",
      "Making new column \"state_diff_seq\"\n",
      "\n",
      "Getting difference in ('state',) with the \"lev_metric\" metric.\n",
      "Making new column \"state_diff_lev\"\n",
      "\n",
      "Getting difference in ('zip',) with the \"seq_metric\" metric.\n",
      "Making new column \"zip_diff_seq\"\n",
      "\n",
      "Getting difference in ('zip',) with the \"lev_metric\" metric.\n",
      "Making new column \"zip_diff_lev\"\n",
      "\n",
      "Getting difference in ('url',) with the \"seq_metric\" metric.\n",
      "Making new column \"url_diff_seq\"\n",
      "\n",
      "Getting difference in ('url',) with the \"lev_metric\" metric.\n",
      "Making new column \"url_diff_lev\"\n",
      "\n",
      "Getting difference in ('phone',) with the \"seq_metric\" metric.\n",
      "Making new column \"phone_diff_seq\"\n",
      "\n",
      "Getting difference in ('phone',) with the \"lev_metric\" metric.\n",
      "Making new column \"phone_diff_lev\"\n",
      "\n",
      "Getting difference in ('categories',) with the \"seq_metric\" metric.\n",
      "Making new column \"categories_diff_seq\"\n",
      "\n",
      "Getting difference in ('categories',) with the \"lev_metric\" metric.\n",
      "Making new column \"categories_diff_lev\"\n",
      "\n",
      "['id_1' 'name_1' 'latitude_1' 'longitude_1' 'address_1' 'city_1' 'state_1'\n",
      " 'zip_1' 'country_1' 'url_1' 'phone_1' 'categories_1' 'id_2' 'name_2'\n",
      " 'latitude_2' 'longitude_2' 'address_2' 'city_2' 'state_2' 'zip_2'\n",
      " 'country_2' 'url_2' 'phone_2' 'categories_2' 'match' 'geo_diff'\n",
      " 'name_diff_seq' 'name_diff_lev' 'address_diff_seq' 'address_diff_lev'\n",
      " 'city_diff_seq' 'city_diff_lev' 'state_diff_seq' 'state_diff_lev'\n",
      " 'zip_diff_seq' 'zip_diff_lev' 'url_diff_seq' 'url_diff_lev'\n",
      " 'phone_diff_seq' 'phone_diff_lev' 'categories_diff_seq'\n",
      " 'categories_diff_lev']\n"
     ]
    }
   ],
   "source": [
    "print(df.columns.values)\n",
    "print()\n",
    "\n",
    "feature = ('latitude','longitude')\n",
    "get_diff(df,l2_metric,*feature,name='geo_diff')\n",
    "\n",
    "features = ['name','address','city','state','zip','url','phone','categories']\n",
    "features = [[x] for x in features]\n",
    "for feature in features:\n",
    "    get_diff(df,seq_metric,*feature,name=feature[0]+'_diff_seq')\n",
    "    get_diff(df,lev_metric,*feature,name=feature[0]+'_diff_lev')\n",
    "print(df.columns.values)"
   ]
  },
  {
   "cell_type": "code",
   "execution_count": 12,
   "id": "17273e8e-fa16-4493-9549-26014b12f33b",
   "metadata": {},
   "outputs": [],
   "source": [
    "df.to_csv('./data/pairs_us_diffs.csv')\n"
   ]
  },
  {
   "cell_type": "code",
   "execution_count": 14,
   "id": "1a917a2f-a9d5-4867-8aad-b97780573688",
   "metadata": {},
   "outputs": [],
   "source": [
    "# # show size of the file\n",
    "# %ls -lh ./data/pairs_us_diffs.csv"
   ]
  },
  {
   "cell_type": "code",
   "execution_count": null,
   "id": "1531857d-a0f3-44e2-b8e0-2a9a604976a0",
   "metadata": {},
   "outputs": [],
   "source": [
    "# Can add more \"difference\" columns for df here."
   ]
  },
  {
   "cell_type": "markdown",
   "id": "9cb5288b-2df2-40d6-bfa5-5236f1b0932c",
   "metadata": {},
   "source": [
    "---"
   ]
  },
  {
   "cell_type": "code",
   "execution_count": 15,
   "id": "403ff766-da44-40f1-8c66-c07924ba6c6e",
   "metadata": {},
   "outputs": [
    {
     "data": {
      "image/png": "[encoded data removed]",
      "text/plain": [
       "<Figure size 720x576 with 2 Axes>"
      ]
     },
     "metadata": {
      "needs_background": "light"
     },
     "output_type": "display_data"
    }
   ],
   "source": [
    "import matplotlib.pyplot as plt\n",
    "import seaborn as sns\n",
    "fig, ax = plt.subplots(figsize=(10,8))\n",
    "sns.heatmap(df.iloc[:,-9:].corr(), annot=True, ax=ax)\n",
    "ax.tick_params(axis='both',labelsize=14)\n",
    "plt.show()"
   ]
  },
  {
   "cell_type": "code",
   "execution_count": null,
   "id": "8279b6da-4df3-4220-984d-2c49cbe71829",
   "metadata": {},
   "outputs": [],
   "source": []
  },
  {
   "cell_type": "code",
   "execution_count": 11,
   "id": "759350dc-6de1-46d2-88f5-93de924f7fda",
   "metadata": {
    "jupyter": {
     "source_hidden": true
    },
    "tags": []
   },
   "outputs": [],
   "source": [
    "# Very slow using for loops!!!!! To be deleted!!!\n",
    "\n",
    "# def get_sim(df,f1,f2,func):\n",
    "#     '''Get similarity.\n",
    "    \n",
    "#     Get func() similarity/difference of selected feature\n",
    "#     from data frame df. \n",
    "#     Return a list. \n",
    "    \n",
    "#     '''\n",
    "    \n",
    "#     dist_arr = []\n",
    "#     for i in range(len(df)):\n",
    "#         a = df.iloc[[i]].loc[:,f1].values[0]\n",
    "#         b = df.iloc[[i]].loc[:,f2].values[0]\n",
    "#         d = func(a,b)\n",
    "#         dist_arr.append(d)\n",
    "#         if i%5000==0: \n",
    "#             print('{}; '.format(i), end='')\n",
    "#         if i%50000==0:\n",
    "#             print()\n",
    "#     return dist_arr\n",
    "\n",
    "# # geo similarity array;\n",
    "# def l2_dist(a,b):\n",
    "#     return np.linalg.norm(a-b)\n",
    "# df['geo_sim'] = get_sim(df,f1 = ['latitude_1','longitude_1'],\n",
    "#                            f2 = ['latitude_2','longitude_2'],\n",
    "#                            func = l2_dist)\n",
    "\n",
    "# # state similarity array;\n",
    "# from difflib import SequenceMatcher\n",
    "# def seq_matcher_sim(a,b):\n",
    "#     return SequenceMatcher(None, a, b).ratio()\n",
    "\n",
    "# df['state_sim'] = get_sim(df,f1 = ['state_1'],\n",
    "#                              f2 = ['state_2'],\n",
    "#                              func=seq_matcher_sim)\n",
    "\n",
    "# # address similarity array;\n",
    "# df['addr_sim'] = get_sim(df,f1 = ['address_1'],\n",
    "#                             f2 = ['address_2'],\n",
    "#                             func=seq_matcher_sim)\n",
    "\n",
    "# # city similarity array;\n",
    "# df['city_sim'] = get_sim(df,f1 = ['city_1'],\n",
    "#                             f2 = ['city_2'],\n",
    "#                             func=seq_matcher_sim)\n",
    "\n",
    "# # zip similarity array;\n",
    "# df['zip_sim'] = get_sim(df,f1 = ['zip_1'],\n",
    "#                            f2 = ['zip_2'],\n",
    "#                            func=seq_matcher_sim)\n",
    "\n",
    "# # categories similarity array;\n",
    "# df['cate_sim'] = get_sim(df,f1 = ['categories_1'],\n",
    "#                             f2 = ['categories_2'],\n",
    "#                             func=seq_matcher_sim)"
   ]
  }
 ],
 "metadata": {
  "kernelspec": {
   "display_name": "Python [conda env:geo_env]",
   "language": "python",
   "name": "conda-env-geo_env-py"
  },
  "language_info": {
   "codemirror_mode": {
    "name": "ipython",
    "version": 3
   },
   "file_extension": ".py",
   "mimetype": "text/x-python",
   "name": "python",
   "nbconvert_exporter": "python",
   "pygments_lexer": "ipython3",
   "version": "3.10.4"
  }
 },
 "nbformat": 4,
 "nbformat_minor": 5
}
