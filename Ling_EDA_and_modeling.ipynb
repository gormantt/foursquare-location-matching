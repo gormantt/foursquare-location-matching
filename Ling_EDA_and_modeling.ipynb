{
  "nbformat": 4,
  "nbformat_minor": 0,
  "metadata": {
    "colab": {
      "name": "Ling EDA and modeling.ipynb",
      "provenance": [],
      "toc_visible": true,
      "collapsed_sections": [
        "Z813pLtBaoqd",
        "m9zXgTnmanVT",
        "2k34o6seayUT",
        "TprvwriyayZz",
        "pHg_f7MgayfH",
        "8p322SP_a8ka",
        "iLxMMBjCbAkH",
        "cyQ5Wz4sbCL1",
        "SG4D3Vn7FoWV",
        "Pa8b5g5ry_ej",
        "Bo3PmUV7FzDB",
        "dyq-Ele_tUdk",
        "TNLatSS55NQ-",
        "6pbFEc26581Z",
        "pl6JpKso6EOM",
        "gWcwqa636I8-"
      ],
      "authorship_tag": "ABX9TyOdhQHLoPWHfjRSyLxaTefC",
      "include_colab_link": true
    },
    "kernelspec": {
      "name": "python3",
      "display_name": "Python 3"
    },
    "language_info": {
      "name": "python"
    }
  },
  "cells": [
    {
      "cell_type": "markdown",
      "metadata": {
        "id": "view-in-github",
        "colab_type": "text"
      },
      "source": [
        "<a href=\"https://colab.research.google.com/github/gormantt/foursquare-location-matching/blob/main/Ling_EDA_and_modeling.ipynb\" target=\"_parent\"><img src=\"https://colab.research.google.com/assets/colab-badge.svg\" alt=\"Open In Colab\"/></a>"
      ]
    },
    {
      "cell_type": "markdown",
      "source": [
        "# Exploratory data analysis\n",
        "\n",
        "---\n",
        "Data analyzed in this notebook is from [Kaggle's code competation: Foursquare - Location Matching](https://www.kaggle.com/competitions/foursquare-location-matching/data). The data comprises over one-and-a-half million place entries for hundreds of thousands of commercial Points-of-Interest (POIs) around the globe. The task is to **determine which place entries describe the same point-of-interest**. Though the data entries may represent or resemble entries for real places, they may also contain artificial information or additional noise.\n"
      ],
      "metadata": {
        "id": "n25cn50iyFUf"
      }
    },
    {
      "cell_type": "code",
      "source": [
        "import pandas as pd\n",
        "import numpy as np\n",
        "import seaborn as sns\n",
        "\n",
        "#For plotting\n",
        "import matplotlib.pyplot as plt\n",
        "from pandas.plotting import scatter_matrix"
      ],
      "metadata": {
        "id": "K_gFE3lTynyQ"
      },
      "execution_count": 1,
      "outputs": []
    },
    {
      "cell_type": "markdown",
      "source": [
        "## Features analysis\n",
        "\n",
        "---\n",
        "\n",
        "The features available in `test.csv` include \n",
        "\n",
        "```\n",
        "'name', 'latitude', 'longitude', 'address', 'city', 'state',\n",
        "       'zip', 'country', 'url', 'phone', 'categories'\n",
        "```\n"
      ],
      "metadata": {
        "id": "VCpYBKeqbby8"
      }
    },
    {
      "cell_type": "markdown",
      "source": [
        "### latitude and longitude\n",
        "\n",
        "\n",
        "---\n",
        "We compute the difference for (latitude, longitude) of each pair in `pairs.csv`. It turns out \n",
        "  * locations with close (difference less than 0.001) can have have different POIs: stores are next to each other in a shopping center. In some extreme cases, places with identical coordinates can have different POI. For example, one classroom can be located vertically on top of another.  \n",
        "  * conversely, locations physically far can represent the same POI, such as mountains."
      ],
      "metadata": {
        "id": "9Xdkh5XXbiv-"
      }
    },
    {
      "cell_type": "code",
      "source": [
        "plt.scatter(train.latitude.values, train.longitude.values)\n",
        "plt.xlabel('Longitude')\n",
        "plt.ylabel('Latitude')\n",
        "plt.show()"
      ],
      "metadata": {
        "colab": {
          "base_uri": "https://localhost:8080/",
          "height": 279
        },
        "id": "mo9LD8_PSYaZ",
        "outputId": "64b164b6-716c-4044-9145-bcbc2717cbfc"
      },
      "execution_count": null,
      "outputs": [
        {
          "output_type": "display_data",
          "data": {
            "text/plain": [
              "<Figure size 432x288 with 1 Axes>"
            ],
            "image/png": "[encoded data removed]"
          },
          "metadata": {
            "needs_background": "light"
          }
        }
      ]
    },
    {
      "cell_type": "code",
      "source": [
        "pairs.iloc[4]"
      ],
      "metadata": {
        "colab": {
          "base_uri": "https://localhost:8080/"
        },
        "id": "jjOHOtQ6alTL",
        "outputId": "85f46042-0c97-434e-c43f-3225d9a3d1f9"
      },
      "execution_count": null,
      "outputs": [
        {
          "output_type": "execute_result",
          "data": {
            "text/plain": [
              "id_1                              E_0000c362229d93\n",
              "name_1                                  Coffee Cat\n",
              "latitude_1                                7.082218\n",
              "longitude_1                             125.610244\n",
              "address_1                            F. Torres St.\n",
              "city_1                                  Davao City\n",
              "state_1                               Davao Region\n",
              "zip_1                                         8000\n",
              "country_1                                       PH\n",
              "url_1                                          NaN\n",
              "phone_1                                        NaN\n",
              "categories_1                   Cafés, Coffee Shops\n",
              "id_2                              E_d52c3c4d53831c\n",
              "name_2                                   Coffeecat\n",
              "latitude_2                                7.076016\n",
              "longitude_2                             125.611457\n",
              "address_2                     E. Jacinto Extension\n",
              "city_2                                  Davao City\n",
              "state_2                               Davao Region\n",
              "zip_2                                         8000\n",
              "country_2                                       PH\n",
              "url_2                                          NaN\n",
              "phone_2                                        NaN\n",
              "categories_2    Coffee Shops, Cafés, Dessert Shops\n",
              "match                                        False\n",
              "Name: 4, dtype: object"
            ]
          },
          "metadata": {},
          "execution_count": 51
        }
      ]
    },
    {
      "cell_type": "code",
      "source": [
        "# Compute the difference of (latitude, longitude) of each pair in pairs.csv\n",
        "pairs['location_diff'] = pd.concat([(pairs['latitude_1']-pairs['latitude_2']).abs(), (pairs['longitude_1']-pairs['longitude_2']).abs()], axis=1).max(axis=1)\n",
        "\n",
        "pairs.location_diff.describe()"
      ],
      "metadata": {
        "colab": {
          "base_uri": "https://localhost:8080/"
        },
        "id": "2Y455w2siJI3",
        "outputId": "85e5ea10-1e5b-40cc-8096-fb012ddc52c5"
      },
      "execution_count": 18,
      "outputs": [
        {
          "output_type": "execute_result",
          "data": {
            "text/plain": [
              "count    578907.000000\n",
              "mean          0.131210\n",
              "std           2.964284\n",
              "min           0.000000\n",
              "25%           0.000316\n",
              "50%           0.001111\n",
              "75%           0.004946\n",
              "max         270.865670\n",
              "Name: location_diff, dtype: float64"
            ]
          },
          "metadata": {},
          "execution_count": 18
        }
      ]
    },
    {
      "cell_type": "code",
      "source": [
        "sns.stripplot(x=\"match\", y=\"location_diff\", data=pairs.loc[pairs.location_diff<0.001])\n",
        "plt.show()"
      ],
      "metadata": {
        "colab": {
          "base_uri": "https://localhost:8080/",
          "height": 279
        },
        "id": "wCHMVs33nL6-",
        "outputId": "f8befee5-613e-41b9-e991-358b5c217a62"
      },
      "execution_count": 19,
      "outputs": [
        {
          "output_type": "display_data",
          "data": {
            "text/plain": [
              "<Figure size 432x288 with 1 Axes>"
            ],
            "image/png": "[encoded data removed]"
          },
          "metadata": {
            "needs_background": "light"
          }
        }
      ]
    },
    {
      "cell_type": "code",
      "source": [
        "sns.stripplot(x=\"match\", y=\"location_diff\", data=pairs.loc[pairs.location_diff==0])\n",
        "plt.show()"
      ],
      "metadata": {
        "colab": {
          "base_uri": "https://localhost:8080/",
          "height": 279
        },
        "id": "71wV-MD_XK0T",
        "outputId": "22f1b306-fdf9-4ddb-fa0a-841dfaa9576b"
      },
      "execution_count": 20,
      "outputs": [
        {
          "output_type": "display_data",
          "data": {
            "text/plain": [
              "<Figure size 432x288 with 1 Axes>"
            ],
            "image/png": "[encoded data removed]"
          },
          "metadata": {
            "needs_background": "light"
          }
        }
      ]
    },
    {
      "cell_type": "code",
      "source": [
        "print('There are',len(pairs.loc[(pairs.location_diff==0) & (pairs.match==False)]),'pairs with location_diff=0 but different POIs, out of all',len(pairs),'pairs.')"
      ],
      "metadata": {
        "colab": {
          "base_uri": "https://localhost:8080/"
        },
        "id": "6DlOAlWhhQHM",
        "outputId": "5881c716-d353-4c82-aa2b-42ec0dbd04e2"
      },
      "execution_count": 21,
      "outputs": [
        {
          "output_type": "stream",
          "name": "stdout",
          "text": [
            "There are 574 pairs with location_diff=0 but different POIs, out of all 578907 pairs.\n"
          ]
        }
      ]
    },
    {
      "cell_type": "markdown",
      "source": [
        "### name\n",
        "\n",
        "  * There are some true pairs with slightly different names, e.g. short name v.s. full name.\n",
        "  * Conversely, there are false pairs with the same name, e.g. chain stores in different cities."
      ],
      "metadata": {
        "id": "QyjqD8XjaWHQ"
      }
    },
    {
      "cell_type": "code",
      "source": [
        "pairs.loc[pairs.match==True]"
      ],
      "metadata": {
        "colab": {
          "base_uri": "https://localhost:8080/",
          "height": 765
        },
        "id": "Vxd4kAAcc_a5",
        "outputId": "120331d2-b87d-4907-eeb4-4905fe3de1c9"
      },
      "execution_count": 22,
      "outputs": [
        {
          "output_type": "execute_result",
          "data": {
            "text/plain": [
              "                    id_1                                name_1  latitude_1  \\\n",
              "0       E_000001272c6c5d                  Café Stad Oudenaarde   50.859975   \n",
              "2       E_000023d8f4be44                            Island Spa   14.518970   \n",
              "3       E_00007dcd2bb53f                     TOGO'S Sandwiches   38.257797   \n",
              "5       E_0000c566a81ea1                              つじ田 味噌の章   35.694796   \n",
              "6       E_0000d9e584ed9f         Signature Properties Savannah   32.012582   \n",
              "...                  ...                                   ...         ...   \n",
              "578899  E_ffff2b8abf31ab                        La Tagliatella   41.390307   \n",
              "578901  E_ffff7b1a22e81b                              Sorrento   37.540007   \n",
              "578902  E_ffff80f94b2fee              Blk 332 Hougang Avenue 5    1.368397   \n",
              "578904  E_ffff989ae206f8  Cricket Wireless Authorized Retailer   36.130623   \n",
              "578905  E_ffffca745329ed                                 焼肉 和家   35.710712   \n",
              "\n",
              "        longitude_1                                    address_1      city_1  \\\n",
              "0          3.634196                                  Abdijstraat  Nederename   \n",
              "2        121.018702  5th Flr, Newport Mall, Resorts World Manila  Pasay City   \n",
              "3       -122.064599                     1380 Holiday Ln., Ste. B   Fairfield   \n",
              "5        139.767348                                     神田小川町1-1        千代田区   \n",
              "6        -81.113156                      100 Commercial Ct Ste C    Savannah   \n",
              "...             ...                                          ...         ...   \n",
              "578899     2.173657                           C. d’Ausiàs Marc 7   Barcelona   \n",
              "578901   127.070265                                          NaN         NaN   \n",
              "578902   103.898145                            332 Hougang Ave 5   Singapore   \n",
              "578904   -86.715636                       825C Murfreesboro Pike   Nashville   \n",
              "578905   139.775000                                     上野6-13-6       Taitō   \n",
              "\n",
              "                state_1     zip_1 country_1  \\\n",
              "0       Oost-Vlaanderen      9700        BE   \n",
              "2          Metro Manila       NaN        PH   \n",
              "3                    CA     94534        US   \n",
              "5                   東京都  101-0052        JP   \n",
              "6                    GA     31406        US   \n",
              "...                 ...       ...       ...   \n",
              "578899        Barcelona     08008        ES   \n",
              "578901              NaN       NaN        KR   \n",
              "578902        Singapore    530332        SG   \n",
              "578904               TN     37217        US   \n",
              "578905              東京都  110-0005        JP   \n",
              "\n",
              "                                                    url_1  ...  \\\n",
              "0                                                     NaN  ...   \n",
              "2                                                     NaN  ...   \n",
              "3       https://locations.togos.com/ll/US/CA/Fairfield...  ...   \n",
              "5                            https://tsukemen-tsujita.com  ...   \n",
              "6                   http://www.oursignatureproperties.com  ...   \n",
              "...                                                   ...  ...   \n",
              "578899                                                NaN  ...   \n",
              "578901                                                NaN  ...   \n",
              "578902                                                NaN  ...   \n",
              "578904  https://www.cricketwireless.com/stores/ll/US/T...  ...   \n",
              "578905                                                NaN  ...   \n",
              "\n",
              "                     address_2     city_2    state_2  zip_2  country_2  \\\n",
              "0                          NaN        NaN        NaN    NaN         BE   \n",
              "2                          NaN        NaN        NaN    NaN         PH   \n",
              "3                          NaN  Fairfield         CA    NaN         US   \n",
              "5                          NaN        NaN        NaN    NaN         JP   \n",
              "6             7014 Abercorn St   Savannah         GA  31406         US   \n",
              "...                        ...        ...        ...    ...        ...   \n",
              "578899         Ausiàs March, 7  Barcelona  Barcelona  08010         ES   \n",
              "578901                     NaN        NaN        NaN    NaN         KR   \n",
              "578902           Hougang ave 5        NaN        NaN    NaN         SG   \n",
              "578904  825C Murfreesboro Pike  Nashville         TN  37217         US   \n",
              "578905                     NaN        NaN        NaN    NaN         JP   \n",
              "\n",
              "                                  url_2       phone_2         categories_2  \\\n",
              "0                                   NaN           NaN                 Bars   \n",
              "2                                   NaN           NaN                 Spas   \n",
              "3                                   NaN           NaN      Sandwich Places   \n",
              "5                                   NaN           NaN        Noodle Houses   \n",
              "6                                   NaN           NaN                  NaN   \n",
              "...                                 ...           ...                  ...   \n",
              "578899                              NaN  +34933028144  Italian Restaurants   \n",
              "578901                              NaN           NaN  Italian Restaurants   \n",
              "578902                              NaN           NaN                  NaN   \n",
              "578904  https://www.cricketwireless.com  +16156799940   Mobile Phone Shops   \n",
              "578905                              NaN           NaN           BBQ Joints   \n",
              "\n",
              "       match location_diff  \n",
              "0       True      0.009383  \n",
              "2       True      0.001126  \n",
              "3       True      0.000141  \n",
              "5       True      0.000633  \n",
              "6       True      0.005068  \n",
              "...      ...           ...  \n",
              "578899  True      0.000038  \n",
              "578901  True      0.000245  \n",
              "578902  True      0.000693  \n",
              "578904  True      0.008220  \n",
              "578905  True      0.000300  \n",
              "\n",
              "[398786 rows x 26 columns]"
            ],
            "text/html": [
              "\n",
              "  <div id=\"df-80bbc681-340a-45c1-89af-57eb50893657\">\n",
              "    <div class=\"colab-df-container\">\n",
              "      <div>\n",
              "<style scoped>\n",
              "    .dataframe tbody tr th:only-of-type {\n",
              "        vertical-align: middle;\n",
              "    }\n",
              "\n",
              "    .dataframe tbody tr th {\n",
              "        vertical-align: top;\n",
              "    }\n",
              "\n",
              "    .dataframe thead th {\n",
              "        text-align: right;\n",
              "    }\n",
              "</style>\n",
              "<table border=\"1\" class=\"dataframe\">\n",
              "  <thead>\n",
              "    <tr style=\"text-align: right;\">\n",
              "      <th></th>\n",
              "      <th>id_1</th>\n",
              "      <th>name_1</th>\n",
              "      <th>latitude_1</th>\n",
              "      <th>longitude_1</th>\n",
              "      <th>address_1</th>\n",
              "      <th>city_1</th>\n",
              "      <th>state_1</th>\n",
              "      <th>zip_1</th>\n",
              "      <th>country_1</th>\n",
              "      <th>url_1</th>\n",
              "      <th>...</th>\n",
              "      <th>address_2</th>\n",
              "      <th>city_2</th>\n",
              "      <th>state_2</th>\n",
              "      <th>zip_2</th>\n",
              "      <th>country_2</th>\n",
              "      <th>url_2</th>\n",
              "      <th>phone_2</th>\n",
              "      <th>categories_2</th>\n",
              "      <th>match</th>\n",
              "      <th>location_diff</th>\n",
              "    </tr>\n",
              "  </thead>\n",
              "  <tbody>\n",
              "    <tr>\n",
              "      <th>0</th>\n",
              "      <td>E_000001272c6c5d</td>\n",
              "      <td>Café Stad Oudenaarde</td>\n",
              "      <td>50.859975</td>\n",
              "      <td>3.634196</td>\n",
              "      <td>Abdijstraat</td>\n",
              "      <td>Nederename</td>\n",
              "      <td>Oost-Vlaanderen</td>\n",
              "      <td>9700</td>\n",
              "      <td>BE</td>\n",
              "      <td>NaN</td>\n",
              "      <td>...</td>\n",
              "      <td>NaN</td>\n",
              "      <td>NaN</td>\n",
              "      <td>NaN</td>\n",
              "      <td>NaN</td>\n",
              "      <td>BE</td>\n",
              "      <td>NaN</td>\n",
              "      <td>NaN</td>\n",
              "      <td>Bars</td>\n",
              "      <td>True</td>\n",
              "      <td>0.009383</td>\n",
              "    </tr>\n",
              "    <tr>\n",
              "      <th>2</th>\n",
              "      <td>E_000023d8f4be44</td>\n",
              "      <td>Island Spa</td>\n",
              "      <td>14.518970</td>\n",
              "      <td>121.018702</td>\n",
              "      <td>5th Flr, Newport Mall, Resorts World Manila</td>\n",
              "      <td>Pasay City</td>\n",
              "      <td>Metro Manila</td>\n",
              "      <td>NaN</td>\n",
              "      <td>PH</td>\n",
              "      <td>NaN</td>\n",
              "      <td>...</td>\n",
              "      <td>NaN</td>\n",
              "      <td>NaN</td>\n",
              "      <td>NaN</td>\n",
              "      <td>NaN</td>\n",
              "      <td>PH</td>\n",
              "      <td>NaN</td>\n",
              "      <td>NaN</td>\n",
              "      <td>Spas</td>\n",
              "      <td>True</td>\n",
              "      <td>0.001126</td>\n",
              "    </tr>\n",
              "    <tr>\n",
              "      <th>3</th>\n",
              "      <td>E_00007dcd2bb53f</td>\n",
              "      <td>TOGO'S Sandwiches</td>\n",
              "      <td>38.257797</td>\n",
              "      <td>-122.064599</td>\n",
              "      <td>1380 Holiday Ln., Ste. B</td>\n",
              "      <td>Fairfield</td>\n",
              "      <td>CA</td>\n",
              "      <td>94534</td>\n",
              "      <td>US</td>\n",
              "      <td>https://locations.togos.com/ll/US/CA/Fairfield...</td>\n",
              "      <td>...</td>\n",
              "      <td>NaN</td>\n",
              "      <td>Fairfield</td>\n",
              "      <td>CA</td>\n",
              "      <td>NaN</td>\n",
              "      <td>US</td>\n",
              "      <td>NaN</td>\n",
              "      <td>NaN</td>\n",
              "      <td>Sandwich Places</td>\n",
              "      <td>True</td>\n",
              "      <td>0.000141</td>\n",
              "    </tr>\n",
              "    <tr>\n",
              "      <th>5</th>\n",
              "      <td>E_0000c566a81ea1</td>\n",
              "      <td>つじ田 味噌の章</td>\n",
              "      <td>35.694796</td>\n",
              "      <td>139.767348</td>\n",
              "      <td>神田小川町1-1</td>\n",
              "      <td>千代田区</td>\n",
              "      <td>東京都</td>\n",
              "      <td>101-0052</td>\n",
              "      <td>JP</td>\n",
              "      <td>https://tsukemen-tsujita.com</td>\n",
              "      <td>...</td>\n",
              "      <td>NaN</td>\n",
              "      <td>NaN</td>\n",
              "      <td>NaN</td>\n",
              "      <td>NaN</td>\n",
              "      <td>JP</td>\n",
              "      <td>NaN</td>\n",
              "      <td>NaN</td>\n",
              "      <td>Noodle Houses</td>\n",
              "      <td>True</td>\n",
              "      <td>0.000633</td>\n",
              "    </tr>\n",
              "    <tr>\n",
              "      <th>6</th>\n",
              "      <td>E_0000d9e584ed9f</td>\n",
              "      <td>Signature Properties Savannah</td>\n",
              "      <td>32.012582</td>\n",
              "      <td>-81.113156</td>\n",
              "      <td>100 Commercial Ct Ste C</td>\n",
              "      <td>Savannah</td>\n",
              "      <td>GA</td>\n",
              "      <td>31406</td>\n",
              "      <td>US</td>\n",
              "      <td>http://www.oursignatureproperties.com</td>\n",
              "      <td>...</td>\n",
              "      <td>7014 Abercorn St</td>\n",
              "      <td>Savannah</td>\n",
              "      <td>GA</td>\n",
              "      <td>31406</td>\n",
              "      <td>US</td>\n",
              "      <td>NaN</td>\n",
              "      <td>NaN</td>\n",
              "      <td>NaN</td>\n",
              "      <td>True</td>\n",
              "      <td>0.005068</td>\n",
              "    </tr>\n",
              "    <tr>\n",
              "      <th>...</th>\n",
              "      <td>...</td>\n",
              "      <td>...</td>\n",
              "      <td>...</td>\n",
              "      <td>...</td>\n",
              "      <td>...</td>\n",
              "      <td>...</td>\n",
              "      <td>...</td>\n",
              "      <td>...</td>\n",
              "      <td>...</td>\n",
              "      <td>...</td>\n",
              "      <td>...</td>\n",
              "      <td>...</td>\n",
              "      <td>...</td>\n",
              "      <td>...</td>\n",
              "      <td>...</td>\n",
              "      <td>...</td>\n",
              "      <td>...</td>\n",
              "      <td>...</td>\n",
              "      <td>...</td>\n",
              "      <td>...</td>\n",
              "      <td>...</td>\n",
              "    </tr>\n",
              "    <tr>\n",
              "      <th>578899</th>\n",
              "      <td>E_ffff2b8abf31ab</td>\n",
              "      <td>La Tagliatella</td>\n",
              "      <td>41.390307</td>\n",
              "      <td>2.173657</td>\n",
              "      <td>C. d’Ausiàs Marc 7</td>\n",
              "      <td>Barcelona</td>\n",
              "      <td>Barcelona</td>\n",
              "      <td>08008</td>\n",
              "      <td>ES</td>\n",
              "      <td>NaN</td>\n",
              "      <td>...</td>\n",
              "      <td>Ausiàs March, 7</td>\n",
              "      <td>Barcelona</td>\n",
              "      <td>Barcelona</td>\n",
              "      <td>08010</td>\n",
              "      <td>ES</td>\n",
              "      <td>NaN</td>\n",
              "      <td>+34933028144</td>\n",
              "      <td>Italian Restaurants</td>\n",
              "      <td>True</td>\n",
              "      <td>0.000038</td>\n",
              "    </tr>\n",
              "    <tr>\n",
              "      <th>578901</th>\n",
              "      <td>E_ffff7b1a22e81b</td>\n",
              "      <td>Sorrento</td>\n",
              "      <td>37.540007</td>\n",
              "      <td>127.070265</td>\n",
              "      <td>NaN</td>\n",
              "      <td>NaN</td>\n",
              "      <td>NaN</td>\n",
              "      <td>NaN</td>\n",
              "      <td>KR</td>\n",
              "      <td>NaN</td>\n",
              "      <td>...</td>\n",
              "      <td>NaN</td>\n",
              "      <td>NaN</td>\n",
              "      <td>NaN</td>\n",
              "      <td>NaN</td>\n",
              "      <td>KR</td>\n",
              "      <td>NaN</td>\n",
              "      <td>NaN</td>\n",
              "      <td>Italian Restaurants</td>\n",
              "      <td>True</td>\n",
              "      <td>0.000245</td>\n",
              "    </tr>\n",
              "    <tr>\n",
              "      <th>578902</th>\n",
              "      <td>E_ffff80f94b2fee</td>\n",
              "      <td>Blk 332 Hougang Avenue 5</td>\n",
              "      <td>1.368397</td>\n",
              "      <td>103.898145</td>\n",
              "      <td>332 Hougang Ave 5</td>\n",
              "      <td>Singapore</td>\n",
              "      <td>Singapore</td>\n",
              "      <td>530332</td>\n",
              "      <td>SG</td>\n",
              "      <td>NaN</td>\n",
              "      <td>...</td>\n",
              "      <td>Hougang ave 5</td>\n",
              "      <td>NaN</td>\n",
              "      <td>NaN</td>\n",
              "      <td>NaN</td>\n",
              "      <td>SG</td>\n",
              "      <td>NaN</td>\n",
              "      <td>NaN</td>\n",
              "      <td>NaN</td>\n",
              "      <td>True</td>\n",
              "      <td>0.000693</td>\n",
              "    </tr>\n",
              "    <tr>\n",
              "      <th>578904</th>\n",
              "      <td>E_ffff989ae206f8</td>\n",
              "      <td>Cricket Wireless Authorized Retailer</td>\n",
              "      <td>36.130623</td>\n",
              "      <td>-86.715636</td>\n",
              "      <td>825C Murfreesboro Pike</td>\n",
              "      <td>Nashville</td>\n",
              "      <td>TN</td>\n",
              "      <td>37217</td>\n",
              "      <td>US</td>\n",
              "      <td>https://www.cricketwireless.com/stores/ll/US/T...</td>\n",
              "      <td>...</td>\n",
              "      <td>825C Murfreesboro Pike</td>\n",
              "      <td>Nashville</td>\n",
              "      <td>TN</td>\n",
              "      <td>37217</td>\n",
              "      <td>US</td>\n",
              "      <td>https://www.cricketwireless.com</td>\n",
              "      <td>+16156799940</td>\n",
              "      <td>Mobile Phone Shops</td>\n",
              "      <td>True</td>\n",
              "      <td>0.008220</td>\n",
              "    </tr>\n",
              "    <tr>\n",
              "      <th>578905</th>\n",
              "      <td>E_ffffca745329ed</td>\n",
              "      <td>焼肉 和家</td>\n",
              "      <td>35.710712</td>\n",
              "      <td>139.775000</td>\n",
              "      <td>上野6-13-6</td>\n",
              "      <td>Taitō</td>\n",
              "      <td>東京都</td>\n",
              "      <td>110-0005</td>\n",
              "      <td>JP</td>\n",
              "      <td>NaN</td>\n",
              "      <td>...</td>\n",
              "      <td>NaN</td>\n",
              "      <td>NaN</td>\n",
              "      <td>NaN</td>\n",
              "      <td>NaN</td>\n",
              "      <td>JP</td>\n",
              "      <td>NaN</td>\n",
              "      <td>NaN</td>\n",
              "      <td>BBQ Joints</td>\n",
              "      <td>True</td>\n",
              "      <td>0.000300</td>\n",
              "    </tr>\n",
              "  </tbody>\n",
              "</table>\n",
              "<p>398786 rows × 26 columns</p>\n",
              "</div>\n",
              "      <button class=\"colab-df-convert\" onclick=\"convertToInteractive('df-80bbc681-340a-45c1-89af-57eb50893657')\"\n",
              "              title=\"Convert this dataframe to an interactive table.\"\n",
              "              style=\"display:none;\">\n",
              "        \n",
              "  <svg xmlns=\"http://www.w3.org/2000/svg\" height=\"24px\"viewBox=\"0 0 24 24\"\n",
              "       width=\"24px\">\n",
              "    <path d=\"M0 0h24v24H0V0z\" fill=\"none\"/>\n",
              "    <path d=\"M18.56 5.44l.94 2.06.94-2.06 2.06-.94-2.06-.94-.94-2.06-.94 2.06-2.06.94zm-11 1L8.5 8.5l.94-2.06 2.06-.94-2.06-.94L8.5 2.5l-.94 2.06-2.06.94zm10 10l.94 2.06.94-2.06 2.06-.94-2.06-.94-.94-2.06-.94 2.06-2.06.94z\"/><path d=\"M17.41 7.96l-1.37-1.37c-.4-.4-.92-.59-1.43-.59-.52 0-1.04.2-1.43.59L10.3 9.45l-7.72 7.72c-.78.78-.78 2.05 0 2.83L4 21.41c.39.39.9.59 1.41.59.51 0 1.02-.2 1.41-.59l7.78-7.78 2.81-2.81c.8-.78.8-2.07 0-2.86zM5.41 20L4 18.59l7.72-7.72 1.47 1.35L5.41 20z\"/>\n",
              "  </svg>\n",
              "      </button>\n",
              "      \n",
              "  <style>\n",
              "    .colab-df-container {\n",
              "      display:flex;\n",
              "      flex-wrap:wrap;\n",
              "      gap: 12px;\n",
              "    }\n",
              "\n",
              "    .colab-df-convert {\n",
              "      background-color: #E8F0FE;\n",
              "      border: none;\n",
              "      border-radius: 50%;\n",
              "      cursor: pointer;\n",
              "      display: none;\n",
              "      fill: #1967D2;\n",
              "      height: 32px;\n",
              "      padding: 0 0 0 0;\n",
              "      width: 32px;\n",
              "    }\n",
              "\n",
              "    .colab-df-convert:hover {\n",
              "      background-color: #E2EBFA;\n",
              "      box-shadow: 0px 1px 2px rgba(60, 64, 67, 0.3), 0px 1px 3px 1px rgba(60, 64, 67, 0.15);\n",
              "      fill: #174EA6;\n",
              "    }\n",
              "\n",
              "    [theme=dark] .colab-df-convert {\n",
              "      background-color: #3B4455;\n",
              "      fill: #D2E3FC;\n",
              "    }\n",
              "\n",
              "    [theme=dark] .colab-df-convert:hover {\n",
              "      background-color: #434B5C;\n",
              "      box-shadow: 0px 1px 3px 1px rgba(0, 0, 0, 0.15);\n",
              "      filter: drop-shadow(0px 1px 2px rgba(0, 0, 0, 0.3));\n",
              "      fill: #FFFFFF;\n",
              "    }\n",
              "  </style>\n",
              "\n",
              "      <script>\n",
              "        const buttonEl =\n",
              "          document.querySelector('#df-80bbc681-340a-45c1-89af-57eb50893657 button.colab-df-convert');\n",
              "        buttonEl.style.display =\n",
              "          google.colab.kernel.accessAllowed ? 'block' : 'none';\n",
              "\n",
              "        async function convertToInteractive(key) {\n",
              "          const element = document.querySelector('#df-80bbc681-340a-45c1-89af-57eb50893657');\n",
              "          const dataTable =\n",
              "            await google.colab.kernel.invokeFunction('convertToInteractive',\n",
              "                                                     [key], {});\n",
              "          if (!dataTable) return;\n",
              "\n",
              "          const docLinkHtml = 'Like what you see? Visit the ' +\n",
              "            '<a target=\"_blank\" href=https://colab.research.google.com/notebooks/data_table.ipynb>data table notebook</a>'\n",
              "            + ' to learn more about interactive tables.';\n",
              "          element.innerHTML = '';\n",
              "          dataTable['output_type'] = 'display_data';\n",
              "          await google.colab.output.renderOutput(dataTable, element);\n",
              "          const docLink = document.createElement('div');\n",
              "          docLink.innerHTML = docLinkHtml;\n",
              "          element.appendChild(docLink);\n",
              "        }\n",
              "      </script>\n",
              "    </div>\n",
              "  </div>\n",
              "  "
            ]
          },
          "metadata": {},
          "execution_count": 22
        }
      ]
    },
    {
      "cell_type": "code",
      "source": [
        "pairs.loc[pairs.match==True].values[0]"
      ],
      "metadata": {
        "colab": {
          "base_uri": "https://localhost:8080/"
        },
        "id": "GYFjeKqFbIYk",
        "outputId": "1f83b253-5839-4e7a-efed-6c73f63ca38e"
      },
      "execution_count": 23,
      "outputs": [
        {
          "output_type": "execute_result",
          "data": {
            "text/plain": [
              "array(['E_000001272c6c5d', 'Café Stad Oudenaarde', 50.85997533509319,\n",
              "       3.6341963487748346, 'Abdijstraat', 'Nederename', 'Oost-Vlaanderen',\n",
              "       '9700', 'BE', nan, nan, 'Bars', 'E_da7fa3963561f8',\n",
              "       'Café Oudenaarde', 50.869358, 3.635206, nan, nan, nan, nan, 'BE',\n",
              "       nan, nan, 'Bars', True, 0.009382664906809168], dtype=object)"
            ]
          },
          "metadata": {},
          "execution_count": 23
        }
      ]
    },
    {
      "cell_type": "code",
      "source": [
        "pairs.loc[(pairs.name_1==pairs.name_2)&(pairs.name_1==\"McDonald's\")&(pairs.match==True)]"
      ],
      "metadata": {
        "colab": {
          "base_uri": "https://localhost:8080/",
          "height": 748
        },
        "id": "3CsV8OA3cd0s",
        "outputId": "cb9216d7-3c62-4d95-e1cf-0284d61a705e"
      },
      "execution_count": 24,
      "outputs": [
        {
          "output_type": "execute_result",
          "data": {
            "text/plain": [
              "                    id_1      name_1  latitude_1  longitude_1  \\\n",
              "673     E_0054712d9d9857  McDonald's   41.804347   -88.046846   \n",
              "3080    E_016131fbea3143  McDonald's    4.397131   113.993632   \n",
              "3429    E_018242e69010d0  McDonald's   41.651158   -88.124151   \n",
              "3859    E_01b55e74db2bd0  McDonald's   40.496083   -80.246145   \n",
              "4089    E_01cf1c6c123904  McDonald's   14.243853   121.059211   \n",
              "...                  ...         ...         ...          ...   \n",
              "572265  E_fd13ee41a7baab  McDonald's   51.588900    -3.210642   \n",
              "574446  E_fe0f3aedff7524  McDonald's   43.687579   -79.286688   \n",
              "575895  E_feab7256c7facf  McDonald's   45.961757   -66.643384   \n",
              "576761  E_ff198dad8046e8  McDonald's   31.505339   -87.318019   \n",
              "578639  E_ffddbeb88558da  McDonald's   -6.123487   106.833093   \n",
              "\n",
              "                       address_1              city_1      state_1     zip_1  \\\n",
              "673               2535 Ogden Ave       Downers Grove           IL     60515   \n",
              "3080            Bintang Megamall                Miri      Sarawak     98000   \n",
              "3429              675 N Weber Rd          Romeoville           IL     60446   \n",
              "3859            Airside Terminal          Pittsburgh           PA     15231   \n",
              "4089      Sta Rosa - Tagaytay Rd  City of Santa Rosa       Laguna      4026   \n",
              "...                          ...                 ...          ...       ...   \n",
              "572265            CROSSWAYS PARK          Caerphilly          NaN  CF83 3NL   \n",
              "574446  2480 Gerrard Street East         Scarborough           ON   M1N 4C3   \n",
              "575895              King's Place         Fredericton           NB       NaN   \n",
              "576761        1511 S Alabama Ave         Monroeville           AL     36460   \n",
              "578639   Jalan Lodan Timur No. 7       Jakarta Utara  DKI Jakarta     14430   \n",
              "\n",
              "       country_1                                              url_1  ...  \\\n",
              "673           US  https://www.mcdonalds.com/us/en-us/location/il...  ...   \n",
              "3080          MY                        http://www.mcdonalds.com.my  ...   \n",
              "3429          US  https://www.mcdonalds.com/us/en-us/location/il...  ...   \n",
              "3859          US  https://www.mcdonalds.com/us/en-us/location/pa...  ...   \n",
              "4089          PH                                                NaN  ...   \n",
              "...          ...                                                ...  ...   \n",
              "572265        GB                         http://www.mcdonalds.co.uk  ...   \n",
              "574446        CA  https://www.mcdonalds.com/ca/en-ca/restaurant-...  ...   \n",
              "575895        CA                            http://www.mcdonalds.ca  ...   \n",
              "576761        US  https://www.mcdonalds.com/us/en-us/location/al...  ...   \n",
              "578639        ID                           http://www.mcdonalds.com  ...   \n",
              "\n",
              "                      address_2         city_2                    state_2  \\\n",
              "673              2535 Ogden Ave  Downers Grove                         IL   \n",
              "3080                  1st Floor           Miri                    Sarawak   \n",
              "3429             675 N Weber Rd     Romeoville                         IL   \n",
              "3859                 Terminal A     Coraopolis                         PA   \n",
              "4089                        NaN            NaN                        NaN   \n",
              "...                         ...            ...                        ...   \n",
              "572265             Crossways Pk     Caerphilly  Caerphilly County Borough   \n",
              "574446                      NaN        Toronto                         ON   \n",
              "575895          440 King Street    Fredericton                         NB   \n",
              "576761       1511 S Alabama Ave    Monroeville                         AL   \n",
              "578639  Jalan Lodan Timur No. 7  Jakarta Utara                    Jakarta   \n",
              "\n",
              "           zip_2  country_2  \\\n",
              "673        60515         US   \n",
              "3080         NaN         MY   \n",
              "3429       60446         US   \n",
              "3859       15108         US   \n",
              "4089         NaN         PH   \n",
              "...          ...        ...   \n",
              "572265  CF83 3NL         GB   \n",
              "574446       NaN         CA   \n",
              "575895   E3B 5H8         CA   \n",
              "576761     36460         US   \n",
              "578639     14430         ID   \n",
              "\n",
              "                                                    url_2        phone_2  \\\n",
              "673                                                   NaN            NaN   \n",
              "3080                                                  NaN            NaN   \n",
              "3429                                 http://mcdonalds.com   +18152934900   \n",
              "3859                                                  NaN            NaN   \n",
              "4089                                                  NaN            NaN   \n",
              "...                                                   ...            ...   \n",
              "572265                         http://www.mcdonalds.co.uk  +442920862706   \n",
              "574446                            http://www.mcdonalds.ca            NaN   \n",
              "575895  https://www.mcdonalds.com/ca/en-ca/restaurant-...   +15064446235   \n",
              "576761                                                NaN            NaN   \n",
              "578639                                                NaN            NaN   \n",
              "\n",
              "                                categories_2 match location_diff  \n",
              "673                     American Restaurants  True      0.095824  \n",
              "3080                   Fast Food Restaurants  True      0.001832  \n",
              "3429                   Fast Food Restaurants  True      0.050548  \n",
              "3859                   Fast Food Restaurants  True      0.000452  \n",
              "4089                   Fast Food Restaurants  True      0.000730  \n",
              "...                                      ...   ...           ...  \n",
              "572265                 Fast Food Restaurants  True      0.000323  \n",
              "574446                 Fast Food Restaurants  True      0.005950  \n",
              "575895  Fast Food Restaurants, Burger Joints  True      0.000232  \n",
              "576761                 Fast Food Restaurants  True      0.009555  \n",
              "578639                 Fast Food Restaurants  True      0.096712  \n",
              "\n",
              "[742 rows x 26 columns]"
            ],
            "text/html": [
              "\n",
              "  <div id=\"df-c37e2c33-d7bd-433a-b33a-7e6d5e0d7388\">\n",
              "    <div class=\"colab-df-container\">\n",
              "      <div>\n",
              "<style scoped>\n",
              "    .dataframe tbody tr th:only-of-type {\n",
              "        vertical-align: middle;\n",
              "    }\n",
              "\n",
              "    .dataframe tbody tr th {\n",
              "        vertical-align: top;\n",
              "    }\n",
              "\n",
              "    .dataframe thead th {\n",
              "        text-align: right;\n",
              "    }\n",
              "</style>\n",
              "<table border=\"1\" class=\"dataframe\">\n",
              "  <thead>\n",
              "    <tr style=\"text-align: right;\">\n",
              "      <th></th>\n",
              "      <th>id_1</th>\n",
              "      <th>name_1</th>\n",
              "      <th>latitude_1</th>\n",
              "      <th>longitude_1</th>\n",
              "      <th>address_1</th>\n",
              "      <th>city_1</th>\n",
              "      <th>state_1</th>\n",
              "      <th>zip_1</th>\n",
              "      <th>country_1</th>\n",
              "      <th>url_1</th>\n",
              "      <th>...</th>\n",
              "      <th>address_2</th>\n",
              "      <th>city_2</th>\n",
              "      <th>state_2</th>\n",
              "      <th>zip_2</th>\n",
              "      <th>country_2</th>\n",
              "      <th>url_2</th>\n",
              "      <th>phone_2</th>\n",
              "      <th>categories_2</th>\n",
              "      <th>match</th>\n",
              "      <th>location_diff</th>\n",
              "    </tr>\n",
              "  </thead>\n",
              "  <tbody>\n",
              "    <tr>\n",
              "      <th>673</th>\n",
              "      <td>E_0054712d9d9857</td>\n",
              "      <td>McDonald's</td>\n",
              "      <td>41.804347</td>\n",
              "      <td>-88.046846</td>\n",
              "      <td>2535 Ogden Ave</td>\n",
              "      <td>Downers Grove</td>\n",
              "      <td>IL</td>\n",
              "      <td>60515</td>\n",
              "      <td>US</td>\n",
              "      <td>https://www.mcdonalds.com/us/en-us/location/il...</td>\n",
              "      <td>...</td>\n",
              "      <td>2535 Ogden Ave</td>\n",
              "      <td>Downers Grove</td>\n",
              "      <td>IL</td>\n",
              "      <td>60515</td>\n",
              "      <td>US</td>\n",
              "      <td>NaN</td>\n",
              "      <td>NaN</td>\n",
              "      <td>American Restaurants</td>\n",
              "      <td>True</td>\n",
              "      <td>0.095824</td>\n",
              "    </tr>\n",
              "    <tr>\n",
              "      <th>3080</th>\n",
              "      <td>E_016131fbea3143</td>\n",
              "      <td>McDonald's</td>\n",
              "      <td>4.397131</td>\n",
              "      <td>113.993632</td>\n",
              "      <td>Bintang Megamall</td>\n",
              "      <td>Miri</td>\n",
              "      <td>Sarawak</td>\n",
              "      <td>98000</td>\n",
              "      <td>MY</td>\n",
              "      <td>http://www.mcdonalds.com.my</td>\n",
              "      <td>...</td>\n",
              "      <td>1st Floor</td>\n",
              "      <td>Miri</td>\n",
              "      <td>Sarawak</td>\n",
              "      <td>NaN</td>\n",
              "      <td>MY</td>\n",
              "      <td>NaN</td>\n",
              "      <td>NaN</td>\n",
              "      <td>Fast Food Restaurants</td>\n",
              "      <td>True</td>\n",
              "      <td>0.001832</td>\n",
              "    </tr>\n",
              "    <tr>\n",
              "      <th>3429</th>\n",
              "      <td>E_018242e69010d0</td>\n",
              "      <td>McDonald's</td>\n",
              "      <td>41.651158</td>\n",
              "      <td>-88.124151</td>\n",
              "      <td>675 N Weber Rd</td>\n",
              "      <td>Romeoville</td>\n",
              "      <td>IL</td>\n",
              "      <td>60446</td>\n",
              "      <td>US</td>\n",
              "      <td>https://www.mcdonalds.com/us/en-us/location/il...</td>\n",
              "      <td>...</td>\n",
              "      <td>675 N Weber Rd</td>\n",
              "      <td>Romeoville</td>\n",
              "      <td>IL</td>\n",
              "      <td>60446</td>\n",
              "      <td>US</td>\n",
              "      <td>http://mcdonalds.com</td>\n",
              "      <td>+18152934900</td>\n",
              "      <td>Fast Food Restaurants</td>\n",
              "      <td>True</td>\n",
              "      <td>0.050548</td>\n",
              "    </tr>\n",
              "    <tr>\n",
              "      <th>3859</th>\n",
              "      <td>E_01b55e74db2bd0</td>\n",
              "      <td>McDonald's</td>\n",
              "      <td>40.496083</td>\n",
              "      <td>-80.246145</td>\n",
              "      <td>Airside Terminal</td>\n",
              "      <td>Pittsburgh</td>\n",
              "      <td>PA</td>\n",
              "      <td>15231</td>\n",
              "      <td>US</td>\n",
              "      <td>https://www.mcdonalds.com/us/en-us/location/pa...</td>\n",
              "      <td>...</td>\n",
              "      <td>Terminal A</td>\n",
              "      <td>Coraopolis</td>\n",
              "      <td>PA</td>\n",
              "      <td>15108</td>\n",
              "      <td>US</td>\n",
              "      <td>NaN</td>\n",
              "      <td>NaN</td>\n",
              "      <td>Fast Food Restaurants</td>\n",
              "      <td>True</td>\n",
              "      <td>0.000452</td>\n",
              "    </tr>\n",
              "    <tr>\n",
              "      <th>4089</th>\n",
              "      <td>E_01cf1c6c123904</td>\n",
              "      <td>McDonald's</td>\n",
              "      <td>14.243853</td>\n",
              "      <td>121.059211</td>\n",
              "      <td>Sta Rosa - Tagaytay Rd</td>\n",
              "      <td>City of Santa Rosa</td>\n",
              "      <td>Laguna</td>\n",
              "      <td>4026</td>\n",
              "      <td>PH</td>\n",
              "      <td>NaN</td>\n",
              "      <td>...</td>\n",
              "      <td>NaN</td>\n",
              "      <td>NaN</td>\n",
              "      <td>NaN</td>\n",
              "      <td>NaN</td>\n",
              "      <td>PH</td>\n",
              "      <td>NaN</td>\n",
              "      <td>NaN</td>\n",
              "      <td>Fast Food Restaurants</td>\n",
              "      <td>True</td>\n",
              "      <td>0.000730</td>\n",
              "    </tr>\n",
              "    <tr>\n",
              "      <th>...</th>\n",
              "      <td>...</td>\n",
              "      <td>...</td>\n",
              "      <td>...</td>\n",
              "      <td>...</td>\n",
              "      <td>...</td>\n",
              "      <td>...</td>\n",
              "      <td>...</td>\n",
              "      <td>...</td>\n",
              "      <td>...</td>\n",
              "      <td>...</td>\n",
              "      <td>...</td>\n",
              "      <td>...</td>\n",
              "      <td>...</td>\n",
              "      <td>...</td>\n",
              "      <td>...</td>\n",
              "      <td>...</td>\n",
              "      <td>...</td>\n",
              "      <td>...</td>\n",
              "      <td>...</td>\n",
              "      <td>...</td>\n",
              "      <td>...</td>\n",
              "    </tr>\n",
              "    <tr>\n",
              "      <th>572265</th>\n",
              "      <td>E_fd13ee41a7baab</td>\n",
              "      <td>McDonald's</td>\n",
              "      <td>51.588900</td>\n",
              "      <td>-3.210642</td>\n",
              "      <td>CROSSWAYS PARK</td>\n",
              "      <td>Caerphilly</td>\n",
              "      <td>NaN</td>\n",
              "      <td>CF83 3NL</td>\n",
              "      <td>GB</td>\n",
              "      <td>http://www.mcdonalds.co.uk</td>\n",
              "      <td>...</td>\n",
              "      <td>Crossways Pk</td>\n",
              "      <td>Caerphilly</td>\n",
              "      <td>Caerphilly County Borough</td>\n",
              "      <td>CF83 3NL</td>\n",
              "      <td>GB</td>\n",
              "      <td>http://www.mcdonalds.co.uk</td>\n",
              "      <td>+442920862706</td>\n",
              "      <td>Fast Food Restaurants</td>\n",
              "      <td>True</td>\n",
              "      <td>0.000323</td>\n",
              "    </tr>\n",
              "    <tr>\n",
              "      <th>574446</th>\n",
              "      <td>E_fe0f3aedff7524</td>\n",
              "      <td>McDonald's</td>\n",
              "      <td>43.687579</td>\n",
              "      <td>-79.286688</td>\n",
              "      <td>2480 Gerrard Street East</td>\n",
              "      <td>Scarborough</td>\n",
              "      <td>ON</td>\n",
              "      <td>M1N 4C3</td>\n",
              "      <td>CA</td>\n",
              "      <td>https://www.mcdonalds.com/ca/en-ca/restaurant-...</td>\n",
              "      <td>...</td>\n",
              "      <td>NaN</td>\n",
              "      <td>Toronto</td>\n",
              "      <td>ON</td>\n",
              "      <td>NaN</td>\n",
              "      <td>CA</td>\n",
              "      <td>http://www.mcdonalds.ca</td>\n",
              "      <td>NaN</td>\n",
              "      <td>Fast Food Restaurants</td>\n",
              "      <td>True</td>\n",
              "      <td>0.005950</td>\n",
              "    </tr>\n",
              "    <tr>\n",
              "      <th>575895</th>\n",
              "      <td>E_feab7256c7facf</td>\n",
              "      <td>McDonald's</td>\n",
              "      <td>45.961757</td>\n",
              "      <td>-66.643384</td>\n",
              "      <td>King's Place</td>\n",
              "      <td>Fredericton</td>\n",
              "      <td>NB</td>\n",
              "      <td>NaN</td>\n",
              "      <td>CA</td>\n",
              "      <td>http://www.mcdonalds.ca</td>\n",
              "      <td>...</td>\n",
              "      <td>440 King Street</td>\n",
              "      <td>Fredericton</td>\n",
              "      <td>NB</td>\n",
              "      <td>E3B 5H8</td>\n",
              "      <td>CA</td>\n",
              "      <td>https://www.mcdonalds.com/ca/en-ca/restaurant-...</td>\n",
              "      <td>+15064446235</td>\n",
              "      <td>Fast Food Restaurants, Burger Joints</td>\n",
              "      <td>True</td>\n",
              "      <td>0.000232</td>\n",
              "    </tr>\n",
              "    <tr>\n",
              "      <th>576761</th>\n",
              "      <td>E_ff198dad8046e8</td>\n",
              "      <td>McDonald's</td>\n",
              "      <td>31.505339</td>\n",
              "      <td>-87.318019</td>\n",
              "      <td>1511 S Alabama Ave</td>\n",
              "      <td>Monroeville</td>\n",
              "      <td>AL</td>\n",
              "      <td>36460</td>\n",
              "      <td>US</td>\n",
              "      <td>https://www.mcdonalds.com/us/en-us/location/al...</td>\n",
              "      <td>...</td>\n",
              "      <td>1511 S Alabama Ave</td>\n",
              "      <td>Monroeville</td>\n",
              "      <td>AL</td>\n",
              "      <td>36460</td>\n",
              "      <td>US</td>\n",
              "      <td>NaN</td>\n",
              "      <td>NaN</td>\n",
              "      <td>Fast Food Restaurants</td>\n",
              "      <td>True</td>\n",
              "      <td>0.009555</td>\n",
              "    </tr>\n",
              "    <tr>\n",
              "      <th>578639</th>\n",
              "      <td>E_ffddbeb88558da</td>\n",
              "      <td>McDonald's</td>\n",
              "      <td>-6.123487</td>\n",
              "      <td>106.833093</td>\n",
              "      <td>Jalan Lodan Timur No. 7</td>\n",
              "      <td>Jakarta Utara</td>\n",
              "      <td>DKI Jakarta</td>\n",
              "      <td>14430</td>\n",
              "      <td>ID</td>\n",
              "      <td>http://www.mcdonalds.com</td>\n",
              "      <td>...</td>\n",
              "      <td>Jalan Lodan Timur No. 7</td>\n",
              "      <td>Jakarta Utara</td>\n",
              "      <td>Jakarta</td>\n",
              "      <td>14430</td>\n",
              "      <td>ID</td>\n",
              "      <td>NaN</td>\n",
              "      <td>NaN</td>\n",
              "      <td>Fast Food Restaurants</td>\n",
              "      <td>True</td>\n",
              "      <td>0.096712</td>\n",
              "    </tr>\n",
              "  </tbody>\n",
              "</table>\n",
              "<p>742 rows × 26 columns</p>\n",
              "</div>\n",
              "      <button class=\"colab-df-convert\" onclick=\"convertToInteractive('df-c37e2c33-d7bd-433a-b33a-7e6d5e0d7388')\"\n",
              "              title=\"Convert this dataframe to an interactive table.\"\n",
              "              style=\"display:none;\">\n",
              "        \n",
              "  <svg xmlns=\"http://www.w3.org/2000/svg\" height=\"24px\"viewBox=\"0 0 24 24\"\n",
              "       width=\"24px\">\n",
              "    <path d=\"M0 0h24v24H0V0z\" fill=\"none\"/>\n",
              "    <path d=\"M18.56 5.44l.94 2.06.94-2.06 2.06-.94-2.06-.94-.94-2.06-.94 2.06-2.06.94zm-11 1L8.5 8.5l.94-2.06 2.06-.94-2.06-.94L8.5 2.5l-.94 2.06-2.06.94zm10 10l.94 2.06.94-2.06 2.06-.94-2.06-.94-.94-2.06-.94 2.06-2.06.94z\"/><path d=\"M17.41 7.96l-1.37-1.37c-.4-.4-.92-.59-1.43-.59-.52 0-1.04.2-1.43.59L10.3 9.45l-7.72 7.72c-.78.78-.78 2.05 0 2.83L4 21.41c.39.39.9.59 1.41.59.51 0 1.02-.2 1.41-.59l7.78-7.78 2.81-2.81c.8-.78.8-2.07 0-2.86zM5.41 20L4 18.59l7.72-7.72 1.47 1.35L5.41 20z\"/>\n",
              "  </svg>\n",
              "      </button>\n",
              "      \n",
              "  <style>\n",
              "    .colab-df-container {\n",
              "      display:flex;\n",
              "      flex-wrap:wrap;\n",
              "      gap: 12px;\n",
              "    }\n",
              "\n",
              "    .colab-df-convert {\n",
              "      background-color: #E8F0FE;\n",
              "      border: none;\n",
              "      border-radius: 50%;\n",
              "      cursor: pointer;\n",
              "      display: none;\n",
              "      fill: #1967D2;\n",
              "      height: 32px;\n",
              "      padding: 0 0 0 0;\n",
              "      width: 32px;\n",
              "    }\n",
              "\n",
              "    .colab-df-convert:hover {\n",
              "      background-color: #E2EBFA;\n",
              "      box-shadow: 0px 1px 2px rgba(60, 64, 67, 0.3), 0px 1px 3px 1px rgba(60, 64, 67, 0.15);\n",
              "      fill: #174EA6;\n",
              "    }\n",
              "\n",
              "    [theme=dark] .colab-df-convert {\n",
              "      background-color: #3B4455;\n",
              "      fill: #D2E3FC;\n",
              "    }\n",
              "\n",
              "    [theme=dark] .colab-df-convert:hover {\n",
              "      background-color: #434B5C;\n",
              "      box-shadow: 0px 1px 3px 1px rgba(0, 0, 0, 0.15);\n",
              "      filter: drop-shadow(0px 1px 2px rgba(0, 0, 0, 0.3));\n",
              "      fill: #FFFFFF;\n",
              "    }\n",
              "  </style>\n",
              "\n",
              "      <script>\n",
              "        const buttonEl =\n",
              "          document.querySelector('#df-c37e2c33-d7bd-433a-b33a-7e6d5e0d7388 button.colab-df-convert');\n",
              "        buttonEl.style.display =\n",
              "          google.colab.kernel.accessAllowed ? 'block' : 'none';\n",
              "\n",
              "        async function convertToInteractive(key) {\n",
              "          const element = document.querySelector('#df-c37e2c33-d7bd-433a-b33a-7e6d5e0d7388');\n",
              "          const dataTable =\n",
              "            await google.colab.kernel.invokeFunction('convertToInteractive',\n",
              "                                                     [key], {});\n",
              "          if (!dataTable) return;\n",
              "\n",
              "          const docLinkHtml = 'Like what you see? Visit the ' +\n",
              "            '<a target=\"_blank\" href=https://colab.research.google.com/notebooks/data_table.ipynb>data table notebook</a>'\n",
              "            + ' to learn more about interactive tables.';\n",
              "          element.innerHTML = '';\n",
              "          dataTable['output_type'] = 'display_data';\n",
              "          await google.colab.output.renderOutput(dataTable, element);\n",
              "          const docLink = document.createElement('div');\n",
              "          docLink.innerHTML = docLinkHtml;\n",
              "          element.appendChild(docLink);\n",
              "        }\n",
              "      </script>\n",
              "    </div>\n",
              "  </div>\n",
              "  "
            ]
          },
          "metadata": {},
          "execution_count": 24
        }
      ]
    },
    {
      "cell_type": "code",
      "source": [
        "pairs.loc[(pairs.name_1==pairs.name_2)&(pairs.name_1==\"McDonald's\")&(pairs.match==True)].values[0]"
      ],
      "metadata": {
        "colab": {
          "base_uri": "https://localhost:8080/"
        },
        "id": "NExH5gz5dD-X",
        "outputId": "c0be623c-5bf8-47bc-c12e-c3a04e43a4c7"
      },
      "execution_count": 25,
      "outputs": [
        {
          "output_type": "execute_result",
          "data": {
            "text/plain": [
              "array(['E_0054712d9d9857', \"McDonald's\", 41.80434733686549,\n",
              "       -88.04684628582879, '2535 Ogden Ave', 'Downers Grove', 'IL',\n",
              "       '60515', 'US',\n",
              "       'https://www.mcdonalds.com/us/en-us/location/il/downers-grove/2535-ogden-ave/36793.html',\n",
              "       '+16309647433', 'Fast Food Restaurants', 'E_3d2134a9e1c29a',\n",
              "       \"McDonald's\", 41.802858161557765, -88.14267043789413,\n",
              "       '2535 Ogden Ave', 'Downers Grove', 'IL', '60515', 'US', nan, nan,\n",
              "       'American Restaurants', True, 0.09582415206533312], dtype=object)"
            ]
          },
          "metadata": {},
          "execution_count": 25
        }
      ]
    },
    {
      "cell_type": "markdown",
      "source": [
        "### address"
      ],
      "metadata": {
        "id": "DfOI3YvLacZB"
      }
    },
    {
      "cell_type": "markdown",
      "source": [
        "#### street address"
      ],
      "metadata": {
        "id": "Z813pLtBaoqd"
      }
    },
    {
      "cell_type": "markdown",
      "source": [
        "#### city"
      ],
      "metadata": {
        "id": "m9zXgTnmanVT"
      }
    },
    {
      "cell_type": "markdown",
      "source": [
        "#### state"
      ],
      "metadata": {
        "id": "2k34o6seayUT"
      }
    },
    {
      "cell_type": "markdown",
      "source": [
        "#### zip"
      ],
      "metadata": {
        "id": "TprvwriyayZz"
      }
    },
    {
      "cell_type": "markdown",
      "source": [
        "#### country"
      ],
      "metadata": {
        "id": "pHg_f7MgayfH"
      }
    },
    {
      "cell_type": "markdown",
      "source": [
        "### url\n"
      ],
      "metadata": {
        "id": "8p322SP_a8ka"
      }
    },
    {
      "cell_type": "markdown",
      "source": [
        "### phone"
      ],
      "metadata": {
        "id": "iLxMMBjCbAkH"
      }
    },
    {
      "cell_type": "markdown",
      "source": [
        "### categories"
      ],
      "metadata": {
        "id": "cyQ5Wz4sbCL1"
      }
    },
    {
      "cell_type": "markdown",
      "source": [
        "## Comparing string features\n",
        "\n",
        "Most columns in this data are strings. We consider different metrics for string comparison, including:\n",
        "\n",
        "\n",
        "*   SequenceMatcher\n",
        "*   Levenshtein distance\n",
        "\n",
        "If one value of a pair of features is missing, we set the distance to be -1.\n",
        "\n"
      ],
      "metadata": {
        "id": "iDLtD8Zas9ev"
      }
    },
    {
      "cell_type": "code",
      "source": [
        "from difflib import SequenceMatcher\n",
        "import math\n",
        "# Reference: https://stackoverflow.com/questions/43916271/python-pandas-sequencematch-columns-for-each-value-and-return-closet-match\n",
        "\n",
        "def seq_metric(df, col1, col2):\n",
        "    a = df[col1]\n",
        "    b = df[col2]\n",
        "    \n",
        "    if type(a)!=str or type(b)!=str:\n",
        "        return -1\n",
        "    else:\n",
        "        a = a.lower().replace(\" \", \"\").replace(\"'\", \"\")\n",
        "        b = b.lower().replace(\" \", \"\").replace(\"'\", \"\")\n",
        "        \n",
        "    return 1-SequenceMatcher(None, a, b).ratio()"
      ],
      "metadata": {
        "id": "xTKecP6ZuAYd"
      },
      "execution_count": 26,
      "outputs": []
    },
    {
      "cell_type": "code",
      "source": [
        "!pip install python-Levenshtein"
      ],
      "metadata": {
        "id": "mse587e1CdOC",
        "colab": {
          "base_uri": "https://localhost:8080/"
        },
        "outputId": "5b332608-96da-48dd-965b-ded66fff2270"
      },
      "execution_count": 27,
      "outputs": [
        {
          "output_type": "stream",
          "name": "stdout",
          "text": [
            "Looking in indexes: https://pypi.org/simple, https://us-python.pkg.dev/colab-wheels/public/simple/\n",
            "Requirement already satisfied: python-Levenshtein in /usr/local/lib/python3.7/dist-packages (0.12.2)\n",
            "Requirement already satisfied: setuptools in /usr/local/lib/python3.7/dist-packages (from python-Levenshtein) (57.4.0)\n"
          ]
        }
      ]
    },
    {
      "cell_type": "code",
      "source": [
        "from Levenshtein import distance as lev\n",
        "def lev_metric(df, col1, col2):\n",
        "    a = df[col1]\n",
        "    b = df[col2]\n",
        "    \n",
        "    if type(a)!=str or type(b)!=str:\n",
        "        return -1\n",
        "    else:\n",
        "        a = a.lower().replace(\" \", \"\").replace(\"'\", \"\")\n",
        "        b = b.lower().replace(\" \", \"\").replace(\"'\", \"\")\n",
        "    #if a in b or b in a: \n",
        "    #    return 0\n",
        "    return lev(a,b)/max(len(a),len(b))"
      ],
      "metadata": {
        "id": "CofuDKTZCkoo"
      },
      "execution_count": 28,
      "outputs": []
    },
    {
      "cell_type": "code",
      "source": [
        "from sklearn.feature_extraction.text import CountVectorizer\n",
        "\n",
        "coun_vect=CountVectorizer()\n",
        "\n",
        "def countvec_metric(df, col1, col2):\n",
        "    a = df[col1]\n",
        "    b = df[col2]\n",
        "    if type(a)!=str or type(b)!=str:\n",
        "        return -1\n",
        "    else:\n",
        "        count_matrix=coun_vect.fit_transform([a,b])\n",
        "    return np.count_nonzero(count_matrix.toarray()[0]!=count_matrix.toarray()[1])/len(count_matrix.toarray()[0])"
      ],
      "metadata": {
        "id": "xkY0juSbCeCH"
      },
      "execution_count": 29,
      "outputs": []
    },
    {
      "cell_type": "markdown",
      "source": [
        "The following function allows us to apply different metric on the columns of pairs.csv to generate distance between features."
      ],
      "metadata": {
        "id": "tLu9pkwEYP0i"
      }
    },
    {
      "cell_type": "code",
      "source": [
        "def compute_diffs(df, cols, string_metric):\n",
        "    df_copy = df\n",
        "    for col in cols:\n",
        "        df_copy[col+'_diff'] = df.apply(string_metric,\n",
        "                          args=(col+'_1', col+'_2'),\n",
        "                          axis=1)\n",
        "    return df_copy[ ['id_1','id_2','match']+['location_diff']+ [col+'_diff' for col in cols] ]"
      ],
      "metadata": {
        "id": "fr8QOlnTrmzv"
      },
      "execution_count": 30,
      "outputs": []
    },
    {
      "cell_type": "code",
      "source": [
        "# Using SequenceMatcher\n",
        "\n",
        "columns = ['name', 'address', 'city', 'state',\n",
        "       'zip', 'url', 'phone', 'categories']\n",
        "       \n",
        "pairs_seq = compute_diffs(pairs, columns, seq_metric)"
      ],
      "metadata": {
        "id": "28-5YLZ2ZbHE"
      },
      "execution_count": 31,
      "outputs": []
    },
    {
      "cell_type": "code",
      "source": [
        "# Using Levenshtein distance\n",
        "\n",
        "columns = ['name', 'address', 'city', 'state',\n",
        "       'zip', 'url', 'phone', 'categories']\n",
        "       \n",
        "pairs_lev = compute_diffs(pairs, columns, lev_metric)"
      ],
      "metadata": {
        "id": "e7J9bdx0Zky4"
      },
      "execution_count": 32,
      "outputs": []
    },
    {
      "cell_type": "markdown",
      "source": [
        "### Histogram of matches vs features"
      ],
      "metadata": {
        "id": "KJ9Uw4Y26N0K"
      }
    },
    {
      "cell_type": "code",
      "source": [
        "## histograms for SequenceMatcher\n",
        "\n",
        "for column in ['location_diff','name_diff','address_diff','city_diff','zip_diff','url_diff', 'phone_diff', 'categories_diff']:\n",
        "    plt.figure(figsize=(14,4))\n",
        "    plt.hist(pairs_seq.loc[(pairs_seq.match==True)&(pairs_seq.location_diff<1), column], color='b', label=\"True\")\n",
        "    plt.hist(pairs_seq.loc[(pairs_seq.match==False)&(pairs_seq.location_diff<1), column], color='r', label=\"False\")\n",
        "    plt.legend(fontsize=14)\n",
        "    plt.title(column,fontsize=16)\n",
        "    plt.show()"
      ],
      "metadata": {
        "colab": {
          "base_uri": "https://localhost:8080/",
          "height": 0
        },
        "id": "1QVl771m54fH",
        "outputId": "a3b553b2-4f2c-4dca-fccf-ace510cb8a0b"
      },
      "execution_count": 33,
      "outputs": [
        {
          "output_type": "display_data",
          "data": {
            "text/plain": [
              "<Figure size 1008x288 with 1 Axes>"
            ],
            "image/png": "[encoded data removed]"
          },
          "metadata": {
            "needs_background": "light"
          }
        },
        {
          "output_type": "display_data",
          "data": {
            "text/plain": [
              "<Figure size 1008x288 with 1 Axes>"
            ],
            "image/png": "[encoded data removed]"
          },
          "metadata": {
            "needs_background": "light"
          }
        },
        {
          "output_type": "display_data",
          "data": {
            "text/plain": [
              "<Figure size 1008x288 with 1 Axes>"
            ],
            "image/png": "[encoded data removed]"
          },
          "metadata": {
            "needs_background": "light"
          }
        },
        {
          "output_type": "display_data",
          "data": {
            "text/plain": [
              "<Figure size 1008x288 with 1 Axes>"
            ],
            "image/png": "[encoded data removed]"
          },
          "metadata": {
            "needs_background": "light"
          }
        },
        {
          "output_type": "display_data",
          "data": {
            "text/plain": [
              "<Figure size 1008x288 with 1 Axes>"
            ],
            "image/png": "[encoded data removed]"
          },
          "metadata": {
            "needs_background": "light"
          }
        },
        {
          "output_type": "display_data",
          "data": {
            "text/plain": [
              "<Figure size 1008x288 with 1 Axes>"
            ],
            "image/png": "[encoded data removed]"
          },
          "metadata": {
            "needs_background": "light"
          }
        },
        {
          "output_type": "display_data",
          "data": {
            "text/plain": [
              "<Figure size 1008x288 with 1 Axes>"
            ],
            "image/png": "[encoded data removed]"
          },
          "metadata": {
            "needs_background": "light"
          }
        },
        {
          "output_type": "display_data",
          "data": {
            "text/plain": [
              "<Figure size 1008x288 with 1 Axes>"
            ],
            "image/png": "[encoded data removed]"
          },
          "metadata": {
            "needs_background": "light"
          }
        }
      ]
    },
    {
      "cell_type": "code",
      "source": [
        "# Histogram for Levenshtein distance\n",
        "for column in ['location_diff','name_diff','address_diff','city_diff','zip_diff','url_diff', 'phone_diff', 'categories_diff']:\n",
        "    plt.figure(figsize=(14,4))\n",
        "    plt.hist(pairs_lev.loc[(pairs_lev.match==True)&(pairs_lev.location_diff<1), column], color='b', label=\"True\")\n",
        "    plt.hist(pairs_lev.loc[(pairs_lev.match==False)&(pairs_lev.location_diff<1), column], color='r', label=\"False\")\n",
        "    plt.legend(fontsize=14)\n",
        "    plt.title(column,fontsize=16)\n",
        "    plt.show()"
      ],
      "metadata": {
        "colab": {
          "base_uri": "https://localhost:8080/",
          "height": 0
        },
        "id": "WkyTHNstDoQk",
        "outputId": "702d96f5-0dfa-4647-a8cd-b3625e09ec8d"
      },
      "execution_count": 34,
      "outputs": [
        {
          "output_type": "display_data",
          "data": {
            "text/plain": [
              "<Figure size 1008x288 with 1 Axes>"
            ],
            "image/png": "[encoded data removed]"
          },
          "metadata": {
            "needs_background": "light"
          }
        },
        {
          "output_type": "display_data",
          "data": {
            "text/plain": [
              "<Figure size 1008x288 with 1 Axes>"
            ],
            "image/png": "[encoded data removed]"
          },
          "metadata": {
            "needs_background": "light"
          }
        },
        {
          "output_type": "display_data",
          "data": {
            "text/plain": [
              "<Figure size 1008x288 with 1 Axes>"
            ],
            "image/png": "[encoded data removed]"
          },
          "metadata": {
            "needs_background": "light"
          }
        },
        {
          "output_type": "display_data",
          "data": {
            "text/plain": [
              "<Figure size 1008x288 with 1 Axes>"
            ],
            "image/png": "[encoded data removed]"
          },
          "metadata": {
            "needs_background": "light"
          }
        },
        {
          "output_type": "display_data",
          "data": {
            "text/plain": [
              "<Figure size 1008x288 with 1 Axes>"
            ],
            "image/png": "[encoded data removed]"
          },
          "metadata": {
            "needs_background": "light"
          }
        },
        {
          "output_type": "display_data",
          "data": {
            "text/plain": [
              "<Figure size 1008x288 with 1 Axes>"
            ],
            "image/png": "[encoded data removed]"
          },
          "metadata": {
            "needs_background": "light"
          }
        },
        {
          "output_type": "display_data",
          "data": {
            "text/plain": [
              "<Figure size 1008x288 with 1 Axes>"
            ],
            "image/png": "[encoded data removed]"
          },
          "metadata": {
            "needs_background": "light"
          }
        },
        {
          "output_type": "display_data",
          "data": {
            "text/plain": [
              "<Figure size 1008x288 with 1 Axes>"
            ],
            "image/png": "[encoded data removed]"
          },
          "metadata": {
            "needs_background": "light"
          }
        }
      ]
    },
    {
      "cell_type": "code",
      "source": [
        "from sklearn.linear_model import LogisticRegression\n",
        "from sklearn.model_selection import train_test_split\n",
        "from sklearn.metrics import confusion_matrix\n",
        "from sklearn.metrics import roc_auc_score\n",
        "\n",
        "lreg = LogisticRegression()"
      ],
      "metadata": {
        "id": "D3cAEvXlj6Zo"
      },
      "execution_count": 2,
      "outputs": []
    },
    {
      "cell_type": "markdown",
      "source": [
        "We read the data below."
      ],
      "metadata": {
        "id": "ck3p8I8x0NzY"
      }
    },
    {
      "cell_type": "code",
      "source": [
        "from google.colab import drive\n",
        "drive.mount('/content/drive')"
      ],
      "metadata": {
        "colab": {
          "base_uri": "https://localhost:8080/"
        },
        "id": "SMKbHydTz0FO",
        "outputId": "6d933f13-04d2-4716-dc9f-34a3c01ccd56"
      },
      "execution_count": 3,
      "outputs": [
        {
          "output_type": "stream",
          "name": "stdout",
          "text": [
            "Drive already mounted at /content/drive; to attempt to forcibly remount, call drive.mount(\"/content/drive\", force_remount=True).\n"
          ]
        }
      ]
    },
    {
      "cell_type": "code",
      "source": [
        "pairs = pd.read_csv('/content/drive/MyDrive/Summer 2022/foursquare-location-matching/pairs.csv')\n",
        "test = pd.read_csv('/content/drive/MyDrive/Summer 2022/foursquare-location-matching/test.csv')\n",
        "train = pd.read_csv('/content/drive/MyDrive/Summer 2022/foursquare-location-matching/train.csv')"
      ],
      "metadata": {
        "id": "u8Qz-YOLzGfV"
      },
      "execution_count": 4,
      "outputs": []
    },
    {
      "cell_type": "markdown",
      "source": [
        "## Training data\n",
        "\n"
      ],
      "metadata": {
        "id": "Zg1IqrfV0fDu"
      }
    },
    {
      "cell_type": "markdown",
      "source": [
        "\n",
        "### The data\n",
        "\n",
        "\n",
        "*   `train.csv` - The training set, comprising eleven attribute fields for over one million place entries, together with:\n",
        "  * `id` - A unique identifier for each entry.\n",
        "  * `point_of_interest` - An identifier for the POI the entry represents. There may be one or many entries describing the same POI. Two entries \"match\" when they describe a common POI. \n",
        "*   `pairs.csv` - A pregenerated set of pairs of place entries from `train.csv` designed to improve detection of matches.\n",
        "  * `match` - Whether (`True` or `False`) the pair of entries describes a common POI."
      ],
      "metadata": {
        "id": "HBUaOigiSzKw"
      }
    },
    {
      "cell_type": "code",
      "source": [
        "train.sample(5)"
      ],
      "metadata": {
        "colab": {
          "base_uri": "https://localhost:8080/",
          "height": 337
        },
        "id": "jVUWPXXvzZnk",
        "outputId": "896cb11e-d5a8-4599-dd16-045aacb067b6"
      },
      "execution_count": 5,
      "outputs": [
        {
          "output_type": "execute_result",
          "data": {
            "text/plain": [
              "                      id                       name   latitude   longitude  \\\n",
              "754762  E_a98ba9774411c6     Warunk Upnormal Cinere  -6.329500  106.784197   \n",
              "284221  E_3fcf9d786f5900      Laboratório Dom Bosco  -1.448725  -48.492586   \n",
              "592628  E_853319fa3d7a9a     宣南书馆 Xuan Nan Shu Guan  39.871804  116.374955   \n",
              "799205  E_b37dd47628f733               Fitness Park  20.050953   99.891000   \n",
              "458669  E_67114b18642165  hotel laut biru kamar 309  -7.700831  108.656546   \n",
              "\n",
              "                         address               city       state    zip  \\\n",
              "754762                       NaN                NaN         NaN    NaN   \n",
              "284221                       NaN                NaN         NaN    NaN   \n",
              "592628         T80 Caishikou Ave            Beijing     Beijing    NaN   \n",
              "799205  Mae Fah Luang University  Mueang Chiang Rai  Chiang Rai  57100   \n",
              "458669                       NaN        Pangandaran   West Java    NaN   \n",
              "\n",
              "       country  url phone        categories point_of_interest  \n",
              "754762      ID  NaN   NaN               NaN  P_2a069af8695d1b  \n",
              "284221      BR  NaN   NaN      College Labs  P_024960942e855f  \n",
              "592628      CN  NaN   NaN      Comedy Clubs  P_1ea618e1be6da3  \n",
              "799205      TH  NaN   NaN      College Gyms  P_fea5e8a9cdb9a9  \n",
              "458669      ID  NaN   NaN  Bed & Breakfasts  P_5fef20e7d813e4  "
            ],
            "text/html": [
              "\n",
              "  <div id=\"df-67d76cdd-d724-43fd-899c-c65719130b78\">\n",
              "    <div class=\"colab-df-container\">\n",
              "      <div>\n",
              "<style scoped>\n",
              "    .dataframe tbody tr th:only-of-type {\n",
              "        vertical-align: middle;\n",
              "    }\n",
              "\n",
              "    .dataframe tbody tr th {\n",
              "        vertical-align: top;\n",
              "    }\n",
              "\n",
              "    .dataframe thead th {\n",
              "        text-align: right;\n",
              "    }\n",
              "</style>\n",
              "<table border=\"1\" class=\"dataframe\">\n",
              "  <thead>\n",
              "    <tr style=\"text-align: right;\">\n",
              "      <th></th>\n",
              "      <th>id</th>\n",
              "      <th>name</th>\n",
              "      <th>latitude</th>\n",
              "      <th>longitude</th>\n",
              "      <th>address</th>\n",
              "      <th>city</th>\n",
              "      <th>state</th>\n",
              "      <th>zip</th>\n",
              "      <th>country</th>\n",
              "      <th>url</th>\n",
              "      <th>phone</th>\n",
              "      <th>categories</th>\n",
              "      <th>point_of_interest</th>\n",
              "    </tr>\n",
              "  </thead>\n",
              "  <tbody>\n",
              "    <tr>\n",
              "      <th>754762</th>\n",
              "      <td>E_a98ba9774411c6</td>\n",
              "      <td>Warunk Upnormal Cinere</td>\n",
              "      <td>-6.329500</td>\n",
              "      <td>106.784197</td>\n",
              "      <td>NaN</td>\n",
              "      <td>NaN</td>\n",
              "      <td>NaN</td>\n",
              "      <td>NaN</td>\n",
              "      <td>ID</td>\n",
              "      <td>NaN</td>\n",
              "      <td>NaN</td>\n",
              "      <td>NaN</td>\n",
              "      <td>P_2a069af8695d1b</td>\n",
              "    </tr>\n",
              "    <tr>\n",
              "      <th>284221</th>\n",
              "      <td>E_3fcf9d786f5900</td>\n",
              "      <td>Laboratório Dom Bosco</td>\n",
              "      <td>-1.448725</td>\n",
              "      <td>-48.492586</td>\n",
              "      <td>NaN</td>\n",
              "      <td>NaN</td>\n",
              "      <td>NaN</td>\n",
              "      <td>NaN</td>\n",
              "      <td>BR</td>\n",
              "      <td>NaN</td>\n",
              "      <td>NaN</td>\n",
              "      <td>College Labs</td>\n",
              "      <td>P_024960942e855f</td>\n",
              "    </tr>\n",
              "    <tr>\n",
              "      <th>592628</th>\n",
              "      <td>E_853319fa3d7a9a</td>\n",
              "      <td>宣南书馆 Xuan Nan Shu Guan</td>\n",
              "      <td>39.871804</td>\n",
              "      <td>116.374955</td>\n",
              "      <td>T80 Caishikou Ave</td>\n",
              "      <td>Beijing</td>\n",
              "      <td>Beijing</td>\n",
              "      <td>NaN</td>\n",
              "      <td>CN</td>\n",
              "      <td>NaN</td>\n",
              "      <td>NaN</td>\n",
              "      <td>Comedy Clubs</td>\n",
              "      <td>P_1ea618e1be6da3</td>\n",
              "    </tr>\n",
              "    <tr>\n",
              "      <th>799205</th>\n",
              "      <td>E_b37dd47628f733</td>\n",
              "      <td>Fitness Park</td>\n",
              "      <td>20.050953</td>\n",
              "      <td>99.891000</td>\n",
              "      <td>Mae Fah Luang University</td>\n",
              "      <td>Mueang Chiang Rai</td>\n",
              "      <td>Chiang Rai</td>\n",
              "      <td>57100</td>\n",
              "      <td>TH</td>\n",
              "      <td>NaN</td>\n",
              "      <td>NaN</td>\n",
              "      <td>College Gyms</td>\n",
              "      <td>P_fea5e8a9cdb9a9</td>\n",
              "    </tr>\n",
              "    <tr>\n",
              "      <th>458669</th>\n",
              "      <td>E_67114b18642165</td>\n",
              "      <td>hotel laut biru kamar 309</td>\n",
              "      <td>-7.700831</td>\n",
              "      <td>108.656546</td>\n",
              "      <td>NaN</td>\n",
              "      <td>Pangandaran</td>\n",
              "      <td>West Java</td>\n",
              "      <td>NaN</td>\n",
              "      <td>ID</td>\n",
              "      <td>NaN</td>\n",
              "      <td>NaN</td>\n",
              "      <td>Bed &amp; Breakfasts</td>\n",
              "      <td>P_5fef20e7d813e4</td>\n",
              "    </tr>\n",
              "  </tbody>\n",
              "</table>\n",
              "</div>\n",
              "      <button class=\"colab-df-convert\" onclick=\"convertToInteractive('df-67d76cdd-d724-43fd-899c-c65719130b78')\"\n",
              "              title=\"Convert this dataframe to an interactive table.\"\n",
              "              style=\"display:none;\">\n",
              "        \n",
              "  <svg xmlns=\"http://www.w3.org/2000/svg\" height=\"24px\"viewBox=\"0 0 24 24\"\n",
              "       width=\"24px\">\n",
              "    <path d=\"M0 0h24v24H0V0z\" fill=\"none\"/>\n",
              "    <path d=\"M18.56 5.44l.94 2.06.94-2.06 2.06-.94-2.06-.94-.94-2.06-.94 2.06-2.06.94zm-11 1L8.5 8.5l.94-2.06 2.06-.94-2.06-.94L8.5 2.5l-.94 2.06-2.06.94zm10 10l.94 2.06.94-2.06 2.06-.94-2.06-.94-.94-2.06-.94 2.06-2.06.94z\"/><path d=\"M17.41 7.96l-1.37-1.37c-.4-.4-.92-.59-1.43-.59-.52 0-1.04.2-1.43.59L10.3 9.45l-7.72 7.72c-.78.78-.78 2.05 0 2.83L4 21.41c.39.39.9.59 1.41.59.51 0 1.02-.2 1.41-.59l7.78-7.78 2.81-2.81c.8-.78.8-2.07 0-2.86zM5.41 20L4 18.59l7.72-7.72 1.47 1.35L5.41 20z\"/>\n",
              "  </svg>\n",
              "      </button>\n",
              "      \n",
              "  <style>\n",
              "    .colab-df-container {\n",
              "      display:flex;\n",
              "      flex-wrap:wrap;\n",
              "      gap: 12px;\n",
              "    }\n",
              "\n",
              "    .colab-df-convert {\n",
              "      background-color: #E8F0FE;\n",
              "      border: none;\n",
              "      border-radius: 50%;\n",
              "      cursor: pointer;\n",
              "      display: none;\n",
              "      fill: #1967D2;\n",
              "      height: 32px;\n",
              "      padding: 0 0 0 0;\n",
              "      width: 32px;\n",
              "    }\n",
              "\n",
              "    .colab-df-convert:hover {\n",
              "      background-color: #E2EBFA;\n",
              "      box-shadow: 0px 1px 2px rgba(60, 64, 67, 0.3), 0px 1px 3px 1px rgba(60, 64, 67, 0.15);\n",
              "      fill: #174EA6;\n",
              "    }\n",
              "\n",
              "    [theme=dark] .colab-df-convert {\n",
              "      background-color: #3B4455;\n",
              "      fill: #D2E3FC;\n",
              "    }\n",
              "\n",
              "    [theme=dark] .colab-df-convert:hover {\n",
              "      background-color: #434B5C;\n",
              "      box-shadow: 0px 1px 3px 1px rgba(0, 0, 0, 0.15);\n",
              "      filter: drop-shadow(0px 1px 2px rgba(0, 0, 0, 0.3));\n",
              "      fill: #FFFFFF;\n",
              "    }\n",
              "  </style>\n",
              "\n",
              "      <script>\n",
              "        const buttonEl =\n",
              "          document.querySelector('#df-67d76cdd-d724-43fd-899c-c65719130b78 button.colab-df-convert');\n",
              "        buttonEl.style.display =\n",
              "          google.colab.kernel.accessAllowed ? 'block' : 'none';\n",
              "\n",
              "        async function convertToInteractive(key) {\n",
              "          const element = document.querySelector('#df-67d76cdd-d724-43fd-899c-c65719130b78');\n",
              "          const dataTable =\n",
              "            await google.colab.kernel.invokeFunction('convertToInteractive',\n",
              "                                                     [key], {});\n",
              "          if (!dataTable) return;\n",
              "\n",
              "          const docLinkHtml = 'Like what you see? Visit the ' +\n",
              "            '<a target=\"_blank\" href=https://colab.research.google.com/notebooks/data_table.ipynb>data table notebook</a>'\n",
              "            + ' to learn more about interactive tables.';\n",
              "          element.innerHTML = '';\n",
              "          dataTable['output_type'] = 'display_data';\n",
              "          await google.colab.output.renderOutput(dataTable, element);\n",
              "          const docLink = document.createElement('div');\n",
              "          docLink.innerHTML = docLinkHtml;\n",
              "          element.appendChild(docLink);\n",
              "        }\n",
              "      </script>\n",
              "    </div>\n",
              "  </div>\n",
              "  "
            ]
          },
          "metadata": {},
          "execution_count": 5
        }
      ]
    },
    {
      "cell_type": "markdown",
      "source": [
        "We take a look at of how many POIs are in the data, compared to the total number of rows."
      ],
      "metadata": {
        "id": "nxpx0kDkSf25"
      }
    },
    {
      "cell_type": "code",
      "source": [
        "print('There are', len(set(train.id)), 'id, and', len(set(train.point_of_interest)), 'distinct POIs.\\n')\n",
        "print('About', np.round(len(set(train.point_of_interest))/len(set(train.id))*100,2),'% POIs are unique.\\n')"
      ],
      "metadata": {
        "colab": {
          "base_uri": "https://localhost:8080/"
        },
        "id": "NhuiJ9tqTHom",
        "outputId": "0634d4bb-5b14-4858-a18b-d5b42fde060c"
      },
      "execution_count": 6,
      "outputs": [
        {
          "output_type": "stream",
          "name": "stdout",
          "text": [
            "There are 1138812 id, and 739972 distinct POIs.\n",
            "\n",
            "About 64.98 % POIs are unique.\n",
            "\n"
          ]
        }
      ]
    },
    {
      "cell_type": "markdown",
      "source": [
        "We take a look at the features that are available to analyze and examine the ratio of missing values in the columns."
      ],
      "metadata": {
        "id": "51pl4KoyR2zL"
      }
    },
    {
      "cell_type": "code",
      "source": [
        "train.columns"
      ],
      "metadata": {
        "colab": {
          "base_uri": "https://localhost:8080/"
        },
        "id": "Auyt7TgdSaAQ",
        "outputId": "8e37f478-ba63-44b9-8be6-e16bd69a38f1"
      },
      "execution_count": 7,
      "outputs": [
        {
          "output_type": "execute_result",
          "data": {
            "text/plain": [
              "Index(['id', 'name', 'latitude', 'longitude', 'address', 'city', 'state',\n",
              "       'zip', 'country', 'url', 'phone', 'categories', 'point_of_interest'],\n",
              "      dtype='object')"
            ]
          },
          "metadata": {},
          "execution_count": 7
        }
      ]
    },
    {
      "cell_type": "code",
      "source": [
        "train.info()"
      ],
      "metadata": {
        "colab": {
          "base_uri": "https://localhost:8080/"
        },
        "id": "r8HBPsEsGBE0",
        "outputId": "ec5dca77-aef1-43f5-cbe2-bf9db3bfa312"
      },
      "execution_count": 8,
      "outputs": [
        {
          "output_type": "stream",
          "name": "stdout",
          "text": [
            "<class 'pandas.core.frame.DataFrame'>\n",
            "RangeIndex: 1138812 entries, 0 to 1138811\n",
            "Data columns (total 13 columns):\n",
            " #   Column             Non-Null Count    Dtype  \n",
            "---  ------             --------------    -----  \n",
            " 0   id                 1138812 non-null  object \n",
            " 1   name               1138811 non-null  object \n",
            " 2   latitude           1138812 non-null  float64\n",
            " 3   longitude          1138812 non-null  float64\n",
            " 4   address            742191 non-null   object \n",
            " 5   city               839623 non-null   object \n",
            " 6   state              718226 non-null   object \n",
            " 7   zip                543386 non-null   object \n",
            " 8   country            1138801 non-null  object \n",
            " 9   url                267724 non-null   object \n",
            " 10  phone              342855 non-null   object \n",
            " 11  categories         1040505 non-null  object \n",
            " 12  point_of_interest  1138812 non-null  object \n",
            "dtypes: float64(2), object(11)\n",
            "memory usage: 112.9+ MB\n"
          ]
        }
      ]
    },
    {
      "cell_type": "code",
      "source": [
        "pairs.sample(5)"
      ],
      "metadata": {
        "colab": {
          "base_uri": "https://localhost:8080/",
          "height": 473
        },
        "id": "yNq__nrXTLtc",
        "outputId": "bfccf700-411c-41a4-d8fa-e5743f509773"
      },
      "execution_count": 9,
      "outputs": [
        {
          "output_type": "execute_result",
          "data": {
            "text/plain": [
              "                    id_1                                    name_1  \\\n",
              "457962  E_ca09066a5ddc1c                                   Studio7   \n",
              "20393   E_08fa22c68806d0                                 Taco Bell   \n",
              "459151  E_ca89419116da6a                                       STK   \n",
              "369326  E_a32d3a15dc85ba                    Pop Century Playground   \n",
              "143710  E_3f39f2fdd11a2f  Baptist Neighborhood Hospital - Overlook   \n",
              "\n",
              "        latitude_1  longitude_1             address_1            city_1  \\\n",
              "457962   13.777920   100.476390  CentralPlaza Pinklao       Bangkok Noi   \n",
              "20393    41.742370   -72.711520      485 Flatbush Ave          Hartford   \n",
              "459151   48.955977    21.259583                   NaN            Prešov   \n",
              "369326   28.349066   -81.543072    Pop Century Resort  Lake Buena Vista   \n",
              "143710   29.680739   -98.454758          25615 US-281       San Antonio   \n",
              "\n",
              "        state_1  zip_1 country_1                       url_1  ... longitude_2  \\\n",
              "457962  Bangkok  10700        TH  http://www.maccomseven.com  ...  100.476500   \n",
              "20393        CT  06106        US     http://www.tacobell.com  ...  -72.711832   \n",
              "459151      NaN    NaN        SK                         NaN  ...   21.258461   \n",
              "369326       FL  32830        US                         NaN  ...  -81.542558   \n",
              "143710       TX  78261        US                         NaN  ...  -98.455190   \n",
              "\n",
              "                     address_2            city_2         state_2   zip_2  \\\n",
              "457962         Central Pinklao       Arun Amarin         Bangkok     NaN   \n",
              "20393         485 Flatbush Ave          Hartford              CT   06106   \n",
              "459151      Petrovianska 500/1            Prešov  Prešovský kraj  080 05   \n",
              "369326         1050 Century Dr  Lake Buena Vista              FL   32830   \n",
              "143710  25615 US Highway 281 N       San Antonio              TX   78258   \n",
              "\n",
              "        country_2                                     url_2       phone_2  \\\n",
              "457962         TH                                       NaN           NaN   \n",
              "20393          US                 https://www.ljsilvers.com  +18609531654   \n",
              "459151         SK                                       NaN           NaN   \n",
              "369326         US                                       NaN    4079384000   \n",
              "143710         US  https://www.baptistemergencyhospital.com  +12105722911   \n",
              "\n",
              "                                      categories_2  match  \n",
              "457962                          Electronics Stores   True  \n",
              "20393   Fast Food Restaurants, Seafood Restaurants  False  \n",
              "459151                              Auto Workshops   True  \n",
              "369326                                   Bus Stops  False  \n",
              "143710                   Hospitals, Hospital Wards   True  \n",
              "\n",
              "[5 rows x 25 columns]"
            ],
            "text/html": [
              "\n",
              "  <div id=\"df-a96ce431-848e-4fda-b524-9581183feb4e\">\n",
              "    <div class=\"colab-df-container\">\n",
              "      <div>\n",
              "<style scoped>\n",
              "    .dataframe tbody tr th:only-of-type {\n",
              "        vertical-align: middle;\n",
              "    }\n",
              "\n",
              "    .dataframe tbody tr th {\n",
              "        vertical-align: top;\n",
              "    }\n",
              "\n",
              "    .dataframe thead th {\n",
              "        text-align: right;\n",
              "    }\n",
              "</style>\n",
              "<table border=\"1\" class=\"dataframe\">\n",
              "  <thead>\n",
              "    <tr style=\"text-align: right;\">\n",
              "      <th></th>\n",
              "      <th>id_1</th>\n",
              "      <th>name_1</th>\n",
              "      <th>latitude_1</th>\n",
              "      <th>longitude_1</th>\n",
              "      <th>address_1</th>\n",
              "      <th>city_1</th>\n",
              "      <th>state_1</th>\n",
              "      <th>zip_1</th>\n",
              "      <th>country_1</th>\n",
              "      <th>url_1</th>\n",
              "      <th>...</th>\n",
              "      <th>longitude_2</th>\n",
              "      <th>address_2</th>\n",
              "      <th>city_2</th>\n",
              "      <th>state_2</th>\n",
              "      <th>zip_2</th>\n",
              "      <th>country_2</th>\n",
              "      <th>url_2</th>\n",
              "      <th>phone_2</th>\n",
              "      <th>categories_2</th>\n",
              "      <th>match</th>\n",
              "    </tr>\n",
              "  </thead>\n",
              "  <tbody>\n",
              "    <tr>\n",
              "      <th>457962</th>\n",
              "      <td>E_ca09066a5ddc1c</td>\n",
              "      <td>Studio7</td>\n",
              "      <td>13.777920</td>\n",
              "      <td>100.476390</td>\n",
              "      <td>CentralPlaza Pinklao</td>\n",
              "      <td>Bangkok Noi</td>\n",
              "      <td>Bangkok</td>\n",
              "      <td>10700</td>\n",
              "      <td>TH</td>\n",
              "      <td>http://www.maccomseven.com</td>\n",
              "      <td>...</td>\n",
              "      <td>100.476500</td>\n",
              "      <td>Central Pinklao</td>\n",
              "      <td>Arun Amarin</td>\n",
              "      <td>Bangkok</td>\n",
              "      <td>NaN</td>\n",
              "      <td>TH</td>\n",
              "      <td>NaN</td>\n",
              "      <td>NaN</td>\n",
              "      <td>Electronics Stores</td>\n",
              "      <td>True</td>\n",
              "    </tr>\n",
              "    <tr>\n",
              "      <th>20393</th>\n",
              "      <td>E_08fa22c68806d0</td>\n",
              "      <td>Taco Bell</td>\n",
              "      <td>41.742370</td>\n",
              "      <td>-72.711520</td>\n",
              "      <td>485 Flatbush Ave</td>\n",
              "      <td>Hartford</td>\n",
              "      <td>CT</td>\n",
              "      <td>06106</td>\n",
              "      <td>US</td>\n",
              "      <td>http://www.tacobell.com</td>\n",
              "      <td>...</td>\n",
              "      <td>-72.711832</td>\n",
              "      <td>485 Flatbush Ave</td>\n",
              "      <td>Hartford</td>\n",
              "      <td>CT</td>\n",
              "      <td>06106</td>\n",
              "      <td>US</td>\n",
              "      <td>https://www.ljsilvers.com</td>\n",
              "      <td>+18609531654</td>\n",
              "      <td>Fast Food Restaurants, Seafood Restaurants</td>\n",
              "      <td>False</td>\n",
              "    </tr>\n",
              "    <tr>\n",
              "      <th>459151</th>\n",
              "      <td>E_ca89419116da6a</td>\n",
              "      <td>STK</td>\n",
              "      <td>48.955977</td>\n",
              "      <td>21.259583</td>\n",
              "      <td>NaN</td>\n",
              "      <td>Prešov</td>\n",
              "      <td>NaN</td>\n",
              "      <td>NaN</td>\n",
              "      <td>SK</td>\n",
              "      <td>NaN</td>\n",
              "      <td>...</td>\n",
              "      <td>21.258461</td>\n",
              "      <td>Petrovianska 500/1</td>\n",
              "      <td>Prešov</td>\n",
              "      <td>Prešovský kraj</td>\n",
              "      <td>080 05</td>\n",
              "      <td>SK</td>\n",
              "      <td>NaN</td>\n",
              "      <td>NaN</td>\n",
              "      <td>Auto Workshops</td>\n",
              "      <td>True</td>\n",
              "    </tr>\n",
              "    <tr>\n",
              "      <th>369326</th>\n",
              "      <td>E_a32d3a15dc85ba</td>\n",
              "      <td>Pop Century Playground</td>\n",
              "      <td>28.349066</td>\n",
              "      <td>-81.543072</td>\n",
              "      <td>Pop Century Resort</td>\n",
              "      <td>Lake Buena Vista</td>\n",
              "      <td>FL</td>\n",
              "      <td>32830</td>\n",
              "      <td>US</td>\n",
              "      <td>NaN</td>\n",
              "      <td>...</td>\n",
              "      <td>-81.542558</td>\n",
              "      <td>1050 Century Dr</td>\n",
              "      <td>Lake Buena Vista</td>\n",
              "      <td>FL</td>\n",
              "      <td>32830</td>\n",
              "      <td>US</td>\n",
              "      <td>NaN</td>\n",
              "      <td>4079384000</td>\n",
              "      <td>Bus Stops</td>\n",
              "      <td>False</td>\n",
              "    </tr>\n",
              "    <tr>\n",
              "      <th>143710</th>\n",
              "      <td>E_3f39f2fdd11a2f</td>\n",
              "      <td>Baptist Neighborhood Hospital - Overlook</td>\n",
              "      <td>29.680739</td>\n",
              "      <td>-98.454758</td>\n",
              "      <td>25615 US-281</td>\n",
              "      <td>San Antonio</td>\n",
              "      <td>TX</td>\n",
              "      <td>78261</td>\n",
              "      <td>US</td>\n",
              "      <td>NaN</td>\n",
              "      <td>...</td>\n",
              "      <td>-98.455190</td>\n",
              "      <td>25615 US Highway 281 N</td>\n",
              "      <td>San Antonio</td>\n",
              "      <td>TX</td>\n",
              "      <td>78258</td>\n",
              "      <td>US</td>\n",
              "      <td>https://www.baptistemergencyhospital.com</td>\n",
              "      <td>+12105722911</td>\n",
              "      <td>Hospitals, Hospital Wards</td>\n",
              "      <td>True</td>\n",
              "    </tr>\n",
              "  </tbody>\n",
              "</table>\n",
              "<p>5 rows × 25 columns</p>\n",
              "</div>\n",
              "      <button class=\"colab-df-convert\" onclick=\"convertToInteractive('df-a96ce431-848e-4fda-b524-9581183feb4e')\"\n",
              "              title=\"Convert this dataframe to an interactive table.\"\n",
              "              style=\"display:none;\">\n",
              "        \n",
              "  <svg xmlns=\"http://www.w3.org/2000/svg\" height=\"24px\"viewBox=\"0 0 24 24\"\n",
              "       width=\"24px\">\n",
              "    <path d=\"M0 0h24v24H0V0z\" fill=\"none\"/>\n",
              "    <path d=\"M18.56 5.44l.94 2.06.94-2.06 2.06-.94-2.06-.94-.94-2.06-.94 2.06-2.06.94zm-11 1L8.5 8.5l.94-2.06 2.06-.94-2.06-.94L8.5 2.5l-.94 2.06-2.06.94zm10 10l.94 2.06.94-2.06 2.06-.94-2.06-.94-.94-2.06-.94 2.06-2.06.94z\"/><path d=\"M17.41 7.96l-1.37-1.37c-.4-.4-.92-.59-1.43-.59-.52 0-1.04.2-1.43.59L10.3 9.45l-7.72 7.72c-.78.78-.78 2.05 0 2.83L4 21.41c.39.39.9.59 1.41.59.51 0 1.02-.2 1.41-.59l7.78-7.78 2.81-2.81c.8-.78.8-2.07 0-2.86zM5.41 20L4 18.59l7.72-7.72 1.47 1.35L5.41 20z\"/>\n",
              "  </svg>\n",
              "      </button>\n",
              "      \n",
              "  <style>\n",
              "    .colab-df-container {\n",
              "      display:flex;\n",
              "      flex-wrap:wrap;\n",
              "      gap: 12px;\n",
              "    }\n",
              "\n",
              "    .colab-df-convert {\n",
              "      background-color: #E8F0FE;\n",
              "      border: none;\n",
              "      border-radius: 50%;\n",
              "      cursor: pointer;\n",
              "      display: none;\n",
              "      fill: #1967D2;\n",
              "      height: 32px;\n",
              "      padding: 0 0 0 0;\n",
              "      width: 32px;\n",
              "    }\n",
              "\n",
              "    .colab-df-convert:hover {\n",
              "      background-color: #E2EBFA;\n",
              "      box-shadow: 0px 1px 2px rgba(60, 64, 67, 0.3), 0px 1px 3px 1px rgba(60, 64, 67, 0.15);\n",
              "      fill: #174EA6;\n",
              "    }\n",
              "\n",
              "    [theme=dark] .colab-df-convert {\n",
              "      background-color: #3B4455;\n",
              "      fill: #D2E3FC;\n",
              "    }\n",
              "\n",
              "    [theme=dark] .colab-df-convert:hover {\n",
              "      background-color: #434B5C;\n",
              "      box-shadow: 0px 1px 3px 1px rgba(0, 0, 0, 0.15);\n",
              "      filter: drop-shadow(0px 1px 2px rgba(0, 0, 0, 0.3));\n",
              "      fill: #FFFFFF;\n",
              "    }\n",
              "  </style>\n",
              "\n",
              "      <script>\n",
              "        const buttonEl =\n",
              "          document.querySelector('#df-a96ce431-848e-4fda-b524-9581183feb4e button.colab-df-convert');\n",
              "        buttonEl.style.display =\n",
              "          google.colab.kernel.accessAllowed ? 'block' : 'none';\n",
              "\n",
              "        async function convertToInteractive(key) {\n",
              "          const element = document.querySelector('#df-a96ce431-848e-4fda-b524-9581183feb4e');\n",
              "          const dataTable =\n",
              "            await google.colab.kernel.invokeFunction('convertToInteractive',\n",
              "                                                     [key], {});\n",
              "          if (!dataTable) return;\n",
              "\n",
              "          const docLinkHtml = 'Like what you see? Visit the ' +\n",
              "            '<a target=\"_blank\" href=https://colab.research.google.com/notebooks/data_table.ipynb>data table notebook</a>'\n",
              "            + ' to learn more about interactive tables.';\n",
              "          element.innerHTML = '';\n",
              "          dataTable['output_type'] = 'display_data';\n",
              "          await google.colab.output.renderOutput(dataTable, element);\n",
              "          const docLink = document.createElement('div');\n",
              "          docLink.innerHTML = docLinkHtml;\n",
              "          element.appendChild(docLink);\n",
              "        }\n",
              "      </script>\n",
              "    </div>\n",
              "  </div>\n",
              "  "
            ]
          },
          "metadata": {},
          "execution_count": 9
        }
      ]
    },
    {
      "cell_type": "code",
      "source": [
        "print('There are', len(pairs), 'pairs,', len(set(pairs.id_1)), 'id_1s and', len(set(pairs.id_2)), 'id_2s.\\n')"
      ],
      "metadata": {
        "colab": {
          "base_uri": "https://localhost:8080/"
        },
        "id": "s_95avseVk10",
        "outputId": "bb2f84d3-3275-4239-d55e-9e6a6fba67e3"
      },
      "execution_count": 10,
      "outputs": [
        {
          "output_type": "stream",
          "name": "stdout",
          "text": [
            "There are 578907 pairs, 464765 id_1s and 565512 id_2s.\n",
            "\n"
          ]
        }
      ]
    },
    {
      "cell_type": "markdown",
      "source": [
        "# Modeling"
      ],
      "metadata": {
        "id": "06Jb467Xixcx"
      }
    },
    {
      "cell_type": "markdown",
      "source": [
        "## Threshoding location_diff"
      ],
      "metadata": {
        "id": "PUWWAUzmJkRQ"
      }
    },
    {
      "cell_type": "code",
      "source": [
        "name_thresh, address_thresh, location_thresh = 0.1,0.1,0.1\n",
        "cols = ['name_diff','location_diff', 'address_diff']\n",
        "\n",
        "df = pairs_lev.loc[(pairs_lev.name_diff<name_thresh)&(pairs_lev.address_diff<address_thresh)&(pairs_lev.location_diff<location_thresh)]\n",
        "\n",
        "fig,ax = plt.subplots(3,1, figsize=(10,8), sharex=True)\n",
        "\n",
        "fig.suptitle('name_thresh, address_thresh, location_thresh are 0.1, 0.1, 0.1')\n",
        "\n",
        "for i in range(len(cols)):\n",
        "    sns.stripplot(x=\"match\", y=cols[i], data=df, ax=ax[i])\n",
        "\n",
        "plt.show()\n",
        "\n",
        "df.match.value_counts()/len(df), len(df)/len(pairs_lev)"
      ],
      "metadata": {
        "colab": {
          "base_uri": "https://localhost:8080/",
          "height": 609
        },
        "id": "26QJTrBSJwCT",
        "outputId": "9604f64f-c0ff-4e1b-ac3a-954c241fd880"
      },
      "execution_count": 35,
      "outputs": [
        {
          "output_type": "display_data",
          "data": {
            "text/plain": [
              "<Figure size 720x576 with 3 Axes>"
            ],
            "image/png": "[encoded data removed]"
          },
          "metadata": {
            "needs_background": "light"
          }
        },
        {
          "output_type": "execute_result",
          "data": {
            "text/plain": [
              "(True     0.911419\n",
              " False    0.088581\n",
              " Name: match, dtype: float64, 0.17724263137256935)"
            ]
          },
          "metadata": {},
          "execution_count": 35
        }
      ]
    },
    {
      "cell_type": "code",
      "source": [
        "thresh = .1\n",
        "cols = ['name_diff','location_diff', 'address_diff']\n",
        "\n",
        "df = pairs_lev.loc[(pairs_lev.name_diff>thresh)|(pairs_lev.location_diff>thresh)]\n",
        "\n",
        "fig,ax = plt.subplots(3,1, figsize=(10,8), sharex=True)\n",
        "\n",
        "fig.suptitle('name_thresh, address_thresh, location_thresh are 0.1, 0.1, 0.1')\n",
        "\n",
        "for i in range(len(cols)):\n",
        "    sns.stripplot(x=\"match\", y=cols[i], data=df, ax=ax[i])\n",
        "\n",
        "plt.show()\n",
        "\n",
        "df.match.value_counts()/len(df),  len(df)/len(pairs_lev)"
      ],
      "metadata": {
        "colab": {
          "base_uri": "https://localhost:8080/",
          "height": 609
        },
        "id": "0dMKn4zXgpxy",
        "outputId": "e419655b-6a3d-4ba5-f0d2-ca79a78046ac"
      },
      "execution_count": 86,
      "outputs": [
        {
          "output_type": "display_data",
          "data": {
            "text/plain": [
              "<Figure size 720x576 with 3 Axes>"
            ],
            "image/png": "[encoded data removed]"
          },
          "metadata": {
            "needs_background": "light"
          }
        },
        {
          "output_type": "execute_result",
          "data": {
            "text/plain": [
              "(True     0.63367\n",
              " False    0.36633\n",
              " Name: match, dtype: float64, 0.7299117129348929)"
            ]
          },
          "metadata": {},
          "execution_count": 86
        }
      ]
    },
    {
      "cell_type": "code",
      "source": [
        "name_thresh, address_thresh, location_thresh = 0.5, 0.5, 0.5\n",
        "cols = ['name_diff','location_diff', 'address_diff']\n",
        "\n",
        "df = pairs_lev.loc[(pairs_lev.name_diff<name_thresh)&(pairs_lev.address_diff<address_thresh)&(pairs_lev.location_diff<location_thresh)]\n",
        "\n",
        "fig,ax = plt.subplots(3,1, figsize=(10,8), sharex=True)\n",
        "\n",
        "fig.suptitle('name_thresh, address_thresh, location_thresh are 0.5, 0.5, 0.5')\n",
        "\n",
        "for i in range(len(cols)):\n",
        "    sns.stripplot(x=\"match\", y=cols[i], data=df, ax=ax[i])\n",
        "\n",
        "plt.show()\n",
        "\n",
        "df.match.value_counts()/len(df)"
      ],
      "metadata": {
        "colab": {
          "base_uri": "https://localhost:8080/",
          "height": 609
        },
        "id": "Cnjh3_2lJhcC",
        "outputId": "af4041bb-5d5a-45b7-a63a-3f7a2b1f54c6"
      },
      "execution_count": 39,
      "outputs": [
        {
          "output_type": "display_data",
          "data": {
            "text/plain": [
              "<Figure size 720x576 with 3 Axes>"
            ],
            "image/png": "[encoded data removed]"
          },
          "metadata": {
            "needs_background": "light"
          }
        },
        {
          "output_type": "execute_result",
          "data": {
            "text/plain": [
              "True     0.776838\n",
              "False    0.223162\n",
              "Name: match, dtype: float64"
            ]
          },
          "metadata": {},
          "execution_count": 39
        }
      ]
    },
    {
      "cell_type": "code",
      "source": [
        "pairs.loc[pairs.id_1=='E_00efc97ecd2a98'].values"
      ],
      "metadata": {
        "colab": {
          "base_uri": "https://localhost:8080/"
        },
        "id": "5o_1r7nGKyi1",
        "outputId": "f884296b-05f2-417e-e87f-2b028787acb5"
      },
      "execution_count": 40,
      "outputs": [
        {
          "output_type": "execute_result",
          "data": {
            "text/plain": [
              "array([['E_00efc97ecd2a98', 'Greek From Greece', 40.75195022641434,\n",
              "        -73.99019108026202, nan, 'New York', 'NY', '10018', 'US', nan,\n",
              "        nan, 'Greek Restaurants', 'E_b213a99b54954a',\n",
              "        'Greek From Greece', 40.759575, -73.989365, '45 W 45th St',\n",
              "        'New York', 'NY', '10036', 'US', nan, nan, 'Cafés', False,\n",
              "        0.00762477358566116, 0.0, -1.0, 0.0, 0.0, 0.4, -1.0, -1.0, 0.875]],\n",
              "      dtype=object)"
            ]
          },
          "metadata": {},
          "execution_count": 40
        }
      ]
    },
    {
      "cell_type": "markdown",
      "source": [
        "## Baseline"
      ],
      "metadata": {
        "id": "WCyGhFD6HHsQ"
      }
    },
    {
      "cell_type": "code",
      "source": [
        "import random\n",
        "\n",
        "def baseline(df, cols, thresh):\n",
        "    df_copy = df.copy()\n",
        "    df_copy['match'] = np.random.choice([True, False], len(df))\n",
        "    df_copy.loc[df_copy[cols].max(axis=1)<thresh] = True\n",
        "    \n",
        "    return df_copy"
      ],
      "metadata": {
        "id": "lMkedRxfHR7X"
      },
      "execution_count": 71,
      "outputs": []
    },
    {
      "cell_type": "code",
      "source": [
        "# Using SequenceMatcher\n",
        "cols = ['location_diff','name_diff','address_diff']\n",
        "y_test = pairs_seq['match']\n",
        "y_pred = baseline(pairs_seq, cols, 0.1).match\n",
        "print(confusion_matrix(y_test,y_pred),'\\n', roc_auc_score(y_test,y_pred))"
      ],
      "metadata": {
        "colab": {
          "base_uri": "https://localhost:8080/"
        },
        "id": "hBfwNaNGIe9h",
        "outputId": "b43b7ced-5916-4547-dc97-78548331f28b"
      },
      "execution_count": 88,
      "outputs": [
        {
          "output_type": "stream",
          "name": "stdout",
          "text": [
            "[[ 83753  96368]\n",
            " [146460 252326]] \n",
            " 0.5488586125444874\n"
          ]
        }
      ]
    },
    {
      "cell_type": "code",
      "source": [
        "# Using Levenshtein distance\n",
        "cols = ['location_diff','name_diff','address_diff']\n",
        "y_test = pairs_lev['match']\n",
        "y_pred = baseline(pairs_seq, cols, 0.1).match\n",
        "print(confusion_matrix(y_test,y_pred),'\\n', roc_auc_score(y_test,y_pred))"
      ],
      "metadata": {
        "colab": {
          "base_uri": "https://localhost:8080/"
        },
        "id": "MAfWyMOiKpY1",
        "outputId": "10bea360-1a93-42e7-b4ad-fbdfd7309ea3"
      },
      "execution_count": 73,
      "outputs": [
        {
          "output_type": "stream",
          "name": "stdout",
          "text": [
            "[[ 83834  96287]\n",
            " [146710 252076]] \n",
            " 0.5487700100713221\n"
          ]
        }
      ]
    },
    {
      "cell_type": "markdown",
      "source": [
        "## Logistric regression"
      ],
      "metadata": {
        "id": "Pa8b5g5ry_ej"
      }
    },
    {
      "cell_type": "markdown",
      "source": [
        "### Using SequenceMatcher"
      ],
      "metadata": {
        "id": "JOkiABczAGUA"
      }
    },
    {
      "cell_type": "code",
      "source": [
        "cols = ['location_diff','name_diff','address_diff','city_diff','zip_diff','url_diff', 'phone_diff', 'categories_diff']\n",
        "\n",
        "columns = [ cols[1:i+2] for i in range(len(cols)-1)]\n",
        "\n",
        "scores=[]\n",
        "\n",
        "for cols in columns:\n",
        "    pairs_copy=pairs_seq[['match']+cols]\n",
        "\n",
        "    train,test=train_test_split(pairs_copy, test_size=.2, random_state=0)\n",
        "\n",
        "    X_train = train[cols]\n",
        "    X_test = test[cols]\n",
        "\n",
        "    y_train = train['match']\n",
        "    y_test = test['match']\n",
        "\n",
        "    lreg = LogisticRegression()\n",
        "    lreg.fit(X_train,y_train)\n",
        "\n",
        "    y_pred = lreg.predict(X_test)\n",
        "\n",
        "    confusion_matrix(y_test,y_pred)\n",
        "    scores.append(roc_auc_score(y_test,y_pred))\n",
        "\n",
        "print(scores)"
      ],
      "metadata": {
        "colab": {
          "base_uri": "https://localhost:8080/"
        },
        "id": "0w7ExUYDmPvN",
        "outputId": "9f400d54-a6a4-4c5c-8c37-f4c01a6a1f92"
      },
      "execution_count": null,
      "outputs": [
        {
          "output_type": "stream",
          "name": "stdout",
          "text": [
            "[0.5086643245744975, 0.5702194978810758, 0.5692732510218169, 0.5717358411310232, 0.571723497620161, 0.5705825343142642, 0.5933675913331048]\n"
          ]
        }
      ]
    },
    {
      "cell_type": "code",
      "source": [
        "## set the cutoff\n",
        "cutoff = 0.8\n",
        "\n",
        "cols = ['location_diff','name_diff','address_diff','city_diff','zip_diff','url_diff', 'phone_diff', 'categories_diff']\n",
        "\n",
        "pairs_copy=pairs_seq[['match']+cols]\n",
        "train, test=train_test_split(pairs_copy, test_size=.2, random_state=0)\n",
        "\n",
        "X_train = train[cols]\n",
        "X_test = test[cols]\n",
        "y_train = train['match']\n",
        "y_test = test['match']\n",
        "\n",
        "lreg = LogisticRegression(C=1)\n",
        "lreg.fit(X_train,y_train)\n",
        "\n",
        "## store the predicted probabilities\n",
        "y_prob = lreg.predict_proba(X_train)[:,1]\n",
        "\n",
        "#y_pred = lreg.predict(X_test)\n",
        "#confusion_matrix(y_test,y_pred)\n",
        "#scores.append(roc_auc_score(y_test,y_pred))\n",
        "\n",
        "## Now plot how the accuracy changes with the cutoff\n",
        "cutoffs = np.arange(0,1.01,.01)\n",
        "accs = []\n",
        "\n",
        "for cutoff in cutoffs:\n",
        "    y_train_pred = 1*(y_prob >= cutoff)\n",
        "    accs.append(np.sum(y_train_pred == y_train)/len(y_train))\n",
        "\n",
        "plt.figure(figsize=(12,8))\n",
        "\n",
        "plt.scatter(cutoffs,accs)\n",
        "\n",
        "plt.xlabel(\"Cutoff\",fontsize=16)\n",
        "plt.ylabel(\"Training Accuracy\",fontsize=16)\n",
        "\n",
        "plt.show()"
      ],
      "metadata": {
        "colab": {
          "base_uri": "https://localhost:8080/",
          "height": 502
        },
        "id": "CO8qmY0Xol8z",
        "outputId": "8834cad1-9465-48a4-9579-07c01ca6b28e"
      },
      "execution_count": null,
      "outputs": [
        {
          "output_type": "display_data",
          "data": {
            "text/plain": [
              "<Figure size 864x576 with 1 Axes>"
            ],
            "image/png": "[encoded data removed]"
          },
          "metadata": {
            "needs_background": "light"
          }
        }
      ]
    },
    {
      "cell_type": "code",
      "source": [
        "print('The percentage of true matches is',\"{:.2%}\".format(pairs.match.value_counts()[1]/len(pairs)))"
      ],
      "metadata": {
        "colab": {
          "base_uri": "https://localhost:8080/"
        },
        "id": "Dt68B_XAqNbu",
        "outputId": "3faa0b4f-a003-40a1-c9a8-c13ba58f33ee"
      },
      "execution_count": null,
      "outputs": [
        {
          "output_type": "stream",
          "name": "stdout",
          "text": [
            "The percentage of true matches is 68.89%\n"
          ]
        }
      ]
    },
    {
      "cell_type": "markdown",
      "source": [
        "### Using Levenshtein distance"
      ],
      "metadata": {
        "id": "Bo3PmUV7FzDB"
      }
    },
    {
      "cell_type": "code",
      "source": [
        "cols = ['location_diff','name_diff','address_diff','city_diff','zip_diff','url_diff', 'phone_diff', 'categories_diff']\n",
        "\n",
        "columns = [ cols[:i+2] for i in range(len(cols)-1)]\n",
        "\n",
        "scores=[]\n",
        "for cols in columns:\n",
        "    pairs_copy=pairs_lev[['match']+cols]\n",
        "\n",
        "    train, test=train_test_split(pairs_copy, test_size=.2, random_state=0)\n",
        "\n",
        "    X_train = train[cols]\n",
        "    X_test = test[cols]\n",
        "\n",
        "    y_train = train['match']\n",
        "    y_test = test['match']\n",
        "\n",
        "    lreg = LogisticRegression(C=1)\n",
        "    lreg.fit(X_train,y_train)\n",
        "\n",
        "    y_pred = lreg.predict(X_test)\n",
        "\n",
        "    confusion_matrix(y_test,y_pred)\n",
        "    scores.append(roc_auc_score(y_test,y_pred))\n",
        "\n",
        "print(scores)"
      ],
      "metadata": {
        "colab": {
          "base_uri": "https://localhost:8080/"
        },
        "outputId": "d4c13fcc-503f-4054-bef2-9d0788d504ac",
        "id": "GLDHwd62FzDB"
      },
      "execution_count": null,
      "outputs": [
        {
          "output_type": "stream",
          "name": "stdout",
          "text": [
            "[0.5, 0.5647949494797362, 0.5654369340355991, 0.5696772493308961, 0.5700608527213438, 0.5688630421182831, 0.5890845677091827]\n"
          ]
        }
      ]
    },
    {
      "cell_type": "code",
      "source": [
        "## set the cutoff\n",
        "cutoff = 0.8\n",
        "\n",
        "cols = ['location_diff','name_diff','address_diff','city_diff','zip_diff','url_diff', 'phone_diff', 'categories_diff']\n",
        "\n",
        "pairs_copy=pairs_lev[['match']+cols]\n",
        "train, test=train_test_split(pairs_copy, test_size=.2, random_state=0)\n",
        "\n",
        "X_train = train[cols]\n",
        "X_test = test[cols]\n",
        "y_train = train['match']\n",
        "y_test = test['match']\n",
        "\n",
        "lreg = LogisticRegression(C=1)\n",
        "lreg.fit(X_train,y_train)\n",
        "\n",
        "## store the predicted probabilities\n",
        "y_prob = lreg.predict_proba(X_train)[:,1]\n",
        "\n",
        "#y_pred = lreg.predict(X_test)\n",
        "#confusion_matrix(y_test,y_pred)\n",
        "#scores.append(roc_auc_score(y_test,y_pred))\n",
        "\n",
        "## Now plot how the accuracy changes with the cutoff\n",
        "cutoffs = np.arange(0,1.01,.01)\n",
        "accs = []\n",
        "\n",
        "for cutoff in cutoffs:\n",
        "    y_train_pred = 1*(y_prob >= cutoff)\n",
        "    accs.append(np.sum(y_train_pred == y_train)/len(y_train))\n",
        "\n",
        "plt.figure(figsize=(12,8))\n",
        "plt.scatter(cutoffs,accs)\n",
        "plt.xlabel(\"Cutoff\",fontsize=16)\n",
        "plt.ylabel(\"Training Accuracy\",fontsize=16)\n",
        "\n",
        "plt.show()\n",
        "\n",
        "max(accs)"
      ],
      "metadata": {
        "colab": {
          "base_uri": "https://localhost:8080/",
          "height": 520
        },
        "id": "WVM64tCpmCsF",
        "outputId": "256193ec-55cb-4089-9792-0de00d1f00a2"
      },
      "execution_count": null,
      "outputs": [
        {
          "output_type": "display_data",
          "data": {
            "text/plain": [
              "<Figure size 864x576 with 1 Axes>"
            ],
            "image/png": "[encoded data removed]"
          },
          "metadata": {
            "needs_background": "light"
          }
        },
        {
          "output_type": "execute_result",
          "data": {
            "text/plain": [
              "0.7243638326585695"
            ]
          },
          "metadata": {},
          "execution_count": 40
        }
      ]
    },
    {
      "cell_type": "markdown",
      "source": [
        "# Considering US data only\n",
        "\n",
        "We counts the number of different countries and see that half of the data in both `train.csv` and pairs.csv are from the US."
      ],
      "metadata": {
        "id": "RJmya4XOTi83"
      }
    },
    {
      "cell_type": "code",
      "source": [
        "pairs.country_1.value_counts()"
      ],
      "metadata": {
        "colab": {
          "base_uri": "https://localhost:8080/"
        },
        "id": "Ya9fzOwu0Y52",
        "outputId": "33d99334-9d77-4f74-9f70-f24802585673"
      },
      "execution_count": 89,
      "outputs": [
        {
          "output_type": "execute_result",
          "data": {
            "text/plain": [
              "US    117793\n",
              "ID     68412\n",
              "TR     61497\n",
              "JP     34217\n",
              "TH     31591\n",
              "       ...  \n",
              "YT         1\n",
              "PW         1\n",
              "DJ         1\n",
              "SH         1\n",
              "EH         1\n",
              "Name: country_1, Length: 213, dtype: int64"
            ]
          },
          "metadata": {},
          "execution_count": 89
        }
      ]
    },
    {
      "cell_type": "code",
      "source": [
        "train.country.value_counts()"
      ],
      "metadata": {
        "colab": {
          "base_uri": "https://localhost:8080/"
        },
        "id": "zifpML6aTXq2",
        "outputId": "4f29d7e7-8267-4f16-e520-591f03894041"
      },
      "execution_count": 90,
      "outputs": [
        {
          "output_type": "execute_result",
          "data": {
            "text/plain": [
              "US    245284\n",
              "TR    115177\n",
              "ID    110796\n",
              "JP     70032\n",
              "TH     58808\n",
              "       ...  \n",
              "BV         1\n",
              "GY         1\n",
              "PM         1\n",
              "SS         1\n",
              "VU         1\n",
              "Name: country, Length: 221, dtype: int64"
            ]
          },
          "metadata": {},
          "execution_count": 90
        }
      ]
    },
    {
      "cell_type": "code",
      "source": [
        "train_US = train.loc[train.country=='US']\n",
        "train_US.info()"
      ],
      "metadata": {
        "colab": {
          "base_uri": "https://localhost:8080/"
        },
        "id": "tYTyQqdETx3F",
        "outputId": "3d7a3485-1721-4c8e-bbae-17badb72d564"
      },
      "execution_count": 91,
      "outputs": [
        {
          "output_type": "stream",
          "name": "stdout",
          "text": [
            "<class 'pandas.core.frame.DataFrame'>\n",
            "Int64Index: 245284 entries, 8 to 1138808\n",
            "Data columns (total 13 columns):\n",
            " #   Column             Non-Null Count   Dtype  \n",
            "---  ------             --------------   -----  \n",
            " 0   id                 245284 non-null  object \n",
            " 1   name               245283 non-null  object \n",
            " 2   latitude           245284 non-null  float64\n",
            " 3   longitude          245284 non-null  float64\n",
            " 4   address            188824 non-null  object \n",
            " 5   city               236241 non-null  object \n",
            " 6   state              239373 non-null  object \n",
            " 7   zip                213277 non-null  object \n",
            " 8   country            245284 non-null  object \n",
            " 9   url                99477 non-null   object \n",
            " 10  phone              131597 non-null  object \n",
            " 11  categories         232133 non-null  object \n",
            " 12  point_of_interest  245284 non-null  object \n",
            "dtypes: float64(2), object(11)\n",
            "memory usage: 26.2+ MB\n"
          ]
        }
      ]
    },
    {
      "cell_type": "code",
      "source": [
        "for col in train.columns:\n",
        "    print('In train.csv,',\"{:.6%}\".format(1-len(train[col].dropna())/len(train[col])), 'rows have \"NaN\" for', col)"
      ],
      "metadata": {
        "colab": {
          "base_uri": "https://localhost:8080/"
        },
        "id": "WEH9EmCP9hW8",
        "outputId": "37f43929-113f-4624-96ac-c1af076f5938"
      },
      "execution_count": 92,
      "outputs": [
        {
          "output_type": "stream",
          "name": "stdout",
          "text": [
            "In train.csv, 0.000000% rows have \"NaN\" for id\n",
            "In train.csv, 0.000088% rows have \"NaN\" for name\n",
            "In train.csv, 0.000000% rows have \"NaN\" for latitude\n",
            "In train.csv, 0.000000% rows have \"NaN\" for longitude\n",
            "In train.csv, 34.827610% rows have \"NaN\" for address\n",
            "In train.csv, 26.272027% rows have \"NaN\" for city\n",
            "In train.csv, 36.931996% rows have \"NaN\" for state\n",
            "In train.csv, 52.284837% rows have \"NaN\" for zip\n",
            "In train.csv, 0.000966% rows have \"NaN\" for country\n",
            "In train.csv, 76.490940% rows have \"NaN\" for url\n",
            "In train.csv, 69.893626% rows have \"NaN\" for phone\n",
            "In train.csv, 8.632417% rows have \"NaN\" for categories\n",
            "In train.csv, 0.000000% rows have \"NaN\" for point_of_interest\n"
          ]
        }
      ]
    },
    {
      "cell_type": "code",
      "source": [
        "for col in train_US.columns:\n",
        "    print('In train_US.csv,',\"{:.6%}\".format(1-len(train_US[col].dropna())/len(train_US[col])), 'rows have \"NaN\" for', col)"
      ],
      "metadata": {
        "colab": {
          "base_uri": "https://localhost:8080/"
        },
        "id": "bqDLoK8i_9Nw",
        "outputId": "3cc9a6a7-13ae-42a3-b11a-e6a45486f45a"
      },
      "execution_count": 93,
      "outputs": [
        {
          "output_type": "stream",
          "name": "stdout",
          "text": [
            "In train_US.csv, 0.000000% rows have \"NaN\" for id\n",
            "In train_US.csv, 0.000408% rows have \"NaN\" for name\n",
            "In train_US.csv, 0.000000% rows have \"NaN\" for latitude\n",
            "In train_US.csv, 0.000000% rows have \"NaN\" for longitude\n",
            "In train_US.csv, 23.018216% rows have \"NaN\" for address\n",
            "In train_US.csv, 3.686747% rows have \"NaN\" for city\n",
            "In train_US.csv, 2.409860% rows have \"NaN\" for state\n",
            "In train_US.csv, 13.048955% rows have \"NaN\" for zip\n",
            "In train_US.csv, 0.000000% rows have \"NaN\" for country\n",
            "In train_US.csv, 59.444155% rows have \"NaN\" for url\n",
            "In train_US.csv, 46.349130% rows have \"NaN\" for phone\n",
            "In train_US.csv, 5.361540% rows have \"NaN\" for categories\n",
            "In train_US.csv, 0.000000% rows have \"NaN\" for point_of_interest\n"
          ]
        }
      ]
    },
    {
      "cell_type": "markdown",
      "source": [
        "For this short project, there are several reasons to restrict to just the US locations (polish this):\n",
        "\n",
        "\n",
        "1.   There are notably less missing values in the US locations, compared to the whole set of data.\n",
        "2.   Data in most of the columns are strings and can be of different languages (**add Tim's figure**).\n",
        "3.   It reduce the size of the dataset, so that it is more managable to analyze in such a short time.   \n",
        "\n"
      ],
      "metadata": {
        "id": "H2HpT51oT109"
      }
    },
    {
      "cell_type": "code",
      "source": [
        "train_US = train.loc[train.country=='US']\n",
        "pairs_US = pairs.loc[(pairs.country_1=='US') & (pairs.country_2=='US')]"
      ],
      "metadata": {
        "id": "GgD_L7GvpW0Y"
      },
      "execution_count": 94,
      "outputs": []
    },
    {
      "cell_type": "code",
      "source": [
        "print(\"{:.2%}\".format(len(train_US)/len(train)),'locations are in US')\n",
        "print(\"{:.2%}\".format(len(pairs_US)/len(pairs)),'pairs are in US')"
      ],
      "metadata": {
        "colab": {
          "base_uri": "https://localhost:8080/"
        },
        "id": "TWXN_RgBrH8t",
        "outputId": "81e5fff0-9b85-4776-a632-9aee3ba70d6c"
      },
      "execution_count": 95,
      "outputs": [
        {
          "output_type": "stream",
          "name": "stdout",
          "text": [
            "21.54% locations are in US\n",
            "20.33% pairs are in US\n"
          ]
        }
      ]
    },
    {
      "cell_type": "markdown",
      "source": [
        "## Generate difference columns"
      ],
      "metadata": {
        "id": "KxBbODFrUyht"
      }
    },
    {
      "cell_type": "code",
      "source": [
        "columns = ['name', 'address', 'city', 'state',\n",
        "       'zip', 'url', 'phone', 'categories']\n",
        "       \n",
        "pairs_US_seq = compute_diffs(pairs_US, columns, seq_metric)\n",
        "pairs_US_lev = compute_diffs(pairs_US, columns, lev_metric)"
      ],
      "metadata": {
        "colab": {
          "base_uri": "https://localhost:8080/"
        },
        "id": "mRn-XYwWUe_a",
        "outputId": "c6ea6754-e0b8-4c8b-baf8-2eb9f316d4e4"
      },
      "execution_count": 97,
      "outputs": [
        {
          "output_type": "stream",
          "name": "stderr",
          "text": [
            "/usr/local/lib/python3.7/dist-packages/ipykernel_launcher.py:6: SettingWithCopyWarning: \n",
            "A value is trying to be set on a copy of a slice from a DataFrame.\n",
            "Try using .loc[row_indexer,col_indexer] = value instead\n",
            "\n",
            "See the caveats in the documentation: https://pandas.pydata.org/pandas-docs/stable/user_guide/indexing.html#returning-a-view-versus-a-copy\n",
            "  \n"
          ]
        }
      ]
    },
    {
      "cell_type": "markdown",
      "source": [
        "## Modeling"
      ],
      "metadata": {
        "id": "wTt74zoiU4fM"
      }
    },
    {
      "cell_type": "code",
      "source": [
        "cols = ['location_diff','name_diff','address_diff']\n",
        "y_test = pairs_US_seq['match']\n",
        "y_pred = baseline(pairs_US_seq, cols, 0.1).match\n",
        "print(confusion_matrix(y_test,y_pred),'\\n', roc_auc_score(y_test,y_pred),'\\n',np.sum(y_test == y_pred)/len(y_pred))"
      ],
      "metadata": {
        "colab": {
          "base_uri": "https://localhost:8080/"
        },
        "id": "ex6HTKo2Ur9W",
        "outputId": "016746cc-b871-47aa-dc40-e5bdd93f07b8"
      },
      "execution_count": 106,
      "outputs": [
        {
          "output_type": "stream",
          "name": "stdout",
          "text": [
            "[[15483 17614]\n",
            " [26133 58478]] \n",
            " 0.579473099904899 \n",
            " 0.6283430183165121\n"
          ]
        }
      ]
    },
    {
      "cell_type": "code",
      "source": [
        "cols = ['location_diff','name_diff','address_diff']\n",
        "y_test = pairs_US_lev['match']\n",
        "y_pred = baseline(pairs_US_lev, cols, 0.1).match\n",
        "print(confusion_matrix(y_test,y_pred),'\\n', roc_auc_score(y_test,y_pred),'\\n',np.sum(y_test == y_pred)/len(y_pred))"
      ],
      "metadata": {
        "colab": {
          "base_uri": "https://localhost:8080/"
        },
        "id": "TBrYc6RmVCfW",
        "outputId": "2c551a74-2086-48db-c717-ab7475480324"
      },
      "execution_count": 107,
      "outputs": [
        {
          "output_type": "stream",
          "name": "stdout",
          "text": [
            "[[15901 17196]\n",
            " [27909 56702]] \n",
            " 0.5752927823454854 \n",
            " 0.6168059944948516\n"
          ]
        }
      ]
    },
    {
      "cell_type": "code",
      "source": [
        "## set the cutoff\n",
        "cols = ['location_diff','name_diff','address_diff','city_diff','zip_diff','url_diff', 'phone_diff', 'categories_diff']\n",
        "\n",
        "pairs_copy=pairs_US_seq[['match']+cols]\n",
        "train, test=train_test_split(pairs_copy, test_size=.2, random_state=0)\n",
        "\n",
        "X_train = train[cols]\n",
        "X_test = test[cols]\n",
        "y_train = train['match']\n",
        "y_test = test['match']\n",
        "\n",
        "lreg = LogisticRegression(C=1)\n",
        "lreg.fit(X_train,y_train)\n",
        "\n",
        "## store the predicted probabilities\n",
        "y_prob = lreg.predict_proba(X_train)[:,1]\n",
        "\n",
        "#y_pred = lreg.predict(X_test)\n",
        "#confusion_matrix(y_test,y_pred)\n",
        "#scores.append(roc_auc_score(y_test,y_pred))\n",
        "\n",
        "## Now plot how the accuracy changes with the cutoff\n",
        "cutoffs = np.arange(0,1.01,.01)\n",
        "accs = []\n",
        "\n",
        "for cutoff in cutoffs:\n",
        "    y_train_pred = 1*(y_prob >= cutoff)\n",
        "    accs.append(np.sum(y_train_pred == y_train)/len(y_train))\n",
        "\n",
        "plt.figure(figsize=(12,8))\n",
        "\n",
        "plt.scatter(cutoffs,accs)\n",
        "\n",
        "plt.xlabel(\"Cutoff\",fontsize=16)\n",
        "plt.ylabel(\"Training Accuracy\",fontsize=16)\n",
        "\n",
        "plt.show()\n",
        "\n",
        "max(accs)"
      ],
      "metadata": {
        "colab": {
          "base_uri": "https://localhost:8080/",
          "height": 520
        },
        "id": "EHOWwxJMVGwC",
        "outputId": "14df8b10-9d6f-403f-cc76-17636f0030b2"
      },
      "execution_count": 108,
      "outputs": [
        {
          "output_type": "display_data",
          "data": {
            "text/plain": [
              "<Figure size 864x576 with 1 Axes>"
            ],
            "image/png": "[encoded data removed]"
          },
          "metadata": {
            "needs_background": "light"
          }
        },
        {
          "output_type": "execute_result",
          "data": {
            "text/plain": [
              "0.7593292695877493"
            ]
          },
          "metadata": {},
          "execution_count": 108
        }
      ]
    },
    {
      "cell_type": "code",
      "source": [
        "## set the cutoff\n",
        "cutoff = 0.8\n",
        "\n",
        "cols = ['location_diff','name_diff','address_diff','city_diff','zip_diff','url_diff', 'phone_diff', 'categories_diff']\n",
        "\n",
        "pairs_copy=pairs_US_lev[['match']+cols]\n",
        "train, test=train_test_split(pairs_copy, test_size=.2, random_state=0)\n",
        "\n",
        "X_train = train[cols]\n",
        "X_test = test[cols]\n",
        "y_train = train['match']\n",
        "y_test = test['match']\n",
        "\n",
        "lreg = LogisticRegression(C=1)\n",
        "lreg.fit(X_train,y_train)\n",
        "\n",
        "## store the predicted probabilities\n",
        "y_prob = lreg.predict_proba(X_train)[:,1]\n",
        "\n",
        "#y_pred = lreg.predict(X_test)\n",
        "#confusion_matrix(y_test,y_pred)\n",
        "#scores.append(roc_auc_score(y_test,y_pred))\n",
        "\n",
        "## Now plot how the accuracy changes with the cutoff\n",
        "cutoffs = np.arange(0,1.01,.01)\n",
        "accs = []\n",
        "\n",
        "for cutoff in cutoffs:\n",
        "    y_train_pred = 1*(y_prob >= cutoff)\n",
        "    accs.append(np.sum(y_train_pred == y_train)/len(y_train))\n",
        "\n",
        "plt.figure(figsize=(12,8))\n",
        "\n",
        "plt.scatter(cutoffs,accs)\n",
        "\n",
        "plt.xlabel(\"Cutoff\",fontsize=16)\n",
        "plt.ylabel(\"Training Accuracy\",fontsize=16)\n",
        "\n",
        "plt.show()\n",
        "\n",
        "max(accs)"
      ],
      "metadata": {
        "colab": {
          "base_uri": "https://localhost:8080/",
          "height": 520
        },
        "id": "Osp33y9lVWhY",
        "outputId": "53d3fdad-7204-492f-cefe-56584d37ee2d"
      },
      "execution_count": 105,
      "outputs": [
        {
          "output_type": "display_data",
          "data": {
            "text/plain": [
              "<Figure size 864x576 with 1 Axes>"
            ],
            "image/png": "[encoded data removed]"
          },
          "metadata": {
            "needs_background": "light"
          }
        },
        {
          "output_type": "execute_result",
          "data": {
            "text/plain": [
              "0.7570779262154068"
            ]
          },
          "metadata": {},
          "execution_count": 105
        }
      ]
    },
    {
      "cell_type": "markdown",
      "source": [
        "# To improve (to be polished)\n",
        "\n",
        "\n",
        "\n",
        "1.   Generate more pairs: mention how many pairs there are blabla\n",
        "2.   Consider places in other countries blabla\n",
        "3.   Filling in missing values: for example, zip codes can be obtained from the coordinates.\n",
        "4.   Balance the dataset: change the ratio of true/false pairs blabla.\n",
        "\n",
        "\n",
        "\n"
      ],
      "metadata": {
        "id": "niSwEp1WovhW"
      }
    },
    {
      "cell_type": "markdown",
      "source": [
        "# Old notes"
      ],
      "metadata": {
        "id": "3S5QpYE-tkXp"
      }
    },
    {
      "cell_type": "markdown",
      "source": [
        "### Name\n",
        "\n",
        "---\n",
        "\n",
        "We compute the difference for names of each pair in `pairs.csv`. "
      ],
      "metadata": {
        "id": "dyq-Ele_tUdk"
      }
    },
    {
      "cell_type": "code",
      "source": [
        "pairs['name_diff'] = pairs.apply(sim_metric,\n",
        "                          args=('name_1', 'name_2'),\n",
        "                          axis=1)"
      ],
      "metadata": {
        "id": "I0MikHep2rW-"
      },
      "execution_count": null,
      "outputs": []
    },
    {
      "cell_type": "code",
      "source": [
        "sns.stripplot(x=\"match\", y=\"name_diff\", data=pairs)\n",
        "plt.show()"
      ],
      "metadata": {
        "colab": {
          "base_uri": "https://localhost:8080/",
          "height": 279
        },
        "id": "9By4VxpsyqXo",
        "outputId": "27137714-af95-4e44-f0fd-1b40086da433"
      },
      "execution_count": null,
      "outputs": [
        {
          "output_type": "display_data",
          "data": {
            "text/plain": [
              "<Figure size 432x288 with 1 Axes>"
            ],
            "image/png": "[encoded data removed]"
          },
          "metadata": {
            "needs_background": "light"
          }
        }
      ]
    },
    {
      "cell_type": "code",
      "source": [
        "sns.stripplot(x=\"match\", y=\"name_diff\", data=pairs.loc[pairs.name_diff<0.1])\n",
        "plt.show()"
      ],
      "metadata": {
        "colab": {
          "base_uri": "https://localhost:8080/",
          "height": 279
        },
        "id": "XImegvFXwQRw",
        "outputId": "16b16ff0-be6c-4b0d-acde-3ddc62d010a1"
      },
      "execution_count": null,
      "outputs": [
        {
          "output_type": "display_data",
          "data": {
            "text/plain": [
              "<Figure size 432x288 with 1 Axes>"
            ],
            "image/png": "[encoded data removed]"
          },
          "metadata": {
            "needs_background": "light"
          }
        }
      ]
    },
    {
      "cell_type": "code",
      "source": [
        "pairs.loc[(pairs.location_diff<0.01)&(pairs.name_diff==0)&(pairs.match==False)][['name_1','name_2']]"
      ],
      "metadata": {
        "colab": {
          "base_uri": "https://localhost:8080/",
          "height": 423
        },
        "id": "tReb11xB0XT4",
        "outputId": "f3b8186b-a507-4820-cdda-7204c1a07db9"
      },
      "execution_count": null,
      "outputs": [
        {
          "output_type": "execute_result",
          "data": {
            "text/plain": [
              "                          name_1                    name_2\n",
              "702                 Panera Bread              Panera Bread\n",
              "755                    Starbucks                 Starbucks\n",
              "849                     Wingstop                  Wingstop\n",
              "1071             Bank of America           Bank of America\n",
              "1403                AT&T U-verse              AT&T U-verse\n",
              "...                          ...                       ...\n",
              "577660                   Dunkin'                   Dunkin'\n",
              "577867              Jimmy John's              Jimmy John's\n",
              "578340                 Starbucks                 Starbucks\n",
              "578407  XFINITY Store by Comcast  XFINITY Store by Comcast\n",
              "578607                      Cosi                      Cosi\n",
              "\n",
              "[2692 rows x 2 columns]"
            ],
            "text/html": [
              "\n",
              "  <div id=\"df-65453484-23f3-4c49-984e-aad6f5900c27\">\n",
              "    <div class=\"colab-df-container\">\n",
              "      <div>\n",
              "<style scoped>\n",
              "    .dataframe tbody tr th:only-of-type {\n",
              "        vertical-align: middle;\n",
              "    }\n",
              "\n",
              "    .dataframe tbody tr th {\n",
              "        vertical-align: top;\n",
              "    }\n",
              "\n",
              "    .dataframe thead th {\n",
              "        text-align: right;\n",
              "    }\n",
              "</style>\n",
              "<table border=\"1\" class=\"dataframe\">\n",
              "  <thead>\n",
              "    <tr style=\"text-align: right;\">\n",
              "      <th></th>\n",
              "      <th>name_1</th>\n",
              "      <th>name_2</th>\n",
              "    </tr>\n",
              "  </thead>\n",
              "  <tbody>\n",
              "    <tr>\n",
              "      <th>702</th>\n",
              "      <td>Panera Bread</td>\n",
              "      <td>Panera Bread</td>\n",
              "    </tr>\n",
              "    <tr>\n",
              "      <th>755</th>\n",
              "      <td>Starbucks</td>\n",
              "      <td>Starbucks</td>\n",
              "    </tr>\n",
              "    <tr>\n",
              "      <th>849</th>\n",
              "      <td>Wingstop</td>\n",
              "      <td>Wingstop</td>\n",
              "    </tr>\n",
              "    <tr>\n",
              "      <th>1071</th>\n",
              "      <td>Bank of America</td>\n",
              "      <td>Bank of America</td>\n",
              "    </tr>\n",
              "    <tr>\n",
              "      <th>1403</th>\n",
              "      <td>AT&amp;T U-verse</td>\n",
              "      <td>AT&amp;T U-verse</td>\n",
              "    </tr>\n",
              "    <tr>\n",
              "      <th>...</th>\n",
              "      <td>...</td>\n",
              "      <td>...</td>\n",
              "    </tr>\n",
              "    <tr>\n",
              "      <th>577660</th>\n",
              "      <td>Dunkin'</td>\n",
              "      <td>Dunkin'</td>\n",
              "    </tr>\n",
              "    <tr>\n",
              "      <th>577867</th>\n",
              "      <td>Jimmy John's</td>\n",
              "      <td>Jimmy John's</td>\n",
              "    </tr>\n",
              "    <tr>\n",
              "      <th>578340</th>\n",
              "      <td>Starbucks</td>\n",
              "      <td>Starbucks</td>\n",
              "    </tr>\n",
              "    <tr>\n",
              "      <th>578407</th>\n",
              "      <td>XFINITY Store by Comcast</td>\n",
              "      <td>XFINITY Store by Comcast</td>\n",
              "    </tr>\n",
              "    <tr>\n",
              "      <th>578607</th>\n",
              "      <td>Cosi</td>\n",
              "      <td>Cosi</td>\n",
              "    </tr>\n",
              "  </tbody>\n",
              "</table>\n",
              "<p>2692 rows × 2 columns</p>\n",
              "</div>\n",
              "      <button class=\"colab-df-convert\" onclick=\"convertToInteractive('df-65453484-23f3-4c49-984e-aad6f5900c27')\"\n",
              "              title=\"Convert this dataframe to an interactive table.\"\n",
              "              style=\"display:none;\">\n",
              "        \n",
              "  <svg xmlns=\"http://www.w3.org/2000/svg\" height=\"24px\"viewBox=\"0 0 24 24\"\n",
              "       width=\"24px\">\n",
              "    <path d=\"M0 0h24v24H0V0z\" fill=\"none\"/>\n",
              "    <path d=\"M18.56 5.44l.94 2.06.94-2.06 2.06-.94-2.06-.94-.94-2.06-.94 2.06-2.06.94zm-11 1L8.5 8.5l.94-2.06 2.06-.94-2.06-.94L8.5 2.5l-.94 2.06-2.06.94zm10 10l.94 2.06.94-2.06 2.06-.94-2.06-.94-.94-2.06-.94 2.06-2.06.94z\"/><path d=\"M17.41 7.96l-1.37-1.37c-.4-.4-.92-.59-1.43-.59-.52 0-1.04.2-1.43.59L10.3 9.45l-7.72 7.72c-.78.78-.78 2.05 0 2.83L4 21.41c.39.39.9.59 1.41.59.51 0 1.02-.2 1.41-.59l7.78-7.78 2.81-2.81c.8-.78.8-2.07 0-2.86zM5.41 20L4 18.59l7.72-7.72 1.47 1.35L5.41 20z\"/>\n",
              "  </svg>\n",
              "      </button>\n",
              "      \n",
              "  <style>\n",
              "    .colab-df-container {\n",
              "      display:flex;\n",
              "      flex-wrap:wrap;\n",
              "      gap: 12px;\n",
              "    }\n",
              "\n",
              "    .colab-df-convert {\n",
              "      background-color: #E8F0FE;\n",
              "      border: none;\n",
              "      border-radius: 50%;\n",
              "      cursor: pointer;\n",
              "      display: none;\n",
              "      fill: #1967D2;\n",
              "      height: 32px;\n",
              "      padding: 0 0 0 0;\n",
              "      width: 32px;\n",
              "    }\n",
              "\n",
              "    .colab-df-convert:hover {\n",
              "      background-color: #E2EBFA;\n",
              "      box-shadow: 0px 1px 2px rgba(60, 64, 67, 0.3), 0px 1px 3px 1px rgba(60, 64, 67, 0.15);\n",
              "      fill: #174EA6;\n",
              "    }\n",
              "\n",
              "    [theme=dark] .colab-df-convert {\n",
              "      background-color: #3B4455;\n",
              "      fill: #D2E3FC;\n",
              "    }\n",
              "\n",
              "    [theme=dark] .colab-df-convert:hover {\n",
              "      background-color: #434B5C;\n",
              "      box-shadow: 0px 1px 3px 1px rgba(0, 0, 0, 0.15);\n",
              "      filter: drop-shadow(0px 1px 2px rgba(0, 0, 0, 0.3));\n",
              "      fill: #FFFFFF;\n",
              "    }\n",
              "  </style>\n",
              "\n",
              "      <script>\n",
              "        const buttonEl =\n",
              "          document.querySelector('#df-65453484-23f3-4c49-984e-aad6f5900c27 button.colab-df-convert');\n",
              "        buttonEl.style.display =\n",
              "          google.colab.kernel.accessAllowed ? 'block' : 'none';\n",
              "\n",
              "        async function convertToInteractive(key) {\n",
              "          const element = document.querySelector('#df-65453484-23f3-4c49-984e-aad6f5900c27');\n",
              "          const dataTable =\n",
              "            await google.colab.kernel.invokeFunction('convertToInteractive',\n",
              "                                                     [key], {});\n",
              "          if (!dataTable) return;\n",
              "\n",
              "          const docLinkHtml = 'Like what you see? Visit the ' +\n",
              "            '<a target=\"_blank\" href=https://colab.research.google.com/notebooks/data_table.ipynb>data table notebook</a>'\n",
              "            + ' to learn more about interactive tables.';\n",
              "          element.innerHTML = '';\n",
              "          dataTable['output_type'] = 'display_data';\n",
              "          await google.colab.output.renderOutput(dataTable, element);\n",
              "          const docLink = document.createElement('div');\n",
              "          docLink.innerHTML = docLinkHtml;\n",
              "          element.appendChild(docLink);\n",
              "        }\n",
              "      </script>\n",
              "    </div>\n",
              "  </div>\n",
              "  "
            ]
          },
          "metadata": {},
          "execution_count": 165
        }
      ]
    },
    {
      "cell_type": "markdown",
      "source": [
        "### Address"
      ],
      "metadata": {
        "id": "TNLatSS55NQ-"
      }
    },
    {
      "cell_type": "code",
      "source": [
        "pairs['address_diff'] = pairs.apply(sim_metric,\n",
        "                          args=('address_1', 'address_2'),\n",
        "                          axis=1)"
      ],
      "metadata": {
        "id": "DT6QUtHb3Btp"
      },
      "execution_count": null,
      "outputs": []
    },
    {
      "cell_type": "code",
      "source": [
        "sns.stripplot(x=\"match\", y=\"address_diff\", data=pairs)\n",
        "plt.show()"
      ],
      "metadata": {
        "colab": {
          "base_uri": "https://localhost:8080/",
          "height": 279
        },
        "id": "gEyh32Hy5G3j",
        "outputId": "88462dc9-ac28-4cdb-8493-af382d7a5b89"
      },
      "execution_count": null,
      "outputs": [
        {
          "output_type": "display_data",
          "data": {
            "text/plain": [
              "<Figure size 432x288 with 1 Axes>"
            ],
            "image/png": "[encoded data removed]"
          },
          "metadata": {
            "needs_background": "light"
          }
        }
      ]
    },
    {
      "cell_type": "code",
      "source": [
        "sns.stripplot(x=\"match\", y=\"address_diff\", data=pairs.loc[pairs.address_diff>=0])\n",
        "plt.show()"
      ],
      "metadata": {
        "colab": {
          "base_uri": "https://localhost:8080/",
          "height": 279
        },
        "id": "61qiJkbJ5VQT",
        "outputId": "e395f29c-ebbe-4e50-e8e9-8842ce96e9d8"
      },
      "execution_count": null,
      "outputs": [
        {
          "output_type": "display_data",
          "data": {
            "text/plain": [
              "<Figure size 432x288 with 1 Axes>"
            ],
            "image/png": "[encoded data removed]"
          },
          "metadata": {
            "needs_background": "light"
          }
        }
      ]
    },
    {
      "cell_type": "code",
      "source": [
        "pairs.loc[(pairs.location_diff<0.01)&(pairs.name_diff<0.1)&(pairs.address_diff==0)&(pairs.match==False)&(pairs.country_1=='US')][['name_1','name_2','address_1','address_2']]"
      ],
      "metadata": {
        "colab": {
          "base_uri": "https://localhost:8080/",
          "height": 423
        },
        "id": "kBll3hel5SvN",
        "outputId": "9290cd2a-cc3c-4aac-d661-84dab1178ddb"
      },
      "execution_count": null,
      "outputs": [
        {
          "output_type": "execute_result",
          "data": {
            "text/plain": [
              "                                      name_1  \\\n",
              "532          Parkview High School Building H   \n",
              "2526      Sprague Lake Rest Area (Westbound)   \n",
              "5315                             Section 304   \n",
              "5316                             Section 304   \n",
              "6259                Facebook 1050 Building 2   \n",
              "...                                      ...   \n",
              "571522               Conference Room HS 2007   \n",
              "572791   Mann Center for the Performing Arts   \n",
              "575350   Pozez Education Center Centennial D   \n",
              "576064  UCF Business Administration II (BA2)   \n",
              "578153        Gym @ Spinnaker Bay Apartments   \n",
              "\n",
              "                                            name_2  \\\n",
              "532                Parkview High School Building C   \n",
              "2526            Sprague Lake Rest Area (Eastbound)   \n",
              "5315                                   Section 305   \n",
              "5316                                   Section 308   \n",
              "6259                      Facebook 1050 Building 1   \n",
              "...                                            ...   \n",
              "571522                     Conference Room HS 2038   \n",
              "572791  Mann Center for the Performing Arts D Gate   \n",
              "575350         Pozez Education Center Centennial A   \n",
              "576064         UCF Business Administration I (BA1)   \n",
              "578153                    Spinnaker Bay Apartments   \n",
              "\n",
              "                                                address_1  \\\n",
              "532                        998 Cole Dr, Lilburn, GA 30047   \n",
              "2526                                        Interstate 90   \n",
              "5315                                       KeyBank Center   \n",
              "5316                                       KeyBank Center   \n",
              "6259                                    1050 Page Mill Rd   \n",
              "...                                                   ...   \n",
              "571522  Health Information and Translational Science (HS)   \n",
              "572791                                  5201 Parkside Ave   \n",
              "575350                                    1505 SW 8th Ave   \n",
              "576064                          4000 Central Florida Blvd   \n",
              "578153                                   707 President St   \n",
              "\n",
              "                                                address_2  \n",
              "532                        998 Cole Dr, Lilburn, GA 30047  \n",
              "2526                                        Interstate 90  \n",
              "5315                                       KeyBank Center  \n",
              "5316                                       KeyBank Center  \n",
              "6259                                    1050 Page Mill Rd  \n",
              "...                                                   ...  \n",
              "571522  Health Information and Translational Science (HS)  \n",
              "572791                                  5201 Parkside Ave  \n",
              "575350                                    1505 SW 8th Ave  \n",
              "576064                          4000 Central Florida Blvd  \n",
              "578153                                   707 President St  \n",
              "\n",
              "[375 rows x 4 columns]"
            ],
            "text/html": [
              "\n",
              "  <div id=\"df-2cccc353-c64b-4dc5-afbe-16271c9f0223\">\n",
              "    <div class=\"colab-df-container\">\n",
              "      <div>\n",
              "<style scoped>\n",
              "    .dataframe tbody tr th:only-of-type {\n",
              "        vertical-align: middle;\n",
              "    }\n",
              "\n",
              "    .dataframe tbody tr th {\n",
              "        vertical-align: top;\n",
              "    }\n",
              "\n",
              "    .dataframe thead th {\n",
              "        text-align: right;\n",
              "    }\n",
              "</style>\n",
              "<table border=\"1\" class=\"dataframe\">\n",
              "  <thead>\n",
              "    <tr style=\"text-align: right;\">\n",
              "      <th></th>\n",
              "      <th>name_1</th>\n",
              "      <th>name_2</th>\n",
              "      <th>address_1</th>\n",
              "      <th>address_2</th>\n",
              "    </tr>\n",
              "  </thead>\n",
              "  <tbody>\n",
              "    <tr>\n",
              "      <th>532</th>\n",
              "      <td>Parkview High School Building H</td>\n",
              "      <td>Parkview High School Building C</td>\n",
              "      <td>998 Cole Dr, Lilburn, GA 30047</td>\n",
              "      <td>998 Cole Dr, Lilburn, GA 30047</td>\n",
              "    </tr>\n",
              "    <tr>\n",
              "      <th>2526</th>\n",
              "      <td>Sprague Lake Rest Area (Westbound)</td>\n",
              "      <td>Sprague Lake Rest Area (Eastbound)</td>\n",
              "      <td>Interstate 90</td>\n",
              "      <td>Interstate 90</td>\n",
              "    </tr>\n",
              "    <tr>\n",
              "      <th>5315</th>\n",
              "      <td>Section 304</td>\n",
              "      <td>Section 305</td>\n",
              "      <td>KeyBank Center</td>\n",
              "      <td>KeyBank Center</td>\n",
              "    </tr>\n",
              "    <tr>\n",
              "      <th>5316</th>\n",
              "      <td>Section 304</td>\n",
              "      <td>Section 308</td>\n",
              "      <td>KeyBank Center</td>\n",
              "      <td>KeyBank Center</td>\n",
              "    </tr>\n",
              "    <tr>\n",
              "      <th>6259</th>\n",
              "      <td>Facebook 1050 Building 2</td>\n",
              "      <td>Facebook 1050 Building 1</td>\n",
              "      <td>1050 Page Mill Rd</td>\n",
              "      <td>1050 Page Mill Rd</td>\n",
              "    </tr>\n",
              "    <tr>\n",
              "      <th>...</th>\n",
              "      <td>...</td>\n",
              "      <td>...</td>\n",
              "      <td>...</td>\n",
              "      <td>...</td>\n",
              "    </tr>\n",
              "    <tr>\n",
              "      <th>571522</th>\n",
              "      <td>Conference Room HS 2007</td>\n",
              "      <td>Conference Room HS 2038</td>\n",
              "      <td>Health Information and Translational Science (HS)</td>\n",
              "      <td>Health Information and Translational Science (HS)</td>\n",
              "    </tr>\n",
              "    <tr>\n",
              "      <th>572791</th>\n",
              "      <td>Mann Center for the Performing Arts</td>\n",
              "      <td>Mann Center for the Performing Arts D Gate</td>\n",
              "      <td>5201 Parkside Ave</td>\n",
              "      <td>5201 Parkside Ave</td>\n",
              "    </tr>\n",
              "    <tr>\n",
              "      <th>575350</th>\n",
              "      <td>Pozez Education Center Centennial D</td>\n",
              "      <td>Pozez Education Center Centennial A</td>\n",
              "      <td>1505 SW 8th Ave</td>\n",
              "      <td>1505 SW 8th Ave</td>\n",
              "    </tr>\n",
              "    <tr>\n",
              "      <th>576064</th>\n",
              "      <td>UCF Business Administration II (BA2)</td>\n",
              "      <td>UCF Business Administration I (BA1)</td>\n",
              "      <td>4000 Central Florida Blvd</td>\n",
              "      <td>4000 Central Florida Blvd</td>\n",
              "    </tr>\n",
              "    <tr>\n",
              "      <th>578153</th>\n",
              "      <td>Gym @ Spinnaker Bay Apartments</td>\n",
              "      <td>Spinnaker Bay Apartments</td>\n",
              "      <td>707 President St</td>\n",
              "      <td>707 President St</td>\n",
              "    </tr>\n",
              "  </tbody>\n",
              "</table>\n",
              "<p>375 rows × 4 columns</p>\n",
              "</div>\n",
              "      <button class=\"colab-df-convert\" onclick=\"convertToInteractive('df-2cccc353-c64b-4dc5-afbe-16271c9f0223')\"\n",
              "              title=\"Convert this dataframe to an interactive table.\"\n",
              "              style=\"display:none;\">\n",
              "        \n",
              "  <svg xmlns=\"http://www.w3.org/2000/svg\" height=\"24px\"viewBox=\"0 0 24 24\"\n",
              "       width=\"24px\">\n",
              "    <path d=\"M0 0h24v24H0V0z\" fill=\"none\"/>\n",
              "    <path d=\"M18.56 5.44l.94 2.06.94-2.06 2.06-.94-2.06-.94-.94-2.06-.94 2.06-2.06.94zm-11 1L8.5 8.5l.94-2.06 2.06-.94-2.06-.94L8.5 2.5l-.94 2.06-2.06.94zm10 10l.94 2.06.94-2.06 2.06-.94-2.06-.94-.94-2.06-.94 2.06-2.06.94z\"/><path d=\"M17.41 7.96l-1.37-1.37c-.4-.4-.92-.59-1.43-.59-.52 0-1.04.2-1.43.59L10.3 9.45l-7.72 7.72c-.78.78-.78 2.05 0 2.83L4 21.41c.39.39.9.59 1.41.59.51 0 1.02-.2 1.41-.59l7.78-7.78 2.81-2.81c.8-.78.8-2.07 0-2.86zM5.41 20L4 18.59l7.72-7.72 1.47 1.35L5.41 20z\"/>\n",
              "  </svg>\n",
              "      </button>\n",
              "      \n",
              "  <style>\n",
              "    .colab-df-container {\n",
              "      display:flex;\n",
              "      flex-wrap:wrap;\n",
              "      gap: 12px;\n",
              "    }\n",
              "\n",
              "    .colab-df-convert {\n",
              "      background-color: #E8F0FE;\n",
              "      border: none;\n",
              "      border-radius: 50%;\n",
              "      cursor: pointer;\n",
              "      display: none;\n",
              "      fill: #1967D2;\n",
              "      height: 32px;\n",
              "      padding: 0 0 0 0;\n",
              "      width: 32px;\n",
              "    }\n",
              "\n",
              "    .colab-df-convert:hover {\n",
              "      background-color: #E2EBFA;\n",
              "      box-shadow: 0px 1px 2px rgba(60, 64, 67, 0.3), 0px 1px 3px 1px rgba(60, 64, 67, 0.15);\n",
              "      fill: #174EA6;\n",
              "    }\n",
              "\n",
              "    [theme=dark] .colab-df-convert {\n",
              "      background-color: #3B4455;\n",
              "      fill: #D2E3FC;\n",
              "    }\n",
              "\n",
              "    [theme=dark] .colab-df-convert:hover {\n",
              "      background-color: #434B5C;\n",
              "      box-shadow: 0px 1px 3px 1px rgba(0, 0, 0, 0.15);\n",
              "      filter: drop-shadow(0px 1px 2px rgba(0, 0, 0, 0.3));\n",
              "      fill: #FFFFFF;\n",
              "    }\n",
              "  </style>\n",
              "\n",
              "      <script>\n",
              "        const buttonEl =\n",
              "          document.querySelector('#df-2cccc353-c64b-4dc5-afbe-16271c9f0223 button.colab-df-convert');\n",
              "        buttonEl.style.display =\n",
              "          google.colab.kernel.accessAllowed ? 'block' : 'none';\n",
              "\n",
              "        async function convertToInteractive(key) {\n",
              "          const element = document.querySelector('#df-2cccc353-c64b-4dc5-afbe-16271c9f0223');\n",
              "          const dataTable =\n",
              "            await google.colab.kernel.invokeFunction('convertToInteractive',\n",
              "                                                     [key], {});\n",
              "          if (!dataTable) return;\n",
              "\n",
              "          const docLinkHtml = 'Like what you see? Visit the ' +\n",
              "            '<a target=\"_blank\" href=https://colab.research.google.com/notebooks/data_table.ipynb>data table notebook</a>'\n",
              "            + ' to learn more about interactive tables.';\n",
              "          element.innerHTML = '';\n",
              "          dataTable['output_type'] = 'display_data';\n",
              "          await google.colab.output.renderOutput(dataTable, element);\n",
              "          const docLink = document.createElement('div');\n",
              "          docLink.innerHTML = docLinkHtml;\n",
              "          element.appendChild(docLink);\n",
              "        }\n",
              "      </script>\n",
              "    </div>\n",
              "  </div>\n",
              "  "
            ]
          },
          "metadata": {},
          "execution_count": 169
        }
      ]
    },
    {
      "cell_type": "code",
      "source": [
        "pairs.match.value_counts()"
      ],
      "metadata": {
        "colab": {
          "base_uri": "https://localhost:8080/"
        },
        "id": "eOBs8T7OK0JY",
        "outputId": "510c59ba-bc6f-4d7e-8935-3f8043dbc319"
      },
      "execution_count": null,
      "outputs": [
        {
          "output_type": "execute_result",
          "data": {
            "text/plain": [
              "True     84611\n",
              "False    33097\n",
              "Name: match, dtype: int64"
            ]
          },
          "metadata": {},
          "execution_count": 170
        }
      ]
    },
    {
      "cell_type": "code",
      "source": [
        "pairs.loc[pairs.location_diff<1].match.value_counts()"
      ],
      "metadata": {
        "colab": {
          "base_uri": "https://localhost:8080/"
        },
        "id": "mzuSWES4KJHt",
        "outputId": "b4836357-b21a-466e-8cc2-e07cee4146d0"
      },
      "execution_count": null,
      "outputs": [
        {
          "output_type": "execute_result",
          "data": {
            "text/plain": [
              "True     83822\n",
              "False    33006\n",
              "Name: match, dtype: int64"
            ]
          },
          "metadata": {},
          "execution_count": 171
        }
      ]
    },
    {
      "cell_type": "markdown",
      "source": [
        "### City"
      ],
      "metadata": {
        "id": "6pbFEc26581Z"
      }
    },
    {
      "cell_type": "code",
      "source": [
        "pairs['city_diff'] = pairs.apply(sim_metric,\n",
        "                          args=('city_1', 'city_2'),\n",
        "                          axis=1)"
      ],
      "metadata": {
        "id": "-Grf2BqZ6D6U"
      },
      "execution_count": null,
      "outputs": []
    },
    {
      "cell_type": "code",
      "source": [
        "sns.stripplot(x=\"match\", y=\"city_diff\", data=pairs.loc[pairs.city_diff>=0])\n",
        "plt.show()"
      ],
      "metadata": {
        "colab": {
          "base_uri": "https://localhost:8080/",
          "height": 279
        },
        "id": "gsSp-XK26qtH",
        "outputId": "5240b608-4acd-4b9f-a737-0dc1a13d668d"
      },
      "execution_count": null,
      "outputs": [
        {
          "output_type": "display_data",
          "data": {
            "text/plain": [
              "<Figure size 432x288 with 1 Axes>"
            ],
            "image/png": "[encoded data removed]"
          },
          "metadata": {
            "needs_background": "light"
          }
        }
      ]
    },
    {
      "cell_type": "code",
      "source": [
        "pairs.loc[(pairs.location_diff<0.01)&(pairs.name_diff<0.1)&(pairs.address_diff==0)&(pairs.city_diff==0)&(pairs.match==False)&(pairs.country_1=='US')][['name_1','name_2','address_1','address_2']]"
      ],
      "metadata": {
        "colab": {
          "base_uri": "https://localhost:8080/",
          "height": 423
        },
        "id": "SJmcI4MA7Sr_",
        "outputId": "02fc61a3-d294-4fe1-f25e-167be995884f"
      },
      "execution_count": null,
      "outputs": [
        {
          "output_type": "execute_result",
          "data": {
            "text/plain": [
              "                                      name_1  \\\n",
              "532          Parkview High School Building H   \n",
              "2526      Sprague Lake Rest Area (Westbound)   \n",
              "5315                             Section 304   \n",
              "5316                             Section 304   \n",
              "6259                Facebook 1050 Building 2   \n",
              "...                                      ...   \n",
              "571522               Conference Room HS 2007   \n",
              "572791   Mann Center for the Performing Arts   \n",
              "575350   Pozez Education Center Centennial D   \n",
              "576064  UCF Business Administration II (BA2)   \n",
              "578153        Gym @ Spinnaker Bay Apartments   \n",
              "\n",
              "                                            name_2  \\\n",
              "532                Parkview High School Building C   \n",
              "2526            Sprague Lake Rest Area (Eastbound)   \n",
              "5315                                   Section 305   \n",
              "5316                                   Section 308   \n",
              "6259                      Facebook 1050 Building 1   \n",
              "...                                            ...   \n",
              "571522                     Conference Room HS 2038   \n",
              "572791  Mann Center for the Performing Arts D Gate   \n",
              "575350         Pozez Education Center Centennial A   \n",
              "576064         UCF Business Administration I (BA1)   \n",
              "578153                    Spinnaker Bay Apartments   \n",
              "\n",
              "                                                address_1  \\\n",
              "532                        998 Cole Dr, Lilburn, GA 30047   \n",
              "2526                                        Interstate 90   \n",
              "5315                                       KeyBank Center   \n",
              "5316                                       KeyBank Center   \n",
              "6259                                    1050 Page Mill Rd   \n",
              "...                                                   ...   \n",
              "571522  Health Information and Translational Science (HS)   \n",
              "572791                                  5201 Parkside Ave   \n",
              "575350                                    1505 SW 8th Ave   \n",
              "576064                          4000 Central Florida Blvd   \n",
              "578153                                   707 President St   \n",
              "\n",
              "                                                address_2  \n",
              "532                        998 Cole Dr, Lilburn, GA 30047  \n",
              "2526                                        Interstate 90  \n",
              "5315                                       KeyBank Center  \n",
              "5316                                       KeyBank Center  \n",
              "6259                                    1050 Page Mill Rd  \n",
              "...                                                   ...  \n",
              "571522  Health Information and Translational Science (HS)  \n",
              "572791                                  5201 Parkside Ave  \n",
              "575350                                    1505 SW 8th Ave  \n",
              "576064                          4000 Central Florida Blvd  \n",
              "578153                                   707 President St  \n",
              "\n",
              "[353 rows x 4 columns]"
            ],
            "text/html": [
              "\n",
              "  <div id=\"df-cf1c31fd-5726-4c20-8e64-3963de00e70e\">\n",
              "    <div class=\"colab-df-container\">\n",
              "      <div>\n",
              "<style scoped>\n",
              "    .dataframe tbody tr th:only-of-type {\n",
              "        vertical-align: middle;\n",
              "    }\n",
              "\n",
              "    .dataframe tbody tr th {\n",
              "        vertical-align: top;\n",
              "    }\n",
              "\n",
              "    .dataframe thead th {\n",
              "        text-align: right;\n",
              "    }\n",
              "</style>\n",
              "<table border=\"1\" class=\"dataframe\">\n",
              "  <thead>\n",
              "    <tr style=\"text-align: right;\">\n",
              "      <th></th>\n",
              "      <th>name_1</th>\n",
              "      <th>name_2</th>\n",
              "      <th>address_1</th>\n",
              "      <th>address_2</th>\n",
              "    </tr>\n",
              "  </thead>\n",
              "  <tbody>\n",
              "    <tr>\n",
              "      <th>532</th>\n",
              "      <td>Parkview High School Building H</td>\n",
              "      <td>Parkview High School Building C</td>\n",
              "      <td>998 Cole Dr, Lilburn, GA 30047</td>\n",
              "      <td>998 Cole Dr, Lilburn, GA 30047</td>\n",
              "    </tr>\n",
              "    <tr>\n",
              "      <th>2526</th>\n",
              "      <td>Sprague Lake Rest Area (Westbound)</td>\n",
              "      <td>Sprague Lake Rest Area (Eastbound)</td>\n",
              "      <td>Interstate 90</td>\n",
              "      <td>Interstate 90</td>\n",
              "    </tr>\n",
              "    <tr>\n",
              "      <th>5315</th>\n",
              "      <td>Section 304</td>\n",
              "      <td>Section 305</td>\n",
              "      <td>KeyBank Center</td>\n",
              "      <td>KeyBank Center</td>\n",
              "    </tr>\n",
              "    <tr>\n",
              "      <th>5316</th>\n",
              "      <td>Section 304</td>\n",
              "      <td>Section 308</td>\n",
              "      <td>KeyBank Center</td>\n",
              "      <td>KeyBank Center</td>\n",
              "    </tr>\n",
              "    <tr>\n",
              "      <th>6259</th>\n",
              "      <td>Facebook 1050 Building 2</td>\n",
              "      <td>Facebook 1050 Building 1</td>\n",
              "      <td>1050 Page Mill Rd</td>\n",
              "      <td>1050 Page Mill Rd</td>\n",
              "    </tr>\n",
              "    <tr>\n",
              "      <th>...</th>\n",
              "      <td>...</td>\n",
              "      <td>...</td>\n",
              "      <td>...</td>\n",
              "      <td>...</td>\n",
              "    </tr>\n",
              "    <tr>\n",
              "      <th>571522</th>\n",
              "      <td>Conference Room HS 2007</td>\n",
              "      <td>Conference Room HS 2038</td>\n",
              "      <td>Health Information and Translational Science (HS)</td>\n",
              "      <td>Health Information and Translational Science (HS)</td>\n",
              "    </tr>\n",
              "    <tr>\n",
              "      <th>572791</th>\n",
              "      <td>Mann Center for the Performing Arts</td>\n",
              "      <td>Mann Center for the Performing Arts D Gate</td>\n",
              "      <td>5201 Parkside Ave</td>\n",
              "      <td>5201 Parkside Ave</td>\n",
              "    </tr>\n",
              "    <tr>\n",
              "      <th>575350</th>\n",
              "      <td>Pozez Education Center Centennial D</td>\n",
              "      <td>Pozez Education Center Centennial A</td>\n",
              "      <td>1505 SW 8th Ave</td>\n",
              "      <td>1505 SW 8th Ave</td>\n",
              "    </tr>\n",
              "    <tr>\n",
              "      <th>576064</th>\n",
              "      <td>UCF Business Administration II (BA2)</td>\n",
              "      <td>UCF Business Administration I (BA1)</td>\n",
              "      <td>4000 Central Florida Blvd</td>\n",
              "      <td>4000 Central Florida Blvd</td>\n",
              "    </tr>\n",
              "    <tr>\n",
              "      <th>578153</th>\n",
              "      <td>Gym @ Spinnaker Bay Apartments</td>\n",
              "      <td>Spinnaker Bay Apartments</td>\n",
              "      <td>707 President St</td>\n",
              "      <td>707 President St</td>\n",
              "    </tr>\n",
              "  </tbody>\n",
              "</table>\n",
              "<p>353 rows × 4 columns</p>\n",
              "</div>\n",
              "      <button class=\"colab-df-convert\" onclick=\"convertToInteractive('df-cf1c31fd-5726-4c20-8e64-3963de00e70e')\"\n",
              "              title=\"Convert this dataframe to an interactive table.\"\n",
              "              style=\"display:none;\">\n",
              "        \n",
              "  <svg xmlns=\"http://www.w3.org/2000/svg\" height=\"24px\"viewBox=\"0 0 24 24\"\n",
              "       width=\"24px\">\n",
              "    <path d=\"M0 0h24v24H0V0z\" fill=\"none\"/>\n",
              "    <path d=\"M18.56 5.44l.94 2.06.94-2.06 2.06-.94-2.06-.94-.94-2.06-.94 2.06-2.06.94zm-11 1L8.5 8.5l.94-2.06 2.06-.94-2.06-.94L8.5 2.5l-.94 2.06-2.06.94zm10 10l.94 2.06.94-2.06 2.06-.94-2.06-.94-.94-2.06-.94 2.06-2.06.94z\"/><path d=\"M17.41 7.96l-1.37-1.37c-.4-.4-.92-.59-1.43-.59-.52 0-1.04.2-1.43.59L10.3 9.45l-7.72 7.72c-.78.78-.78 2.05 0 2.83L4 21.41c.39.39.9.59 1.41.59.51 0 1.02-.2 1.41-.59l7.78-7.78 2.81-2.81c.8-.78.8-2.07 0-2.86zM5.41 20L4 18.59l7.72-7.72 1.47 1.35L5.41 20z\"/>\n",
              "  </svg>\n",
              "      </button>\n",
              "      \n",
              "  <style>\n",
              "    .colab-df-container {\n",
              "      display:flex;\n",
              "      flex-wrap:wrap;\n",
              "      gap: 12px;\n",
              "    }\n",
              "\n",
              "    .colab-df-convert {\n",
              "      background-color: #E8F0FE;\n",
              "      border: none;\n",
              "      border-radius: 50%;\n",
              "      cursor: pointer;\n",
              "      display: none;\n",
              "      fill: #1967D2;\n",
              "      height: 32px;\n",
              "      padding: 0 0 0 0;\n",
              "      width: 32px;\n",
              "    }\n",
              "\n",
              "    .colab-df-convert:hover {\n",
              "      background-color: #E2EBFA;\n",
              "      box-shadow: 0px 1px 2px rgba(60, 64, 67, 0.3), 0px 1px 3px 1px rgba(60, 64, 67, 0.15);\n",
              "      fill: #174EA6;\n",
              "    }\n",
              "\n",
              "    [theme=dark] .colab-df-convert {\n",
              "      background-color: #3B4455;\n",
              "      fill: #D2E3FC;\n",
              "    }\n",
              "\n",
              "    [theme=dark] .colab-df-convert:hover {\n",
              "      background-color: #434B5C;\n",
              "      box-shadow: 0px 1px 3px 1px rgba(0, 0, 0, 0.15);\n",
              "      filter: drop-shadow(0px 1px 2px rgba(0, 0, 0, 0.3));\n",
              "      fill: #FFFFFF;\n",
              "    }\n",
              "  </style>\n",
              "\n",
              "      <script>\n",
              "        const buttonEl =\n",
              "          document.querySelector('#df-cf1c31fd-5726-4c20-8e64-3963de00e70e button.colab-df-convert');\n",
              "        buttonEl.style.display =\n",
              "          google.colab.kernel.accessAllowed ? 'block' : 'none';\n",
              "\n",
              "        async function convertToInteractive(key) {\n",
              "          const element = document.querySelector('#df-cf1c31fd-5726-4c20-8e64-3963de00e70e');\n",
              "          const dataTable =\n",
              "            await google.colab.kernel.invokeFunction('convertToInteractive',\n",
              "                                                     [key], {});\n",
              "          if (!dataTable) return;\n",
              "\n",
              "          const docLinkHtml = 'Like what you see? Visit the ' +\n",
              "            '<a target=\"_blank\" href=https://colab.research.google.com/notebooks/data_table.ipynb>data table notebook</a>'\n",
              "            + ' to learn more about interactive tables.';\n",
              "          element.innerHTML = '';\n",
              "          dataTable['output_type'] = 'display_data';\n",
              "          await google.colab.output.renderOutput(dataTable, element);\n",
              "          const docLink = document.createElement('div');\n",
              "          docLink.innerHTML = docLinkHtml;\n",
              "          element.appendChild(docLink);\n",
              "        }\n",
              "      </script>\n",
              "    </div>\n",
              "  </div>\n",
              "  "
            ]
          },
          "metadata": {},
          "execution_count": 174
        }
      ]
    },
    {
      "cell_type": "markdown",
      "source": [
        "### State"
      ],
      "metadata": {
        "id": "pl6JpKso6EOM"
      }
    },
    {
      "cell_type": "markdown",
      "source": [
        "### Zip\n",
        "\n",
        "\n",
        "---\n",
        "\n",
        "Zip codes are stored as strings in the orginal data."
      ],
      "metadata": {
        "id": "gWcwqa636I8-"
      }
    },
    {
      "cell_type": "code",
      "source": [
        "pairs['zip_diff'] = pairs.apply(sim_metric,\n",
        "                          args=('zip_1', 'zip_2'),\n",
        "                          axis=1)"
      ],
      "metadata": {
        "id": "Nevbkao86MW-"
      },
      "execution_count": null,
      "outputs": []
    },
    {
      "cell_type": "markdown",
      "source": [
        "# PCA"
      ],
      "metadata": {
        "id": "uM6TxTDoMTn8"
      }
    },
    {
      "cell_type": "code",
      "source": [
        "from sklearn.preprocessing import StandardScaler\n",
        "from sklearn.pipeline import Pipeline\n",
        "from sklearn.decomposition import PCA"
      ],
      "metadata": {
        "id": "O_l9wzHOMaLM"
      },
      "execution_count": null,
      "outputs": []
    },
    {
      "cell_type": "code",
      "source": [
        "## Make a pipeline for your PCA\n",
        "pipe = Pipeline([('scale', StandardScaler()),\n",
        "                    ('pca', PCA(2))])\n",
        "\n",
        "feature_col = ['location_diff','name_diff']\n",
        "#['location_diff','name_diff','address_diff', 'city_diff',\t'zip_diff']\n",
        "\n",
        "pairs_sample = pairs.loc[pairs.location_diff<1]\n",
        "X_train = pairs_sample[feature_col]\n",
        "\n",
        "pipe.fit(X_train.values)\n",
        "\n",
        "fit = pipe.transform(X_train.values)"
      ],
      "metadata": {
        "id": "NCNT8kExMbIy"
      },
      "execution_count": null,
      "outputs": []
    },
    {
      "cell_type": "code",
      "source": [
        "y_train = pairs_sample['match']\n",
        "\n",
        "plt.figure(figsize=(8,8))\n",
        "\n",
        "plt.scatter(fit[y_train==0, 0],\n",
        "               fit[y_train==0, 1],\n",
        "               c = 'b',\n",
        "               alpha = .6,\n",
        "               label='Benign')\n",
        "\n",
        "plt.scatter(fit[y_train==1, 0],\n",
        "               fit[y_train==1, 1],\n",
        "               c = 'orange',\n",
        "               marker = 'v',\n",
        "               alpha = .6,\n",
        "               label='Malignant')\n",
        "\n",
        "plt.legend(fontsize=14)\n",
        "\n",
        "plt.xlabel(\"First PCA Value\", fontsize=16)\n",
        "plt.ylabel(\"Second PCA Value\", fontsize=16)\n",
        "\n",
        "plt.show()"
      ],
      "metadata": {
        "colab": {
          "base_uri": "https://localhost:8080/",
          "height": 502
        },
        "id": "gwrvawh-M1B7",
        "outputId": "cdc892fb-5cf8-41cd-ad09-0c86ac0cf687"
      },
      "execution_count": null,
      "outputs": [
        {
          "output_type": "display_data",
          "data": {
            "text/plain": [
              "<Figure size 576x576 with 1 Axes>"
            ],
            "image/png": "[encoded data removed]"
          },
          "metadata": {
            "needs_background": "light"
          }
        }
      ]
    },
    {
      "cell_type": "markdown",
      "source": [
        "# Submission\n",
        "\n",
        "---\n"
      ],
      "metadata": {
        "id": "RvQexhJCVd_x"
      }
    },
    {
      "cell_type": "code",
      "source": [
        "submission = pd.read_csv('/content/drive/MyDrive/Summer 2022/foursquare-location-matching/sample_submission.csv')"
      ],
      "metadata": {
        "id": "zf5Lh0--cc_z"
      },
      "execution_count": null,
      "outputs": []
    },
    {
      "cell_type": "code",
      "source": [
        "submission"
      ],
      "metadata": {
        "colab": {
          "base_uri": "https://localhost:8080/",
          "height": 206
        },
        "id": "kEBhDcC2VkU0",
        "outputId": "a295a6ca-6335-48e9-f6e9-56c8783a3fc8"
      },
      "execution_count": null,
      "outputs": [
        {
          "output_type": "execute_result",
          "data": {
            "text/plain": [
              "                 id                            matches\n",
              "0  E_00001118ad0191                   E_00001118ad0191\n",
              "1  E_000020eb6fed40                   E_000020eb6fed40\n",
              "2  E_00002f98667edf                   E_00002f98667edf\n",
              "3  E_001b6bad66eb98  E_001b6bad66eb98 E_0283d9f61e569d\n",
              "4  E_0283d9f61e569d  E_0283d9f61e569d E_001b6bad66eb98"
            ],
            "text/html": [
              "\n",
              "  <div id=\"df-2ee22b96-5db1-434b-8af5-36c257c93052\">\n",
              "    <div class=\"colab-df-container\">\n",
              "      <div>\n",
              "<style scoped>\n",
              "    .dataframe tbody tr th:only-of-type {\n",
              "        vertical-align: middle;\n",
              "    }\n",
              "\n",
              "    .dataframe tbody tr th {\n",
              "        vertical-align: top;\n",
              "    }\n",
              "\n",
              "    .dataframe thead th {\n",
              "        text-align: right;\n",
              "    }\n",
              "</style>\n",
              "<table border=\"1\" class=\"dataframe\">\n",
              "  <thead>\n",
              "    <tr style=\"text-align: right;\">\n",
              "      <th></th>\n",
              "      <th>id</th>\n",
              "      <th>matches</th>\n",
              "    </tr>\n",
              "  </thead>\n",
              "  <tbody>\n",
              "    <tr>\n",
              "      <th>0</th>\n",
              "      <td>E_00001118ad0191</td>\n",
              "      <td>E_00001118ad0191</td>\n",
              "    </tr>\n",
              "    <tr>\n",
              "      <th>1</th>\n",
              "      <td>E_000020eb6fed40</td>\n",
              "      <td>E_000020eb6fed40</td>\n",
              "    </tr>\n",
              "    <tr>\n",
              "      <th>2</th>\n",
              "      <td>E_00002f98667edf</td>\n",
              "      <td>E_00002f98667edf</td>\n",
              "    </tr>\n",
              "    <tr>\n",
              "      <th>3</th>\n",
              "      <td>E_001b6bad66eb98</td>\n",
              "      <td>E_001b6bad66eb98 E_0283d9f61e569d</td>\n",
              "    </tr>\n",
              "    <tr>\n",
              "      <th>4</th>\n",
              "      <td>E_0283d9f61e569d</td>\n",
              "      <td>E_0283d9f61e569d E_001b6bad66eb98</td>\n",
              "    </tr>\n",
              "  </tbody>\n",
              "</table>\n",
              "</div>\n",
              "      <button class=\"colab-df-convert\" onclick=\"convertToInteractive('df-2ee22b96-5db1-434b-8af5-36c257c93052')\"\n",
              "              title=\"Convert this dataframe to an interactive table.\"\n",
              "              style=\"display:none;\">\n",
              "        \n",
              "  <svg xmlns=\"http://www.w3.org/2000/svg\" height=\"24px\"viewBox=\"0 0 24 24\"\n",
              "       width=\"24px\">\n",
              "    <path d=\"M0 0h24v24H0V0z\" fill=\"none\"/>\n",
              "    <path d=\"M18.56 5.44l.94 2.06.94-2.06 2.06-.94-2.06-.94-.94-2.06-.94 2.06-2.06.94zm-11 1L8.5 8.5l.94-2.06 2.06-.94-2.06-.94L8.5 2.5l-.94 2.06-2.06.94zm10 10l.94 2.06.94-2.06 2.06-.94-2.06-.94-.94-2.06-.94 2.06-2.06.94z\"/><path d=\"M17.41 7.96l-1.37-1.37c-.4-.4-.92-.59-1.43-.59-.52 0-1.04.2-1.43.59L10.3 9.45l-7.72 7.72c-.78.78-.78 2.05 0 2.83L4 21.41c.39.39.9.59 1.41.59.51 0 1.02-.2 1.41-.59l7.78-7.78 2.81-2.81c.8-.78.8-2.07 0-2.86zM5.41 20L4 18.59l7.72-7.72 1.47 1.35L5.41 20z\"/>\n",
              "  </svg>\n",
              "      </button>\n",
              "      \n",
              "  <style>\n",
              "    .colab-df-container {\n",
              "      display:flex;\n",
              "      flex-wrap:wrap;\n",
              "      gap: 12px;\n",
              "    }\n",
              "\n",
              "    .colab-df-convert {\n",
              "      background-color: #E8F0FE;\n",
              "      border: none;\n",
              "      border-radius: 50%;\n",
              "      cursor: pointer;\n",
              "      display: none;\n",
              "      fill: #1967D2;\n",
              "      height: 32px;\n",
              "      padding: 0 0 0 0;\n",
              "      width: 32px;\n",
              "    }\n",
              "\n",
              "    .colab-df-convert:hover {\n",
              "      background-color: #E2EBFA;\n",
              "      box-shadow: 0px 1px 2px rgba(60, 64, 67, 0.3), 0px 1px 3px 1px rgba(60, 64, 67, 0.15);\n",
              "      fill: #174EA6;\n",
              "    }\n",
              "\n",
              "    [theme=dark] .colab-df-convert {\n",
              "      background-color: #3B4455;\n",
              "      fill: #D2E3FC;\n",
              "    }\n",
              "\n",
              "    [theme=dark] .colab-df-convert:hover {\n",
              "      background-color: #434B5C;\n",
              "      box-shadow: 0px 1px 3px 1px rgba(0, 0, 0, 0.15);\n",
              "      filter: drop-shadow(0px 1px 2px rgba(0, 0, 0, 0.3));\n",
              "      fill: #FFFFFF;\n",
              "    }\n",
              "  </style>\n",
              "\n",
              "      <script>\n",
              "        const buttonEl =\n",
              "          document.querySelector('#df-2ee22b96-5db1-434b-8af5-36c257c93052 button.colab-df-convert');\n",
              "        buttonEl.style.display =\n",
              "          google.colab.kernel.accessAllowed ? 'block' : 'none';\n",
              "\n",
              "        async function convertToInteractive(key) {\n",
              "          const element = document.querySelector('#df-2ee22b96-5db1-434b-8af5-36c257c93052');\n",
              "          const dataTable =\n",
              "            await google.colab.kernel.invokeFunction('convertToInteractive',\n",
              "                                                     [key], {});\n",
              "          if (!dataTable) return;\n",
              "\n",
              "          const docLinkHtml = 'Like what you see? Visit the ' +\n",
              "            '<a target=\"_blank\" href=https://colab.research.google.com/notebooks/data_table.ipynb>data table notebook</a>'\n",
              "            + ' to learn more about interactive tables.';\n",
              "          element.innerHTML = '';\n",
              "          dataTable['output_type'] = 'display_data';\n",
              "          await google.colab.output.renderOutput(dataTable, element);\n",
              "          const docLink = document.createElement('div');\n",
              "          docLink.innerHTML = docLinkHtml;\n",
              "          element.appendChild(docLink);\n",
              "        }\n",
              "      </script>\n",
              "    </div>\n",
              "  </div>\n",
              "  "
            ]
          },
          "metadata": {},
          "execution_count": 20
        }
      ]
    },
    {
      "cell_type": "code",
      "source": [
        "set(test.id).intersection(set(train.id))"
      ],
      "metadata": {
        "colab": {
          "base_uri": "https://localhost:8080/"
        },
        "id": "EfPTR_lIVqq1",
        "outputId": "8a5a88f2-4716-495d-c25e-01cbb4a0a63f"
      },
      "execution_count": null,
      "outputs": [
        {
          "output_type": "execute_result",
          "data": {
            "text/plain": [
              "{'E_001b6bad66eb98', 'E_0283d9f61e569d'}"
            ]
          },
          "metadata": {},
          "execution_count": 21
        }
      ]
    },
    {
      "cell_type": "code",
      "source": [
        "df = train.loc[train.id==test.id[3]]\n",
        "df.append(train.loc[train.id==test.id[4]])"
      ],
      "metadata": {
        "colab": {
          "base_uri": "https://localhost:8080/",
          "height": 112
        },
        "id": "dwCoM8pJWTf1",
        "outputId": "0be212c3-da7c-4424-ebe7-b488142ddccd"
      },
      "execution_count": null,
      "outputs": [
        {
          "output_type": "execute_result",
          "data": {
            "text/plain": [
              "                     id                    name   latitude   longitude  \\\n",
              "434    E_001b6bad66eb98  Foreword Communicatons   1.302216  103.861456   \n",
              "11033  E_0283d9f61e569d           風雲児 (Fu-unji)  35.687101  139.696684   \n",
              "\n",
              "         address city state       zip country                     url  \\\n",
              "434          NaN  NaN   NaN       NaN      SG                     NaN   \n",
              "11033  代々木2-14-3  渋谷区   東京都  151-0053      JP  http://www.fu-unji.com   \n",
              "\n",
              "            phone         categories point_of_interest  \n",
              "434           NaN                NaN  P_540b73568b0d3c  \n",
              "11033  0364138480  Ramen Restaurants  P_fe5531aa3acd9d  "
            ],
            "text/html": [
              "\n",
              "  <div id=\"df-64794db7-dce0-4081-bba9-4042aad5d3d1\">\n",
              "    <div class=\"colab-df-container\">\n",
              "      <div>\n",
              "<style scoped>\n",
              "    .dataframe tbody tr th:only-of-type {\n",
              "        vertical-align: middle;\n",
              "    }\n",
              "\n",
              "    .dataframe tbody tr th {\n",
              "        vertical-align: top;\n",
              "    }\n",
              "\n",
              "    .dataframe thead th {\n",
              "        text-align: right;\n",
              "    }\n",
              "</style>\n",
              "<table border=\"1\" class=\"dataframe\">\n",
              "  <thead>\n",
              "    <tr style=\"text-align: right;\">\n",
              "      <th></th>\n",
              "      <th>id</th>\n",
              "      <th>name</th>\n",
              "      <th>latitude</th>\n",
              "      <th>longitude</th>\n",
              "      <th>address</th>\n",
              "      <th>city</th>\n",
              "      <th>state</th>\n",
              "      <th>zip</th>\n",
              "      <th>country</th>\n",
              "      <th>url</th>\n",
              "      <th>phone</th>\n",
              "      <th>categories</th>\n",
              "      <th>point_of_interest</th>\n",
              "    </tr>\n",
              "  </thead>\n",
              "  <tbody>\n",
              "    <tr>\n",
              "      <th>434</th>\n",
              "      <td>E_001b6bad66eb98</td>\n",
              "      <td>Foreword Communicatons</td>\n",
              "      <td>1.302216</td>\n",
              "      <td>103.861456</td>\n",
              "      <td>NaN</td>\n",
              "      <td>NaN</td>\n",
              "      <td>NaN</td>\n",
              "      <td>NaN</td>\n",
              "      <td>SG</td>\n",
              "      <td>NaN</td>\n",
              "      <td>NaN</td>\n",
              "      <td>NaN</td>\n",
              "      <td>P_540b73568b0d3c</td>\n",
              "    </tr>\n",
              "    <tr>\n",
              "      <th>11033</th>\n",
              "      <td>E_0283d9f61e569d</td>\n",
              "      <td>風雲児 (Fu-unji)</td>\n",
              "      <td>35.687101</td>\n",
              "      <td>139.696684</td>\n",
              "      <td>代々木2-14-3</td>\n",
              "      <td>渋谷区</td>\n",
              "      <td>東京都</td>\n",
              "      <td>151-0053</td>\n",
              "      <td>JP</td>\n",
              "      <td>http://www.fu-unji.com</td>\n",
              "      <td>0364138480</td>\n",
              "      <td>Ramen Restaurants</td>\n",
              "      <td>P_fe5531aa3acd9d</td>\n",
              "    </tr>\n",
              "  </tbody>\n",
              "</table>\n",
              "</div>\n",
              "      <button class=\"colab-df-convert\" onclick=\"convertToInteractive('df-64794db7-dce0-4081-bba9-4042aad5d3d1')\"\n",
              "              title=\"Convert this dataframe to an interactive table.\"\n",
              "              style=\"display:none;\">\n",
              "        \n",
              "  <svg xmlns=\"http://www.w3.org/2000/svg\" height=\"24px\"viewBox=\"0 0 24 24\"\n",
              "       width=\"24px\">\n",
              "    <path d=\"M0 0h24v24H0V0z\" fill=\"none\"/>\n",
              "    <path d=\"M18.56 5.44l.94 2.06.94-2.06 2.06-.94-2.06-.94-.94-2.06-.94 2.06-2.06.94zm-11 1L8.5 8.5l.94-2.06 2.06-.94-2.06-.94L8.5 2.5l-.94 2.06-2.06.94zm10 10l.94 2.06.94-2.06 2.06-.94-2.06-.94-.94-2.06-.94 2.06-2.06.94z\"/><path d=\"M17.41 7.96l-1.37-1.37c-.4-.4-.92-.59-1.43-.59-.52 0-1.04.2-1.43.59L10.3 9.45l-7.72 7.72c-.78.78-.78 2.05 0 2.83L4 21.41c.39.39.9.59 1.41.59.51 0 1.02-.2 1.41-.59l7.78-7.78 2.81-2.81c.8-.78.8-2.07 0-2.86zM5.41 20L4 18.59l7.72-7.72 1.47 1.35L5.41 20z\"/>\n",
              "  </svg>\n",
              "      </button>\n",
              "      \n",
              "  <style>\n",
              "    .colab-df-container {\n",
              "      display:flex;\n",
              "      flex-wrap:wrap;\n",
              "      gap: 12px;\n",
              "    }\n",
              "\n",
              "    .colab-df-convert {\n",
              "      background-color: #E8F0FE;\n",
              "      border: none;\n",
              "      border-radius: 50%;\n",
              "      cursor: pointer;\n",
              "      display: none;\n",
              "      fill: #1967D2;\n",
              "      height: 32px;\n",
              "      padding: 0 0 0 0;\n",
              "      width: 32px;\n",
              "    }\n",
              "\n",
              "    .colab-df-convert:hover {\n",
              "      background-color: #E2EBFA;\n",
              "      box-shadow: 0px 1px 2px rgba(60, 64, 67, 0.3), 0px 1px 3px 1px rgba(60, 64, 67, 0.15);\n",
              "      fill: #174EA6;\n",
              "    }\n",
              "\n",
              "    [theme=dark] .colab-df-convert {\n",
              "      background-color: #3B4455;\n",
              "      fill: #D2E3FC;\n",
              "    }\n",
              "\n",
              "    [theme=dark] .colab-df-convert:hover {\n",
              "      background-color: #434B5C;\n",
              "      box-shadow: 0px 1px 3px 1px rgba(0, 0, 0, 0.15);\n",
              "      filter: drop-shadow(0px 1px 2px rgba(0, 0, 0, 0.3));\n",
              "      fill: #FFFFFF;\n",
              "    }\n",
              "  </style>\n",
              "\n",
              "      <script>\n",
              "        const buttonEl =\n",
              "          document.querySelector('#df-64794db7-dce0-4081-bba9-4042aad5d3d1 button.colab-df-convert');\n",
              "        buttonEl.style.display =\n",
              "          google.colab.kernel.accessAllowed ? 'block' : 'none';\n",
              "\n",
              "        async function convertToInteractive(key) {\n",
              "          const element = document.querySelector('#df-64794db7-dce0-4081-bba9-4042aad5d3d1');\n",
              "          const dataTable =\n",
              "            await google.colab.kernel.invokeFunction('convertToInteractive',\n",
              "                                                     [key], {});\n",
              "          if (!dataTable) return;\n",
              "\n",
              "          const docLinkHtml = 'Like what you see? Visit the ' +\n",
              "            '<a target=\"_blank\" href=https://colab.research.google.com/notebooks/data_table.ipynb>data table notebook</a>'\n",
              "            + ' to learn more about interactive tables.';\n",
              "          element.innerHTML = '';\n",
              "          dataTable['output_type'] = 'display_data';\n",
              "          await google.colab.output.renderOutput(dataTable, element);\n",
              "          const docLink = document.createElement('div');\n",
              "          docLink.innerHTML = docLinkHtml;\n",
              "          element.appendChild(docLink);\n",
              "        }\n",
              "      </script>\n",
              "    </div>\n",
              "  </div>\n",
              "  "
            ]
          },
          "metadata": {},
          "execution_count": 43
        }
      ]
    },
    {
      "cell_type": "code",
      "source": [
        "test.columns"
      ],
      "metadata": {
        "colab": {
          "base_uri": "https://localhost:8080/"
        },
        "id": "Iy6AMLpyX8If",
        "outputId": "872376c8-0f18-4419-f7f2-5ebd0ef37ff9"
      },
      "execution_count": null,
      "outputs": [
        {
          "output_type": "execute_result",
          "data": {
            "text/plain": [
              "Index(['id', 'name', 'latitude', 'longitude', 'address', 'city', 'state',\n",
              "       'zip', 'country', 'url', 'phone', 'categories'],\n",
              "      dtype='object')"
            ]
          },
          "metadata": {},
          "execution_count": 45
        }
      ]
    },
    {
      "cell_type": "code",
      "source": [
        "test.country"
      ],
      "metadata": {
        "colab": {
          "base_uri": "https://localhost:8080/"
        },
        "id": "2LyFlsz6ZCKg",
        "outputId": "3a2b5b3b-1405-4e7d-f2e3-0f5bf1c7cbe0"
      },
      "execution_count": null,
      "outputs": [
        {
          "output_type": "execute_result",
          "data": {
            "text/plain": [
              "0    MY\n",
              "1    US\n",
              "2    RU\n",
              "3    ID\n",
              "4    ID\n",
              "Name: country, dtype: object"
            ]
          },
          "metadata": {},
          "execution_count": 107
        }
      ]
    },
    {
      "cell_type": "code",
      "source": [
        ""
      ],
      "metadata": {
        "id": "hqix-nirq0ZX"
      },
      "execution_count": null,
      "outputs": []
    }
  ]
}