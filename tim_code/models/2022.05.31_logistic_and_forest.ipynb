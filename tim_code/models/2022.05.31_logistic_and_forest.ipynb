{
 "cells": [
  {
   "cell_type": "markdown",
   "id": "0d58b496",
   "metadata": {},
   "source": [
    "# Comparing a Naive Model, a Logistic Regression, and a Random Forest"
   ]
  },
  {
   "cell_type": "markdown",
   "id": "41a7de39",
   "metadata": {},
   "source": [
    "Author: Tim Gorman </br> In this notebook I will be running two different types of models on data curated from the kaggle pairs.csv file. The data is a subset of pairs.csv that is limited to country = 'US'. First I will run both models on data with string differences measured by cosine similarity."
   ]
  },
  {
   "cell_type": "code",
   "execution_count": null,
   "id": "b7eb2727",
   "metadata": {},
   "outputs": [],
   "source": [
    "import pandas as pd\n",
    "import numpy as np\n",
    "from sklearn.model_selection import (train_test_split, cross_validate,\n",
    "                                    StratifiedKFold, GridSearchCV, RandomizedSearchCV)"
   ]
  },
  {
   "cell_type": "code",
   "execution_count": null,
   "id": "23de0193",
   "metadata": {},
   "outputs": [],
   "source": [
    "from sklearn.linear_model import LogisticRegression"
   ]
  },
  {
   "cell_type": "code",
   "execution_count": null,
   "id": "bb306607",
   "metadata": {},
   "outputs": [],
   "source": [
    "from sklearn.metrics import (confusion_matrix, roc_auc_score, f1_score,\n",
    "                            accuracy_score, precision_score, recall_score,\n",
    "                            precision_recall_curve, roc_curve)"
   ]
  },
  {
   "cell_type": "code",
   "execution_count": null,
   "id": "96d2c705",
   "metadata": {},
   "outputs": [],
   "source": [
    "import seaborn as sns"
   ]
  },
  {
   "cell_type": "code",
   "execution_count": null,
   "id": "26b3d215",
   "metadata": {},
   "outputs": [],
   "source": [
    "import matplotlib.pyplot as plt"
   ]
  },
  {
   "cell_type": "code",
   "execution_count": null,
   "id": "fe27e36a",
   "metadata": {},
   "outputs": [],
   "source": [
    "import random"
   ]
  },
  {
   "cell_type": "code",
   "execution_count": null,
   "id": "869d96c3",
   "metadata": {},
   "outputs": [],
   "source": [
    "# This data is the curated data that comes out of \"data_prep2.0\"\n",
    "data = pd.read_csv(r\"..\\..\\data_curated\\pairs_us_diffs.csv\", low_memory = False)"
   ]
  },
  {
   "cell_type": "code",
   "execution_count": null,
   "id": "ca764084",
   "metadata": {},
   "outputs": [],
   "source": [
    "data.dtypes"
   ]
  },
  {
   "cell_type": "code",
   "execution_count": null,
   "id": "e352f171",
   "metadata": {},
   "outputs": [],
   "source": [
    "data.columns"
   ]
  },
  {
   "cell_type": "code",
   "execution_count": null,
   "id": "f2a3e28d",
   "metadata": {},
   "outputs": [],
   "source": [
    "feature_dict = {'x_col_csim': ['geo_theta_diff', 'name_csim', 'address_csim',\n",
    "       'city_csim', 'state_csim', 'zip_csim', 'url_csim', 'phone_csim',\n",
    "       'categories_csim'], \n",
    "                'x_col_seq':['geo_theta_diff', 'name_diff_seq',\n",
    "       'address_diff_seq', 'city_diff_seq','state_diff_seq', 'zip_diff_seq',\n",
    "       'url_diff_seq', 'phone_diff_seq', 'categories_diff_seq'],\n",
    "               'x_col_lev':['geo_theta_diff', 'name_diff_lev',\n",
    "       'address_diff_lev', 'city_diff_lev','state_diff_lev', 'zip_diff_lev',\n",
    "       'url_diff_lev', 'phone_diff_lev', 'categories_diff_lev'] }"
   ]
  },
  {
   "cell_type": "code",
   "execution_count": null,
   "id": "ecebc7b2",
   "metadata": {},
   "outputs": [],
   "source": [
    "feature_dict['x_col_csim']"
   ]
  },
  {
   "cell_type": "markdown",
   "id": "d326f60b",
   "metadata": {},
   "source": [
    "## Logistic Regression With Hyperparameter tuning and K-fold Cross_validation"
   ]
  },
  {
   "cell_type": "code",
   "execution_count": null,
   "id": "0a197197",
   "metadata": {},
   "outputs": [],
   "source": [
    "def logistic_regression_pipe(features, labels):\n",
    "    x_train, x_test, y_train, y_test = train_test_split(features, labels,\n",
    "                                                    shuffle = True,\n",
    "                                                    random_state = 614,\n",
    "                                                   test_size = 0.2,\n",
    "                                                   stratify = labels)\n",
    "    skf = StratifiedKFold(n_splits = 10, shuffle = True, random_state = 614)\n",
    "    lreg = LogisticRegression()\n",
    "    #HyperParameters\n",
    "    solvers = ['newton-cg', 'lbfgs', 'liblinear']\n",
    "    penalty = ['l2']\n",
    "    c_values = [100, 50, 10, 5, 1.0, 0.5, 0.1, 0.05, 0.01]\n",
    "    grid = dict(solver=solvers,penalty=penalty,C=c_values)\n",
    "    grid_search = GridSearchCV(estimator=lreg, param_grid=grid, n_jobs=-1, cv=skf, scoring='accuracy',error_score=0)\n",
    "    grid_result = grid_search.fit(x_train, y_train)\n",
    "    print(\"Best: %f using %s\" % (grid_result.best_score_, grid_result.best_params_))\n",
    "    means = grid_result.cv_results_['mean_test_score']\n",
    "    stds = grid_result.cv_results_['std_test_score']\n",
    "    params = grid_result.cv_results_['params']\n",
    "    for mean, stdev, param in zip(means, stds, params):\n",
    "        print(\"%f (%f) with: %r\" % (mean, stdev, param))\n",
    "    return means, stds, params"
   ]
  },
  {
   "cell_type": "code",
   "execution_count": null,
   "id": "bf3d8008",
   "metadata": {},
   "outputs": [],
   "source": [
    "for features in feature_dict:\n",
    "    print(features)\n",
    "    logistic_regression_pipe(features = data[feature_dict[features]], labels = data['match'])"
   ]
  },
  {
   "cell_type": "markdown",
   "id": "4ab08c35",
   "metadata": {},
   "source": [
    "What I get from above is that the levenshtein distance works as the best metric. I ran this twice with \"geo_diff\" and \"geo_theta_diff\" (not shown with \"geo_diff\"). They give nearly identical results so I'll stick with \"geo_theta_diff\" because I believe it to be the most accurate metric. </br> </br>\n",
    "Here's what I will use for the \"best logistic regression\" on the test set.\n",
    "\n",
    "x_col_lev\n",
    "Best: 0.760583 using {'C': 0.01, 'penalty': 'l2', 'solver': 'liblinear'}"
   ]
  },
  {
   "cell_type": "code",
   "execution_count": null,
   "id": "625cc1f7",
   "metadata": {},
   "outputs": [],
   "source": [
    "lreg_best = LogisticRegression(penalty = 'l2', solver = 'liblinear', C = 0.01)"
   ]
  },
  {
   "cell_type": "code",
   "execution_count": null,
   "id": "36064663",
   "metadata": {},
   "outputs": [],
   "source": [
    "#Defining Test Set that will be used for next logistic regression\n",
    "x_train, x_test, y_train, y_test = train_test_split(data[feature_dict['x_col_lev']], data['match'],\n",
    "                                                    shuffle = True,\n",
    "                                                    random_state = 614,\n",
    "                                                   test_size = 0.2,\n",
    "                                                   stratify = data['match'])"
   ]
  },
  {
   "cell_type": "code",
   "execution_count": null,
   "id": "47ed3cec",
   "metadata": {},
   "outputs": [],
   "source": [
    "scores = cross_validate(lreg_best, x_train, y_train, cv = skf, scoring = ['accuracy', 'roc_auc', 'f1', 'average_precision', 'jaccard'], n_jobs = -1)"
   ]
  },
  {
   "cell_type": "code",
   "execution_count": null,
   "id": "ef3fed1e",
   "metadata": {},
   "outputs": [],
   "source": [
    "scores"
   ]
  },
  {
   "cell_type": "markdown",
   "id": "4478161f",
   "metadata": {},
   "source": [
    "Results"
   ]
  },
  {
   "cell_type": "code",
   "execution_count": null,
   "id": "6b37b4c6",
   "metadata": {},
   "outputs": [],
   "source": [
    "print('Mean Accuracy')\n",
    "print(np.mean(scores['test_accuracy']))\n",
    "print('Mean roc_auc')\n",
    "print(np.mean(scores['test_roc_auc']))\n",
    "print('Mean F1')\n",
    "print(np.mean(scores['test_f1']))\n",
    "print('Mean Average Precision')\n",
    "print(np.mean(scores['test_average_precision']))\n",
    "print('Mean Jaccard')\n",
    "print(np.mean(scores['test_jaccard']))"
   ]
  },
  {
   "cell_type": "markdown",
   "id": "a97f984d",
   "metadata": {},
   "source": [
    "## Logistic Regression on Test Set"
   ]
  },
  {
   "cell_type": "code",
   "execution_count": null,
   "id": "488a4fdd",
   "metadata": {},
   "outputs": [],
   "source": [
    "#lreg_best = LogisticRegression()\n",
    "lreg_best.fit(x_train, y_train)\n",
    "y_pred = lreg_best.predict(x_test)"
   ]
  },
  {
   "cell_type": "code",
   "execution_count": null,
   "id": "1defb320",
   "metadata": {},
   "outputs": [],
   "source": [
    "confusion_matrix(y_test, y_pred)"
   ]
  },
  {
   "cell_type": "code",
   "execution_count": null,
   "id": "bfdcf587",
   "metadata": {},
   "outputs": [],
   "source": [
    "roc_auc_score(y_test, y_pred)"
   ]
  },
  {
   "cell_type": "code",
   "execution_count": null,
   "id": "c8f5e9bb",
   "metadata": {},
   "outputs": [],
   "source": [
    "f1_score(y_test, y_pred)"
   ]
  },
  {
   "cell_type": "code",
   "execution_count": null,
   "id": "697aa928",
   "metadata": {},
   "outputs": [],
   "source": [
    "accuracy_score(y_test, y_pred)"
   ]
  },
  {
   "cell_type": "code",
   "execution_count": null,
   "id": "d7105695",
   "metadata": {},
   "outputs": [],
   "source": [
    "precision, recall, thresholds = precision_recall_curve(y_test, lreg_best.predict_proba(x_test)[:,1])"
   ]
  },
  {
   "cell_type": "code",
   "execution_count": null,
   "id": "d23557cd",
   "metadata": {},
   "outputs": [],
   "source": [
    "plt.figure(figsize=(12,8))\n",
    "\n",
    "plt.plot(recall,precision)\n",
    "\n",
    "plt.xlabel(\"Recall\",fontsize=16)\n",
    "plt.ylabel(\"Precision\",fontsize=16)\n",
    "\n",
    "plt.show()"
   ]
  },
  {
   "cell_type": "code",
   "execution_count": null,
   "id": "49646a8d",
   "metadata": {},
   "outputs": [],
   "source": [
    "fpr, tpr, thresholds = roc_curve(y_test, lreg_best.predict_proba(x_test)[:,1])"
   ]
  },
  {
   "cell_type": "code",
   "execution_count": null,
   "id": "7ef0ee71",
   "metadata": {},
   "outputs": [],
   "source": [
    "plt.figure(figsize=(12,8))\n",
    "\n",
    "plt.plot(fpr,tpr)\n",
    "\n",
    "plt.xlabel(\"False Positive Rate\",fontsize=16)\n",
    "plt.ylabel(\"True Positive Rate\",fontsize=16)\n",
    "\n",
    "plt.show()"
   ]
  },
  {
   "cell_type": "code",
   "execution_count": null,
   "id": "97ff0431",
   "metadata": {},
   "outputs": [],
   "source": [
    "cutoffs = np.arange(0, 1.01, 0.01)\n",
    "y_train_prob = lreg_best.predict_proba(x_train)[:,1]\n",
    "accs = []\n",
    "aucs = []\n",
    "f1s = []\n",
    "precision = []\n",
    "recall = []\n",
    "for cutoff in cutoffs:\n",
    "    cutoffs = np.arange(0, 1.01, 0.01)\n",
    "    y_train_pred = 1*(y_train_prob >= cutoff)\n",
    "    \n",
    "    #accs.append(np.sum(y_train_pred == y_train)/len(y_train))\n",
    "    accs.append(accuracy_score(y_train, y_train_pred))\n",
    "    aucs.append(roc_auc_score(y_train, y_train_pred))\n",
    "    f1s.append(f1_score(y_train, y_train_pred))\n",
    "    \n",
    "plt.figure(figsize=(12,8))\n",
    "\n",
    "plt.scatter(cutoffs,accs)\n",
    "\n",
    "plt.xlabel(\"Cutoff\",fontsize=16)\n",
    "plt.ylabel(\"Training Accuracy\",fontsize=16)\n",
    "\n",
    "plt.show()\n",
    "\n",
    "plt.figure(figsize=(12,8))\n",
    "\n",
    "plt.scatter(cutoffs,aucs)\n",
    "\n",
    "plt.xlabel(\"Cutoff\",fontsize=16)\n",
    "plt.ylabel(\"AUC\",fontsize=16)\n",
    "\n",
    "plt.show()\n",
    "\n",
    "plt.figure(figsize=(12,8))\n",
    "\n",
    "plt.scatter(cutoffs,f1s)\n",
    "\n",
    "plt.xlabel(\"Cutoff\",fontsize=16)\n",
    "plt.ylabel(\"F1\",fontsize=16)\n",
    "\n",
    "plt.show()\n"
   ]
  },
  {
   "cell_type": "code",
   "execution_count": null,
   "id": "8cecb444",
   "metadata": {},
   "outputs": [],
   "source": [
    "max(aucs)"
   ]
  },
  {
   "cell_type": "code",
   "execution_count": null,
   "id": "b57069bb",
   "metadata": {},
   "outputs": [],
   "source": [
    "max(accs)"
   ]
  },
  {
   "cell_type": "code",
   "execution_count": null,
   "id": "6e769766",
   "metadata": {},
   "outputs": [],
   "source": [
    "max(f1s)"
   ]
  },
  {
   "cell_type": "markdown",
   "id": "9d26c6eb",
   "metadata": {},
   "source": [
    "# Random Forest"
   ]
  },
  {
   "cell_type": "code",
   "execution_count": null,
   "id": "7abad151",
   "metadata": {},
   "outputs": [],
   "source": [
    "#Train Test Split Using Levensthein Columns\n",
    "x_train, x_test, y_train, y_test = train_test_split(data[feature_dict['x_col_lev']], data['match'],\n",
    "                                                    shuffle = True,\n",
    "                                                    random_state = 614,\n",
    "                                                   test_size = 0.2,\n",
    "                                                   stratify = data['match'])"
   ]
  },
  {
   "cell_type": "markdown",
   "id": "caccb60e",
   "metadata": {},
   "source": [
    "## First Quick Cut"
   ]
  },
  {
   "cell_type": "code",
   "execution_count": null,
   "id": "c6dda733",
   "metadata": {},
   "outputs": [],
   "source": [
    "from sklearn.ensemble import RandomForestClassifier"
   ]
  },
  {
   "cell_type": "code",
   "execution_count": null,
   "id": "ffe96025",
   "metadata": {},
   "outputs": [],
   "source": [
    "rf = RandomForestClassifier(400, \n",
    "                                max_features = 'auto', \n",
    "                                random_state = 614,\n",
    "                                min_samples_split = 10,\n",
    "                                min_samples_leaf = 4,\n",
    "                                max_depth = 70)"
   ]
  },
  {
   "cell_type": "code",
   "execution_count": null,
   "id": "763ecd8d",
   "metadata": {},
   "outputs": [],
   "source": [
    "rf.fit(x_train,y_train)"
   ]
  },
  {
   "cell_type": "code",
   "execution_count": null,
   "id": "e1621375",
   "metadata": {},
   "outputs": [],
   "source": [
    "y_rf_pred = rf.predict(x_test)"
   ]
  },
  {
   "cell_type": "code",
   "execution_count": null,
   "id": "dd5bc50a",
   "metadata": {},
   "outputs": [],
   "source": [
    "f1_score(y_test, y_rf_pred)"
   ]
  },
  {
   "cell_type": "code",
   "execution_count": null,
   "id": "ba5ad513",
   "metadata": {},
   "outputs": [],
   "source": [
    "accuracy_score(y_test, y_rf_pred)"
   ]
  },
  {
   "cell_type": "code",
   "execution_count": null,
   "id": "6995aaa8",
   "metadata": {},
   "outputs": [],
   "source": [
    "confusion_matrix(y_test, y_rf_pred)"
   ]
  },
  {
   "cell_type": "code",
   "execution_count": null,
   "id": "5d2d6292",
   "metadata": {},
   "outputs": [],
   "source": [
    "rf.feature_importances_"
   ]
  },
  {
   "cell_type": "code",
   "execution_count": null,
   "id": "ff989cc0",
   "metadata": {},
   "outputs": [],
   "source": [
    "x_test.columns"
   ]
  },
  {
   "cell_type": "markdown",
   "id": "50830475",
   "metadata": {},
   "source": [
    "## Hyperparameter Tuning"
   ]
  },
  {
   "cell_type": "code",
   "execution_count": null,
   "id": "22027bbf",
   "metadata": {},
   "outputs": [],
   "source": [
    "def random_forest_pipe(features, labels):\n",
    "    #Train test split\n",
    "    x_train, x_test, y_train, y_test = train_test_split(features, labels,\n",
    "                                                    shuffle = True,\n",
    "                                                    random_state = 614,\n",
    "                                                   test_size = 0.2,\n",
    "                                                   stratify = data['match'])\n",
    "    #Defining Estimators\n",
    "    # Number of trees in random forest\n",
    "    n_estimators = [int(x) for x in np.linspace(start = 200, stop = 1200, num = 6)]\n",
    "    # Number of features to consider at every split\n",
    "    max_features = ['auto', 'sqrt']\n",
    "    # Maximum number of levels in tree\n",
    "    max_depth = [int(x) for x in np.linspace(10, 110, num = 11)]\n",
    "    max_depth.append(None)\n",
    "    # Minimum number of samples required to split a node\n",
    "    min_samples_split = [2, 5, 10]\n",
    "    # Minimum number of samples required at each leaf node\n",
    "    min_samples_leaf = [2, 4, 10]\n",
    "    # Method of selecting samples for training each tree\n",
    "    bootstrap = [True, False]\n",
    "    # Create the random grid\n",
    "    random_grid = {'n_estimators': n_estimators,\n",
    "                   'max_features': max_features,\n",
    "                   'max_depth': max_depth,\n",
    "                   'min_samples_split': min_samples_split,\n",
    "                   'min_samples_leaf': min_samples_leaf,\n",
    "                   'bootstrap': bootstrap}\n",
    "    # Use the random grid to search for best hyperparameters\n",
    "    # First create the base model to tune\n",
    "    rf = RandomForestClassifier()\n",
    "    # Random search of parameters, using 3 fold cross validation, \n",
    "    # search across 100 different combinations, and use all available cores\n",
    "    rf_random = RandomizedSearchCV(estimator = rf, param_distributions = random_grid, n_iter = 20, cv = 3, verbose=2, random_state=614, n_jobs = -1)\n",
    "    # Fit the random search model\n",
    "    rf_random.fit(x_train, y_train)\n",
    "    \n",
    "    print(rf_random.best_params_)\n",
    "    \n",
    "    return rf_random\n",
    "    "
   ]
  },
  {
   "cell_type": "code",
   "execution_count": null,
   "id": "ad8f3137",
   "metadata": {},
   "outputs": [],
   "source": [
    "rf_random = random_forest_pipe(features = data[feature_dict['x_col_lev']], labels = data['match'])"
   ]
  },
  {
   "cell_type": "code",
   "execution_count": null,
   "id": "17121e1b",
   "metadata": {},
   "outputs": [],
   "source": [
    "rf_random.best_params_"
   ]
  },
  {
   "cell_type": "code",
   "execution_count": null,
   "id": "1d56f2f5",
   "metadata": {},
   "outputs": [],
   "source": [
    "rf_best = RandomForestClassifier(600, \n",
    "                                max_features = 'sqrt', \n",
    "                                random_state = 614,\n",
    "                                min_samples_split = 5,\n",
    "                                min_samples_leaf = 4,\n",
    "                                max_depth = 100)"
   ]
  },
  {
   "cell_type": "code",
   "execution_count": null,
   "id": "fa0aef94",
   "metadata": {},
   "outputs": [],
   "source": [
    "x_train, x_test, y_train, y_test = train_test_split(data[feature_dict['x_col_lev']], data['match'],\n",
    "                                                    shuffle = True,\n",
    "                                                    random_state = 614,\n",
    "                                                   test_size = 0.2,\n",
    "                                                   stratify = data['match'])"
   ]
  },
  {
   "cell_type": "code",
   "execution_count": null,
   "id": "9641ddc7",
   "metadata": {},
   "outputs": [],
   "source": [
    "rf_best.fit(x_train,y_train)"
   ]
  },
  {
   "cell_type": "code",
   "execution_count": null,
   "id": "6a292242",
   "metadata": {},
   "outputs": [],
   "source": [
    "y_rf_pred = rf_best.predict(x_test)"
   ]
  },
  {
   "cell_type": "code",
   "execution_count": null,
   "id": "923e35f9",
   "metadata": {},
   "outputs": [],
   "source": [
    "f1_score(y_test, y_rf_pred)"
   ]
  },
  {
   "cell_type": "code",
   "execution_count": null,
   "id": "b30bae65",
   "metadata": {},
   "outputs": [],
   "source": [
    "accuracy_score(y_test, y_rf_pred)"
   ]
  },
  {
   "cell_type": "code",
   "execution_count": null,
   "id": "0d0f95f6",
   "metadata": {},
   "outputs": [],
   "source": [
    "roc_auc_score(y_test, y_rf_pred)"
   ]
  },
  {
   "cell_type": "code",
   "execution_count": null,
   "id": "50259a71",
   "metadata": {},
   "outputs": [],
   "source": [
    "confusion_matrix(y_test, y_rf_pred)"
   ]
  },
  {
   "cell_type": "code",
   "execution_count": null,
   "id": "d0191718",
   "metadata": {},
   "outputs": [],
   "source": [
    "rf_best.feature_importances_"
   ]
  },
  {
   "cell_type": "markdown",
   "id": "8e46226a",
   "metadata": {},
   "source": [
    "## A Naive Model V1: (developed by Ling Zhou) "
   ]
  },
  {
   "cell_type": "code",
   "execution_count": null,
   "id": "4aa0fbd9",
   "metadata": {},
   "outputs": [],
   "source": [
    "baseline_cols = ['geo_diff', 'name_diff_lev', 'address_diff_lev']"
   ]
  },
  {
   "cell_type": "code",
   "execution_count": null,
   "id": "20591753",
   "metadata": {},
   "outputs": [],
   "source": [
    "x_train, x_test, y_train, y_test = train_test_split(data[baseline_cols], data['match'],\n",
    "                                                    shuffle = True,\n",
    "                                                    random_state = 614,\n",
    "                                                   test_size = 0.2,\n",
    "                                                   stratify = data['match'])"
   ]
  },
  {
   "cell_type": "code",
   "execution_count": null,
   "id": "110383f3",
   "metadata": {
    "id": "lMkedRxfHR7X"
   },
   "outputs": [],
   "source": [
    "def baseline(df, cols, thresh):\n",
    "    df_copy = df.copy()\n",
    "    df_copy['match'] = np.random.choice([True, False], len(df))\n",
    "    df_copy.loc[df_copy[cols].max(axis=1)<thresh] = True\n",
    "    \n",
    "    return df_copy"
   ]
  },
  {
   "cell_type": "raw",
   "id": "30cfd68e",
   "metadata": {
    "colab": {
     "base_uri": "https://localhost:8080/"
    },
    "id": "hBfwNaNGIe9h",
    "outputId": "ad334613-290d-491b-914e-60acdc81c516"
   },
   "source": [
    "# Using SequenceMatcher\n",
    "cols = ['location_diff','name_diff','address_diff']\n",
    "y_test = data['match']\n",
    "y_pred = baseline(data, cols, 0.1).match\n",
    "print(confusion_matrix(y_test,y_pred),'\\n', roc_auc_score(y_test,y_pred))"
   ]
  },
  {
   "cell_type": "code",
   "execution_count": null,
   "id": "f4b5c983",
   "metadata": {
    "colab": {
     "base_uri": "https://localhost:8080/"
    },
    "id": "MAfWyMOiKpY1",
    "outputId": "ea26458e-e298-47cf-fca2-c8a8fa702f3b"
   },
   "outputs": [],
   "source": [
    "# Using Levenshtein distance\n",
    "#cols = ['location_diff','name_diff','address_diff']\n",
    "#y_test = data['match']\n",
    "y_pred = baseline(x_test, baseline_cols, 0.1).match\n",
    "print(confusion_matrix(y_test,y_pred),'\\n', roc_auc_score(y_test,y_pred))"
   ]
  },
  {
   "cell_type": "code",
   "execution_count": null,
   "id": "c1174ac4",
   "metadata": {},
   "outputs": [],
   "source": [
    "f1_score(y_test, y_pred)"
   ]
  },
  {
   "cell_type": "code",
   "execution_count": null,
   "id": "0b15cd2d",
   "metadata": {},
   "outputs": [],
   "source": [
    "accuracy_score(y_test, y_pred)"
   ]
  },
  {
   "cell_type": "code",
   "execution_count": null,
   "id": "53444bce",
   "metadata": {},
   "outputs": [],
   "source": [
    "roc_auc_score(y_test, y_pred)"
   ]
  },
  {
   "cell_type": "markdown",
   "id": "cfcab502",
   "metadata": {},
   "source": [
    "## A Naive Model V2: Guess all matches are True"
   ]
  },
  {
   "cell_type": "code",
   "execution_count": null,
   "id": "e622533d",
   "metadata": {},
   "outputs": [],
   "source": [
    "sample_arr = [True]\n",
    "\n",
    "naive_pred = np.random.choice(sample_arr, len(y_test))"
   ]
  },
  {
   "cell_type": "code",
   "execution_count": null,
   "id": "8bceaa20",
   "metadata": {},
   "outputs": [],
   "source": [
    "naive_pred"
   ]
  },
  {
   "cell_type": "code",
   "execution_count": null,
   "id": "f2c038b2",
   "metadata": {},
   "outputs": [],
   "source": [
    "confusion_matrix(y_test, naive_pred)"
   ]
  },
  {
   "cell_type": "code",
   "execution_count": null,
   "id": "315be060",
   "metadata": {},
   "outputs": [],
   "source": [
    "roc_auc_score(y_test, naive_pred)"
   ]
  },
  {
   "cell_type": "code",
   "execution_count": null,
   "id": "8bb1c7f7",
   "metadata": {},
   "outputs": [],
   "source": [
    "f1_score(y_test, naive_pred)"
   ]
  },
  {
   "cell_type": "code",
   "execution_count": null,
   "id": "36c2733c",
   "metadata": {},
   "outputs": [],
   "source": [
    "accuracy_score(y_test, naive_pred)"
   ]
  },
  {
   "cell_type": "code",
   "execution_count": null,
   "id": "13add2d5",
   "metadata": {},
   "outputs": [],
   "source": []
  }
 ],
 "metadata": {
  "kernelspec": {
   "display_name": "Python 3",
   "language": "python",
   "name": "python3"
  },
  "language_info": {
   "codemirror_mode": {
    "name": "ipython",
    "version": 3
   },
   "file_extension": ".py",
   "mimetype": "text/x-python",
   "name": "python",
   "nbconvert_exporter": "python",
   "pygments_lexer": "ipython3",
   "version": "3.8.5"
  }
 },
 "nbformat": 4,
 "nbformat_minor": 5
}
