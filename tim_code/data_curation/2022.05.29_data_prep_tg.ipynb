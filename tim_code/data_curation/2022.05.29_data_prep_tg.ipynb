{
 "cells": [
  {
   "cell_type": "markdown",
   "id": "46a8fa0a",
   "metadata": {},
   "source": [
    "# Data Prep for Modeling"
   ]
  },
  {
   "cell_type": "markdown",
   "id": "06e7fa80",
   "metadata": {},
   "source": [
    "Author: Tim Gorman"
   ]
  },
  {
   "cell_type": "markdown",
   "id": "d3cc9f75",
   "metadata": {},
   "source": [
    "In this code I prep the pairs data for cosine similarity calculations. We'll be using the subset of data that is just 'US' Country Code from pairs.csv."
   ]
  },
  {
   "cell_type": "code",
   "execution_count": null,
   "id": "06254a71",
   "metadata": {
    "id": "MC62YNpkU4xF",
    "tags": []
   },
   "outputs": [],
   "source": [
    "import pandas as pd\n",
    "import numpy as np\n",
    "import string\n",
    "from sklearn.metrics.pairwise import cosine_similarity\n",
    "from sklearn.feature_extraction.text import CountVectorizer\n",
    "from nltk.corpus import stopwords\n",
    "stopwords = stopwords.words('english')\n",
    "\n",
    "# from googletrans import Translator, constants\n",
    "import seaborn as sns\n",
    "import langdetect\n",
    "#from langdetect import detect\n",
    "import matplotlib.pyplot as plt"
   ]
  },
  {
   "cell_type": "code",
   "execution_count": null,
   "id": "da36e1bb",
   "metadata": {
    "id": "U3nKi21PU4xN"
   },
   "outputs": [],
   "source": [
    "# # Tim loading\n",
    "df_pairs = pd.read_csv('../../data_raw/pairs.csv')"
   ]
  },
  {
   "cell_type": "code",
   "execution_count": null,
   "id": "59ca2771",
   "metadata": {},
   "outputs": [],
   "source": [
    "df_pairs.info()"
   ]
  },
  {
   "cell_type": "markdown",
   "id": "53b49d42",
   "metadata": {},
   "source": [
    "## Reducing to US Matches"
   ]
  },
  {
   "cell_type": "code",
   "execution_count": null,
   "id": "06311f46",
   "metadata": {
    "id": "_CFueOCeU4xV"
   },
   "outputs": [],
   "source": [
    "df_pairs = df_pairs[(df_pairs['country_1'] == 'US') & (df_pairs['country_2'] == 'US')]"
   ]
  },
  {
   "cell_type": "code",
   "execution_count": null,
   "id": "51ef8c43",
   "metadata": {},
   "outputs": [],
   "source": [
    "df_pairs.head()"
   ]
  },
  {
   "cell_type": "markdown",
   "id": "e3d63a6a",
   "metadata": {},
   "source": [
    "## Definining Types, Filling NA Values, Lower Casing, and Remvoing Punctuation"
   ]
  },
  {
   "cell_type": "code",
   "execution_count": null,
   "id": "6aabe9b4",
   "metadata": {},
   "outputs": [],
   "source": [
    "string_features = ['name_1', 'name_2',\n",
    "                  'address_1', 'address_2', 'city_1', 'city_2',\n",
    "                  'state_1', 'state_2', 'zip_1', 'zip_2',\n",
    "                 'country_1', 'country_2', 'url_1', 'url_2',\n",
    "                 'phone_1', 'phone_2', 'categories_1', 'categories_2']"
   ]
  },
  {
   "cell_type": "code",
   "execution_count": null,
   "id": "0d3575ed",
   "metadata": {},
   "outputs": [],
   "source": [
    "position_features = ['latitude_1', 'latitude_2', 'longitude_1', 'longitude_2']"
   ]
  },
  {
   "cell_type": "code",
   "execution_count": null,
   "id": "32ba9851",
   "metadata": {},
   "outputs": [],
   "source": [
    "df_pairs[string_features] = df_pairs[string_features].fillna('').astype(str).apply(\n",
    "    lambda x: x.str.lower().str.replace('[{}]'.format(string.punctuation),''))\n"
   ]
  },
  {
   "cell_type": "code",
   "execution_count": null,
   "id": "3a9e5f07",
   "metadata": {},
   "outputs": [],
   "source": [
    "df_pairs.head()"
   ]
  },
  {
   "cell_type": "code",
   "execution_count": null,
   "id": "e13cb540",
   "metadata": {},
   "outputs": [],
   "source": [
    "df_pairs[position_features] = df_pairs[position_features].astype('float64')"
   ]
  },
  {
   "cell_type": "code",
   "execution_count": null,
   "id": "9ce22e72",
   "metadata": {},
   "outputs": [],
   "source": [
    "df_pairs = df_pairs.reset_index().drop('index', axis = 1)"
   ]
  },
  {
   "cell_type": "markdown",
   "id": "8c1eda07",
   "metadata": {},
   "source": [
    "## Calculating Angular Difference for Lat. and Long."
   ]
  },
  {
   "cell_type": "code",
   "execution_count": null,
   "id": "b7eaa5b6",
   "metadata": {},
   "outputs": [],
   "source": [
    "df_pairs['theta_diff'] = np.abs(np.arctan(np.sqrt(\n",
    "    (np.cos(np.radians(df_pairs['latitude_2']))*np.sin(np.radians(df_pairs['longitude_1']-df_pairs['longitude_2'])))**2 +\n",
    "        (np.cos(np.radians(df_pairs['latitude_1']))*np.sin(np.radians(df_pairs['latitude_2']))-\n",
    "            np.sin(np.radians(df_pairs['latitude_1']))*np.cos(np.radians(df_pairs['latitude_2']))*np.cos(np.radians(df_pairs['longitude_1']-df_pairs['longitude_2'])))**2\n",
    "                                                )/\n",
    "    (np.sin(np.radians(df_pairs['latitude_1']))*np.sin(np.radians(df_pairs['latitude_2']))+\n",
    "        np.cos(np.radians(df_pairs['latitude_1']))*np.cos(np.radians(df_pairs['latitude_2']))*np.cos(np.radians(df_pairs['longitude_1']-df_pairs['longitude_2']))\n",
    "    )\n",
    "                                               )\n",
    "                                      )"
   ]
  },
  {
   "cell_type": "markdown",
   "id": "4e3a9fbf",
   "metadata": {},
   "source": [
    "## Calculating Cosine Similarities for String Features"
   ]
  },
  {
   "cell_type": "code",
   "execution_count": null,
   "id": "3e60cca4",
   "metadata": {},
   "outputs": [],
   "source": [
    "for item in string_features:\n",
    "        cosines = []\n",
    "        if \"_1\" in item:\n",
    "            print(item)\n",
    "            for i in range(len(df_pairs)):\n",
    "                try:\n",
    "                    if (df_pairs[item].iloc[i] == '') | (df_pairs[item.replace('_1', '_2')].iloc[i] == ''):\n",
    "                        csim = -1\n",
    "                    elif (df_pairs[item].iloc[i] == ' ') | (df_pairs[item.replace('_1', '_2')].iloc[i] == ' '):\n",
    "                        csim = -1\n",
    "                    else:\n",
    "                        csim = cosine_similarity(CountVectorizer().fit_transform([df_pairs[item].iloc[i], df_pairs[item.replace('_1', '_2')].iloc[i]]).toarray())[0][1]\n",
    "                        pass\n",
    "                except ValueError:\n",
    "                    csim = -1 \n",
    "                    continue\n",
    "                cosines.append(csim)\n",
    "            df_pairs[item.replace('_1', '_cos')] = pd.DataFrame(cosines)\n",
    "            \n",
    "        "
   ]
  },
  {
   "cell_type": "markdown",
   "id": "3cedd55a",
   "metadata": {},
   "source": [
    "Filling any remaining NaNs in the cosine features with -1."
   ]
  },
  {
   "cell_type": "code",
   "execution_count": null,
   "id": "4ff8e52c",
   "metadata": {},
   "outputs": [],
   "source": [
    "cos_features = ['name_cos', 'address_cos', \n",
    "                'city_cos', 'state_cos', 'zip_cos', 'country_cos',\n",
    "                'url_cos', 'phone_cos', 'categories_cos']"
   ]
  },
  {
   "cell_type": "code",
   "execution_count": null,
   "id": "032cc0f1",
   "metadata": {},
   "outputs": [],
   "source": [
    "df_pairs[cos_features] = df_pairs[cos_features].fillna(-1)"
   ]
  },
  {
   "cell_type": "code",
   "execution_count": null,
   "id": "0b76449c",
   "metadata": {},
   "outputs": [],
   "source": [
    "df_pairs = df_pairs.drop(string_features, axis = 1)"
   ]
  },
  {
   "cell_type": "code",
   "execution_count": null,
   "id": "4c7ebedb",
   "metadata": {},
   "outputs": [],
   "source": [
    "df_pairs = df_pairs.drop('country_cos', axis = 1)"
   ]
  },
  {
   "cell_type": "code",
   "execution_count": null,
   "id": "eb4c2676",
   "metadata": {},
   "outputs": [],
   "source": [
    "df_pairs.head()"
   ]
  },
  {
   "cell_type": "code",
   "execution_count": null,
   "id": "aaa0d6ef",
   "metadata": {},
   "outputs": [],
   "source": [
    "df_pairs.info()"
   ]
  },
  {
   "cell_type": "code",
   "execution_count": null,
   "id": "6fb0706a",
   "metadata": {},
   "outputs": [],
   "source": [
    "df_pairs.describe()"
   ]
  },
  {
   "cell_type": "code",
   "execution_count": null,
   "id": "e53d6cab",
   "metadata": {},
   "outputs": [],
   "source": [
    "df_pairs_corr = df_pairs.corr()"
   ]
  },
  {
   "cell_type": "code",
   "execution_count": null,
   "id": "35ae18f1",
   "metadata": {},
   "outputs": [],
   "source": [
    "sns.heatmap(df_pairs_corr)"
   ]
  },
  {
   "cell_type": "markdown",
   "id": "8e720bb1",
   "metadata": {},
   "source": [
    "# Saving dataframe to CSV"
   ]
  },
  {
   "cell_type": "code",
   "execution_count": null,
   "id": "3e36a7e8",
   "metadata": {},
   "outputs": [],
   "source": [
    "df_pairs.to_csv('../../data_curated/pairs_us_cosines.csv')"
   ]
  },
  {
   "cell_type": "code",
   "execution_count": null,
   "id": "90b2a6fc",
   "metadata": {},
   "outputs": [],
   "source": []
  }
 ],
 "metadata": {
  "kernelspec": {
   "display_name": "Python 3",
   "language": "python",
   "name": "python3"
  },
  "language_info": {
   "codemirror_mode": {
    "name": "ipython",
    "version": 3
   },
   "file_extension": ".py",
   "mimetype": "text/x-python",
   "name": "python",
   "nbconvert_exporter": "python",
   "pygments_lexer": "ipython3",
   "version": "3.8.5"
  }
 },
 "nbformat": 4,
 "nbformat_minor": 5
}
