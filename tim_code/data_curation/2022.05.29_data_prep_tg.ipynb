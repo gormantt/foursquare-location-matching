{
 "cells": [
  {
   "cell_type": "markdown",
   "id": "950e9d43",
   "metadata": {},
   "source": [
    "# Data Prep for Modeling"
   ]
  },
  {
   "cell_type": "markdown",
   "id": "4c829b96",
   "metadata": {},
   "source": [
    "Author: Tim Gorman"
   ]
  },
  {
   "cell_type": "markdown",
   "id": "890f2689",
   "metadata": {},
   "source": [
    "In this code I prep the pairs data for cosine similarity calculations. We'll be using the subset of data that is just 'US' Country Code from pairs.csv."
   ]
  },
  {
   "cell_type": "code",
   "execution_count": null,
   "id": "e6f736a0",
   "metadata": {
    "id": "MC62YNpkU4xF",
    "tags": []
   },
   "outputs": [],
   "source": [
    "import pandas as pd\n",
    "import numpy as np\n",
    "import string\n",
    "from sklearn.metrics.pairwise import cosine_similarity\n",
    "from sklearn.feature_extraction.text import CountVectorizer\n",
    "from nltk.corpus import stopwords\n",
    "stopwords = stopwords.words('english')\n",
    "\n",
    "# from googletrans import Translator, constants\n",
    "import seaborn as sns\n",
    "import langdetect\n",
    "#from langdetect import detect\n",
    "import matplotlib.pyplot as plt"
   ]
  },
  {
   "cell_type": "code",
   "execution_count": null,
   "id": "5d2099f1",
   "metadata": {
    "id": "U3nKi21PU4xN"
   },
   "outputs": [],
   "source": [
    "# # Tim loading\n",
    "df_pairs = pd.read_csv('../../data_raw/pairs.csv')"
   ]
  },
  {
   "cell_type": "code",
   "execution_count": null,
   "id": "b6e548b4",
   "metadata": {},
   "outputs": [],
   "source": [
    "df_pairs.info()"
   ]
  },
  {
   "cell_type": "markdown",
   "id": "91c19ef7",
   "metadata": {},
   "source": [
    "## Reducing to US Matches"
   ]
  },
  {
   "cell_type": "code",
   "execution_count": null,
   "id": "20518074",
   "metadata": {
    "id": "_CFueOCeU4xV"
   },
   "outputs": [],
   "source": [
    "df_pairs = df_pairs[(df_pairs['country_1'] == 'US') & (df_pairs['country_2'] == 'US')]"
   ]
  },
  {
   "cell_type": "code",
   "execution_count": null,
   "id": "725ff856",
   "metadata": {},
   "outputs": [],
   "source": [
    "df_pairs.head()"
   ]
  },
  {
   "cell_type": "markdown",
   "id": "4a520b8a",
   "metadata": {},
   "source": [
    "## Definining Types, Filling NA Values, Lower Casing, and Remvoing Punctuation"
   ]
  },
  {
   "cell_type": "code",
   "execution_count": null,
   "id": "69f51ca9",
   "metadata": {},
   "outputs": [],
   "source": [
    "string_features = ['name_1', 'name_2',\n",
    "                  'address_1', 'address_2', 'city_1', 'city_2',\n",
    "                  'state_1', 'state_2', 'zip_1', 'zip_2',\n",
    "                 'country_1', 'country_2', 'url_1', 'url_2',\n",
    "                 'phone_1', 'phone_2', 'categories_1', 'categories_2']"
   ]
  },
  {
   "cell_type": "code",
   "execution_count": null,
   "id": "d8bf199b",
   "metadata": {},
   "outputs": [],
   "source": [
    "position_features = ['latitude_1', 'latitude_2', 'longitude_1', 'longitude_2']"
   ]
  },
  {
   "cell_type": "code",
   "execution_count": null,
   "id": "57c28db6",
   "metadata": {},
   "outputs": [],
   "source": [
    "df_pairs[string_features] = df_pairs[string_features].fillna('').astype(str).apply(\n",
    "    lambda x: x.str.lower().str.replace('[{}]'.format(string.punctuation),''))\n"
   ]
  },
  {
   "cell_type": "code",
   "execution_count": null,
   "id": "48b45e4d",
   "metadata": {},
   "outputs": [],
   "source": [
    "df_pairs.head()"
   ]
  },
  {
   "cell_type": "code",
   "execution_count": null,
   "id": "e2fefe8d",
   "metadata": {},
   "outputs": [],
   "source": [
    "df_pairs[position_features] = df_pairs[position_features].astype('float64')"
   ]
  },
  {
   "cell_type": "code",
   "execution_count": null,
   "id": "e1ef6bde",
   "metadata": {},
   "outputs": [],
   "source": [
    "df_pairs = df_pairs.reset_index().drop('index', axis = 1)"
   ]
  },
  {
   "cell_type": "markdown",
   "id": "228173db",
   "metadata": {},
   "source": [
    "## Calculating Angular Difference for Lat. and Long."
   ]
  },
  {
   "cell_type": "code",
   "execution_count": null,
   "id": "f1f4d926",
   "metadata": {},
   "outputs": [],
   "source": [
    "df_pairs['theta_diff'] = np.abs(np.arctan(np.sqrt(\n",
    "    (np.cos(np.radians(df_pairs['latitude_2']))*np.sin(np.radians(df_pairs['longitude_1']-df_pairs['longitude_2'])))**2 +\n",
    "        (np.cos(np.radians(df_pairs['latitude_1']))*np.sin(np.radians(df_pairs['latitude_2']))-\n",
    "            np.sin(np.radians(df_pairs['latitude_1']))*np.cos(np.radians(df_pairs['latitude_2']))*np.cos(np.radians(df_pairs['longitude_1']-df_pairs['longitude_2'])))**2\n",
    "                                                )/\n",
    "    (np.sin(np.radians(df_pairs['latitude_1']))*np.sin(np.radians(df_pairs['latitude_2']))+\n",
    "        np.cos(np.radians(df_pairs['latitude_1']))*np.cos(np.radians(df_pairs['latitude_2']))*np.cos(np.radians(df_pairs['longitude_1']-df_pairs['longitude_2']))\n",
    "    )\n",
    "                                               )\n",
    "                                      )"
   ]
  },
  {
   "cell_type": "markdown",
   "id": "ff25eda8",
   "metadata": {},
   "source": [
    "## Calculating Cosine Similarities for String Features"
   ]
  },
  {
   "cell_type": "code",
   "execution_count": null,
   "id": "ccac99ca",
   "metadata": {},
   "outputs": [],
   "source": [
    "for item in string_features:\n",
    "        cosines = []\n",
    "        if \"_1\" in item:\n",
    "            print(item)\n",
    "            for i in range(len(df_pairs)):\n",
    "                try:\n",
    "                    if (df_pairs[item].iloc[i] == '') | (df_pairs[item.replace('_1', '_2')].iloc[i] == ''):\n",
    "                        csim = -1\n",
    "                    elif (df_pairs[item].iloc[i] == ' ') | (df_pairs[item.replace('_1', '_2')].iloc[i] == ' '):\n",
    "                        csim = -1\n",
    "                    else:\n",
    "                        csim = cosine_similarity(CountVectorizer().fit_transform([df_pairs[item].iloc[i], df_pairs[item.replace('_1', '_2')].iloc[i]]).toarray())[0][1]\n",
    "                        pass\n",
    "                except ValueError:\n",
    "                    csim = -1 \n",
    "                    continue\n",
    "                cosines.append(csim)\n",
    "            df_pairs[item.replace('_1', '_cos')] = pd.DataFrame(cosines)\n",
    "            \n",
    "        "
   ]
  },
  {
   "cell_type": "markdown",
   "id": "d4350b57",
   "metadata": {},
   "source": [
    "Filling any remaining NaNs in the cosine features with -1."
   ]
  },
  {
   "cell_type": "code",
   "execution_count": null,
   "id": "770d7aef",
   "metadata": {},
   "outputs": [],
   "source": [
    "cos_features = ['name_cos', 'address_cos', \n",
    "                'city_cos', 'state_cos', 'zip_cos', 'country_cos',\n",
    "                'url_cos', 'phone_cos', 'categories_cos']"
   ]
  },
  {
   "cell_type": "code",
   "execution_count": null,
   "id": "41c76bb5",
   "metadata": {},
   "outputs": [],
   "source": [
    "df_pairs[cos_features] = df_pairs[cos_features].fillna(-1)"
   ]
  },
  {
   "cell_type": "code",
   "execution_count": null,
   "id": "b76b7119",
   "metadata": {},
   "outputs": [],
   "source": [
    "df_pairs = df_pairs.drop(string_features, axis = 1)"
   ]
  },
  {
   "cell_type": "code",
   "execution_count": null,
   "id": "6d890acf",
   "metadata": {},
   "outputs": [],
   "source": [
    "df_pairs = df_pairs.drop('country_cos', axis = 1)"
   ]
  },
  {
   "cell_type": "code",
   "execution_count": null,
   "id": "e9b90eea",
   "metadata": {},
   "outputs": [],
   "source": [
    "df_pairs.head()"
   ]
  },
  {
   "cell_type": "code",
   "execution_count": null,
   "id": "edf4856e",
   "metadata": {},
   "outputs": [],
   "source": [
    "df_pairs.info()"
   ]
  },
  {
   "cell_type": "code",
   "execution_count": null,
   "id": "ff9b1328",
   "metadata": {},
   "outputs": [],
   "source": [
    "df_pairs.describe()"
   ]
  },
  {
   "cell_type": "code",
   "execution_count": null,
   "id": "b11636be",
   "metadata": {},
   "outputs": [],
   "source": [
    "df_pairs_corr = df_pairs.corr()"
   ]
  },
  {
   "cell_type": "code",
   "execution_count": null,
   "id": "5f0880c8",
   "metadata": {},
   "outputs": [],
   "source": [
    "sns.heatmap(df_pairs_corr)"
   ]
  },
  {
   "cell_type": "markdown",
   "id": "b41140be",
   "metadata": {},
   "source": [
    "# Saving dataframe to CSV"
   ]
  },
  {
   "cell_type": "code",
   "execution_count": null,
   "id": "c70c50ff",
   "metadata": {},
   "outputs": [],
   "source": [
    "df_pairs.to_csv('../../data_curated/pairs_us_cosines.csv')"
   ]
  },
  {
   "cell_type": "code",
   "execution_count": null,
   "id": "a14d481e",
   "metadata": {},
   "outputs": [],
   "source": []
  }
 ],
 "metadata": {
  "kernelspec": {
   "display_name": "Python 3",
   "language": "python",
   "name": "python3"
  },
  "language_info": {
   "codemirror_mode": {
    "name": "ipython",
    "version": 3
   },
   "file_extension": ".py",
   "mimetype": "text/x-python",
   "name": "python",
   "nbconvert_exporter": "python",
   "pygments_lexer": "ipython3",
   "version": "3.8.5"
  }
 },
 "nbformat": 4,
 "nbformat_minor": 5
}
